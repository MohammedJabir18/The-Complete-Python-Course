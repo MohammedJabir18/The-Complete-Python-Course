{
 "cells": [
  {
   "metadata": {},
   "cell_type": "markdown",
   "source": [
    "# String are sequence of Charaacters\n",
    "\n",
    "### In Python specifically, strings are a sequence of Unicode Characters\n",
    "\n",
    "Topic to be discussed:\n",
    "\n",
    "- Creating Strings\n",
    "- Accessing Strings\n",
    "- Adding Chars to String\n",
    "- Editing String\n",
    "- Deleting String\n",
    "- Operations on Strings\n",
    "- String Functions  "
   ],
   "id": "558c65c1eeaf96a4"
  },
  {
   "metadata": {},
   "cell_type": "code",
   "outputs": [],
   "execution_count": null,
   "source": "",
   "id": "6d324c54a64abd6b"
  }
 ],
 "metadata": {
  "kernelspec": {
   "display_name": "Python 3",
   "language": "python",
   "name": "python3"
  },
  "language_info": {
   "codemirror_mode": {
    "name": "ipython",
    "version": 2
   },
   "file_extension": ".py",
   "mimetype": "text/x-python",
   "name": "python",
   "nbconvert_exporter": "python",
   "pygments_lexer": "ipython2",
   "version": "2.7.6"
  }
 },
 "nbformat": 4,
 "nbformat_minor": 5
}
