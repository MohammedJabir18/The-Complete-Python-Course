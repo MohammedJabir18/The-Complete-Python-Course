{
 "cells": [
  {
   "metadata": {},
   "cell_type": "markdown",
   "source": [
    "# Operations on Tuples\n",
    "- Arithmetic Operation\n",
    "- Membership Operation\n",
    "- Loop"
   ],
   "id": "650169599e2e82a5"
  },
  {
   "metadata": {
    "ExecuteTime": {
     "end_time": "2024-12-17T06:00:32.880160Z",
     "start_time": "2024-12-17T06:00:32.871932Z"
    }
   },
   "cell_type": "code",
   "source": [
    "t1 = (1, 2, 3, 4)\n",
    "t2 = (5, 6, 7, 8)"
   ],
   "id": "514ee6abe6aa8285",
   "outputs": [],
   "execution_count": 1
  },
  {
   "metadata": {
    "ExecuteTime": {
     "end_time": "2024-12-17T06:01:29.232982Z",
     "start_time": "2024-12-17T06:01:29.220985Z"
    }
   },
   "cell_type": "code",
   "source": [
    "# Addition Operator\n",
    "t1 + t2  # Concatenation"
   ],
   "id": "9d35d2bf49cc02c6",
   "outputs": [
    {
     "data": {
      "text/plain": [
       "(1, 2, 3, 4, 5, 6, 7, 8)"
      ]
     },
     "execution_count": 2,
     "metadata": {},
     "output_type": "execute_result"
    }
   ],
   "execution_count": 2
  },
  {
   "metadata": {
    "ExecuteTime": {
     "end_time": "2024-12-17T06:02:58.667514Z",
     "start_time": "2024-12-17T06:02:58.661938Z"
    }
   },
   "cell_type": "code",
   "source": [
    "# Multiplication Operator\n",
    "print(t1 * 2)  # Repetition\n",
    "\n",
    "print(t2 * 3)"
   ],
   "id": "6bfbb77eb1e7de46",
   "outputs": [
    {
     "name": "stdout",
     "output_type": "stream",
     "text": [
      "(1, 2, 3, 4, 1, 2, 3, 4)\n",
      "(5, 6, 7, 8, 5, 6, 7, 8, 5, 6, 7, 8)\n"
     ]
    }
   ],
   "execution_count": 6
  },
  {
   "metadata": {
    "ExecuteTime": {
     "end_time": "2024-12-17T06:05:05.600136Z",
     "start_time": "2024-12-17T06:05:05.593084Z"
    }
   },
   "cell_type": "code",
   "source": [
    "# Membership Operation\n",
    "print(1 in (2, 43, 1, 87, 5))\n",
    "\n",
    "print(1 not in (23, 1, 98, 90))"
   ],
   "id": "e8b383080b073614",
   "outputs": [
    {
     "name": "stdout",
     "output_type": "stream",
     "text": [
      "True\n",
      "False\n"
     ]
    }
   ],
   "execution_count": 10
  },
  {
   "metadata": {
    "ExecuteTime": {
     "end_time": "2024-12-17T06:06:00.753819Z",
     "start_time": "2024-12-17T06:06:00.748847Z"
    }
   },
   "cell_type": "code",
   "source": [
    "# Loop\n",
    "t1 = (1, 2, 3, 4, 5)\n",
    "\n",
    "for i in t1:\n",
    "    print(i)"
   ],
   "id": "e3fbd3b6e6f2a967",
   "outputs": [
    {
     "name": "stdout",
     "output_type": "stream",
     "text": [
      "1\n",
      "2\n",
      "3\n",
      "4\n",
      "5\n"
     ]
    }
   ],
   "execution_count": 12
  }
 ],
 "metadata": {
  "kernelspec": {
   "display_name": "Python 3",
   "language": "python",
   "name": "python3"
  },
  "language_info": {
   "codemirror_mode": {
    "name": "ipython",
    "version": 2
   },
   "file_extension": ".py",
   "mimetype": "text/x-python",
   "name": "python",
   "nbconvert_exporter": "python",
   "pygments_lexer": "ipython2",
   "version": "2.7.6"
  }
 },
 "nbformat": 4,
 "nbformat_minor": 5
}
