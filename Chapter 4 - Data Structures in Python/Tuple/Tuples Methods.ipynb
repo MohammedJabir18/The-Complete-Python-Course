{
 "cells": [
  {
   "metadata": {},
   "cell_type": "markdown",
   "source": "# Tuple Methods / Functions",
   "id": "3e58d3f80930e243"
  },
  {
   "metadata": {},
   "cell_type": "markdown",
   "source": [
    "- len\n",
    "- min\n",
    "- max \n",
    "- sorted\n",
    "- sum"
   ],
   "id": "94ce2ec98a765a7c"
  },
  {
   "metadata": {
    "ExecuteTime": {
     "end_time": "2024-12-17T06:09:43.851750Z",
     "start_time": "2024-12-17T06:09:43.843897Z"
    }
   },
   "cell_type": "code",
   "source": "t = (10, 32, 23, 98, 2, 67, 15)",
   "id": "d189cd39cb428757",
   "outputs": [],
   "execution_count": 1
  },
  {
   "metadata": {
    "ExecuteTime": {
     "end_time": "2024-12-17T06:09:52.416246Z",
     "start_time": "2024-12-17T06:09:52.412827Z"
    }
   },
   "cell_type": "code",
   "source": "print(len(t))",
   "id": "9ff0d42ee7a54509",
   "outputs": [
    {
     "name": "stdout",
     "output_type": "stream",
     "text": [
      "7\n"
     ]
    }
   ],
   "execution_count": 2
  },
  {
   "metadata": {
    "ExecuteTime": {
     "end_time": "2024-12-17T06:10:05.375713Z",
     "start_time": "2024-12-17T06:10:05.370677Z"
    }
   },
   "cell_type": "code",
   "source": "print(min(t))",
   "id": "1ed000e86c83e1d0",
   "outputs": [
    {
     "name": "stdout",
     "output_type": "stream",
     "text": [
      "2\n"
     ]
    }
   ],
   "execution_count": 3
  },
  {
   "metadata": {
    "ExecuteTime": {
     "end_time": "2024-12-17T06:10:16.532325Z",
     "start_time": "2024-12-17T06:10:16.524393Z"
    }
   },
   "cell_type": "code",
   "source": "print(max(t))",
   "id": "897f3eedb23e6a24",
   "outputs": [
    {
     "name": "stdout",
     "output_type": "stream",
     "text": [
      "98\n"
     ]
    }
   ],
   "execution_count": 4
  },
  {
   "metadata": {
    "ExecuteTime": {
     "end_time": "2024-12-17T06:10:25.603048Z",
     "start_time": "2024-12-17T06:10:25.597776Z"
    }
   },
   "cell_type": "code",
   "source": "print(sum(t))",
   "id": "1d3b975783faccfe",
   "outputs": [
    {
     "name": "stdout",
     "output_type": "stream",
     "text": [
      "247\n"
     ]
    }
   ],
   "execution_count": 5
  },
  {
   "metadata": {
    "ExecuteTime": {
     "end_time": "2024-12-17T06:13:47.818480Z",
     "start_time": "2024-12-17T06:13:47.810111Z"
    }
   },
   "cell_type": "code",
   "source": [
    "print(sorted(t))\n",
    "\n",
    "print(sorted(t, reverse=True))"
   ],
   "id": "9533d5bc9fc2247b",
   "outputs": [
    {
     "name": "stdout",
     "output_type": "stream",
     "text": [
      "[2, 10, 15, 23, 32, 67, 98]\n",
      "[98, 67, 32, 23, 15, 10, 2]\n"
     ]
    }
   ],
   "execution_count": 7
  },
  {
   "metadata": {
    "ExecuteTime": {
     "end_time": "2024-12-17T06:16:20.229488Z",
     "start_time": "2024-12-17T06:16:20.215786Z"
    }
   },
   "cell_type": "code",
   "source": "t = (34, 23, 89, 278, 17, 2, 13, 89, 29, 18, 89, 34, 5, 89, 11)",
   "id": "40ea037a89c754da",
   "outputs": [
    {
     "name": "stdout",
     "output_type": "stream",
     "text": [
      "4\n"
     ]
    }
   ],
   "execution_count": 8
  },
  {
   "metadata": {},
   "cell_type": "code",
   "outputs": [],
   "execution_count": null,
   "source": [
    "# count\n",
    "print(t.count(89))"
   ],
   "id": "92c79b325f5ede24"
  },
  {
   "metadata": {
    "ExecuteTime": {
     "end_time": "2024-12-17T06:17:55.674813Z",
     "start_time": "2024-12-17T06:17:55.671027Z"
    }
   },
   "cell_type": "code",
   "source": [
    "# index\n",
    "print(t.index(18))"
   ],
   "id": "dd29496bd0979b9c",
   "outputs": [
    {
     "name": "stdout",
     "output_type": "stream",
     "text": [
      "9\n"
     ]
    }
   ],
   "execution_count": 10
  },
  {
   "metadata": {
    "ExecuteTime": {
     "end_time": "2024-12-17T06:26:43.660358Z",
     "start_time": "2024-12-17T06:26:43.651689Z"
    }
   },
   "cell_type": "code",
   "source": [
    "t = (1, 2, 3, 3, 10)\n",
    "\n",
    "temp = list(t)\n",
    "temp"
   ],
   "id": "661550486c60442d",
   "outputs": [
    {
     "data": {
      "text/plain": [
       "[1, 2, 3, 3, 10]"
      ]
     },
     "execution_count": 11,
     "metadata": {},
     "output_type": "execute_result"
    }
   ],
   "execution_count": 11
  },
  {
   "metadata": {
    "ExecuteTime": {
     "end_time": "2024-12-17T06:30:01.985911Z",
     "start_time": "2024-12-17T06:30:01.977731Z"
    }
   },
   "cell_type": "code",
   "source": [
    "temp.append(20)\n",
    "\n",
    "t = tuple(temp)\n",
    "t"
   ],
   "id": "a2aa82ac06503f96",
   "outputs": [
    {
     "data": {
      "text/plain": [
       "(1, 2, 3, 3, 10, 20)"
      ]
     },
     "execution_count": 12,
     "metadata": {},
     "output_type": "execute_result"
    }
   ],
   "execution_count": 12
  }
 ],
 "metadata": {
  "kernelspec": {
   "display_name": "Python 3",
   "language": "python",
   "name": "python3"
  },
  "language_info": {
   "codemirror_mode": {
    "name": "ipython",
    "version": 2
   },
   "file_extension": ".py",
   "mimetype": "text/x-python",
   "name": "python",
   "nbconvert_exporter": "python",
   "pygments_lexer": "ipython2",
   "version": "2.7.6"
  }
 },
 "nbformat": 4,
 "nbformat_minor": 5
}
