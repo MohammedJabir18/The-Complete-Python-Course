{
 "cells": [
  {
   "metadata": {},
   "cell_type": "markdown",
   "source": [
    "# Difference between Lists and Tuples\n",
    "- Syntax\n",
    "- Mutability\n",
    "- Speed\n",
    "- Memory\n",
    "- Built in Functionality\n",
    "- Error prone\n",
    "- Usability"
   ],
   "id": "e78ac260fc6b0bf6"
  },
  {
   "metadata": {
    "ExecuteTime": {
     "end_time": "2024-12-17T07:32:31.531993Z",
     "start_time": "2024-12-17T07:32:31.521106Z"
    }
   },
   "cell_type": "code",
   "source": [
    "import sys\n",
    "\n",
    "L = list(range(1000))\n",
    "T = tuple(range(1000))\n",
    "\n",
    "print(\"List size is\", sys.getsizeof(L))\n",
    "print(\"Tuple size is\", sys.getsizeof(T))"
   ],
   "id": "563a99c136bddd86",
   "outputs": [
    {
     "name": "stdout",
     "output_type": "stream",
     "text": [
      "List size is 8056\n",
      "Tuple size is 8040\n"
     ]
    }
   ],
   "execution_count": 1
  },
  {
   "metadata": {
    "ExecuteTime": {
     "end_time": "2024-12-17T07:42:19.379763Z",
     "start_time": "2024-12-17T07:42:19.374403Z"
    }
   },
   "cell_type": "code",
   "source": [
    "a = [1, 2, 3]\n",
    "b = a\n",
    "\n",
    "a.append(4)\n",
    "print(a)\n",
    "print(b)\n",
    "print(a is b)  # Use is to check if two variables reference the same object."
   ],
   "id": "cb15679767d406d5",
   "outputs": [
    {
     "name": "stdout",
     "output_type": "stream",
     "text": [
      "[1, 2, 3, 4]\n",
      "[1, 2, 3, 4]\n",
      "True\n"
     ]
    }
   ],
   "execution_count": 13
  },
  {
   "metadata": {
    "ExecuteTime": {
     "end_time": "2024-12-17T07:38:17.261300Z",
     "start_time": "2024-12-17T07:38:17.248700Z"
    }
   },
   "cell_type": "code",
   "source": [
    "a = (1, 2, 3)\n",
    "b = a\n",
    "\n",
    "a = a + (4,)\n",
    "print(a)\n",
    "print(b)\n",
    "print(a is b)"
   ],
   "id": "a97dc5dc0eafc703",
   "outputs": [
    {
     "name": "stdout",
     "output_type": "stream",
     "text": [
      "(1, 2, 3, 4)\n",
      "(1, 2, 3)\n",
      "False\n"
     ]
    }
   ],
   "execution_count": 9
  }
 ],
 "metadata": {
  "kernelspec": {
   "display_name": "Python 3",
   "language": "python",
   "name": "python3"
  },
  "language_info": {
   "codemirror_mode": {
    "name": "ipython",
    "version": 2
   },
   "file_extension": ".py",
   "mimetype": "text/x-python",
   "name": "python",
   "nbconvert_exporter": "python",
   "pygments_lexer": "ipython2",
   "version": "2.7.6"
  }
 },
 "nbformat": 4,
 "nbformat_minor": 5
}
