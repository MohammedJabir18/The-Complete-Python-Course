{
 "cells": [
  {
   "metadata": {},
   "cell_type": "markdown",
   "source": [
    "# Tuple comprehension\n",
    "In Python, there is no direct syntax for tuple comprehensions as there is for lists, sets, and dictionaries. However, you can achieve similar functionality by using a generator expression within the tuple() function."
   ],
   "id": "39558884a0281762"
  },
  {
   "metadata": {
    "ExecuteTime": {
     "end_time": "2024-12-17T07:56:55.545570Z",
     "start_time": "2024-12-17T07:56:55.541620Z"
    }
   },
   "cell_type": "code",
   "source": [
    "# Add 1 to 10 numbers to a list\n",
    "L = []\n",
    "\n",
    "for i in range(1, 11):\n",
    "    L.append(i)\n",
    "    \n",
    "print(L)"
   ],
   "id": "7f0c0f1724be55ff",
   "outputs": [
    {
     "name": "stdout",
     "output_type": "stream",
     "text": [
      "[1, 2, 3, 4, 5, 6, 7, 8, 9, 10]\n"
     ]
    }
   ],
   "execution_count": 8
  },
  {
   "metadata": {
    "ExecuteTime": {
     "end_time": "2024-12-17T07:58:42.834403Z",
     "start_time": "2024-12-17T07:58:42.827916Z"
    }
   },
   "cell_type": "code",
   "source": "(i for i in range(1, 11))",
   "id": "88cf4600507746e7",
   "outputs": [
    {
     "data": {
      "text/plain": [
       "<generator object <genexpr> at 0x000002C52CE47C60>"
      ]
     },
     "execution_count": 11,
     "metadata": {},
     "output_type": "execute_result"
    }
   ],
   "execution_count": 11
  },
  {
   "metadata": {
    "ExecuteTime": {
     "end_time": "2024-12-17T07:58:26.320448Z",
     "start_time": "2024-12-17T07:58:26.313280Z"
    }
   },
   "cell_type": "code",
   "source": "tuple(i for i in range(1, 11))",
   "id": "607483245645862e",
   "outputs": [
    {
     "data": {
      "text/plain": [
       "(1, 2, 3, 4, 5, 6, 7, 8, 9, 10)"
      ]
     },
     "execution_count": 10,
     "metadata": {},
     "output_type": "execute_result"
    }
   ],
   "execution_count": 10
  },
  {
   "metadata": {
    "ExecuteTime": {
     "end_time": "2024-12-17T08:02:13.308612Z",
     "start_time": "2024-12-17T08:02:13.302867Z"
    }
   },
   "cell_type": "code",
   "source": [
    "# Find the multiple of 5 in 1 to 50\n",
    "tuple(i for i in range(1, 51) if i % 5 == 0)"
   ],
   "id": "b74c084cdb9afe0c",
   "outputs": [
    {
     "data": {
      "text/plain": [
       "(5, 10, 15, 20, 25, 30, 35, 40, 45, 50)"
      ]
     },
     "execution_count": 13,
     "metadata": {},
     "output_type": "execute_result"
    }
   ],
   "execution_count": 13
  },
  {
   "metadata": {
    "ExecuteTime": {
     "end_time": "2024-12-17T08:04:27.453907Z",
     "start_time": "2024-12-17T08:04:27.447507Z"
    }
   },
   "cell_type": "code",
   "source": [
    "# Find languages which start with letter p\n",
    "languages = ['java', 'python', 'php', 'c', 'javascript']\n",
    "\n",
    "tuple(x for x in languages if x.startswith('p'))"
   ],
   "id": "82047cd54622d911",
   "outputs": [
    {
     "data": {
      "text/plain": [
       "('python', 'php')"
      ]
     },
     "execution_count": 15,
     "metadata": {},
     "output_type": "execute_result"
    }
   ],
   "execution_count": 15
  }
 ],
 "metadata": {
  "kernelspec": {
   "display_name": "Python 3",
   "language": "python",
   "name": "python3"
  },
  "language_info": {
   "codemirror_mode": {
    "name": "ipython",
    "version": 2
   },
   "file_extension": ".py",
   "mimetype": "text/x-python",
   "name": "python",
   "nbconvert_exporter": "python",
   "pygments_lexer": "ipython2",
   "version": "2.7.6"
  }
 },
 "nbformat": 4,
 "nbformat_minor": 5
}
