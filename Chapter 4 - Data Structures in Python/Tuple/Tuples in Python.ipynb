{
 "cells": [
  {
   "metadata": {},
   "cell_type": "markdown",
   "source": [
    "# Tuples \n",
    "Tuples are a fundamental data structure in Python, characterized by their immutability and ordered nature. They allow you to store a collection of items, similar to lists, but with the key difference that once a tuple is created, its contents cannot be changed.\n",
    "\n",
    "### Characteristics of Tuples\n",
    "- Ordered: The items in a tuple have a defined order.\n",
    "- Immutable: Once created, the items in a tuple cannot be modified. This means you cannot add, change, or remove items without creating a new tuple.\n",
    "- Allow duplicates: Tuples can contain multiple instances of the same value.\n",
    "\n",
    "### Topic to be discussed \n",
    "- Creating a Tuple \n",
    "- Accessing items \n",
    "- Editing items \n",
    "- Adding items\n",
    "- Deleting items \n",
    "- Operations on Tuples \n",
    "- Tuple Functions"
   ],
   "id": "4768a4e02971c2d4"
  },
  {
   "metadata": {},
   "cell_type": "markdown",
   "source": "#### Creating Tuples",
   "id": "65e705de0978a3e5"
  },
  {
   "metadata": {
    "ExecuteTime": {
     "end_time": "2024-12-17T05:13:54.947186Z",
     "start_time": "2024-12-17T05:13:54.932975Z"
    }
   },
   "cell_type": "code",
   "source": [
    "# Empty Tuple\n",
    "t1 = ()\n",
    "\n",
    "print(t1)\n",
    "print(type(t1))"
   ],
   "id": "d8c08972fb62cc1a",
   "outputs": [
    {
     "name": "stdout",
     "output_type": "stream",
     "text": [
      "()\n",
      "<class 'tuple'>\n"
     ]
    }
   ],
   "execution_count": 1
  },
  {
   "metadata": {
    "ExecuteTime": {
     "end_time": "2024-12-17T05:16:18.981441Z",
     "start_time": "2024-12-17T05:16:18.975720Z"
    }
   },
   "cell_type": "code",
   "source": [
    "# Create a tuple with a single item\n",
    "t2 = (\"Jabir\", )\n",
    "t3 = (\"Python\")\n",
    "\n",
    "print(t2)\n",
    "print(type(t2))\n",
    "\n",
    "print(t3)\n",
    "print(type(t3))"
   ],
   "id": "79e34176acfd6d8",
   "outputs": [
    {
     "name": "stdout",
     "output_type": "stream",
     "text": [
      "('Jabir',)\n",
      "<class 'tuple'>\n",
      "Python\n",
      "<class 'str'>\n"
     ]
    }
   ],
   "execution_count": 4
  },
  {
   "metadata": {
    "ExecuteTime": {
     "end_time": "2024-12-17T05:21:08.011190Z",
     "start_time": "2024-12-17T05:21:07.992572Z"
    }
   },
   "cell_type": "code",
   "source": [
    "# Homogeneous Tuple\n",
    "t4 = (1, 2, 3, 4)\n",
    "print(t4)\n",
    "\n",
    "# Heterogeneous Tuple\n",
    "t5 = (3, 5.5, True, \"Python\", [8, 9, 10])\n",
    "print(t5)\n",
    "\n",
    "# Nested Tuple\n",
    "t6 = (1, 2, 3, (4, 5))\n",
    "print(t6)\n",
    "\n",
    "# Using type conversion\n",
    "t7 = tuple(\"hello\")\n",
    "print(t7)"
   ],
   "id": "90bcccda038d8567",
   "outputs": [
    {
     "name": "stdout",
     "output_type": "stream",
     "text": [
      "(1, 2, 3, 4)\n",
      "(3, 5.5, True, 'Python', [8, 9, 10])\n",
      "(1, 2, 3, (4, 5))\n",
      "('h', 'e', 'l', 'l', 'o')\n"
     ]
    }
   ],
   "execution_count": 5
  },
  {
   "metadata": {},
   "cell_type": "markdown",
   "source": [
    "#### Accessing Items\n",
    "- Indexing \n",
    "- Slicing"
   ],
   "id": "bb9f50914fdd2da"
  },
  {
   "metadata": {
    "ExecuteTime": {
     "end_time": "2024-12-17T05:23:06.127272Z",
     "start_time": "2024-12-17T05:23:06.122705Z"
    }
   },
   "cell_type": "code",
   "source": [
    "t3 = (1, 2, 3, 4)\n",
    "\n",
    "print(t3[0])"
   ],
   "id": "cf50ac29e50dda76",
   "outputs": [
    {
     "name": "stdout",
     "output_type": "stream",
     "text": [
      "1\n"
     ]
    }
   ],
   "execution_count": 7
  },
  {
   "metadata": {
    "ExecuteTime": {
     "end_time": "2024-12-17T05:23:58.218766Z",
     "start_time": "2024-12-17T05:23:58.210126Z"
    }
   },
   "cell_type": "code",
   "source": "t3[-1]",
   "id": "1b1ba28b0b293b72",
   "outputs": [
    {
     "data": {
      "text/plain": [
       "4"
      ]
     },
     "execution_count": 9,
     "metadata": {},
     "output_type": "execute_result"
    }
   ],
   "execution_count": 9
  },
  {
   "metadata": {
    "ExecuteTime": {
     "end_time": "2024-12-17T05:24:34.341713Z",
     "start_time": "2024-12-17T05:24:34.335810Z"
    }
   },
   "cell_type": "code",
   "source": "t3[:3]",
   "id": "5ff25a0bdc1d4edd",
   "outputs": [
    {
     "data": {
      "text/plain": [
       "(1, 2, 3)"
      ]
     },
     "execution_count": 10,
     "metadata": {},
     "output_type": "execute_result"
    }
   ],
   "execution_count": 10
  },
  {
   "metadata": {
    "ExecuteTime": {
     "end_time": "2024-12-17T05:25:02.381914Z",
     "start_time": "2024-12-17T05:25:02.373931Z"
    }
   },
   "cell_type": "code",
   "source": "t3[::2]",
   "id": "5197531b4374941c",
   "outputs": [
    {
     "data": {
      "text/plain": [
       "(1, 3)"
      ]
     },
     "execution_count": 11,
     "metadata": {},
     "output_type": "execute_result"
    }
   ],
   "execution_count": 11
  },
  {
   "metadata": {},
   "cell_type": "markdown",
   "source": "#### Editing items / Deleting items",
   "id": "7e7977107e5f8e71"
  },
  {
   "metadata": {
    "ExecuteTime": {
     "end_time": "2024-12-17T05:26:26.943646Z",
     "start_time": "2024-12-17T05:26:26.940102Z"
    }
   },
   "cell_type": "code",
   "source": "t3 = (1, 2, 3, 4, 5)",
   "id": "173d4adab18db440",
   "outputs": [],
   "execution_count": 12
  },
  {
   "metadata": {
    "ExecuteTime": {
     "end_time": "2024-12-17T05:26:50.556658Z",
     "start_time": "2024-12-17T05:26:50.526219Z"
    }
   },
   "cell_type": "code",
   "source": "t3[0] = 100",
   "id": "fd7faf10bea5745b",
   "outputs": [
    {
     "ename": "TypeError",
     "evalue": "'tuple' object does not support item assignment",
     "output_type": "error",
     "traceback": [
      "\u001B[1;31m---------------------------------------------------------------------------\u001B[0m",
      "\u001B[1;31mTypeError\u001B[0m                                 Traceback (most recent call last)",
      "Cell \u001B[1;32mIn[13], line 1\u001B[0m\n\u001B[1;32m----> 1\u001B[0m t3[\u001B[38;5;241m0\u001B[39m] \u001B[38;5;241m=\u001B[39m \u001B[38;5;241m100\u001B[39m\n",
      "\u001B[1;31mTypeError\u001B[0m: 'tuple' object does not support item assignment"
     ]
    }
   ],
   "execution_count": 13
  },
  {
   "metadata": {
    "ExecuteTime": {
     "end_time": "2024-12-17T05:45:39.334512Z",
     "start_time": "2024-12-17T05:45:39.308455Z"
    }
   },
   "cell_type": "code",
   "source": "del t3[1]",
   "id": "921796fb9fca535c",
   "outputs": [
    {
     "ename": "TypeError",
     "evalue": "'tuple' object doesn't support item deletion",
     "output_type": "error",
     "traceback": [
      "\u001B[1;31m---------------------------------------------------------------------------\u001B[0m",
      "\u001B[1;31mTypeError\u001B[0m                                 Traceback (most recent call last)",
      "Cell \u001B[1;32mIn[19], line 1\u001B[0m\n\u001B[1;32m----> 1\u001B[0m \u001B[38;5;28;01mdel\u001B[39;00m t3[\u001B[38;5;241m1\u001B[39m]\n",
      "\u001B[1;31mTypeError\u001B[0m: 'tuple' object doesn't support item deletion"
     ]
    }
   ],
   "execution_count": 19
  },
  {
   "metadata": {},
   "cell_type": "markdown",
   "source": "#### Type Casting",
   "id": "d89772046e5d218f"
  },
  {
   "metadata": {
    "ExecuteTime": {
     "end_time": "2024-12-17T05:46:58.551774Z",
     "start_time": "2024-12-17T05:46:58.540155Z"
    }
   },
   "cell_type": "code",
   "source": [
    "t3 = (1, 2, 3, 4, 5)\n",
    "\n",
    "temp = list(t3)\n",
    "\n",
    "print(temp)"
   ],
   "id": "8f95c2398938c6e7",
   "outputs": [
    {
     "name": "stdout",
     "output_type": "stream",
     "text": [
      "[1, 2, 3, 4, 5]\n"
     ]
    }
   ],
   "execution_count": 20
  },
  {
   "metadata": {
    "ExecuteTime": {
     "end_time": "2024-12-17T05:47:15.846810Z",
     "start_time": "2024-12-17T05:47:15.840809Z"
    }
   },
   "cell_type": "code",
   "source": [
    "temp.append(100)\n",
    "\n",
    "print(temp)"
   ],
   "id": "49bd5c4413ae8b5b",
   "outputs": [
    {
     "name": "stdout",
     "output_type": "stream",
     "text": [
      "[1, 2, 3, 4, 5, 100]\n"
     ]
    }
   ],
   "execution_count": 21
  },
  {
   "metadata": {
    "ExecuteTime": {
     "end_time": "2024-12-17T05:47:37.184250Z",
     "start_time": "2024-12-17T05:47:37.175895Z"
    }
   },
   "cell_type": "code",
   "source": [
    "t3 = tuple(temp)\n",
    "\n",
    "print(t3)"
   ],
   "id": "625ae1a68f8dbccb",
   "outputs": [
    {
     "name": "stdout",
     "output_type": "stream",
     "text": [
      "(1, 2, 3, 4, 5, 100)\n"
     ]
    }
   ],
   "execution_count": 22
  }
 ],
 "metadata": {
  "kernelspec": {
   "display_name": "Python 3",
   "language": "python",
   "name": "python3"
  },
  "language_info": {
   "codemirror_mode": {
    "name": "ipython",
    "version": 2
   },
   "file_extension": ".py",
   "mimetype": "text/x-python",
   "name": "python",
   "nbconvert_exporter": "python",
   "pygments_lexer": "ipython2",
   "version": "2.7.6"
  }
 },
 "nbformat": 4,
 "nbformat_minor": 5
}
