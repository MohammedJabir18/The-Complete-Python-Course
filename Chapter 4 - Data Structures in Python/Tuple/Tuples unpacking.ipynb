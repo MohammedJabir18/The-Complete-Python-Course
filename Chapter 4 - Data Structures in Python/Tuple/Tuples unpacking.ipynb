{
 "cells": [
  {
   "metadata": {},
   "cell_type": "markdown",
   "source": "# Tuple unpacking",
   "id": "f48da952da266200"
  },
  {
   "metadata": {
    "ExecuteTime": {
     "end_time": "2024-12-17T07:47:10.100130Z",
     "start_time": "2024-12-17T07:47:10.088750Z"
    }
   },
   "cell_type": "code",
   "source": [
    "a, b, c = (1, 2, 3)\n",
    "\n",
    "print(a, b, c)"
   ],
   "id": "7b0b7174ac0fc916",
   "outputs": [
    {
     "name": "stdout",
     "output_type": "stream",
     "text": [
      "1 2 3\n"
     ]
    }
   ],
   "execution_count": 1
  },
  {
   "metadata": {
    "ExecuteTime": {
     "end_time": "2024-12-17T07:48:08.723264Z",
     "start_time": "2024-12-17T07:48:08.716794Z"
    }
   },
   "cell_type": "code",
   "source": [
    "# List unpacking\n",
    "a, b, c = [5, 6, 7]\n",
    "\n",
    "print(a, b, c)"
   ],
   "id": "c37eb6992edd1f11",
   "outputs": [
    {
     "name": "stdout",
     "output_type": "stream",
     "text": [
      "5 6 7\n"
     ]
    }
   ],
   "execution_count": 2
  },
  {
   "metadata": {
    "ExecuteTime": {
     "end_time": "2024-12-17T07:48:41.221609Z",
     "start_time": "2024-12-17T07:48:40.587363Z"
    }
   },
   "cell_type": "code",
   "source": "a, b = (1, 2, 3)",
   "id": "996b1da186f7957d",
   "outputs": [
    {
     "ename": "ValueError",
     "evalue": "too many values to unpack (expected 2)",
     "output_type": "error",
     "traceback": [
      "\u001B[1;31m---------------------------------------------------------------------------\u001B[0m",
      "\u001B[1;31mValueError\u001B[0m                                Traceback (most recent call last)",
      "Cell \u001B[1;32mIn[3], line 1\u001B[0m\n\u001B[1;32m----> 1\u001B[0m a, b \u001B[38;5;241m=\u001B[39m (\u001B[38;5;241m1\u001B[39m, \u001B[38;5;241m2\u001B[39m, \u001B[38;5;241m3\u001B[39m)\n",
      "\u001B[1;31mValueError\u001B[0m: too many values to unpack (expected 2)"
     ]
    }
   ],
   "execution_count": 3
  },
  {
   "metadata": {
    "ExecuteTime": {
     "end_time": "2024-12-17T07:49:18.785080Z",
     "start_time": "2024-12-17T07:49:18.764984Z"
    }
   },
   "cell_type": "code",
   "source": [
    "a, b, *others = (1, 2, 3, 4, 5, 6)\n",
    "\n",
    "print(a, b)\n",
    "print(others)"
   ],
   "id": "2068435ea529285b",
   "outputs": [
    {
     "name": "stdout",
     "output_type": "stream",
     "text": [
      "1 2\n",
      "[3, 4, 5, 6]\n"
     ]
    }
   ],
   "execution_count": 4
  },
  {
   "metadata": {
    "ExecuteTime": {
     "end_time": "2024-12-17T07:50:21.934837Z",
     "start_time": "2024-12-17T07:50:21.921393Z"
    }
   },
   "cell_type": "code",
   "source": [
    "# Zipping tuples\n",
    "a = (1, 2, 3, 4)\n",
    "b = (5, 6, 7, 8)\n",
    "\n",
    "tuple(zip(a, b))"
   ],
   "id": "d13c5659ba6f1879",
   "outputs": [
    {
     "data": {
      "text/plain": [
       "((1, 5), (2, 6), (3, 7), (4, 8))"
      ]
     },
     "execution_count": 5,
     "metadata": {},
     "output_type": "execute_result"
    }
   ],
   "execution_count": 5
  },
  {
   "metadata": {
    "ExecuteTime": {
     "end_time": "2024-12-17T07:50:58.196715Z",
     "start_time": "2024-12-17T07:50:58.191467Z"
    }
   },
   "cell_type": "code",
   "source": "list(zip(a, b))",
   "id": "60f37ca99089a6fc",
   "outputs": [
    {
     "data": {
      "text/plain": [
       "[(1, 5), (2, 6), (3, 7), (4, 8)]"
      ]
     },
     "execution_count": 6,
     "metadata": {},
     "output_type": "execute_result"
    }
   ],
   "execution_count": 6
  }
 ],
 "metadata": {
  "kernelspec": {
   "display_name": "Python 3",
   "language": "python",
   "name": "python3"
  },
  "language_info": {
   "codemirror_mode": {
    "name": "ipython",
    "version": 2
   },
   "file_extension": ".py",
   "mimetype": "text/x-python",
   "name": "python",
   "nbconvert_exporter": "python",
   "pygments_lexer": "ipython2",
   "version": "2.7.6"
  }
 },
 "nbformat": 4,
 "nbformat_minor": 5
}
