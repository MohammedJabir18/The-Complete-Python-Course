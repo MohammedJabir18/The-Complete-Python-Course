{
 "cells": [
  {
   "metadata": {},
   "cell_type": "markdown",
   "source": [
    "# Dictionary Operations\n",
    "\n",
    "- Membership\n",
    "- Iteration"
   ],
   "id": "afce3aa26982641f"
  },
  {
   "metadata": {
    "ExecuteTime": {
     "end_time": "2024-12-18T08:25:08.480911Z",
     "start_time": "2024-12-18T08:25:08.469790Z"
    }
   },
   "cell_type": "code",
   "source": "d = {\"name\": \"Jabir\", \"age\": 20, \"gender\": \"Male\"}",
   "id": "7973d05c27db67b4",
   "outputs": [],
   "execution_count": 1
  },
  {
   "metadata": {
    "ExecuteTime": {
     "end_time": "2024-12-18T08:25:47.948524Z",
     "start_time": "2024-12-18T08:25:47.935698Z"
    }
   },
   "cell_type": "code",
   "source": "\"Jabir\" in d",
   "id": "ad8fec57318f66f2",
   "outputs": [
    {
     "data": {
      "text/plain": [
       "False"
      ]
     },
     "execution_count": 2,
     "metadata": {},
     "output_type": "execute_result"
    }
   ],
   "execution_count": 2
  },
  {
   "metadata": {
    "ExecuteTime": {
     "end_time": "2024-12-18T08:26:08.101282Z",
     "start_time": "2024-12-18T08:26:08.082742Z"
    }
   },
   "cell_type": "code",
   "source": "\"name\" in d",
   "id": "ed21477090db1d97",
   "outputs": [
    {
     "data": {
      "text/plain": [
       "True"
      ]
     },
     "execution_count": 3,
     "metadata": {},
     "output_type": "execute_result"
    }
   ],
   "execution_count": 3
  },
  {
   "metadata": {
    "ExecuteTime": {
     "end_time": "2024-12-18T08:27:11.877002Z",
     "start_time": "2024-12-18T08:27:11.868561Z"
    }
   },
   "cell_type": "code",
   "source": "\"Jabir\" in d[\"name\"]",
   "id": "b5556ce429e3c8b1",
   "outputs": [
    {
     "data": {
      "text/plain": [
       "True"
      ]
     },
     "execution_count": 5,
     "metadata": {},
     "output_type": "execute_result"
    }
   ],
   "execution_count": 5
  },
  {
   "metadata": {
    "ExecuteTime": {
     "end_time": "2024-12-18T08:27:41.140678Z",
     "start_time": "2024-12-18T08:27:41.132361Z"
    }
   },
   "cell_type": "code",
   "source": "\"Alex\" not in d",
   "id": "845e7b2ffa1f1876",
   "outputs": [
    {
     "data": {
      "text/plain": [
       "True"
      ]
     },
     "execution_count": 6,
     "metadata": {},
     "output_type": "execute_result"
    }
   ],
   "execution_count": 6
  },
  {
   "metadata": {
    "ExecuteTime": {
     "end_time": "2024-12-18T08:28:31.579421Z",
     "start_time": "2024-12-18T08:28:31.570869Z"
    }
   },
   "cell_type": "code",
   "source": [
    "for i in d:\n",
    "    print(i)"
   ],
   "id": "a023620fd2b5d794",
   "outputs": [
    {
     "name": "stdout",
     "output_type": "stream",
     "text": [
      "name\n",
      "age\n",
      "gender\n"
     ]
    }
   ],
   "execution_count": 8
  },
  {
   "metadata": {
    "ExecuteTime": {
     "end_time": "2024-12-18T08:28:52.221222Z",
     "start_time": "2024-12-18T08:28:52.215016Z"
    }
   },
   "cell_type": "code",
   "source": [
    "for i in d:\n",
    "    print(d[i])"
   ],
   "id": "d059a0672872f563",
   "outputs": [
    {
     "name": "stdout",
     "output_type": "stream",
     "text": [
      "Jabir\n",
      "20\n",
      "Male\n"
     ]
    }
   ],
   "execution_count": 9
  }
 ],
 "metadata": {
  "kernelspec": {
   "display_name": "Python 3",
   "language": "python",
   "name": "python3"
  },
  "language_info": {
   "codemirror_mode": {
    "name": "ipython",
    "version": 2
   },
   "file_extension": ".py",
   "mimetype": "text/x-python",
   "name": "python",
   "nbconvert_exporter": "python",
   "pygments_lexer": "ipython2",
   "version": "2.7.6"
  }
 },
 "nbformat": 4,
 "nbformat_minor": 5
}
