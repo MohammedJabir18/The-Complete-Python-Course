{
 "cells": [
  {
   "metadata": {},
   "cell_type": "markdown",
   "source": [
    "# Dictionary\n",
    "A dictionary is a mutable, unordered collection of items where each item is stored as a pair consisting of a unique key and its associated value. The keys must be immutable types (like strings, numbers, or tuples), while the values can be of any type and can even be duplicated12.\n",
    "\n",
    "### Key Features\n",
    "- Mutable: Dictionaries can be modified after creation—items can be added, removed, or changed.\n",
    "- Unordered: As of Python 3.7, dictionaries maintain the order of insertion, but this was not guaranteed in earlier versions.\n",
    "- Indexed by Keys: Instead of numeric indexes like lists, dictionaries use keys to access values.\n",
    "- Unique Keys: Each key in a dictionary must be unique; if a key is reused, the old value will be replaced by the new one"
   ],
   "id": "5c34f89c9b978b45"
  },
  {
   "metadata": {},
   "cell_type": "markdown",
   "source": "#### Create Dictionary",
   "id": "bc792c0bcf726b3d"
  },
  {
   "metadata": {
    "ExecuteTime": {
     "end_time": "2024-12-18T07:17:43.969230Z",
     "start_time": "2024-12-18T07:17:43.962030Z"
    }
   },
   "cell_type": "code",
   "source": [
    "# Empty dictionary\n",
    "dic = {}\n",
    "\n",
    "print(dic)\n",
    "print(type(dic))"
   ],
   "id": "6a2bdf92bcf0ccd9",
   "outputs": [
    {
     "name": "stdout",
     "output_type": "stream",
     "text": [
      "{}\n",
      "<class 'dict'>\n"
     ]
    }
   ],
   "execution_count": 2
  },
  {
   "metadata": {
    "ExecuteTime": {
     "end_time": "2024-12-18T07:19:49.739867Z",
     "start_time": "2024-12-18T07:19:49.714565Z"
    }
   },
   "cell_type": "code",
   "source": [
    "# 1D dictionary\n",
    "d1 = {\"name\": \"Jabir\", \"age\": 20, \"gender\": \"Male\"}\n",
    "\n",
    "print(d1)"
   ],
   "id": "5dd5969cb5698fb3",
   "outputs": [
    {
     "name": "stdout",
     "output_type": "stream",
     "text": [
      "{'name': 'Jabir', 'age': 20, 'gender': 'Male'}\n"
     ]
    }
   ],
   "execution_count": 3
  },
  {
   "metadata": {
    "ExecuteTime": {
     "end_time": "2024-12-18T07:21:43.701819Z",
     "start_time": "2024-12-18T07:21:43.684082Z"
    }
   },
   "cell_type": "code",
   "source": [
    "# with mixed keys\n",
    "d2 = {(1, 2, 3): 33, \"Name\": \"Jabir\"}\n",
    "\n",
    "d2"
   ],
   "id": "30b29c2ba1244313",
   "outputs": [
    {
     "data": {
      "text/plain": [
       "{(1, 2, 3): 33, 'Name': 'Jabir'}"
      ]
     },
     "execution_count": 7,
     "metadata": {},
     "output_type": "execute_result"
    }
   ],
   "execution_count": 7
  },
  {
   "metadata": {
    "ExecuteTime": {
     "end_time": "2024-12-18T07:24:08.548064Z",
     "start_time": "2024-12-18T07:24:08.537964Z"
    }
   },
   "cell_type": "code",
   "source": [
    "# 2D dictionary\n",
    "d3 = {\n",
    "    \"Name\": \"Jabir\",\n",
    "    \"College_name\": \"ABC college\",\n",
    "    \"Semester\": 5,\n",
    "    \"Subjects\": {\"DSA\": 80, \"Maths\": 78, \"English\": 92}\n",
    "}\n",
    "\n",
    "d3"
   ],
   "id": "6b16cadb6e65e2d9",
   "outputs": [
    {
     "data": {
      "text/plain": [
       "{'Name': 'Jabir',\n",
       " 'College_name': 'ABC college',\n",
       " 'Semester': 5,\n",
       " 'Subjects': {'DSA': 80, 'Maths': 78, 'English': 92}}"
      ]
     },
     "execution_count": 8,
     "metadata": {},
     "output_type": "execute_result"
    }
   ],
   "execution_count": 8
  },
  {
   "metadata": {
    "ExecuteTime": {
     "end_time": "2024-12-18T07:26:53.402262Z",
     "start_time": "2024-12-18T07:26:53.381466Z"
    }
   },
   "cell_type": "code",
   "source": [
    "# using sequence and dict function\n",
    "d4 = dict([(\"Name\", \"Jabir\"), [\"Age\", 20]])\n",
    "\n",
    "d4"
   ],
   "id": "41353ae2f54a9adf",
   "outputs": [
    {
     "data": {
      "text/plain": [
       "{'Name': 'Jabir', 'Age': 20}"
      ]
     },
     "execution_count": 11,
     "metadata": {},
     "output_type": "execute_result"
    }
   ],
   "execution_count": 11
  },
  {
   "metadata": {
    "ExecuteTime": {
     "end_time": "2024-12-18T07:28:09.504599Z",
     "start_time": "2024-12-18T07:28:09.487848Z"
    }
   },
   "cell_type": "code",
   "source": [
    "# Duplicate keys\n",
    "d5 = {\"Name\": \"Jabir\", \"Age\": 20, \"Gender\": \"Male\", \"Name\": \"Alex\"}\n",
    "\n",
    "d5"
   ],
   "id": "5c58c6509f99016d",
   "outputs": [
    {
     "data": {
      "text/plain": [
       "{'Name': 'Alex', 'Age': 20, 'Gender': 'Male'}"
      ]
     },
     "execution_count": 12,
     "metadata": {},
     "output_type": "execute_result"
    }
   ],
   "execution_count": 12
  },
  {
   "metadata": {
    "ExecuteTime": {
     "end_time": "2024-12-18T07:29:07.299186Z",
     "start_time": "2024-12-18T07:29:07.262190Z"
    }
   },
   "cell_type": "code",
   "source": [
    "# Mutable items as keys\n",
    "d6 = {[1, 2, 3]: 33, \"Name\": \"Jabir\"}\n",
    "\n",
    "d6"
   ],
   "id": "31f9e91d0b0d6bea",
   "outputs": [
    {
     "ename": "TypeError",
     "evalue": "unhashable type: 'list'",
     "output_type": "error",
     "traceback": [
      "\u001B[1;31m---------------------------------------------------------------------------\u001B[0m",
      "\u001B[1;31mTypeError\u001B[0m                                 Traceback (most recent call last)",
      "Cell \u001B[1;32mIn[13], line 2\u001B[0m\n\u001B[0;32m      1\u001B[0m \u001B[38;5;66;03m# Mutable items as keys\u001B[39;00m\n\u001B[1;32m----> 2\u001B[0m d6 \u001B[38;5;241m=\u001B[39m {[\u001B[38;5;241m1\u001B[39m, \u001B[38;5;241m2\u001B[39m, \u001B[38;5;241m3\u001B[39m]: \u001B[38;5;241m33\u001B[39m, \u001B[38;5;124m\"\u001B[39m\u001B[38;5;124mName\u001B[39m\u001B[38;5;124m\"\u001B[39m: \u001B[38;5;124m\"\u001B[39m\u001B[38;5;124mJabir\u001B[39m\u001B[38;5;124m\"\u001B[39m}\n\u001B[0;32m      4\u001B[0m d6\n",
      "\u001B[1;31mTypeError\u001B[0m: unhashable type: 'list'"
     ]
    }
   ],
   "execution_count": 13
  },
  {
   "metadata": {},
   "cell_type": "markdown",
   "source": "#### Accessing items",
   "id": "469591904c5430d9"
  },
  {
   "metadata": {
    "ExecuteTime": {
     "end_time": "2024-12-18T07:31:01.995882Z",
     "start_time": "2024-12-18T07:31:01.988422Z"
    }
   },
   "cell_type": "code",
   "source": "d1 = {\"name\": \"Jabir\", \"age\": 20, \"gender\": \"Male\"}",
   "id": "56481bf026ad0731",
   "outputs": [],
   "execution_count": 17
  },
  {
   "metadata": {
    "ExecuteTime": {
     "end_time": "2024-12-18T07:31:10.997464Z",
     "start_time": "2024-12-18T07:31:10.955292Z"
    }
   },
   "cell_type": "code",
   "source": "d1[0]",
   "id": "ea5fbc9d4001a2ba",
   "outputs": [
    {
     "ename": "KeyError",
     "evalue": "0",
     "output_type": "error",
     "traceback": [
      "\u001B[1;31m---------------------------------------------------------------------------\u001B[0m",
      "\u001B[1;31mKeyError\u001B[0m                                  Traceback (most recent call last)",
      "Cell \u001B[1;32mIn[18], line 1\u001B[0m\n\u001B[1;32m----> 1\u001B[0m d1[\u001B[38;5;241m0\u001B[39m]\n",
      "\u001B[1;31mKeyError\u001B[0m: 0"
     ]
    }
   ],
   "execution_count": 18
  },
  {
   "metadata": {
    "ExecuteTime": {
     "end_time": "2024-12-18T07:31:19.866555Z",
     "start_time": "2024-12-18T07:31:19.849474Z"
    }
   },
   "cell_type": "code",
   "source": "d1[\"name\"]",
   "id": "baf356a77ac14ff3",
   "outputs": [
    {
     "data": {
      "text/plain": [
       "'Jabir'"
      ]
     },
     "execution_count": 19,
     "metadata": {},
     "output_type": "execute_result"
    }
   ],
   "execution_count": 19
  },
  {
   "metadata": {
    "ExecuteTime": {
     "end_time": "2024-12-18T08:01:28.805093Z",
     "start_time": "2024-12-18T08:01:28.793852Z"
    }
   },
   "cell_type": "code",
   "source": [
    "d2 = {\n",
    "    \"Name\": \"Jabir\",\n",
    "    \"College_name\": \"ABC college\",\n",
    "    \"Semester\": 5,\n",
    "    \"Subjects\": {\"DSA\": 80, \"Maths\": 78, \"English\": 92}\n",
    "}"
   ],
   "id": "a180a2548206414",
   "outputs": [],
   "execution_count": 20
  },
  {
   "metadata": {
    "ExecuteTime": {
     "end_time": "2024-12-18T08:01:42.340379Z",
     "start_time": "2024-12-18T08:01:42.333831Z"
    }
   },
   "cell_type": "code",
   "source": "d2[\"College_name\"]",
   "id": "ee13cc73a467200f",
   "outputs": [
    {
     "data": {
      "text/plain": [
       "'ABC college'"
      ]
     },
     "execution_count": 21,
     "metadata": {},
     "output_type": "execute_result"
    }
   ],
   "execution_count": 21
  },
  {
   "metadata": {
    "ExecuteTime": {
     "end_time": "2024-12-18T08:05:23.900967Z",
     "start_time": "2024-12-18T08:05:23.888662Z"
    }
   },
   "cell_type": "code",
   "source": "d2[\"Subjects\"][\"Maths\"]",
   "id": "1a79cdd523033a65",
   "outputs": [
    {
     "data": {
      "text/plain": [
       "78"
      ]
     },
     "execution_count": 27,
     "metadata": {},
     "output_type": "execute_result"
    }
   ],
   "execution_count": 27
  },
  {
   "metadata": {
    "ExecuteTime": {
     "end_time": "2024-12-18T08:07:29.429672Z",
     "start_time": "2024-12-18T08:07:29.423045Z"
    }
   },
   "cell_type": "code",
   "source": [
    "d3 = {\n",
    "    \"Name\": \"Jabir\",\n",
    "    \"College_name\": \"ABC college\",\n",
    "    \"Semester\": 5,\n",
    "    \"Subjects\": {\"DSA\": 80, \"Maths\": 78, \"English\": [20, 30, 40]}\n",
    "}\n",
    "\n",
    "d3[\"Subjects\"][\"English\"][1]"
   ],
   "id": "45dd67fa70f4192e",
   "outputs": [
    {
     "data": {
      "text/plain": [
       "30"
      ]
     },
     "execution_count": 29,
     "metadata": {},
     "output_type": "execute_result"
    }
   ],
   "execution_count": 29
  },
  {
   "metadata": {},
   "cell_type": "markdown",
   "source": "#### Adding key-value pair",
   "id": "4a436d0c3d4d49eb"
  },
  {
   "metadata": {
    "ExecuteTime": {
     "end_time": "2024-12-18T08:08:46.182483Z",
     "start_time": "2024-12-18T08:08:46.174421Z"
    }
   },
   "cell_type": "code",
   "source": [
    "d1 = {\"Name\": \"Jabir\", \"Age\": 20, \"Gender\": \"Male\"}\n",
    "\n",
    "d1"
   ],
   "id": "7e3a8c81c0185f34",
   "outputs": [
    {
     "data": {
      "text/plain": [
       "{'Name': 'Jabir', 'Age': 20, 'Gender': 'Male'}"
      ]
     },
     "execution_count": 30,
     "metadata": {},
     "output_type": "execute_result"
    }
   ],
   "execution_count": 30
  },
  {
   "metadata": {
    "ExecuteTime": {
     "end_time": "2024-12-18T08:09:15.861771Z",
     "start_time": "2024-12-18T08:09:15.853161Z"
    }
   },
   "cell_type": "code",
   "source": "d1[\"Weight\"] = 70",
   "id": "d0906e88b0d2f67f",
   "outputs": [],
   "execution_count": 31
  },
  {
   "metadata": {
    "ExecuteTime": {
     "end_time": "2024-12-18T08:09:19.418523Z",
     "start_time": "2024-12-18T08:09:19.395936Z"
    }
   },
   "cell_type": "code",
   "source": "d1",
   "id": "280fb121524461dd",
   "outputs": [
    {
     "data": {
      "text/plain": [
       "{'Name': 'Jabir', 'Age': 20, 'Gender': 'Male', 'Weight': 70}"
      ]
     },
     "execution_count": 32,
     "metadata": {},
     "output_type": "execute_result"
    }
   ],
   "execution_count": 32
  },
  {
   "metadata": {
    "ExecuteTime": {
     "end_time": "2024-12-18T08:10:19.621188Z",
     "start_time": "2024-12-18T08:10:19.616222Z"
    }
   },
   "cell_type": "code",
   "source": [
    "d2 = {\n",
    "    \"Name\": \"Jabir\",\n",
    "    \"College_name\": \"ABC college\",\n",
    "    \"Semester\": 5,\n",
    "    \"Subjects\": {\"DSA\": 80, \"Maths\": 78, \"English\": 92}\n",
    "}"
   ],
   "id": "95fb2ee45a1addc9",
   "outputs": [],
   "execution_count": 33
  },
  {
   "metadata": {
    "ExecuteTime": {
     "end_time": "2024-12-18T08:11:09.816001Z",
     "start_time": "2024-12-18T08:11:09.810723Z"
    }
   },
   "cell_type": "code",
   "source": "d2[\"Subjects\"][\"Physics\"] = 84",
   "id": "20f825fd22ad444f",
   "outputs": [],
   "execution_count": 34
  },
  {
   "metadata": {
    "ExecuteTime": {
     "end_time": "2024-12-18T08:11:12.819615Z",
     "start_time": "2024-12-18T08:11:12.810616Z"
    }
   },
   "cell_type": "code",
   "source": "d2",
   "id": "a9392d623d16afe5",
   "outputs": [
    {
     "data": {
      "text/plain": [
       "{'Name': 'Jabir',\n",
       " 'College_name': 'ABC college',\n",
       " 'Semester': 5,\n",
       " 'Subjects': {'DSA': 80, 'Maths': 78, 'English': 92, 'Physics': 84}}"
      ]
     },
     "execution_count": 35,
     "metadata": {},
     "output_type": "execute_result"
    }
   ],
   "execution_count": 35
  },
  {
   "metadata": {
    "ExecuteTime": {
     "end_time": "2024-12-18T08:13:18.854519Z",
     "start_time": "2024-12-18T08:13:18.847175Z"
    }
   },
   "cell_type": "code",
   "source": "d2.__setitem__(\"Place\", \"India\")",
   "id": "260f962ce4ba4e26",
   "outputs": [],
   "execution_count": 36
  },
  {
   "metadata": {
    "ExecuteTime": {
     "end_time": "2024-12-18T08:13:22.544440Z",
     "start_time": "2024-12-18T08:13:22.538309Z"
    }
   },
   "cell_type": "code",
   "source": "d2",
   "id": "f09e34112b5444db",
   "outputs": [
    {
     "data": {
      "text/plain": [
       "{'Name': 'Jabir',\n",
       " 'College_name': 'ABC college',\n",
       " 'Semester': 5,\n",
       " 'Subjects': {'DSA': 80, 'Maths': 78, 'English': 92, 'Physics': 84},\n",
       " 'Place': 'India'}"
      ]
     },
     "execution_count": 37,
     "metadata": {},
     "output_type": "execute_result"
    }
   ],
   "execution_count": 37
  },
  {
   "metadata": {},
   "cell_type": "markdown",
   "source": "#### Editing Key-value pair",
   "id": "4a6cfc0979be0128"
  },
  {
   "metadata": {
    "ExecuteTime": {
     "end_time": "2024-12-18T08:15:15.650415Z",
     "start_time": "2024-12-18T08:15:15.629195Z"
    }
   },
   "cell_type": "code",
   "source": [
    "d1 = {\"name\": \"Jabir\", \"age\": 20, \"gender\": \"Male\"}\n",
    "\n",
    "d1"
   ],
   "id": "e078a7761db5ef3f",
   "outputs": [
    {
     "data": {
      "text/plain": [
       "{'name': 'Jabir', 'age': 20, 'gender': 'Male'}"
      ]
     },
     "execution_count": 38,
     "metadata": {},
     "output_type": "execute_result"
    }
   ],
   "execution_count": 38
  },
  {
   "metadata": {
    "ExecuteTime": {
     "end_time": "2024-12-18T08:15:41.174369Z",
     "start_time": "2024-12-18T08:15:41.167930Z"
    }
   },
   "cell_type": "code",
   "source": [
    "d1[\"name\"] = \"Alex\"\n",
    "\n",
    "d1"
   ],
   "id": "331bfccccaa1a03a",
   "outputs": [
    {
     "data": {
      "text/plain": [
       "{'name': 'Alex', 'age': 20, 'gender': 'Male'}"
      ]
     },
     "execution_count": 39,
     "metadata": {},
     "output_type": "execute_result"
    }
   ],
   "execution_count": 39
  },
  {
   "metadata": {
    "ExecuteTime": {
     "end_time": "2024-12-18T08:17:13.126738Z",
     "start_time": "2024-12-18T08:17:13.118203Z"
    }
   },
   "cell_type": "code",
   "source": [
    "d1.__setitem__(\"age\", 22)\n",
    "\n",
    "d1"
   ],
   "id": "a48f2e7cb34b083d",
   "outputs": [
    {
     "data": {
      "text/plain": [
       "{'name': 'Alex', 'age': 22, 'gender': 'Male'}"
      ]
     },
     "execution_count": 41,
     "metadata": {},
     "output_type": "execute_result"
    }
   ],
   "execution_count": 41
  },
  {
   "metadata": {},
   "cell_type": "markdown",
   "source": "#### Removing key-value pair",
   "id": "75fffdb81ba130e1"
  },
  {
   "metadata": {
    "ExecuteTime": {
     "end_time": "2024-12-18T08:21:30.112119Z",
     "start_time": "2024-12-18T08:21:30.097091Z"
    }
   },
   "cell_type": "code",
   "source": [
    "# pop\n",
    "d1 = {\"name\": \"Jabir\", \"age\": 20, \"gender\": \"Male\"}\n",
    "d1.pop(\"age\")\n",
    "d1"
   ],
   "id": "c0770c11e1d7c67e",
   "outputs": [
    {
     "data": {
      "text/plain": [
       "{'name': 'Jabir', 'gender': 'Male'}"
      ]
     },
     "execution_count": 59,
     "metadata": {},
     "output_type": "execute_result"
    }
   ],
   "execution_count": 59
  },
  {
   "metadata": {
    "ExecuteTime": {
     "end_time": "2024-12-18T08:21:31.494256Z",
     "start_time": "2024-12-18T08:21:31.485574Z"
    }
   },
   "cell_type": "code",
   "source": [
    "# popitem\n",
    "d1 = {\"name\": \"Jabir\", \"age\": 20, \"gender\": \"Male\"}\n",
    "\n",
    "d1.popitem()\n",
    "d1"
   ],
   "id": "bbab45c4e115446d",
   "outputs": [
    {
     "data": {
      "text/plain": [
       "{'name': 'Jabir', 'age': 20}"
      ]
     },
     "execution_count": 60,
     "metadata": {},
     "output_type": "execute_result"
    }
   ],
   "execution_count": 60
  },
  {
   "metadata": {
    "ExecuteTime": {
     "end_time": "2024-12-18T08:21:32.568620Z",
     "start_time": "2024-12-18T08:21:32.562618Z"
    }
   },
   "cell_type": "code",
   "source": [
    "# del\n",
    "d1 = {\"name\": \"Jabir\", \"age\": 20, \"gender\": \"Male\"}\n",
    "\n",
    "del d1[\"name\"]\n",
    "d1"
   ],
   "id": "484130a73224c536",
   "outputs": [
    {
     "data": {
      "text/plain": [
       "{'age': 20, 'gender': 'Male'}"
      ]
     },
     "execution_count": 61,
     "metadata": {},
     "output_type": "execute_result"
    }
   ],
   "execution_count": 61
  },
  {
   "metadata": {
    "ExecuteTime": {
     "end_time": "2024-12-18T08:22:12.835435Z",
     "start_time": "2024-12-18T08:22:12.820284Z"
    }
   },
   "cell_type": "code",
   "source": [
    "# clear\n",
    "d1 = {\"name\": \"Jabir\", \"age\": 20, \"gender\": \"Male\"}\n",
    "\n",
    "d1.clear()\n",
    "d1"
   ],
   "id": "e7170beacfb88838",
   "outputs": [
    {
     "data": {
      "text/plain": [
       "{}"
      ]
     },
     "execution_count": 62,
     "metadata": {},
     "output_type": "execute_result"
    }
   ],
   "execution_count": 62
  }
 ],
 "metadata": {
  "kernelspec": {
   "display_name": "Python 3",
   "language": "python",
   "name": "python3"
  },
  "language_info": {
   "codemirror_mode": {
    "name": "ipython",
    "version": 2
   },
   "file_extension": ".py",
   "mimetype": "text/x-python",
   "name": "python",
   "nbconvert_exporter": "python",
   "pygments_lexer": "ipython2",
   "version": "2.7.6"
  }
 },
 "nbformat": 4,
 "nbformat_minor": 5
}
