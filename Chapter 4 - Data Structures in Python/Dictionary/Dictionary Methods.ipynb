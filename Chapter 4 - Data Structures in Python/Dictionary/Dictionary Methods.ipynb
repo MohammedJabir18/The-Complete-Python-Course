{
 "cells": [
  {
   "metadata": {},
   "cell_type": "markdown",
   "source": "# Dictionary Methods / Functions",
   "id": "d0751aa30284d98b"
  },
  {
   "metadata": {
    "ExecuteTime": {
     "end_time": "2024-12-18T08:35:51.131934Z",
     "start_time": "2024-12-18T08:35:51.125922Z"
    }
   },
   "cell_type": "code",
   "source": [
    "d = {\"Name\": \"Jabir\", \"age\": 20, \"gender\": \"Male\"}\n",
    "\n",
    "d"
   ],
   "id": "ffed5f353416672c",
   "outputs": [
    {
     "data": {
      "text/plain": [
       "{'Name': 'Jabir', 'age': 20, 'gender': 'Male'}"
      ]
     },
     "execution_count": 13,
     "metadata": {},
     "output_type": "execute_result"
    }
   ],
   "execution_count": 13
  },
  {
   "metadata": {
    "ExecuteTime": {
     "end_time": "2024-12-18T08:36:03.109057Z",
     "start_time": "2024-12-18T08:36:03.102554Z"
    }
   },
   "cell_type": "code",
   "source": [
    "# Common functions\n",
    "print(len(d))\n",
    "print(sorted(d, reverse=True))\n",
    "print(min(d))\n",
    "print(max(d))"
   ],
   "id": "bede60ac02440061",
   "outputs": [
    {
     "name": "stdout",
     "output_type": "stream",
     "text": [
      "3\n",
      "['gender', 'age', 'Name']\n",
      "Name\n",
      "gender\n"
     ]
    }
   ],
   "execution_count": 15
  },
  {
   "metadata": {},
   "cell_type": "markdown",
   "source": [
    "- items\n",
    "- keys\n",
    "- values"
   ],
   "id": "512fdd8383130392"
  },
  {
   "metadata": {
    "ExecuteTime": {
     "end_time": "2024-12-18T08:36:48.619226Z",
     "start_time": "2024-12-18T08:36:48.612430Z"
    }
   },
   "cell_type": "code",
   "source": "d = {\"name\": \"Jabir\", \"age\": 20, \"gender\": \"Male\"}",
   "id": "afe7ca21f58ec500",
   "outputs": [],
   "execution_count": 16
  },
  {
   "metadata": {
    "ExecuteTime": {
     "end_time": "2024-12-18T08:37:04.223698Z",
     "start_time": "2024-12-18T08:37:04.214186Z"
    }
   },
   "cell_type": "code",
   "source": "print(d.items())",
   "id": "eb8cddd0824d97a7",
   "outputs": [
    {
     "name": "stdout",
     "output_type": "stream",
     "text": [
      "dict_items([('name', 'Jabir'), ('age', 20), ('gender', 'Male')])\n"
     ]
    }
   ],
   "execution_count": 18
  },
  {
   "metadata": {
    "ExecuteTime": {
     "end_time": "2024-12-18T08:37:50.623962Z",
     "start_time": "2024-12-18T08:37:50.619808Z"
    }
   },
   "cell_type": "code",
   "source": "print(d.keys())",
   "id": "963ac1a249ac3f89",
   "outputs": [
    {
     "name": "stdout",
     "output_type": "stream",
     "text": [
      "dict_keys(['name', 'age', 'gender'])\n"
     ]
    }
   ],
   "execution_count": 19
  },
  {
   "metadata": {
    "ExecuteTime": {
     "end_time": "2024-12-18T08:38:05.450195Z",
     "start_time": "2024-12-18T08:38:05.446060Z"
    }
   },
   "cell_type": "code",
   "source": "print(d.values())",
   "id": "55b32f44b5e81cc0",
   "outputs": [
    {
     "name": "stdout",
     "output_type": "stream",
     "text": [
      "dict_values(['Jabir', 20, 'Male'])\n"
     ]
    }
   ],
   "execution_count": 20
  },
  {
   "metadata": {
    "ExecuteTime": {
     "end_time": "2024-12-18T08:42:14.653431Z",
     "start_time": "2024-12-18T08:42:14.644807Z"
    }
   },
   "cell_type": "code",
   "source": [
    "# update\n",
    "d1 = {1: 2, 3: 4, 4: 5}\n",
    "d2 = {4: 7, 6: 8}\n",
    "\n",
    "d2.update(d1)\n",
    "print(d2)"
   ],
   "id": "a4614cd53e445dce",
   "outputs": [
    {
     "name": "stdout",
     "output_type": "stream",
     "text": [
      "{4: 5, 6: 8, 1: 2, 3: 4}\n"
     ]
    }
   ],
   "execution_count": 23
  }
 ],
 "metadata": {
  "kernelspec": {
   "display_name": "Python 3",
   "language": "python",
   "name": "python3"
  },
  "language_info": {
   "codemirror_mode": {
    "name": "ipython",
    "version": 2
   },
   "file_extension": ".py",
   "mimetype": "text/x-python",
   "name": "python",
   "nbconvert_exporter": "python",
   "pygments_lexer": "ipython2",
   "version": "2.7.6"
  }
 },
 "nbformat": 4,
 "nbformat_minor": 5
}
