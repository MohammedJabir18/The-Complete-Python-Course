{
 "cells": [
  {
   "metadata": {},
   "cell_type": "markdown",
   "source": "# Dictionary Comprehension",
   "id": "4843ce5d0773f871"
  },
  {
   "metadata": {
    "ExecuteTime": {
     "end_time": "2024-12-18T09:14:34.374280Z",
     "start_time": "2024-12-18T09:14:34.361069Z"
    }
   },
   "cell_type": "code",
   "source": [
    "# Print 1st 10 numbers and their squares\n",
    "{i : i**2 for i in range(1, 11)}"
   ],
   "id": "cbe4d8eea6bef8a8",
   "outputs": [
    {
     "data": {
      "text/plain": [
       "{1: 1, 2: 4, 3: 9, 4: 16, 5: 25, 6: 36, 7: 49, 8: 64, 9: 81, 10: 100}"
      ]
     },
     "execution_count": 1,
     "metadata": {},
     "output_type": "execute_result"
    }
   ],
   "execution_count": 1
  },
  {
   "metadata": {
    "ExecuteTime": {
     "end_time": "2024-12-18T09:20:58.005240Z",
     "start_time": "2024-12-18T09:20:57.997971Z"
    }
   },
   "cell_type": "code",
   "source": [
    "# using if condition\n",
    "product = {\"phone\": 10, \"laptop\": 0, \"Charger\": 32, \"tablet\": 0}\n",
    "\n",
    "{key:value for key, value in product.items() if value != 0}"
   ],
   "id": "a5e508db72b51fb1",
   "outputs": [
    {
     "data": {
      "text/plain": [
       "{'phone': 10, 'Charger': 32}"
      ]
     },
     "execution_count": 5,
     "metadata": {},
     "output_type": "execute_result"
    }
   ],
   "execution_count": 5
  },
  {
   "metadata": {
    "ExecuteTime": {
     "end_time": "2024-12-18T09:22:58.784951Z",
     "start_time": "2024-12-18T09:22:58.778674Z"
    }
   },
   "cell_type": "code",
   "source": [
    "for key, value in product.items():\n",
    "    if value != 0:\n",
    "        print(f\"{key}: {value}\")"
   ],
   "id": "246b781dc2a9424",
   "outputs": [
    {
     "name": "stdout",
     "output_type": "stream",
     "text": [
      "phone: 10\n",
      "Charger: 32\n"
     ]
    }
   ],
   "execution_count": 6
  },
  {
   "metadata": {
    "ExecuteTime": {
     "end_time": "2024-12-18T09:25:39.196891Z",
     "start_time": "2024-12-18T09:25:39.191732Z"
    }
   },
   "cell_type": "code",
   "source": [
    "# using zip\n",
    "days = [\"Sunday\", \"Monday\", \"Tuesday\", \"Wednesday\", \"Tuesday\", \"Friday\", \"Saturday\", \"Sunday\"]\n",
    "temp_c = [30.5, 32.6, 31.8, 33.4, 29.8, 30.2, 29.9]"
   ],
   "id": "13acd64d32290889",
   "outputs": [],
   "execution_count": 7
  },
  {
   "metadata": {
    "ExecuteTime": {
     "end_time": "2024-12-18T09:26:47.941063Z",
     "start_time": "2024-12-18T09:26:47.934375Z"
    }
   },
   "cell_type": "code",
   "source": "{day:temp for day, temp in zip(days, temp_c)}",
   "id": "2f57238cfb24351",
   "outputs": [
    {
     "data": {
      "text/plain": [
       "{'Sunday': 30.5,\n",
       " 'Monday': 32.6,\n",
       " 'Tuesday': 29.8,\n",
       " 'Wednesday': 33.4,\n",
       " 'Friday': 30.2,\n",
       " 'Saturday': 29.9}"
      ]
     },
     "execution_count": 8,
     "metadata": {},
     "output_type": "execute_result"
    }
   ],
   "execution_count": 8
  },
  {
   "metadata": {
    "ExecuteTime": {
     "end_time": "2024-12-18T09:27:36.372341Z",
     "start_time": "2024-12-18T09:27:36.367775Z"
    }
   },
   "cell_type": "code",
   "source": [
    "for day, temp in zip(days, temp_c):\n",
    "    print(f\"{day}: {temp}\")"
   ],
   "id": "8eade228ee56d9c5",
   "outputs": [
    {
     "name": "stdout",
     "output_type": "stream",
     "text": [
      "Sunday: 30.5\n",
      "Monday: 32.6\n",
      "Tuesday: 31.8\n",
      "Wednesday: 33.4\n",
      "Tuesday: 29.8\n",
      "Friday: 30.2\n",
      "Saturday: 29.9\n"
     ]
    }
   ],
   "execution_count": 9
  }
 ],
 "metadata": {
  "kernelspec": {
   "display_name": "Python 3",
   "language": "python",
   "name": "python3"
  },
  "language_info": {
   "codemirror_mode": {
    "name": "ipython",
    "version": 2
   },
   "file_extension": ".py",
   "mimetype": "text/x-python",
   "name": "python",
   "nbconvert_exporter": "python",
   "pygments_lexer": "ipython2",
   "version": "2.7.6"
  }
 },
 "nbformat": 4,
 "nbformat_minor": 5
}
