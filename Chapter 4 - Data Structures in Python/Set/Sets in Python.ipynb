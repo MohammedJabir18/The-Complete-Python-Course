{
 "cells": [
  {
   "metadata": {},
   "cell_type": "markdown",
   "source": [
    "# Sets\n",
    "Sets in Python are a built-in data structure that provides a collection of unordered and unique elements. They are particularly useful for scenarios where you need to ensure that no duplicate items exist and where the order of elements is not important.\n",
    "\n",
    "## Key Characteristics of Sets\n",
    "- Unique Elements: Each element in a set is unique. If you attempt to add a duplicate item, it will be ignored.\n",
    "- Unordered: Sets do not maintain any specific order of elements, meaning they are not indexed.\n",
    "- Mutable: You can modify sets after their creation by adding or removing elements.\n",
    "- Immutable Elements: Sets can only contain immutable types, such as integers, strings, and tuples. Mutable types like lists and dictionaries cannot be included."
   ],
   "id": "282ef71419e2f7b5"
  },
  {
   "metadata": {},
   "cell_type": "markdown",
   "source": "#### Creating Sets",
   "id": "d4f26437ca9f75c8"
  },
  {
   "metadata": {
    "ExecuteTime": {
     "end_time": "2024-12-17T09:27:42.069030Z",
     "start_time": "2024-12-17T09:27:42.062471Z"
    }
   },
   "cell_type": "code",
   "source": [
    "# Empty\n",
    "s = set()\n",
    "print(s)\n",
    "print(type(s))"
   ],
   "id": "50dc020c5b4bb303",
   "outputs": [
    {
     "name": "stdout",
     "output_type": "stream",
     "text": [
      "set()\n",
      "<class 'set'>\n"
     ]
    }
   ],
   "execution_count": 15
  },
  {
   "metadata": {
    "ExecuteTime": {
     "end_time": "2024-12-17T09:27:52.483488Z",
     "start_time": "2024-12-17T09:27:52.479194Z"
    }
   },
   "cell_type": "code",
   "source": [
    "# 1D\n",
    "s1 = {1, 2, 3, 4}\n",
    "print(s1)"
   ],
   "id": "5dfa00feed2a8f72",
   "outputs": [
    {
     "name": "stdout",
     "output_type": "stream",
     "text": [
      "{1, 2, 3, 4}\n"
     ]
    }
   ],
   "execution_count": 16
  },
  {
   "metadata": {
    "ExecuteTime": {
     "end_time": "2024-12-17T09:34:57.482206Z",
     "start_time": "2024-12-17T09:34:57.471719Z"
    }
   },
   "cell_type": "code",
   "source": [
    "# 2D\n",
    "s2 = {1, 2, 3, 4, (5, 6)}\n",
    "print(s2)"
   ],
   "id": "1ca72c182348fee6",
   "outputs": [
    {
     "name": "stdout",
     "output_type": "stream",
     "text": [
      "{1, 2, 3, 4, (5, 6)}\n"
     ]
    }
   ],
   "execution_count": 25
  },
  {
   "metadata": {
    "ExecuteTime": {
     "end_time": "2024-12-17T09:28:51.812689Z",
     "start_time": "2024-12-17T09:28:51.805388Z"
    }
   },
   "cell_type": "code",
   "source": [
    "s2 = {1, 2, 3, 4, (5, 6)}\n",
    "print(s2)"
   ],
   "id": "888184439a72b2c3",
   "outputs": [
    {
     "name": "stdout",
     "output_type": "stream",
     "text": [
      "{1, 2, 3, 4, (5, 6)}\n"
     ]
    }
   ],
   "execution_count": 18
  },
  {
   "metadata": {
    "ExecuteTime": {
     "end_time": "2024-12-17T09:30:20.983761Z",
     "start_time": "2024-12-17T09:30:20.979009Z"
    }
   },
   "cell_type": "code",
   "source": [
    "# Heterogeneous\n",
    "s3 = {1, \"Hello\", 4.3, True, (1, 2, 3)}\n",
    "print(s3)"
   ],
   "id": "9ab19359c61594",
   "outputs": [
    {
     "name": "stdout",
     "output_type": "stream",
     "text": [
      "{1, (1, 2, 3), 4.3, 'Hello'}\n"
     ]
    }
   ],
   "execution_count": 19
  },
  {
   "metadata": {
    "ExecuteTime": {
     "end_time": "2024-12-17T09:32:03.117391Z",
     "start_time": "2024-12-17T09:32:03.108303Z"
    }
   },
   "cell_type": "code",
   "source": [
    "# Using type conversion\n",
    "L = [1, 2, 3, 4]\n",
    "\n",
    "s4 = set(L)\n",
    "print(s4)"
   ],
   "id": "e7c3b5fe4f89ae9a",
   "outputs": [
    {
     "name": "stdout",
     "output_type": "stream",
     "text": [
      "{1, 2, 3, 4}\n"
     ]
    }
   ],
   "execution_count": 21
  },
  {
   "metadata": {
    "ExecuteTime": {
     "end_time": "2024-12-17T09:33:54.967027Z",
     "start_time": "2024-12-17T09:33:54.962878Z"
    }
   },
   "cell_type": "code",
   "source": [
    "# Duplicates aren't allowed\n",
    "s5 = {1, 2, 3, 2, 5, 1, 2, 3, 4, 6}\n",
    "\n",
    "print(s5)"
   ],
   "id": "2f6f0476a009182c",
   "outputs": [
    {
     "name": "stdout",
     "output_type": "stream",
     "text": [
      "{1, 2, 3, 4, 5, 6}\n"
     ]
    }
   ],
   "execution_count": 24
  },
  {
   "metadata": {
    "ExecuteTime": {
     "end_time": "2024-12-17T09:36:46.045361Z",
     "start_time": "2024-12-17T09:36:46.037671Z"
    }
   },
   "cell_type": "code",
   "source": [
    "s5 = {1, 2, 3, 4, (2, 1, 2)}\n",
    "\n",
    "print(s5)"
   ],
   "id": "f9e070a851b00305",
   "outputs": [
    {
     "name": "stdout",
     "output_type": "stream",
     "text": [
      "{1, 2, 3, 4, (2, 1, 2)}\n"
     ]
    }
   ],
   "execution_count": 28
  },
  {
   "metadata": {
    "ExecuteTime": {
     "end_time": "2024-12-17T09:36:51.956196Z",
     "start_time": "2024-12-17T09:36:51.935414Z"
    }
   },
   "cell_type": "code",
   "source": [
    "# set can't have mutable items\n",
    "s6 = {1, 2, 3, [4, 5]}\n",
    "\n",
    "print(s6)"
   ],
   "id": "3042cfcfca3d4823",
   "outputs": [
    {
     "ename": "TypeError",
     "evalue": "unhashable type: 'list'",
     "output_type": "error",
     "traceback": [
      "\u001B[1;31m---------------------------------------------------------------------------\u001B[0m",
      "\u001B[1;31mTypeError\u001B[0m                                 Traceback (most recent call last)",
      "Cell \u001B[1;32mIn[29], line 2\u001B[0m\n\u001B[0;32m      1\u001B[0m \u001B[38;5;66;03m# set can't have mutable items\u001B[39;00m\n\u001B[1;32m----> 2\u001B[0m s6 \u001B[38;5;241m=\u001B[39m {\u001B[38;5;241m1\u001B[39m, \u001B[38;5;241m2\u001B[39m, \u001B[38;5;241m3\u001B[39m, [\u001B[38;5;241m4\u001B[39m, \u001B[38;5;241m5\u001B[39m]}\n\u001B[0;32m      4\u001B[0m \u001B[38;5;28mprint\u001B[39m(s6)\n",
      "\u001B[1;31mTypeError\u001B[0m: unhashable type: 'list'"
     ]
    }
   ],
   "execution_count": 29
  },
  {
   "metadata": {
    "ExecuteTime": {
     "end_time": "2024-12-17T09:41:11.955499Z",
     "start_time": "2024-12-17T09:41:11.922622Z"
    }
   },
   "cell_type": "code",
   "source": [
    "s1 = {1, 2, 67, 82, 9, 5, 3, 2}\n",
    "s2 = {9, 67, 1, 3, 82, 2, 5}\n",
    "\n",
    "s1 == s2"
   ],
   "id": "4041342edff1d4bb",
   "outputs": [
    {
     "data": {
      "text/plain": [
       "True"
      ]
     },
     "execution_count": 30,
     "metadata": {},
     "output_type": "execute_result"
    }
   ],
   "execution_count": 30
  },
  {
   "metadata": {},
   "cell_type": "markdown",
   "source": "#### Accessing Items",
   "id": "b60919f48ba57eac"
  },
  {
   "metadata": {
    "ExecuteTime": {
     "end_time": "2024-12-17T09:43:33.934135Z",
     "start_time": "2024-12-17T09:43:33.902462Z"
    }
   },
   "cell_type": "code",
   "source": [
    "s1 = {1, 2, 3, 4, 5}\n",
    "\n",
    "s[0]"
   ],
   "id": "6f6272ef6f5073ab",
   "outputs": [
    {
     "ename": "TypeError",
     "evalue": "'set' object is not subscriptable",
     "output_type": "error",
     "traceback": [
      "\u001B[1;31m---------------------------------------------------------------------------\u001B[0m",
      "\u001B[1;31mTypeError\u001B[0m                                 Traceback (most recent call last)",
      "Cell \u001B[1;32mIn[31], line 3\u001B[0m\n\u001B[0;32m      1\u001B[0m s1 \u001B[38;5;241m=\u001B[39m {\u001B[38;5;241m1\u001B[39m, \u001B[38;5;241m2\u001B[39m, \u001B[38;5;241m3\u001B[39m, \u001B[38;5;241m4\u001B[39m, \u001B[38;5;241m5\u001B[39m}\n\u001B[1;32m----> 3\u001B[0m s[\u001B[38;5;241m0\u001B[39m]\n",
      "\u001B[1;31mTypeError\u001B[0m: 'set' object is not subscriptable"
     ]
    }
   ],
   "execution_count": 31
  },
  {
   "metadata": {
    "ExecuteTime": {
     "end_time": "2024-12-17T09:44:11.336526Z",
     "start_time": "2024-12-17T09:44:11.330132Z"
    }
   },
   "cell_type": "code",
   "source": [
    "s3 = {1, \"Hello\", 4.3, True, (1, 2, 3)}\n",
    "print(s3)"
   ],
   "id": "8fe52f65cad52952",
   "outputs": [
    {
     "name": "stdout",
     "output_type": "stream",
     "text": [
      "{1, (1, 2, 3), 4.3, 'Hello'}\n"
     ]
    }
   ],
   "execution_count": 32
  },
  {
   "metadata": {
    "ExecuteTime": {
     "end_time": "2024-12-17T09:44:33.215799Z",
     "start_time": "2024-12-17T09:44:33.184782Z"
    }
   },
   "cell_type": "code",
   "source": "s[1:3]",
   "id": "b262ea63e7adefd1",
   "outputs": [
    {
     "ename": "TypeError",
     "evalue": "'set' object is not subscriptable",
     "output_type": "error",
     "traceback": [
      "\u001B[1;31m---------------------------------------------------------------------------\u001B[0m",
      "\u001B[1;31mTypeError\u001B[0m                                 Traceback (most recent call last)",
      "Cell \u001B[1;32mIn[33], line 1\u001B[0m\n\u001B[1;32m----> 1\u001B[0m s[\u001B[38;5;241m1\u001B[39m:\u001B[38;5;241m3\u001B[39m]\n",
      "\u001B[1;31mTypeError\u001B[0m: 'set' object is not subscriptable"
     ]
    }
   ],
   "execution_count": 33
  },
  {
   "metadata": {
    "ExecuteTime": {
     "end_time": "2024-12-17T09:45:35.402825Z",
     "start_time": "2024-12-17T09:45:35.374137Z"
    }
   },
   "cell_type": "code",
   "source": [
    "# Editing Items\n",
    "s = {1, 2, 3}\n",
    "\n",
    "s[0] = 100"
   ],
   "id": "28c68e6ff9decc8b",
   "outputs": [
    {
     "ename": "TypeError",
     "evalue": "'set' object does not support item assignment",
     "output_type": "error",
     "traceback": [
      "\u001B[1;31m---------------------------------------------------------------------------\u001B[0m",
      "\u001B[1;31mTypeError\u001B[0m                                 Traceback (most recent call last)",
      "Cell \u001B[1;32mIn[34], line 4\u001B[0m\n\u001B[0;32m      1\u001B[0m \u001B[38;5;66;03m# Editing Items\u001B[39;00m\n\u001B[0;32m      2\u001B[0m s \u001B[38;5;241m=\u001B[39m {\u001B[38;5;241m1\u001B[39m, \u001B[38;5;241m2\u001B[39m, \u001B[38;5;241m3\u001B[39m}\n\u001B[1;32m----> 4\u001B[0m s[\u001B[38;5;241m0\u001B[39m] \u001B[38;5;241m=\u001B[39m \u001B[38;5;241m100\u001B[39m\n",
      "\u001B[1;31mTypeError\u001B[0m: 'set' object does not support item assignment"
     ]
    }
   ],
   "execution_count": 34
  },
  {
   "metadata": {
    "ExecuteTime": {
     "end_time": "2024-12-17T09:47:00.205424Z",
     "start_time": "2024-12-17T09:47:00.193871Z"
    }
   },
   "cell_type": "code",
   "source": [
    "# Adding Items\n",
    "s = {1, 2, 3, 4, 5}\n",
    "\n",
    "s.add(5)\n",
    "print(s)"
   ],
   "id": "43c712bf25f665e9",
   "outputs": [
    {
     "name": "stdout",
     "output_type": "stream",
     "text": [
      "{1, 2, 3, 4, 5}\n"
     ]
    }
   ],
   "execution_count": 35
  },
  {
   "metadata": {
    "ExecuteTime": {
     "end_time": "2024-12-17T09:47:59.116041Z",
     "start_time": "2024-12-17T09:47:59.101386Z"
    }
   },
   "cell_type": "code",
   "source": [
    "s.update([11, 12, 13, 14])\n",
    "\n",
    "print(s)"
   ],
   "id": "fe6a90d7ad632b84",
   "outputs": [
    {
     "name": "stdout",
     "output_type": "stream",
     "text": [
      "{1, 2, 3, 4, 5, 11, 12, 13, 14}\n"
     ]
    }
   ],
   "execution_count": 36
  },
  {
   "metadata": {
    "ExecuteTime": {
     "end_time": "2024-12-17T09:48:41.385463Z",
     "start_time": "2024-12-17T09:48:41.358992Z"
    }
   },
   "cell_type": "code",
   "source": "del s[0]",
   "id": "43e5c9ab3cc97e6b",
   "outputs": [
    {
     "ename": "TypeError",
     "evalue": "'set' object doesn't support item deletion",
     "output_type": "error",
     "traceback": [
      "\u001B[1;31m---------------------------------------------------------------------------\u001B[0m",
      "\u001B[1;31mTypeError\u001B[0m                                 Traceback (most recent call last)",
      "Cell \u001B[1;32mIn[37], line 1\u001B[0m\n\u001B[1;32m----> 1\u001B[0m \u001B[38;5;28;01mdel\u001B[39;00m s[\u001B[38;5;241m0\u001B[39m]\n",
      "\u001B[1;31mTypeError\u001B[0m: 'set' object doesn't support item deletion"
     ]
    }
   ],
   "execution_count": 37
  },
  {
   "metadata": {
    "ExecuteTime": {
     "end_time": "2024-12-17T09:49:45.528345Z",
     "start_time": "2024-12-17T09:49:45.523359Z"
    }
   },
   "cell_type": "code",
   "source": [
    "# Deleting Items\n",
    "s = {1, 2, 3, 4, 5}\n",
    "s.discard(5)\n",
    "\n",
    "print(s)"
   ],
   "id": "2af060f968d7aa16",
   "outputs": [
    {
     "name": "stdout",
     "output_type": "stream",
     "text": [
      "{1, 2, 3, 4}\n"
     ]
    }
   ],
   "execution_count": 40
  },
  {
   "metadata": {
    "ExecuteTime": {
     "end_time": "2024-12-17T09:52:05.617950Z",
     "start_time": "2024-12-17T09:52:05.613182Z"
    }
   },
   "cell_type": "code",
   "source": [
    "s.discard(50)\n",
    "\n",
    "print(s)"
   ],
   "id": "a9986dfd124aa369",
   "outputs": [
    {
     "name": "stdout",
     "output_type": "stream",
     "text": [
      "{1, 2, 3, 4, 5}\n"
     ]
    }
   ],
   "execution_count": 48
  },
  {
   "metadata": {
    "ExecuteTime": {
     "end_time": "2024-12-17T09:52:07.585344Z",
     "start_time": "2024-12-17T09:52:07.579824Z"
    }
   },
   "cell_type": "code",
   "source": [
    "s = {1, 2, 3, 4, 5, 50}\n",
    "\n",
    "s.remove(50)\n",
    "print(s)"
   ],
   "id": "752a948341118702",
   "outputs": [
    {
     "name": "stdout",
     "output_type": "stream",
     "text": [
      "{1, 2, 3, 4, 5}\n"
     ]
    }
   ],
   "execution_count": 49
  },
  {
   "metadata": {
    "ExecuteTime": {
     "end_time": "2024-12-17T09:52:08.068065Z",
     "start_time": "2024-12-17T09:52:08.043960Z"
    }
   },
   "cell_type": "code",
   "source": [
    "s.remove(60)\n",
    "\n",
    "print(s)"
   ],
   "id": "4db1db222e88d6b",
   "outputs": [
    {
     "ename": "KeyError",
     "evalue": "60",
     "output_type": "error",
     "traceback": [
      "\u001B[1;31m---------------------------------------------------------------------------\u001B[0m",
      "\u001B[1;31mKeyError\u001B[0m                                  Traceback (most recent call last)",
      "Cell \u001B[1;32mIn[50], line 1\u001B[0m\n\u001B[1;32m----> 1\u001B[0m s\u001B[38;5;241m.\u001B[39mremove(\u001B[38;5;241m60\u001B[39m)\n\u001B[0;32m      3\u001B[0m \u001B[38;5;28mprint\u001B[39m(s)\n",
      "\u001B[1;31mKeyError\u001B[0m: 60"
     ]
    }
   ],
   "execution_count": 50
  },
  {
   "metadata": {
    "ExecuteTime": {
     "end_time": "2024-12-17T09:53:30.716765Z",
     "start_time": "2024-12-17T09:53:30.711287Z"
    }
   },
   "cell_type": "code",
   "source": [
    "# pop\n",
    "s = {1, 2, 3, 4, 5, 6}\n",
    "\n",
    "s.pop()\n",
    "print(s)"
   ],
   "id": "2de4c46e942984ae",
   "outputs": [
    {
     "name": "stdout",
     "output_type": "stream",
     "text": [
      "{2, 3, 4, 5, 6}\n"
     ]
    }
   ],
   "execution_count": 52
  },
  {
   "metadata": {
    "ExecuteTime": {
     "end_time": "2024-12-17T09:54:11.545405Z",
     "start_time": "2024-12-17T09:54:11.540646Z"
    }
   },
   "cell_type": "code",
   "source": [
    "# clear\n",
    "s = {1, 2, 3, 4, 5, 6}\n",
    "\n",
    "s.clear()\n",
    "print(s)"
   ],
   "id": "9299e8e7eeec725c",
   "outputs": [
    {
     "name": "stdout",
     "output_type": "stream",
     "text": [
      "set()\n"
     ]
    }
   ],
   "execution_count": 53
  }
 ],
 "metadata": {
  "kernelspec": {
   "display_name": "Python 3",
   "language": "python",
   "name": "python3"
  },
  "language_info": {
   "codemirror_mode": {
    "name": "ipython",
    "version": 2
   },
   "file_extension": ".py",
   "mimetype": "text/x-python",
   "name": "python",
   "nbconvert_exporter": "python",
   "pygments_lexer": "ipython2",
   "version": "2.7.6"
  }
 },
 "nbformat": 4,
 "nbformat_minor": 5
}
