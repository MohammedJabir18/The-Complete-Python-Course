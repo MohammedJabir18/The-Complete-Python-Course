{
 "cells": [
  {
   "metadata": {},
   "cell_type": "markdown",
   "source": "# Set Comprehension",
   "id": "7b0d925607d89fc3"
  },
  {
   "metadata": {
    "ExecuteTime": {
     "end_time": "2024-12-18T06:52:53.708654Z",
     "start_time": "2024-12-18T06:52:53.687328Z"
    }
   },
   "cell_type": "code",
   "source": [
    "s = {i for i in range(1, 11)}\n",
    "\n",
    "print(s)"
   ],
   "id": "54520fe762f58a8a",
   "outputs": [
    {
     "name": "stdout",
     "output_type": "stream",
     "text": [
      "{1, 2, 3, 4, 5, 6, 7, 8, 9, 10}\n"
     ]
    }
   ],
   "execution_count": 1
  },
  {
   "metadata": {
    "ExecuteTime": {
     "end_time": "2024-12-18T06:54:35.238845Z",
     "start_time": "2024-12-18T06:54:35.219926Z"
    }
   },
   "cell_type": "code",
   "source": [
    "# Frozenset comprehension\n",
    "fs = frozenset([i for i in range(1, 11)])\n",
    "\n",
    "fs"
   ],
   "id": "c0907d6d95641d91",
   "outputs": [
    {
     "data": {
      "text/plain": [
       "frozenset({1, 2, 3, 4, 5, 6, 7, 8, 9, 10})"
      ]
     },
     "execution_count": 3,
     "metadata": {},
     "output_type": "execute_result"
    }
   ],
   "execution_count": 3
  },
  {
   "metadata": {
    "ExecuteTime": {
     "end_time": "2024-12-18T06:57:25.976866Z",
     "start_time": "2024-12-18T06:57:25.968137Z"
    }
   },
   "cell_type": "code",
   "source": "{i**2 for i in range(1, 11) if i > 5}",
   "id": "990d07c66cfce41b",
   "outputs": [
    {
     "data": {
      "text/plain": [
       "{36, 49, 64, 81, 100}"
      ]
     },
     "execution_count": 6,
     "metadata": {},
     "output_type": "execute_result"
    }
   ],
   "execution_count": 6
  }
 ],
 "metadata": {
  "kernelspec": {
   "display_name": "Python 3",
   "language": "python",
   "name": "python3"
  },
  "language_info": {
   "codemirror_mode": {
    "name": "ipython",
    "version": 2
   },
   "file_extension": ".py",
   "mimetype": "text/x-python",
   "name": "python",
   "nbconvert_exporter": "python",
   "pygments_lexer": "ipython2",
   "version": "2.7.6"
  }
 },
 "nbformat": 4,
 "nbformat_minor": 5
}
