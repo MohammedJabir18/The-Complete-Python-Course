{
 "cells": [
  {
   "cell_type": "code",
   "id": "initial_id",
   "metadata": {
    "collapsed": true,
    "ExecuteTime": {
     "end_time": "2024-12-17T10:18:51.839757Z",
     "start_time": "2024-12-17T10:18:51.831715Z"
    }
   },
   "source": [
    "s1 = {1, 2, 3, 4, 5}\n",
    "s2 = {4, 5, 6, 7, 8}"
   ],
   "outputs": [],
   "execution_count": 1
  },
  {
   "metadata": {},
   "cell_type": "markdown",
   "source": "### Union(|)",
   "id": "21561f4a6ec3c7f"
  },
  {
   "metadata": {
    "ExecuteTime": {
     "end_time": "2024-12-17T10:23:16.710441Z",
     "start_time": "2024-12-17T10:23:16.705129Z"
    }
   },
   "cell_type": "code",
   "source": "print( s1 | s2)",
   "id": "cb533475be5ecebf",
   "outputs": [
    {
     "name": "stdout",
     "output_type": "stream",
     "text": [
      "{1, 2, 3, 4, 5, 6, 7, 8}\n"
     ]
    }
   ],
   "execution_count": 3
  },
  {
   "metadata": {},
   "cell_type": "markdown",
   "source": "### Intersection(&)",
   "id": "add4cce2fb51c240"
  },
  {
   "metadata": {
    "ExecuteTime": {
     "end_time": "2024-12-17T10:24:44.090733Z",
     "start_time": "2024-12-17T10:24:44.083873Z"
    }
   },
   "cell_type": "code",
   "source": "print(s1 & s2)",
   "id": "6709cc7d530cfd69",
   "outputs": [
    {
     "name": "stdout",
     "output_type": "stream",
     "text": [
      "{4, 5}\n"
     ]
    }
   ],
   "execution_count": 4
  },
  {
   "metadata": {
    "ExecuteTime": {
     "end_time": "2024-12-17T10:49:13.966516Z",
     "start_time": "2024-12-17T10:49:13.961137Z"
    }
   },
   "cell_type": "code",
   "source": "print(s1 - s2)",
   "id": "c27cbe324bc6b75e",
   "outputs": [
    {
     "name": "stdout",
     "output_type": "stream",
     "text": [
      "{1, 2, 3}\n"
     ]
    }
   ],
   "execution_count": 6
  },
  {
   "metadata": {
    "ExecuteTime": {
     "end_time": "2024-12-17T10:49:21.456034Z",
     "start_time": "2024-12-17T10:49:21.451712Z"
    }
   },
   "cell_type": "code",
   "source": "print(s2 - s1)",
   "id": "21e0ecac870c4f01",
   "outputs": [
    {
     "name": "stdout",
     "output_type": "stream",
     "text": [
      "{8, 6, 7}\n"
     ]
    }
   ],
   "execution_count": 7
  },
  {
   "metadata": {},
   "cell_type": "markdown",
   "source": "### Symmetric Difference(^)",
   "id": "a1dc05b5792465ca"
  },
  {
   "metadata": {
    "ExecuteTime": {
     "end_time": "2024-12-17T10:51:13.787144Z",
     "start_time": "2024-12-17T10:51:13.781941Z"
    }
   },
   "cell_type": "code",
   "source": "s1 ^ s2",
   "id": "a52cbf5228610942",
   "outputs": [
    {
     "data": {
      "text/plain": [
       "{1, 2, 3, 6, 7, 8}"
      ]
     },
     "execution_count": 10,
     "metadata": {},
     "output_type": "execute_result"
    }
   ],
   "execution_count": 10
  },
  {
   "metadata": {},
   "cell_type": "markdown",
   "source": "### Membership",
   "id": "53c4beed0d32e9be"
  },
  {
   "metadata": {
    "ExecuteTime": {
     "end_time": "2024-12-17T10:52:44.744257Z",
     "start_time": "2024-12-17T10:52:44.727463Z"
    }
   },
   "cell_type": "code",
   "source": [
    "s1 = {1, 2, 3, 4, 5}\n",
    "\n",
    "print(3 in s1)\n",
    "print(8 not in s1)"
   ],
   "id": "f077ef74dc99e1f",
   "outputs": [
    {
     "name": "stdout",
     "output_type": "stream",
     "text": [
      "True\n",
      "True\n"
     ]
    }
   ],
   "execution_count": 11
  },
  {
   "metadata": {},
   "cell_type": "markdown",
   "source": "### Iteration",
   "id": "fb6bdb06c9970f0e"
  },
  {
   "metadata": {
    "ExecuteTime": {
     "end_time": "2024-12-17T10:53:41.530609Z",
     "start_time": "2024-12-17T10:53:41.525778Z"
    }
   },
   "cell_type": "code",
   "source": [
    "s1 = {1, 2, 3, 4, 5}\n",
    "\n",
    "for i in s1:\n",
    "    print(i)"
   ],
   "id": "c39766e9f5ece19f",
   "outputs": [
    {
     "name": "stdout",
     "output_type": "stream",
     "text": [
      "1\n",
      "2\n",
      "3\n",
      "4\n",
      "5\n"
     ]
    }
   ],
   "execution_count": 13
  }
 ],
 "metadata": {
  "kernelspec": {
   "display_name": "Python 3",
   "language": "python",
   "name": "python3"
  },
  "language_info": {
   "codemirror_mode": {
    "name": "ipython",
    "version": 2
   },
   "file_extension": ".py",
   "mimetype": "text/x-python",
   "name": "python",
   "nbconvert_exporter": "python",
   "pygments_lexer": "ipython2",
   "version": "2.7.6"
  }
 },
 "nbformat": 4,
 "nbformat_minor": 5
}
