{
 "cells": [
  {
   "metadata": {},
   "cell_type": "markdown",
   "source": [
    "- len\n",
    "- sum\n",
    "- min\n",
    "- max\n",
    "- sorted"
   ],
   "id": "20e91b21cc71d87e"
  },
  {
   "metadata": {
    "ExecuteTime": {
     "end_time": "2024-12-18T05:33:32.142731Z",
     "start_time": "2024-12-18T05:33:32.123836Z"
    }
   },
   "cell_type": "code",
   "source": [
    "s = {3, 1, 4, 5, 2, 7}\n",
    "\n",
    "print(len(s))\n",
    "print(sum(s))\n",
    "print(min(s))\n",
    "print(max(s))\n",
    "print(sorted(s))"
   ],
   "id": "639ced2fb7d49a2a",
   "outputs": [
    {
     "name": "stdout",
     "output_type": "stream",
     "text": [
      "6\n",
      "22\n",
      "1\n",
      "7\n",
      "[1, 2, 3, 4, 5, 7]\n"
     ]
    }
   ],
   "execution_count": 3
  },
  {
   "metadata": {
    "ExecuteTime": {
     "end_time": "2024-12-18T05:39:51.755292Z",
     "start_time": "2024-12-18T05:39:51.742062Z"
    }
   },
   "cell_type": "code",
   "source": [
    "# Union / update\n",
    "s1 = {1, 2, 3, 4, 5}\n",
    "s2 = {4, 5, 6, 7, 8}\n",
    "\n",
    "# s1 | s2\n",
    "s1.union(s2)"
   ],
   "id": "daece2dc8dd9417b",
   "outputs": [
    {
     "data": {
      "text/plain": [
       "{1, 2, 3, 4, 5, 6, 7, 8}"
      ]
     },
     "execution_count": 10,
     "metadata": {},
     "output_type": "execute_result"
    }
   ],
   "execution_count": 10
  },
  {
   "metadata": {
    "ExecuteTime": {
     "end_time": "2024-12-18T05:39:52.945926Z",
     "start_time": "2024-12-18T05:39:52.937585Z"
    }
   },
   "cell_type": "code",
   "source": [
    "s1.update(s2)\n",
    "print(s1)\n",
    "print(s2)"
   ],
   "id": "89ed77658563b24a",
   "outputs": [
    {
     "name": "stdout",
     "output_type": "stream",
     "text": [
      "{1, 2, 3, 4, 5, 6, 7, 8}\n",
      "{4, 5, 6, 7, 8}\n"
     ]
    }
   ],
   "execution_count": 11
  },
  {
   "metadata": {
    "ExecuteTime": {
     "end_time": "2024-12-18T05:43:01.883618Z",
     "start_time": "2024-12-18T05:43:01.873647Z"
    }
   },
   "cell_type": "code",
   "source": [
    "# Intersection / intersection_update\n",
    "s1 = {1, 2, 3, 4, 5}\n",
    "s2 = {4, 5, 6, 7, 8}\n",
    "\n",
    "# s1 & s2\n",
    "s1.intersection(s2)"
   ],
   "id": "2c372870dd51acaf",
   "outputs": [
    {
     "data": {
      "text/plain": [
       "{4, 5}"
      ]
     },
     "execution_count": 13,
     "metadata": {},
     "output_type": "execute_result"
    }
   ],
   "execution_count": 13
  },
  {
   "metadata": {
    "ExecuteTime": {
     "end_time": "2024-12-18T05:43:46.214175Z",
     "start_time": "2024-12-18T05:43:46.207335Z"
    }
   },
   "cell_type": "code",
   "source": [
    "s1.intersection_update(s2)\n",
    "print(s1)\n",
    "print(s2)"
   ],
   "id": "a4c83abfc4fee20f",
   "outputs": [
    {
     "name": "stdout",
     "output_type": "stream",
     "text": [
      "{4, 5}\n",
      "{4, 5, 6, 7, 8}\n"
     ]
    }
   ],
   "execution_count": 14
  },
  {
   "metadata": {
    "ExecuteTime": {
     "end_time": "2024-12-18T05:47:37.498044Z",
     "start_time": "2024-12-18T05:47:37.489810Z"
    }
   },
   "cell_type": "code",
   "source": [
    "# Difference / difference_update\n",
    "s1 = {1, 2, 3, 4, 5}\n",
    "s2 = {4, 5, 6, 7, 8}\n",
    "\n",
    "# s1 - s1\n",
    "s1.difference(s2)"
   ],
   "id": "344e3c6808552118",
   "outputs": [
    {
     "data": {
      "text/plain": [
       "{6, 7, 8}"
      ]
     },
     "execution_count": 18,
     "metadata": {},
     "output_type": "execute_result"
    }
   ],
   "execution_count": 18
  },
  {
   "metadata": {
    "ExecuteTime": {
     "end_time": "2024-12-18T05:46:00.495388Z",
     "start_time": "2024-12-18T05:46:00.487136Z"
    }
   },
   "cell_type": "code",
   "source": [
    "s1.difference_update(s2)\n",
    "print(s1)\n",
    "print(s2)"
   ],
   "id": "11e46d39f8e28e82",
   "outputs": [
    {
     "name": "stdout",
     "output_type": "stream",
     "text": [
      "{1, 2, 3}\n",
      "{4, 5, 6, 7, 8}\n"
     ]
    }
   ],
   "execution_count": 16
  },
  {
   "metadata": {
    "ExecuteTime": {
     "end_time": "2024-12-18T05:49:30.457639Z",
     "start_time": "2024-12-18T05:49:30.445129Z"
    }
   },
   "cell_type": "code",
   "source": [
    "# Symmetric difference / symmetric_difference_update\n",
    "s1 = {1, 2, 3, 4, 5}\n",
    "s2 = {4, 5, 6, 7, 8}\n",
    "\n",
    "s1.symmetric_difference(s2)"
   ],
   "id": "4cef72757fab05e3",
   "outputs": [
    {
     "data": {
      "text/plain": [
       "{1, 2, 3, 6, 7, 8}"
      ]
     },
     "execution_count": 20,
     "metadata": {},
     "output_type": "execute_result"
    }
   ],
   "execution_count": 20
  },
  {
   "metadata": {
    "ExecuteTime": {
     "end_time": "2024-12-18T05:50:20.988183Z",
     "start_time": "2024-12-18T05:50:20.981020Z"
    }
   },
   "cell_type": "code",
   "source": [
    "s1.symmetric_difference_update(s2)\n",
    "print(s1)\n",
    "print(s2)"
   ],
   "id": "974431f5a3ffa8b0",
   "outputs": [
    {
     "name": "stdout",
     "output_type": "stream",
     "text": [
      "{1, 2, 3, 6, 7, 8}\n",
      "{4, 5, 6, 7, 8}\n"
     ]
    }
   ],
   "execution_count": 21
  },
  {
   "metadata": {
    "ExecuteTime": {
     "end_time": "2024-12-18T05:53:48.879999Z",
     "start_time": "2024-12-18T05:53:48.872233Z"
    }
   },
   "cell_type": "code",
   "source": [
    "# isdisjoint / issubset / issuperset\n",
    "s1 = {1, 2, 3, 4}\n",
    "s2 = {7, 8, 5, 6}\n",
    "\n",
    "s1.isdisjoint(s2)  # Checking the common value"
   ],
   "id": "70fa96f012230bfe",
   "outputs": [
    {
     "data": {
      "text/plain": [
       "True"
      ]
     },
     "execution_count": 26,
     "metadata": {},
     "output_type": "execute_result"
    }
   ],
   "execution_count": 26
  },
  {
   "metadata": {
    "ExecuteTime": {
     "end_time": "2024-12-18T05:56:53.643858Z",
     "start_time": "2024-12-18T05:56:53.636431Z"
    }
   },
   "cell_type": "code",
   "source": [
    "s1 = {1, 2, 3, 4, 5}\n",
    "s2 = {3, 4, 5}\n",
    "\n",
    "s2.issubset(s1)"
   ],
   "id": "4bb2ddc34b7f8c7e",
   "outputs": [
    {
     "data": {
      "text/plain": [
       "True"
      ]
     },
     "execution_count": 31,
     "metadata": {},
     "output_type": "execute_result"
    }
   ],
   "execution_count": 31
  },
  {
   "metadata": {
    "ExecuteTime": {
     "end_time": "2024-12-18T05:59:18.895276Z",
     "start_time": "2024-12-18T05:59:18.871807Z"
    }
   },
   "cell_type": "code",
   "source": [
    "s1 = {1, 2, 3, 4, 5}\n",
    "s2 = {3, 4, 5}\n",
    "\n",
    "s1.issuperset(s2)"
   ],
   "id": "4e508089d6716874",
   "outputs": [
    {
     "data": {
      "text/plain": [
       "True"
      ]
     },
     "execution_count": 33,
     "metadata": {},
     "output_type": "execute_result"
    }
   ],
   "execution_count": 33
  },
  {
   "metadata": {
    "ExecuteTime": {
     "end_time": "2024-12-18T06:02:05.250965Z",
     "start_time": "2024-12-18T06:02:05.245872Z"
    }
   },
   "cell_type": "code",
   "source": [
    "# copy\n",
    "s1 = {1, 2, 3}\n",
    "s2 = s1.copy()\n",
    "\n",
    "print(s1)\n",
    "s1.add(4)\n",
    "\n",
    "print(s1)\n",
    "print(s2)"
   ],
   "id": "fba9381da24d1b5c",
   "outputs": [
    {
     "name": "stdout",
     "output_type": "stream",
     "text": [
      "{1, 2, 3}\n",
      "{1, 2, 3, 4}\n",
      "{1, 2, 3}\n"
     ]
    }
   ],
   "execution_count": 39
  }
 ],
 "metadata": {
  "kernelspec": {
   "display_name": "Python 3",
   "language": "python",
   "name": "python3"
  },
  "language_info": {
   "codemirror_mode": {
    "name": "ipython",
    "version": 2
   },
   "file_extension": ".py",
   "mimetype": "text/x-python",
   "name": "python",
   "nbconvert_exporter": "python",
   "pygments_lexer": "ipython2",
   "version": "2.7.6"
  }
 },
 "nbformat": 4,
 "nbformat_minor": 5
}
