{
 "cells": [
  {
   "metadata": {},
   "cell_type": "markdown",
   "source": [
    "# Overview of Frozensets\n",
    "A frozenset is an immutable version of a set in Python. This means that once a frozenset is created, its elements cannot be modified—no additions, removals, or changes are allowed. Frozensets are unordered collections of unique elements, similar to sets, but they offer additional functionality due to their immutability.\n",
    "\n",
    "## Key Characteristics\n",
    "- Immutable: Once created, the contents cannot be altered.\n",
    "- Unordered: The elements do not maintain any specific order.\n",
    "- Unique Elements: Like sets, frozensets automatically discard duplicate entries.\n",
    "- Hashable: Frozensets can be used as keys in dictionaries or as elements in other sets, which is not possible with mutable types like regular sets."
   ],
   "id": "8402febf7252dc9e"
  },
  {
   "metadata": {
    "ExecuteTime": {
     "end_time": "2024-12-18T06:41:43.830516Z",
     "start_time": "2024-12-18T06:41:43.819892Z"
    }
   },
   "cell_type": "code",
   "source": [
    "fs1 = frozenset([1, 2, 3, 4, 5])\n",
    "\n",
    "print(fs1)"
   ],
   "id": "f7f68a7ee1d7464c",
   "outputs": [
    {
     "name": "stdout",
     "output_type": "stream",
     "text": [
      "frozenset({1, 2, 3, 4, 5})\n"
     ]
    }
   ],
   "execution_count": 2
  },
  {
   "metadata": {
    "ExecuteTime": {
     "end_time": "2024-12-18T06:42:17.923984Z",
     "start_time": "2024-12-18T06:42:17.910627Z"
    }
   },
   "cell_type": "code",
   "source": "type(fs1)",
   "id": "62881be41ce5428c",
   "outputs": [
    {
     "data": {
      "text/plain": [
       "frozenset"
      ]
     },
     "execution_count": 3,
     "metadata": {},
     "output_type": "execute_result"
    }
   ],
   "execution_count": 3
  },
  {
   "metadata": {
    "ExecuteTime": {
     "end_time": "2024-12-18T06:53:46.745393Z",
     "start_time": "2024-12-18T06:53:46.735875Z"
    }
   },
   "cell_type": "code",
   "source": [
    "fs1 = frozenset({1, 2, 3, 4})\n",
    "fs2 = frozenset((3, 4, 5, 6))\n",
    "\n",
    "fs1.union(fs2)"
   ],
   "id": "5b9f8925576fd8cd",
   "outputs": [
    {
     "data": {
      "text/plain": [
       "frozenset({1, 2, 3, 4, 5, 6})"
      ]
     },
     "execution_count": 16,
     "metadata": {},
     "output_type": "execute_result"
    }
   ],
   "execution_count": 16
  },
  {
   "metadata": {
    "ExecuteTime": {
     "end_time": "2024-12-18T06:46:57.030858Z",
     "start_time": "2024-12-18T06:46:57.008670Z"
    }
   },
   "cell_type": "code",
   "source": "fs1 & fs2",
   "id": "40e7d1d8cb6e685b",
   "outputs": [
    {
     "data": {
      "text/plain": [
       "frozenset({3, 4})"
      ]
     },
     "execution_count": 10,
     "metadata": {},
     "output_type": "execute_result"
    }
   ],
   "execution_count": 10
  },
  {
   "metadata": {
    "ExecuteTime": {
     "end_time": "2024-12-18T06:50:49.007077Z",
     "start_time": "2024-12-18T06:50:48.977758Z"
    }
   },
   "cell_type": "code",
   "source": [
    "fs = frozenset((1, 2, 3, 4))\n",
    "\n",
    "fs.add(5)"
   ],
   "id": "89a63bcff640233f",
   "outputs": [
    {
     "ename": "AttributeError",
     "evalue": "'frozenset' object has no attribute 'add'",
     "output_type": "error",
     "traceback": [
      "\u001B[1;31m---------------------------------------------------------------------------\u001B[0m",
      "\u001B[1;31mAttributeError\u001B[0m                            Traceback (most recent call last)",
      "Cell \u001B[1;32mIn[15], line 3\u001B[0m\n\u001B[0;32m      1\u001B[0m fs \u001B[38;5;241m=\u001B[39m \u001B[38;5;28mfrozenset\u001B[39m((\u001B[38;5;241m1\u001B[39m, \u001B[38;5;241m2\u001B[39m, \u001B[38;5;241m3\u001B[39m, \u001B[38;5;241m4\u001B[39m))\n\u001B[1;32m----> 3\u001B[0m fs\u001B[38;5;241m.\u001B[39madd(\u001B[38;5;241m5\u001B[39m)\n",
      "\u001B[1;31mAttributeError\u001B[0m: 'frozenset' object has no attribute 'add'"
     ]
    }
   ],
   "execution_count": 15
  },
  {
   "metadata": {
    "ExecuteTime": {
     "end_time": "2024-12-18T06:48:37.858335Z",
     "start_time": "2024-12-18T06:48:37.850134Z"
    }
   },
   "cell_type": "code",
   "source": [
    "# 2D\n",
    "fs = frozenset([1, 2, frozenset([3, 4])])\n",
    "\n",
    "fs"
   ],
   "id": "96395d62aa17a897",
   "outputs": [
    {
     "data": {
      "text/plain": [
       "frozenset({1, 2, frozenset({3, 4})})"
      ]
     },
     "execution_count": 12,
     "metadata": {},
     "output_type": "execute_result"
    }
   ],
   "execution_count": 12
  }
 ],
 "metadata": {
  "kernelspec": {
   "display_name": "Python 3",
   "language": "python",
   "name": "python3"
  },
  "language_info": {
   "codemirror_mode": {
    "name": "ipython",
    "version": 2
   },
   "file_extension": ".py",
   "mimetype": "text/x-python",
   "name": "python",
   "nbconvert_exporter": "python",
   "pygments_lexer": "ipython2",
   "version": "2.7.6"
  }
 },
 "nbformat": 4,
 "nbformat_minor": 5
}
