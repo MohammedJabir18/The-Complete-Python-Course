{
 "cells": [
  {
   "metadata": {},
   "cell_type": "markdown",
   "source": [
    "## Common Functions/Methods\n",
    "\n",
    "- len\n",
    "- max\n",
    "- min\n",
    "- sorted"
   ],
   "id": "b348108bb610da05"
  },
  {
   "metadata": {
    "ExecuteTime": {
     "end_time": "2024-12-13T12:16:48.683891Z",
     "start_time": "2024-12-13T12:16:48.680104Z"
    }
   },
   "cell_type": "code",
   "source": "s = \"Welcome to Python\"",
   "id": "ca6a73f12c95355f",
   "outputs": [],
   "execution_count": 30
  },
  {
   "metadata": {
    "ExecuteTime": {
     "end_time": "2024-12-13T12:16:48.699615Z",
     "start_time": "2024-12-13T12:16:48.685897Z"
    }
   },
   "cell_type": "code",
   "source": "len(s)  # Finding the length of the String",
   "id": "d6941033782e7683",
   "outputs": [
    {
     "data": {
      "text/plain": [
       "17"
      ]
     },
     "execution_count": 31,
     "metadata": {},
     "output_type": "execute_result"
    }
   ],
   "execution_count": 31
  },
  {
   "metadata": {
    "ExecuteTime": {
     "end_time": "2024-12-13T12:16:48.721773Z",
     "start_time": "2024-12-13T12:16:48.710623Z"
    }
   },
   "cell_type": "code",
   "source": [
    "print(max(s))  # In 's' variable 'y' is the greatest ascii value\n",
    "\n",
    "ord(\"y\")  # This function is used for finding the ascii value"
   ],
   "id": "618fb44ca0ab3723",
   "outputs": [
    {
     "name": "stdout",
     "output_type": "stream",
     "text": [
      "y\n"
     ]
    },
    {
     "data": {
      "text/plain": [
       "121"
      ]
     },
     "execution_count": 32,
     "metadata": {},
     "output_type": "execute_result"
    }
   ],
   "execution_count": 32
  },
  {
   "metadata": {
    "ExecuteTime": {
     "end_time": "2024-12-13T12:16:48.744085Z",
     "start_time": "2024-12-13T12:16:48.730783Z"
    }
   },
   "cell_type": "code",
   "source": [
    "print(min(s))  # 'Space' is the outcome.\n",
    "\n",
    "ord(\" \")"
   ],
   "id": "a78bdb2473b4d19",
   "outputs": [
    {
     "name": "stdout",
     "output_type": "stream",
     "text": [
      " \n"
     ]
    },
    {
     "data": {
      "text/plain": [
       "32"
      ]
     },
     "execution_count": 33,
     "metadata": {},
     "output_type": "execute_result"
    }
   ],
   "execution_count": 33
  },
  {
   "metadata": {
    "ExecuteTime": {
     "end_time": "2024-12-13T12:16:48.764369Z",
     "start_time": "2024-12-13T12:16:48.748095Z"
    }
   },
   "cell_type": "code",
   "source": "print(sorted(s))  # Default sorted in ascending order",
   "id": "84432a4c67239d0",
   "outputs": [
    {
     "name": "stdout",
     "output_type": "stream",
     "text": [
      "[' ', ' ', 'P', 'W', 'c', 'e', 'e', 'h', 'l', 'm', 'n', 'o', 'o', 'o', 't', 't', 'y']\n"
     ]
    }
   ],
   "execution_count": 34
  },
  {
   "metadata": {
    "ExecuteTime": {
     "end_time": "2024-12-13T12:18:48.137094Z",
     "start_time": "2024-12-13T12:18:48.130820Z"
    }
   },
   "cell_type": "code",
   "source": [
    "s = \"Hello world\"\n",
    "\n",
    "sorted(s, reverse=True)  # Sorted in descending order "
   ],
   "id": "7ae2fa00c3f555dc",
   "outputs": [
    {
     "data": {
      "text/plain": [
       "['w', 'r', 'o', 'o', 'l', 'l', 'l', 'e', 'd', 'H', ' ']"
      ]
     },
     "execution_count": 37,
     "metadata": {},
     "output_type": "execute_result"
    }
   ],
   "execution_count": 37
  },
  {
   "metadata": {},
   "cell_type": "markdown",
   "source": [
    "## String Functions/Methods\n",
    "\n",
    "- Capitalize\n",
    "- Title\n",
    "- Upper\n",
    "- Lower\n",
    "- Swapcase"
   ],
   "id": "251cd7955e338a58"
  },
  {
   "metadata": {
    "ExecuteTime": {
     "end_time": "2024-12-13T12:22:44.430357Z",
     "start_time": "2024-12-13T12:22:44.413982Z"
    }
   },
   "cell_type": "code",
   "source": "s = \"Welcome to python\"",
   "id": "f302c9d867e05b0a",
   "outputs": [],
   "execution_count": 38
  },
  {
   "metadata": {
    "ExecuteTime": {
     "end_time": "2024-12-13T12:23:07.957016Z",
     "start_time": "2024-12-13T12:23:07.951357Z"
    }
   },
   "cell_type": "code",
   "source": "s.capitalize()  # first letter converts uppercase",
   "id": "de310227b30a3c03",
   "outputs": [
    {
     "data": {
      "text/plain": [
       "'Welcome to python'"
      ]
     },
     "execution_count": 39,
     "metadata": {},
     "output_type": "execute_result"
    }
   ],
   "execution_count": 39
  },
  {
   "metadata": {
    "ExecuteTime": {
     "end_time": "2024-12-13T12:23:36.402294Z",
     "start_time": "2024-12-13T12:23:36.397291Z"
    }
   },
   "cell_type": "code",
   "source": "s.title()  # Capitalize each word in the string",
   "id": "cdef586570132ea6",
   "outputs": [
    {
     "data": {
      "text/plain": [
       "'Welcome To Python'"
      ]
     },
     "execution_count": 40,
     "metadata": {},
     "output_type": "execute_result"
    }
   ],
   "execution_count": 40
  },
  {
   "metadata": {
    "ExecuteTime": {
     "end_time": "2024-12-13T12:35:52.383558Z",
     "start_time": "2024-12-13T12:35:52.379354Z"
    }
   },
   "cell_type": "code",
   "source": "print(s)  # The original string is not changing. ",
   "id": "4a658595e8f0f33f",
   "outputs": [
    {
     "name": "stdout",
     "output_type": "stream",
     "text": [
      "Welcome to python\n"
     ]
    }
   ],
   "execution_count": 42
  },
  {
   "metadata": {
    "ExecuteTime": {
     "end_time": "2024-12-13T12:36:50.443481Z",
     "start_time": "2024-12-13T12:36:50.436515Z"
    }
   },
   "cell_type": "code",
   "source": "s.upper()  # Uppercase all characters in the string",
   "id": "e3801eeb54b11635",
   "outputs": [
    {
     "data": {
      "text/plain": [
       "'WELCOME TO PYTHON'"
      ]
     },
     "execution_count": 44,
     "metadata": {},
     "output_type": "execute_result"
    }
   ],
   "execution_count": 44
  },
  {
   "metadata": {
    "ExecuteTime": {
     "end_time": "2024-12-13T12:36:59.405953Z",
     "start_time": "2024-12-13T12:36:59.379895Z"
    }
   },
   "cell_type": "code",
   "source": "s.lower()  # Lowercase all characters in the string ",
   "id": "cd4396da4ce51504",
   "outputs": [
    {
     "data": {
      "text/plain": [
       "'welcome to python'"
      ]
     },
     "execution_count": 45,
     "metadata": {},
     "output_type": "execute_result"
    }
   ],
   "execution_count": 45
  },
  {
   "metadata": {
    "ExecuteTime": {
     "end_time": "2024-12-13T12:37:12.255875Z",
     "start_time": "2024-12-13T12:37:12.250142Z"
    }
   },
   "cell_type": "code",
   "source": "s.swapcase()  # Swap the all characters in the string ",
   "id": "6ae14b4a90bb75a1",
   "outputs": [
    {
     "data": {
      "text/plain": [
       "'wELCOME TO PYTHON'"
      ]
     },
     "execution_count": 46,
     "metadata": {},
     "output_type": "execute_result"
    }
   ],
   "execution_count": 46
  },
  {
   "metadata": {},
   "cell_type": "markdown",
   "source": [
    "- Count\n",
    "- Find\n",
    "- Index"
   ],
   "id": "e595b89ad13d365f"
  },
  {
   "metadata": {
    "ExecuteTime": {
     "end_time": "2024-12-13T12:44:02.985926Z",
     "start_time": "2024-12-13T12:44:02.978863Z"
    }
   },
   "cell_type": "code",
   "source": "s = \"My name is Jabir\"",
   "id": "5142cc4c868fc7e5",
   "outputs": [],
   "execution_count": 47
  },
  {
   "metadata": {
    "ExecuteTime": {
     "end_time": "2024-12-13T12:51:35.658787Z",
     "start_time": "2024-12-13T12:51:35.654035Z"
    }
   },
   "cell_type": "code",
   "source": "s.count(\"a\")  # Count the specific character how much time appears in the string",
   "id": "31174f57543b8cbb",
   "outputs": [
    {
     "data": {
      "text/plain": [
       "2"
      ]
     },
     "execution_count": 50,
     "metadata": {},
     "output_type": "execute_result"
    }
   ],
   "execution_count": 50
  },
  {
   "metadata": {
    "ExecuteTime": {
     "end_time": "2024-12-13T14:59:33.368597Z",
     "start_time": "2024-12-13T14:59:33.332223Z"
    }
   },
   "cell_type": "code",
   "source": [
    "print(s.find(\"i\"))  # To get the index of the first occurrence of a substring.\n",
    "\n",
    "s.rfind(\"i\")  # To get the index of the last occurrence of a substring."
   ],
   "id": "ebb5c54e536d61ef",
   "outputs": [
    {
     "name": "stdout",
     "output_type": "stream",
     "text": [
      "8\n"
     ]
    },
    {
     "data": {
      "text/plain": [
       "14"
      ]
     },
     "execution_count": 55,
     "metadata": {},
     "output_type": "execute_result"
    }
   ],
   "execution_count": 55
  },
  {
   "metadata": {
    "ExecuteTime": {
     "end_time": "2024-12-13T15:01:27.622512Z",
     "start_time": "2024-12-13T15:01:27.617143Z"
    }
   },
   "cell_type": "code",
   "source": "s.find(\"z\")  # Find not showing error if the given element is not found in the string it will be showing -1",
   "id": "f02e68b8a213ed5f",
   "outputs": [
    {
     "data": {
      "text/plain": [
       "-1"
      ]
     },
     "execution_count": 59,
     "metadata": {},
     "output_type": "execute_result"
    }
   ],
   "execution_count": 59
  },
  {
   "metadata": {
    "ExecuteTime": {
     "end_time": "2024-12-13T15:03:11.252858Z",
     "start_time": "2024-12-13T15:03:11.246529Z"
    }
   },
   "cell_type": "code",
   "source": "s.index(\"i\")",
   "id": "c2a097ea7c8b02ad",
   "outputs": [
    {
     "data": {
      "text/plain": [
       "8"
      ]
     },
     "execution_count": 62,
     "metadata": {},
     "output_type": "execute_result"
    }
   ],
   "execution_count": 62
  },
  {
   "metadata": {
    "ExecuteTime": {
     "end_time": "2024-12-13T15:03:55.271403Z",
     "start_time": "2024-12-13T15:03:55.245878Z"
    }
   },
   "cell_type": "code",
   "source": "s.index(\"z\")  # if the given element is not found in the string, it will be showing the error",
   "id": "eb7fdd1bedfd31f1",
   "outputs": [
    {
     "ename": "ValueError",
     "evalue": "substring not found",
     "output_type": "error",
     "traceback": [
      "\u001B[1;31m---------------------------------------------------------------------------\u001B[0m",
      "\u001B[1;31mValueError\u001B[0m                                Traceback (most recent call last)",
      "Cell \u001B[1;32mIn[63], line 1\u001B[0m\n\u001B[1;32m----> 1\u001B[0m s\u001B[38;5;241m.\u001B[39mindex(\u001B[38;5;124m\"\u001B[39m\u001B[38;5;124mz\u001B[39m\u001B[38;5;124m\"\u001B[39m)\n",
      "\u001B[1;31mValueError\u001B[0m: substring not found"
     ]
    }
   ],
   "execution_count": 63
  },
  {
   "metadata": {},
   "cell_type": "markdown",
   "source": [
    "- endswith\n",
    "- startswith"
   ],
   "id": "f81e4be18b1811fd"
  },
  {
   "metadata": {
    "ExecuteTime": {
     "end_time": "2024-12-13T15:06:32.207178Z",
     "start_time": "2024-12-13T15:06:32.202500Z"
    }
   },
   "cell_type": "code",
   "source": "s = \"My name is Jabir\"",
   "id": "ebcfe040e92930f6",
   "outputs": [],
   "execution_count": 64
  },
  {
   "metadata": {
    "ExecuteTime": {
     "end_time": "2024-12-13T15:07:39.471958Z",
     "start_time": "2024-12-13T15:07:39.465676Z"
    }
   },
   "cell_type": "code",
   "source": [
    "print(s.endswith(\"r\"))\n",
    "\n",
    "print(s.endswith(\"j\"))"
   ],
   "id": "8c7819dfea384e21",
   "outputs": [
    {
     "name": "stdout",
     "output_type": "stream",
     "text": [
      "True\n",
      "False\n"
     ]
    }
   ],
   "execution_count": 66
  },
  {
   "metadata": {
    "ExecuteTime": {
     "end_time": "2024-12-13T15:08:50.777216Z",
     "start_time": "2024-12-13T15:08:50.772902Z"
    }
   },
   "cell_type": "code",
   "source": [
    "print(s.startswith(\"m\"))\n",
    "\n",
    "print(s.startswith(\"My\"))"
   ],
   "id": "e260bfba87ecd9d8",
   "outputs": [
    {
     "name": "stdout",
     "output_type": "stream",
     "text": [
      "False\n",
      "True\n"
     ]
    }
   ],
   "execution_count": 68
  },
  {
   "metadata": {},
   "cell_type": "markdown",
   "source": "**format**",
   "id": "a0cf7a93f69229a"
  },
  {
   "metadata": {
    "ExecuteTime": {
     "end_time": "2024-12-13T15:30:41.451128Z",
     "start_time": "2024-12-13T15:30:41.435316Z"
    }
   },
   "cell_type": "code",
   "source": [
    "name = \"Jabir\"\n",
    "gender = \"Male\"\n",
    "\n",
    "x = \"My name is {}, and I am a {}\""
   ],
   "id": "7298915784e146ae",
   "outputs": [
    {
     "data": {
      "text/plain": [
       "'My name is Jabir, and I am a Male'"
      ]
     },
     "execution_count": 78,
     "metadata": {},
     "output_type": "execute_result"
    }
   ],
   "execution_count": 78
  },
  {
   "metadata": {
    "ExecuteTime": {
     "end_time": "2024-12-13T15:29:41.572456Z",
     "start_time": "2024-12-13T15:29:41.566480Z"
    }
   },
   "cell_type": "code",
   "source": "x.format(name, gender)",
   "id": "6de3ed65878d5a78",
   "outputs": [
    {
     "data": {
      "text/plain": [
       "'My name is Jabir, and I am a Male'"
      ]
     },
     "execution_count": 76,
     "metadata": {},
     "output_type": "execute_result"
    }
   ],
   "execution_count": 76
  },
  {
   "metadata": {
    "ExecuteTime": {
     "end_time": "2024-12-13T15:31:40.466112Z",
     "start_time": "2024-12-13T15:31:40.449405Z"
    }
   },
   "cell_type": "code",
   "source": [
    "x = \"Welcome {} to facebook\".format(name)\n",
    "\n",
    "x"
   ],
   "id": "9ae5486e11a8fe8b",
   "outputs": [
    {
     "data": {
      "text/plain": [
       "'Welcome Jabir to facebook'"
      ]
     },
     "execution_count": 80,
     "metadata": {},
     "output_type": "execute_result"
    }
   ],
   "execution_count": 80
  },
  {
   "metadata": {
    "ExecuteTime": {
     "end_time": "2024-12-13T15:33:37.550932Z",
     "start_time": "2024-12-13T15:33:37.544558Z"
    }
   },
   "cell_type": "code",
   "source": [
    "x = \"My name is {1}, and I am a {0}\"  # We can format using the index order\n",
    "\n",
    "x.format(gender, name)"
   ],
   "id": "bbcd2e4d275c2113",
   "outputs": [
    {
     "data": {
      "text/plain": [
       "'My name is Jabir, and I am a Male'"
      ]
     },
     "execution_count": 81,
     "metadata": {},
     "output_type": "execute_result"
    }
   ],
   "execution_count": 81
  },
  {
   "metadata": {},
   "cell_type": "markdown",
   "source": [
    "- isalnum\n",
    "- isalpha\n",
    "- isdigit\n",
    "- isidentifier\n",
    "- isascii"
   ],
   "id": "ed56533a9ed21a3c"
  },
  {
   "metadata": {
    "ExecuteTime": {
     "end_time": "2024-12-13T15:46:17.900667Z",
     "start_time": "2024-12-13T15:46:17.894156Z"
    }
   },
   "cell_type": "code",
   "source": [
    "a = \"&#@\"\n",
    "b = \"Jabir\"\n",
    "c = \"237238\"\n",
    "d = \"Jabir123\"\n",
    "e = \"Jabir 123\"\n",
    "f = \"Jabir@123\"\n",
    "g = \"Jabir@#%$\"\n",
    "h = \"1234@*+24\""
   ],
   "id": "2d4d07cb71e3a840",
   "outputs": [],
   "execution_count": 105
  },
  {
   "metadata": {
    "ExecuteTime": {
     "end_time": "2024-12-13T15:44:31.986488Z",
     "start_time": "2024-12-13T15:44:31.981860Z"
    }
   },
   "cell_type": "code",
   "source": [
    "print(f.isalnum())\n",
    "print(d.isalnum())\n",
    "print(e.isalnum())"
   ],
   "id": "7c3f1a104751d087",
   "outputs": [
    {
     "name": "stdout",
     "output_type": "stream",
     "text": [
      "False\n",
      "True\n",
      "False\n"
     ]
    }
   ],
   "execution_count": 101
  },
  {
   "metadata": {
    "ExecuteTime": {
     "end_time": "2024-12-13T15:44:55.656466Z",
     "start_time": "2024-12-13T15:44:55.652319Z"
    }
   },
   "cell_type": "code",
   "source": [
    "print(d.isalpha())\n",
    "print(b.isalpha())"
   ],
   "id": "249985a4a0cf796",
   "outputs": [
    {
     "name": "stdout",
     "output_type": "stream",
     "text": [
      "False\n",
      "True\n"
     ]
    }
   ],
   "execution_count": 103
  },
  {
   "metadata": {
    "ExecuteTime": {
     "end_time": "2024-12-13T15:47:41.153103Z",
     "start_time": "2024-12-13T15:47:41.147852Z"
    }
   },
   "cell_type": "code",
   "source": [
    "print(c.isdigit())\n",
    "print(h.isdigit())\n",
    "print(d.isdigit())"
   ],
   "id": "763aba530a212334",
   "outputs": [
    {
     "name": "stdout",
     "output_type": "stream",
     "text": [
      "True\n",
      "False\n",
      "False\n"
     ]
    }
   ],
   "execution_count": 108
  },
  {
   "metadata": {
    "ExecuteTime": {
     "end_time": "2024-12-13T15:51:45.567076Z",
     "start_time": "2024-12-13T15:51:45.562043Z"
    }
   },
   "cell_type": "code",
   "source": [
    "print(a.isidentifier())\n",
    "print(d.isidentifier())\n",
    "print(f.isidentifier())"
   ],
   "id": "7e6526d4c8873304",
   "outputs": [
    {
     "name": "stdout",
     "output_type": "stream",
     "text": [
      "False\n",
      "True\n",
      "False\n"
     ]
    }
   ],
   "execution_count": 120
  },
  {
   "metadata": {
    "ExecuteTime": {
     "end_time": "2024-12-13T15:56:53.298575Z",
     "start_time": "2024-12-13T15:56:53.292552Z"
    }
   },
   "cell_type": "code",
   "source": [
    "print(a.isascii())\n",
    "print(e.isascii())\n",
    "\n",
    "s = \"🔥🔥🔥\"\n",
    "print(s.isascii())"
   ],
   "id": "ea8e7f94593d28d0",
   "outputs": [
    {
     "name": "stdout",
     "output_type": "stream",
     "text": [
      "True\n",
      "True\n",
      "False\n"
     ]
    }
   ],
   "execution_count": 132
  },
  {
   "metadata": {},
   "cell_type": "markdown",
   "source": [
    "- Split\n",
    "- Join"
   ],
   "id": "4c7f4ac45c193a22"
  },
  {
   "metadata": {
    "ExecuteTime": {
     "end_time": "2024-12-13T16:03:10.775943Z",
     "start_time": "2024-12-13T16:03:10.755600Z"
    }
   },
   "cell_type": "code",
   "source": [
    "s = \"My name is Jabir\"\n",
    "\n",
    "print(s.split())\n",
    "\n",
    "type(s.split())"
   ],
   "id": "313cd5cefec2b599",
   "outputs": [
    {
     "name": "stdout",
     "output_type": "stream",
     "text": [
      "['My', 'name', 'is', 'Jabir']\n"
     ]
    },
    {
     "data": {
      "text/plain": [
       "list"
      ]
     },
     "execution_count": 134,
     "metadata": {},
     "output_type": "execute_result"
    }
   ],
   "execution_count": 134
  },
  {
   "metadata": {
    "ExecuteTime": {
     "end_time": "2024-12-13T16:05:47.031768Z",
     "start_time": "2024-12-13T16:05:47.021745Z"
    }
   },
   "cell_type": "code",
   "source": [
    "s = \"My, Name, is, Jabir\".split(', ')\n",
    "\n",
    "s"
   ],
   "id": "b020fbd90c680da2",
   "outputs": [
    {
     "data": {
      "text/plain": [
       "['My', 'Name', 'is', 'Jabir']"
      ]
     },
     "execution_count": 140,
     "metadata": {},
     "output_type": "execute_result"
    }
   ],
   "execution_count": 140
  },
  {
   "metadata": {
    "ExecuteTime": {
     "end_time": "2024-12-13T16:11:17.675686Z",
     "start_time": "2024-12-13T16:11:17.670361Z"
    }
   },
   "cell_type": "code",
   "source": [
    "s = \"My@Name@is@Jabir\".split(\"@\")\n",
    "\n",
    "s"
   ],
   "id": "fbd567de5ef40a70",
   "outputs": [
    {
     "data": {
      "text/plain": [
       "['My', 'Name', 'is', 'Jabir']"
      ]
     },
     "execution_count": 157,
     "metadata": {},
     "output_type": "execute_result"
    }
   ],
   "execution_count": 157
  },
  {
   "metadata": {
    "ExecuteTime": {
     "end_time": "2024-12-13T16:11:19.491385Z",
     "start_time": "2024-12-13T16:11:19.485902Z"
    }
   },
   "cell_type": "code",
   "source": [
    "x = \" \"\n",
    "x = x.join(s)\n",
    "\n",
    "x"
   ],
   "id": "25fc2990d039fe99",
   "outputs": [
    {
     "data": {
      "text/plain": [
       "'My Name is Jabir'"
      ]
     },
     "execution_count": 158,
     "metadata": {},
     "output_type": "execute_result"
    }
   ],
   "execution_count": 158
  },
  {
   "metadata": {
    "ExecuteTime": {
     "end_time": "2024-12-13T16:11:21.662748Z",
     "start_time": "2024-12-13T16:11:21.655566Z"
    }
   },
   "cell_type": "code",
   "source": [
    "s = \"-\".join(s)\n",
    "\n",
    "s"
   ],
   "id": "a51e9beae50333dd",
   "outputs": [
    {
     "data": {
      "text/plain": [
       "'My-Name-is-Jabir'"
      ]
     },
     "execution_count": 159,
     "metadata": {},
     "output_type": "execute_result"
    }
   ],
   "execution_count": 159
  },
  {
   "metadata": {},
   "cell_type": "markdown",
   "source": [
    "* Replace \n",
    "* Stripe"
   ],
   "id": "2a5dae87df454b7"
  },
  {
   "metadata": {
    "ExecuteTime": {
     "end_time": "2024-12-13T16:15:26.415754Z",
     "start_time": "2024-12-13T16:15:26.411549Z"
    }
   },
   "cell_type": "code",
   "source": "s = \"My name is Jabir\"",
   "id": "3d86fec3106227d7",
   "outputs": [],
   "execution_count": 175
  },
  {
   "metadata": {
    "ExecuteTime": {
     "end_time": "2024-12-13T16:15:37.139740Z",
     "start_time": "2024-12-13T16:15:37.134266Z"
    }
   },
   "cell_type": "code",
   "source": [
    "s = s.replace(\"Jabir\", \"Alex\")\n",
    "\n",
    "s"
   ],
   "id": "4fb460e14ba6196f",
   "outputs": [
    {
     "data": {
      "text/plain": [
       "'My name is Alex'"
      ]
     },
     "execution_count": 177,
     "metadata": {},
     "output_type": "execute_result"
    }
   ],
   "execution_count": 177
  },
  {
   "metadata": {
    "ExecuteTime": {
     "end_time": "2024-12-13T16:16:29.467404Z",
     "start_time": "2024-12-13T16:16:29.460678Z"
    }
   },
   "cell_type": "code",
   "source": [
    "s = s.replace(\" \", \"-\")\n",
    "\n",
    "s"
   ],
   "id": "e5208cd9b5cebacf",
   "outputs": [
    {
     "data": {
      "text/plain": [
       "'My-name-is-Alex'"
      ]
     },
     "execution_count": 178,
     "metadata": {},
     "output_type": "execute_result"
    }
   ],
   "execution_count": 178
  },
  {
   "metadata": {
    "ExecuteTime": {
     "end_time": "2024-12-13T16:18:38.326155Z",
     "start_time": "2024-12-13T16:18:38.322088Z"
    }
   },
   "cell_type": "code",
   "source": "s = \"            My name is Jabir       \"",
   "id": "c8336a8b6026647",
   "outputs": [],
   "execution_count": 188
  },
  {
   "metadata": {
    "ExecuteTime": {
     "end_time": "2024-12-13T16:18:41.248825Z",
     "start_time": "2024-12-13T16:18:41.241628Z"
    }
   },
   "cell_type": "code",
   "source": "s.strip()",
   "id": "19801224e69bb144",
   "outputs": [
    {
     "data": {
      "text/plain": [
       "'My name is Jabir'"
      ]
     },
     "execution_count": 189,
     "metadata": {},
     "output_type": "execute_result"
    }
   ],
   "execution_count": 189
  },
  {
   "metadata": {
    "ExecuteTime": {
     "end_time": "2024-12-13T16:24:43.006560Z",
     "start_time": "2024-12-13T16:24:43.001310Z"
    }
   },
   "cell_type": "code",
   "source": [
    "# The zfill() method adds zeros (0) at the beginning of the string, until it reaches the specified length.\n",
    "x = \"50\"\n",
    "\n",
    "x = x.zfill(10)\n",
    "\n",
    "x"
   ],
   "id": "9a22a5c178b938a3",
   "outputs": [
    {
     "data": {
      "text/plain": [
       "'0000000050'"
      ]
     },
     "execution_count": 195,
     "metadata": {},
     "output_type": "execute_result"
    }
   ],
   "execution_count": 195
  }
 ],
 "metadata": {
  "kernelspec": {
   "display_name": "Python 3",
   "language": "python",
   "name": "python3"
  },
  "language_info": {
   "codemirror_mode": {
    "name": "ipython",
    "version": 2
   },
   "file_extension": ".py",
   "mimetype": "text/x-python",
   "name": "python",
   "nbconvert_exporter": "python",
   "pygments_lexer": "ipython2",
   "version": "2.7.6"
  }
 },
 "nbformat": 4,
 "nbformat_minor": 5
}
