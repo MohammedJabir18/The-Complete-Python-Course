{
 "cells": [
  {
   "metadata": {},
   "cell_type": "markdown",
   "source": "1. find the length of a given string without using the len() function",
   "id": "f93bbb3766aa8829"
  },
  {
   "metadata": {
    "ExecuteTime": {
     "end_time": "2024-12-14T06:23:11.134045Z",
     "start_time": "2024-12-14T06:22:59.052531Z"
    }
   },
   "cell_type": "code",
   "source": [
    "string = input(\"Enter a string: \")\n",
    "\n",
    "count = 0\n",
    "for i in string:\n",
    "    count += 1\n",
    "    \n",
    "print(f\"{string} length is {count}\")"
   ],
   "id": "7a69ae70dcdb5865",
   "outputs": [
    {
     "name": "stdout",
     "output_type": "stream",
     "text": [
      "Jabir length is 5\n"
     ]
    }
   ],
   "execution_count": 1
  },
  {
   "metadata": {},
   "cell_type": "markdown",
   "source": [
    "2. Extract username from a given email.\n",
    "- Ex:\n",
    "   - if the email is jabir@gmail.com then the username should be jabir"
   ],
   "id": "561ac4f04485a7de"
  },
  {
   "metadata": {
    "ExecuteTime": {
     "end_time": "2024-12-14T06:40:49.333071Z",
     "start_time": "2024-12-14T06:40:30.640244Z"
    }
   },
   "cell_type": "code",
   "source": [
    "email = input(\"Enter a Email: \")\n",
    "\n",
    "index = email.index(\"@\")\n",
    "username = email[:index]\n",
    "\n",
    "print(username)"
   ],
   "id": "8a88e0753a37aee2",
   "outputs": [
    {
     "name": "stdout",
     "output_type": "stream",
     "text": [
      "jabir34\n"
     ]
    }
   ],
   "execution_count": 12
  },
  {
   "metadata": {},
   "cell_type": "markdown",
   "source": [
    "3. Write a program that can check whether a given string is palindrome or not\n",
    "- abba \n",
    "- malayalam \n",
    "- madam"
   ],
   "id": "3c8045068511c255"
  },
  {
   "metadata": {
    "ExecuteTime": {
     "end_time": "2024-12-14T07:51:39.268868Z",
     "start_time": "2024-12-14T07:51:28.752139Z"
    }
   },
   "cell_type": "code",
   "source": [
    "# First method\n",
    "string = input(\"Enter a string: \")\n",
    "\n",
    "first_part = \"\"\n",
    "second_part = \"\"\n",
    "for i in range(len(string)//2):\n",
    "    if string[i] != string[len(string)-i - 1]:\n",
    "        print(f\"{string} is not palindrome\")\n",
    "        break\n",
    "else:\n",
    "    print(f\"{string} is a palindrome\")"
   ],
   "id": "d576ee06182c935f",
   "outputs": [
    {
     "name": "stdout",
     "output_type": "stream",
     "text": [
      "malaylam is not palindrome\n"
     ]
    }
   ],
   "execution_count": 30
  },
  {
   "metadata": {
    "ExecuteTime": {
     "end_time": "2024-12-14T07:54:35.588319Z",
     "start_time": "2024-12-14T07:54:32.713520Z"
    }
   },
   "cell_type": "code",
   "source": [
    "# Second method\n",
    "string = input(\"Enter a string: \")\n",
    "\n",
    "if string[:] == string[::-1]:\n",
    "    print(f\"{string} is a palindrome\")\n",
    "else:\n",
    "    print(f\"{string} is not palindrome\")"
   ],
   "id": "8c6c874984f64645",
   "outputs": [
    {
     "name": "stdout",
     "output_type": "stream",
     "text": [
      "malayalam is a palindrome\n"
     ]
    }
   ],
   "execution_count": 32
  }
 ],
 "metadata": {
  "kernelspec": {
   "display_name": "Python 3",
   "language": "python",
   "name": "python3"
  },
  "language_info": {
   "codemirror_mode": {
    "name": "ipython",
    "version": 2
   },
   "file_extension": ".py",
   "mimetype": "text/x-python",
   "name": "python",
   "nbconvert_exporter": "python",
   "pygments_lexer": "ipython2",
   "version": "2.7.6"
  }
 },
 "nbformat": 4,
 "nbformat_minor": 5
}
