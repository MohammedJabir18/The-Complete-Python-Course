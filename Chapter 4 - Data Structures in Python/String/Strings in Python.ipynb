{
 "cells": [
  {
   "metadata": {},
   "cell_type": "markdown",
   "source": [
    "# String \n",
    "Strings are a fundamental data type in Python, used to represent a sequence of characters. These characters can include letters, numbers, symbols, and whitespace.\n",
    "\n",
    "### Definition and Characteristics\n",
    "- Data Type: A string in Python is defined as a sequence of characters enclosed within single quotes (' '), double quotes (\" \"), or triple quotes (''' ''' or \"\"\" \"\"\"). This flexibility allows for easy inclusion of quotes within strings without escaping them135.\n",
    "- Immutability: Strings in Python are immutable, meaning that once a string is created, its content cannot be altered. Any modification results in the creation of a new string134. This property ensures consistency and security during program execution\n",
    "\n",
    "### Creating Strings\n",
    "Strings can be created using various types of quotes:\n",
    "- Single Quotes: 'Hello World'\n",
    "- Double Quotes: \"Hello World\"\n",
    "- Triple Quotes: Used for multi-line strings, e.g., \"\"\"Hello World\"\"\" or '''Hello World'''\n",
    "\n",
    "### String Operations\n",
    "Python provides several operations for manipulating strings:\n",
    "- Indexing: Each character in a string can be accessed using its index, starting from 0. For example, in the string \"Hello\", H is at index 0 and o is at index 436.\n",
    "- Slicing: You can extract a substring using slicing syntax. For example, \"Hello\"[1:4] returns 'ell', where the start index is inclusive and the stop index is exclusive45.\n",
    "- Length: The length of a string can be determined using the len() function. For instance, len(\"Hello\") returns 5\n",
    "\n",
    "### Common Methods\n",
    "Python's built-in string class (str) includes various methods for string manipulation:\n",
    "- Concatenation: Combining strings using the + operator.\n",
    "- Repetition: Repeating strings with the * operator.\n",
    "- Finding Substrings: Using methods like .find() or .count() to locate substrings within a string.\n",
    "- Changing Case: Methods such as .upper(), .lower(), and .title() to change the case of strings\n",
    "\n",
    "### In Python specifically, strings are a sequence of Unicode Characters\n",
    "\n",
    "Topic to be discussed:\n",
    "\n",
    "- Creating Strings\n",
    "- Accessing Strings\n",
    "- Adding Chars to String\n",
    "- Editing String\n",
    "- Deleting String\n",
    "- Operations on Strings\n",
    "- String Functions  \n",
    "\n",
    "### Conclusion\n",
    "Strings are versatile and essential for handling textual data in Python programming. Their immutability and rich set of methods make them powerful tools for data manipulation and representation. Understanding how to work with strings is crucial for effective programming in Python."
   ],
   "id": "558c65c1eeaf96a4"
  },
  {
   "metadata": {},
   "cell_type": "markdown",
   "source": "#### Creating Stings",
   "id": "a8df96c2443e026b"
  },
  {
   "metadata": {
    "ExecuteTime": {
     "end_time": "2024-12-13T16:27:32.640021Z",
     "start_time": "2024-12-13T16:27:32.599482Z"
    }
   },
   "cell_type": "code",
   "source": [
    "s = 'hello'\n",
    "x = \"python\"\n",
    "\n",
    "# multiline strings\n",
    "k = '''i love india\n",
    "i am indian'''\n",
    "l = \"\"\"i love kerala\n",
    "kerala is known as god's own country\"\"\"\n",
    "m = str('haai')\n",
    "\n",
    "print(k)"
   ],
   "id": "771b764edff7f89c",
   "outputs": [
    {
     "name": "stdout",
     "output_type": "stream",
     "text": [
      "i love india\n",
      "i am indian\n"
     ]
    }
   ],
   "execution_count": 101
  },
  {
   "metadata": {
    "ExecuteTime": {
     "end_time": "2024-12-13T16:27:32.670954Z",
     "start_time": "2024-12-13T16:27:32.648030Z"
    }
   },
   "cell_type": "code",
   "source": "\"It's my house\"",
   "id": "64a72fcf67929f86",
   "outputs": [
    {
     "data": {
      "text/plain": [
       "\"It's my house\""
      ]
     },
     "execution_count": 102,
     "metadata": {},
     "output_type": "execute_result"
    }
   ],
   "execution_count": 102
  },
  {
   "metadata": {
    "ExecuteTime": {
     "end_time": "2024-12-13T16:27:32.682749Z",
     "start_time": "2024-12-13T16:27:32.675151Z"
    }
   },
   "cell_type": "code",
   "source": [
    "a = 23\n",
    "a = str(a)  # integer to string conversion\n",
    "\n",
    "a"
   ],
   "id": "a99937a16711599d",
   "outputs": [
    {
     "data": {
      "text/plain": [
       "'23'"
      ]
     },
     "execution_count": 103,
     "metadata": {},
     "output_type": "execute_result"
    }
   ],
   "execution_count": 103
  },
  {
   "metadata": {},
   "cell_type": "markdown",
   "source": "#### Accessing Strings",
   "id": "cce0194239d20070"
  },
  {
   "metadata": {
    "ExecuteTime": {
     "end_time": "2024-12-13T16:27:32.691015Z",
     "start_time": "2024-12-13T16:27:32.685757Z"
    }
   },
   "cell_type": "code",
   "source": [
    "# Positive indexing\n",
    "s = \"Welcome to python\"\n",
    "#    0123456789 -> index order of this sequence "
   ],
   "id": "daae5c1554e5962a",
   "outputs": [],
   "execution_count": 104
  },
  {
   "metadata": {
    "ExecuteTime": {
     "end_time": "2024-12-13T16:27:32.701791Z",
     "start_time": "2024-12-13T16:27:32.692021Z"
    }
   },
   "cell_type": "code",
   "source": "s[0]  # I want to print the first letter of this sequence using index",
   "id": "3cb4c31864b4a60e",
   "outputs": [
    {
     "data": {
      "text/plain": [
       "'W'"
      ]
     },
     "execution_count": 105,
     "metadata": {},
     "output_type": "execute_result"
    }
   ],
   "execution_count": 105
  },
  {
   "metadata": {
    "ExecuteTime": {
     "end_time": "2024-12-13T16:27:32.721398Z",
     "start_time": "2024-12-13T16:27:32.713799Z"
    }
   },
   "cell_type": "code",
   "source": "s[11]  # I want to print 'p' letter only using index",
   "id": "6041440a44fb0f80",
   "outputs": [
    {
     "data": {
      "text/plain": [
       "'p'"
      ]
     },
     "execution_count": 106,
     "metadata": {},
     "output_type": "execute_result"
    }
   ],
   "execution_count": 106
  },
  {
   "metadata": {
    "ExecuteTime": {
     "end_time": "2024-12-13T16:27:32.810474Z",
     "start_time": "2024-12-13T16:27:32.724408Z"
    }
   },
   "cell_type": "code",
   "source": "s[50]",
   "id": "81bbd29f20643d6",
   "outputs": [
    {
     "ename": "IndexError",
     "evalue": "string index out of range",
     "output_type": "error",
     "traceback": [
      "\u001B[1;31m---------------------------------------------------------------------------\u001B[0m",
      "\u001B[1;31mIndexError\u001B[0m                                Traceback (most recent call last)",
      "Cell \u001B[1;32mIn[107], line 1\u001B[0m\n\u001B[1;32m----> 1\u001B[0m s[\u001B[38;5;241m50\u001B[39m]\n",
      "\u001B[1;31mIndexError\u001B[0m: string index out of range"
     ]
    }
   ],
   "execution_count": 107
  },
  {
   "metadata": {},
   "cell_type": "code",
   "source": "len(s)",
   "id": "64042142489cbca8",
   "outputs": [],
   "execution_count": null
  },
  {
   "metadata": {},
   "cell_type": "code",
   "source": [
    "# Negative indexing\n",
    "s = \"Welcome to python\"\n",
    "#          -6-5-4-3-2-1 -> Negative index order of this sequence"
   ],
   "id": "4b7565dff9ec9b34",
   "outputs": [],
   "execution_count": null
  },
  {
   "metadata": {},
   "cell_type": "code",
   "source": "s[-1]  # I want to print the last character of this sequence",
   "id": "a672bd0c332bce68",
   "outputs": [],
   "execution_count": null
  },
  {
   "metadata": {},
   "cell_type": "code",
   "source": "s[-2]  # I want to print 'o' letter in this sequence",
   "id": "c2e963c29c6052ae",
   "outputs": [],
   "execution_count": null
  },
  {
   "metadata": {},
   "cell_type": "code",
   "source": [
    "# String slicing\n",
    "s = \"Welcome to python\""
   ],
   "id": "67e8182a4a5e92b5",
   "outputs": [],
   "execution_count": null
  },
  {
   "metadata": {},
   "cell_type": "code",
   "source": [
    "print(s[0:7])  # I want to print 'Welcome' word only.\n",
    "# Last index would always be excluded in python"
   ],
   "id": "2ba8a2d9bdcc07c7",
   "outputs": [],
   "execution_count": null
  },
  {
   "metadata": {},
   "cell_type": "code",
   "source": "print(s[11:17])",
   "id": "8844679baaf7ec65",
   "outputs": [],
   "execution_count": null
  },
  {
   "metadata": {},
   "cell_type": "code",
   "source": "print(s[0:])  # 0th index to till the end print",
   "id": "d8b6c49ec72d9b86",
   "outputs": [],
   "execution_count": null
  },
  {
   "metadata": {},
   "cell_type": "code",
   "source": "print(s[:7])",
   "id": "b995a0d7db0a9586",
   "outputs": [],
   "execution_count": null
  },
  {
   "metadata": {},
   "cell_type": "code",
   "source": "print(s[:])",
   "id": "7ca74698f1a32782",
   "outputs": [],
   "execution_count": null
  },
  {
   "metadata": {
    "ExecuteTime": {
     "end_time": "2024-12-13T16:27:32.849736Z",
     "start_time": "2024-12-13T16:27:32.845009Z"
    }
   },
   "cell_type": "code",
   "source": [
    "# step parameter \n",
    "x = \"123456789\"\n",
    "\n",
    "print(x[0:10:2])  # print alternative values in this sequence"
   ],
   "id": "893013ff1cdd697b",
   "outputs": [
    {
     "name": "stdout",
     "output_type": "stream",
     "text": [
      "13579\n"
     ]
    }
   ],
   "execution_count": 108
  },
  {
   "metadata": {
    "ExecuteTime": {
     "end_time": "2024-12-13T16:27:32.870671Z",
     "start_time": "2024-12-13T16:27:32.865303Z"
    }
   },
   "cell_type": "code",
   "source": [
    "# Reverse string slicing\n",
    "s = \"Welcome to python\"\n",
    "\n",
    "print(s[::-1])\n",
    "print(x[::-1])"
   ],
   "id": "29cc88c77856f336",
   "outputs": [
    {
     "name": "stdout",
     "output_type": "stream",
     "text": [
      "nohtyp ot emocleW\n",
      "987654321\n"
     ]
    }
   ],
   "execution_count": 109
  },
  {
   "metadata": {
    "ExecuteTime": {
     "end_time": "2024-12-13T16:27:32.916597Z",
     "start_time": "2024-12-13T16:27:32.912368Z"
    }
   },
   "cell_type": "code",
   "source": "print(s[7:0:-2])",
   "id": "d36642ac88ca4df2",
   "outputs": [
    {
     "name": "stdout",
     "output_type": "stream",
     "text": [
      " mce\n"
     ]
    }
   ],
   "execution_count": 110
  },
  {
   "metadata": {
    "ExecuteTime": {
     "end_time": "2024-12-13T16:27:32.977326Z",
     "start_time": "2024-12-13T16:27:32.973266Z"
    }
   },
   "cell_type": "code",
   "source": [
    "# Negative slicing\n",
    "print(s[-6:])"
   ],
   "id": "e5ae6df6590cd2ac",
   "outputs": [
    {
     "name": "stdout",
     "output_type": "stream",
     "text": [
      "python\n"
     ]
    }
   ],
   "execution_count": 111
  },
  {
   "metadata": {
    "ExecuteTime": {
     "end_time": "2024-12-13T16:27:32.994588Z",
     "start_time": "2024-12-13T16:27:32.990334Z"
    }
   },
   "cell_type": "code",
   "source": "print(s[:-7:-1])",
   "id": "765011c64408c91d",
   "outputs": [
    {
     "name": "stdout",
     "output_type": "stream",
     "text": [
      "nohtyp\n"
     ]
    }
   ],
   "execution_count": 112
  },
  {
   "metadata": {},
   "cell_type": "markdown",
   "source": [
    "* Adding Chars to String\n",
    "* Editing String\n",
    "* Deleting String"
   ],
   "id": "71da78c09ddbee11"
  },
  {
   "metadata": {},
   "cell_type": "markdown",
   "source": "#### Python Strings are Immutable",
   "id": "1c20e1e9cb216a64"
  },
  {
   "metadata": {
    "ExecuteTime": {
     "end_time": "2024-12-13T16:27:33.002908Z",
     "start_time": "2024-12-13T16:27:32.997598Z"
    }
   },
   "cell_type": "code",
   "source": "s = \"Welcome to python\"",
   "id": "769d72ead2bd60d6",
   "outputs": [],
   "execution_count": 113
  },
  {
   "metadata": {
    "ExecuteTime": {
     "end_time": "2024-12-13T16:27:33.033558Z",
     "start_time": "2024-12-13T16:27:33.014558Z"
    }
   },
   "cell_type": "code",
   "source": "s[0] = \"A\"",
   "id": "27c47bfcb3f9cab",
   "outputs": [
    {
     "ename": "TypeError",
     "evalue": "'str' object does not support item assignment",
     "output_type": "error",
     "traceback": [
      "\u001B[1;31m---------------------------------------------------------------------------\u001B[0m",
      "\u001B[1;31mTypeError\u001B[0m                                 Traceback (most recent call last)",
      "Cell \u001B[1;32mIn[114], line 1\u001B[0m\n\u001B[1;32m----> 1\u001B[0m s[\u001B[38;5;241m0\u001B[39m] \u001B[38;5;241m=\u001B[39m \u001B[38;5;124m\"\u001B[39m\u001B[38;5;124mA\u001B[39m\u001B[38;5;124m\"\u001B[39m\n",
      "\u001B[1;31mTypeError\u001B[0m: 'str' object does not support item assignment"
     ]
    }
   ],
   "execution_count": 114
  },
  {
   "metadata": {
    "ExecuteTime": {
     "end_time": "2024-12-13T16:27:33.074463Z",
     "start_time": "2024-12-13T16:27:33.045565Z"
    }
   },
   "cell_type": "code",
   "source": "del s[1]",
   "id": "981a5b48771842fe",
   "outputs": [
    {
     "ename": "TypeError",
     "evalue": "'str' object doesn't support item deletion",
     "output_type": "error",
     "traceback": [
      "\u001B[1;31m---------------------------------------------------------------------------\u001B[0m",
      "\u001B[1;31mTypeError\u001B[0m                                 Traceback (most recent call last)",
      "Cell \u001B[1;32mIn[115], line 1\u001B[0m\n\u001B[1;32m----> 1\u001B[0m \u001B[38;5;28;01mdel\u001B[39;00m s[\u001B[38;5;241m1\u001B[39m]\n",
      "\u001B[1;31mTypeError\u001B[0m: 'str' object doesn't support item deletion"
     ]
    }
   ],
   "execution_count": 115
  },
  {
   "metadata": {
    "ExecuteTime": {
     "end_time": "2024-12-13T16:27:49.032030Z",
     "start_time": "2024-12-13T16:27:49.011848Z"
    }
   },
   "cell_type": "code",
   "source": [
    "del s  # Here 's' variable is deleting\n",
    "\n",
    "print(s)"
   ],
   "id": "3c57688bcc4d0bfb",
   "outputs": [
    {
     "ename": "NameError",
     "evalue": "name 's' is not defined",
     "output_type": "error",
     "traceback": [
      "\u001B[1;31m---------------------------------------------------------------------------\u001B[0m",
      "\u001B[1;31mNameError\u001B[0m                                 Traceback (most recent call last)",
      "Cell \u001B[1;32mIn[116], line 3\u001B[0m\n\u001B[0;32m      1\u001B[0m \u001B[38;5;28;01mdel\u001B[39;00m s  \u001B[38;5;66;03m# Here 's' variable is deleting\u001B[39;00m\n\u001B[1;32m----> 3\u001B[0m \u001B[38;5;28mprint\u001B[39m(s)\n",
      "\u001B[1;31mNameError\u001B[0m: name 's' is not defined"
     ]
    }
   ],
   "execution_count": 116
  }
 ],
 "metadata": {
  "kernelspec": {
   "display_name": "Python 3",
   "language": "python",
   "name": "python3"
  },
  "language_info": {
   "codemirror_mode": {
    "name": "ipython",
    "version": 2
   },
   "file_extension": ".py",
   "mimetype": "text/x-python",
   "name": "python",
   "nbconvert_exporter": "python",
   "pygments_lexer": "ipython2",
   "version": "2.7.6"
  }
 },
 "nbformat": 4,
 "nbformat_minor": 5
}
