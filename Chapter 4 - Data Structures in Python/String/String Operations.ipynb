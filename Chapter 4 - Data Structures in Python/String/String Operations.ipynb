{
 "cells": [
  {
   "metadata": {},
   "cell_type": "markdown",
   "source": [
    "# Operations on Strings\n",
    "\n",
    "- Arithemetic Operations\n",
    "- Relational Operations\n",
    "- Logical Operations\n",
    "- Loops on Strings\n",
    "- Membership operations"
   ],
   "id": "aec406350663f06e"
  },
  {
   "metadata": {},
   "cell_type": "markdown",
   "source": "## Arithemetic Operations",
   "id": "ade49f91feedc737"
  },
  {
   "metadata": {
    "ExecuteTime": {
     "end_time": "2024-12-13T09:36:34.785063Z",
     "start_time": "2024-12-13T09:36:34.781098Z"
    }
   },
   "cell_type": "code",
   "source": [
    "# Addition Operator\n",
    "print(\"Hello\" + \" \" + \"Jabir\")  # Concatenation"
   ],
   "id": "affade920c0035c2",
   "outputs": [
    {
     "name": "stdout",
     "output_type": "stream",
     "text": [
      "Hello Jabir\n"
     ]
    }
   ],
   "execution_count": 62
  },
  {
   "metadata": {
    "ExecuteTime": {
     "end_time": "2024-12-13T09:36:34.801972Z",
     "start_time": "2024-12-13T09:36:34.797073Z"
    }
   },
   "cell_type": "code",
   "source": [
    "# Multiplication Operator\n",
    "print(\"Hai\" * 5)  # String multiplication"
   ],
   "id": "954fa59cac4f9246",
   "outputs": [
    {
     "name": "stdout",
     "output_type": "stream",
     "text": [
      "HaiHaiHaiHaiHai\n"
     ]
    }
   ],
   "execution_count": 63
  },
  {
   "metadata": {
    "ExecuteTime": {
     "end_time": "2024-12-13T09:36:34.835539Z",
     "start_time": "2024-12-13T09:36:34.830026Z"
    }
   },
   "cell_type": "code",
   "source": "print(\"*\" * 10)",
   "id": "688e980bdc07d9ce",
   "outputs": [
    {
     "name": "stdout",
     "output_type": "stream",
     "text": [
      "**********\n"
     ]
    }
   ],
   "execution_count": 64
  },
  {
   "metadata": {},
   "cell_type": "markdown",
   "source": "## Relational Operators",
   "id": "96050b99f71d725d"
  },
  {
   "metadata": {
    "ExecuteTime": {
     "end_time": "2024-12-13T09:36:34.847446Z",
     "start_time": "2024-12-13T09:36:34.840546Z"
    }
   },
   "cell_type": "code",
   "source": [
    "# Checking the Equality\n",
    "print(\"Hello\" == \"Hello\")\n",
    "\n",
    "print(\"Hello\" == \"hello\")"
   ],
   "id": "6e806f2827f52d24",
   "outputs": [
    {
     "name": "stdout",
     "output_type": "stream",
     "text": [
      "True\n",
      "False\n"
     ]
    }
   ],
   "execution_count": 65
  },
  {
   "metadata": {
    "ExecuteTime": {
     "end_time": "2024-12-13T09:36:34.858494Z",
     "start_time": "2024-12-13T09:36:34.850462Z"
    }
   },
   "cell_type": "code",
   "source": [
    "# Checking the not equal\n",
    "print(\"hallo\" != \"Hello\")\n",
    "\n",
    "print(\"Hello\" != \"hello\".title())"
   ],
   "id": "880ade03fbaa1738",
   "outputs": [
    {
     "name": "stdout",
     "output_type": "stream",
     "text": [
      "True\n",
      "False\n"
     ]
    }
   ],
   "execution_count": 66
  },
  {
   "metadata": {
    "ExecuteTime": {
     "end_time": "2024-12-13T09:36:51.943822Z",
     "start_time": "2024-12-13T09:36:51.937954Z"
    }
   },
   "cell_type": "code",
   "source": [
    "# Checking the greater than\n",
    "# string comparison is done lexicographically based on the Unicode values of the characters. \n",
    "print(\"hallo\" > \"hai\")   \n",
    "\n",
    "print(\"Hai\" > \"Hello\")\n",
    "\n",
    "ord(\"h\")  # Checking the ascii value"
   ],
   "id": "2ed520dc93d81ce8",
   "outputs": [
    {
     "name": "stdout",
     "output_type": "stream",
     "text": [
      "True\n",
      "False\n"
     ]
    },
    {
     "data": {
      "text/plain": [
       "98"
      ]
     },
     "execution_count": 71,
     "metadata": {},
     "output_type": "execute_result"
    }
   ],
   "execution_count": 71
  },
  {
   "metadata": {
    "ExecuteTime": {
     "end_time": "2024-12-13T09:36:34.878925Z",
     "start_time": "2024-12-13T09:36:34.873154Z"
    }
   },
   "cell_type": "code",
   "source": [
    "# Checking the less than\n",
    "print(\"mass\" < \"weight\")\n",
    "\n",
    "print(\"normal\" < \"Normal\")"
   ],
   "id": "93bbb42370b4bb8e",
   "outputs": [
    {
     "name": "stdout",
     "output_type": "stream",
     "text": [
      "True\n",
      "False\n"
     ]
    }
   ],
   "execution_count": 68
  },
  {
   "metadata": {
    "ExecuteTime": {
     "end_time": "2024-12-13T12:13:48.128011Z",
     "start_time": "2024-12-13T12:13:48.120673Z"
    }
   },
   "cell_type": "code",
   "source": [
    "# Greater than or equal to \n",
    "print(\"amazing\" >= \"Boring\")\n",
    "\n",
    "# Less than or equal to\n",
    "print(\"national\" <= \"international\")"
   ],
   "id": "209c14d604207189",
   "outputs": [
    {
     "name": "stdout",
     "output_type": "stream",
     "text": [
      "True\n",
      "False\n"
     ]
    }
   ],
   "execution_count": 116
  },
  {
   "metadata": {},
   "cell_type": "markdown",
   "source": "## Logical Operations",
   "id": "b6ecd0ae3fea230a"
  },
  {
   "metadata": {
    "ExecuteTime": {
     "end_time": "2024-12-13T10:25:24.306297Z",
     "start_time": "2024-12-13T10:25:24.301623Z"
    }
   },
   "cell_type": "code",
   "source": [
    "print(\"Hello\" and \"World\")\n",
    "\n",
    "print(\"\" and \"World\")"
   ],
   "id": "30f1dac484a599a4",
   "outputs": [
    {
     "name": "stdout",
     "output_type": "stream",
     "text": [
      "World\n",
      "\n"
     ]
    }
   ],
   "execution_count": 105
  },
  {
   "metadata": {},
   "cell_type": "markdown",
   "source": [
    "##### Explanation\n",
    "The and operator in Python is a logical operator that evaluates its operands and returns one of them based on their truthiness. Here’s how it works:\n",
    "1. Truthiness Evaluation: Python evaluates the first operand (\"Hello\"). Since non-empty strings are considered truthy, it moves to evaluate the second operand (\"World\").\n",
    "2. Return Value of and: The and operator returns the last evaluated operand if the first operand is truthy. If the first operand were falsy (like an empty string, None, or 0), it would return that falsy value instead.\n",
    "3. Result: In this case, since \"Hello\" is truthy, Python evaluates and returns \"World\"."
   ],
   "id": "2e101cc966bea4b7"
  },
  {
   "metadata": {
    "ExecuteTime": {
     "end_time": "2024-12-13T10:24:59.821904Z",
     "start_time": "2024-12-13T10:24:59.817163Z"
    }
   },
   "cell_type": "code",
   "source": [
    "print(\"Hello\" or \"World\")\n",
    "\n",
    "print(\"\" or \"World\")"
   ],
   "id": "7e861ec37f95ab0f",
   "outputs": [
    {
     "name": "stdout",
     "output_type": "stream",
     "text": [
      "Hello\n",
      "World\n"
     ]
    }
   ],
   "execution_count": 103
  },
  {
   "metadata": {},
   "cell_type": "markdown",
   "source": [
    "##### Explanation\n",
    "The or operator in Python is a logical operator that evaluates its operands and returns the first truthy value it encounters. Here’s how it works:\n",
    "1. Truthiness Evaluation: Python evaluates the first operand (\"Hello\"). Since non-empty strings are considered truthy, it does not need to evaluate the second operand (\"World\").\n",
    "2. Return Value of or: The or operator returns the first operand if it is truthy. If the first operand were falsy (like an empty string, None, or 0), it would return the second operand.\n",
    "3. Result: In this case, since \"Hello\" is truthy, Python returns \"Hello\"."
   ],
   "id": "2fab061b735ad428"
  },
  {
   "metadata": {
    "ExecuteTime": {
     "end_time": "2024-12-13T10:27:19.038096Z",
     "start_time": "2024-12-13T10:27:19.029279Z"
    }
   },
   "cell_type": "code",
   "source": [
    "print(not \"\")\n",
    "\n",
    "not \"Hello\""
   ],
   "id": "4515ec43cebbf317",
   "outputs": [
    {
     "name": "stdout",
     "output_type": "stream",
     "text": [
      "True\n"
     ]
    },
    {
     "data": {
      "text/plain": [
       "False"
      ]
     },
     "execution_count": 108,
     "metadata": {},
     "output_type": "execute_result"
    }
   ],
   "execution_count": 108
  },
  {
   "metadata": {},
   "cell_type": "markdown",
   "source": "#### Loops on Strings",
   "id": "8cffce7ac7ceaca0"
  },
  {
   "metadata": {
    "ExecuteTime": {
     "end_time": "2024-12-13T10:30:13.516003Z",
     "start_time": "2024-12-13T10:30:13.510278Z"
    }
   },
   "cell_type": "code",
   "source": [
    "for i in \"Python\":\n",
    "    print(i)"
   ],
   "id": "b685d4099da197da",
   "outputs": [
    {
     "name": "stdout",
     "output_type": "stream",
     "text": [
      "P\n",
      "y\n",
      "t\n",
      "h\n",
      "o\n",
      "n\n"
     ]
    }
   ],
   "execution_count": 109
  },
  {
   "metadata": {
    "ExecuteTime": {
     "end_time": "2024-12-13T10:33:09.447465Z",
     "start_time": "2024-12-13T10:33:09.441908Z"
    }
   },
   "cell_type": "code",
   "source": [
    "for _ in \"Hai\":\n",
    "    print(\"Hello\")"
   ],
   "id": "ee820ecf6cb7a5c9",
   "outputs": [
    {
     "name": "stdout",
     "output_type": "stream",
     "text": [
      "Hello\n",
      "Hello\n",
      "Hello\n"
     ]
    }
   ],
   "execution_count": 111
  },
  {
   "metadata": {},
   "cell_type": "markdown",
   "source": "#### Membership Operations",
   "id": "14544350eaec8fb7"
  },
  {
   "metadata": {
    "ExecuteTime": {
     "end_time": "2024-12-13T10:35:24.794560Z",
     "start_time": "2024-12-13T10:35:24.788347Z"
    }
   },
   "cell_type": "code",
   "source": [
    "print(\"o\" in \"Python\")\n",
    "\n",
    "print(\"J\" in \"Giraffe\")"
   ],
   "id": "25b305224031e8da",
   "outputs": [
    {
     "name": "stdout",
     "output_type": "stream",
     "text": [
      "True\n",
      "False\n"
     ]
    }
   ],
   "execution_count": 113
  },
  {
   "metadata": {
    "ExecuteTime": {
     "end_time": "2024-12-13T10:36:27.587327Z",
     "start_time": "2024-12-13T10:36:27.580754Z"
    }
   },
   "cell_type": "code",
   "source": [
    "print(\"s\" not in \"Snake\")\n",
    "\n",
    "print(\"y\" not in \"malayalam\")"
   ],
   "id": "f8cab123ec0744d0",
   "outputs": [
    {
     "name": "stdout",
     "output_type": "stream",
     "text": [
      "True\n",
      "False\n"
     ]
    }
   ],
   "execution_count": 114
  }
 ],
 "metadata": {
  "kernelspec": {
   "display_name": "Python 3",
   "language": "python",
   "name": "python3"
  },
  "language_info": {
   "codemirror_mode": {
    "name": "ipython",
    "version": 2
   },
   "file_extension": ".py",
   "mimetype": "text/x-python",
   "name": "python",
   "nbconvert_exporter": "python",
   "pygments_lexer": "ipython2",
   "version": "2.7.6"
  }
 },
 "nbformat": 4,
 "nbformat_minor": 5
}
