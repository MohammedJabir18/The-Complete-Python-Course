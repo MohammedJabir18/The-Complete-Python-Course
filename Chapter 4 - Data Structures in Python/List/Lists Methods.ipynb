{
 "cells": [
  {
   "metadata": {},
   "cell_type": "markdown",
   "source": [
    "# List Methods/Functions\n",
    "\n",
    "| Method       | Description                                                                 |\n",
    "|--------------|-----------------------------------------------------------------------------|\n",
    "| `append()`   | Adds an element at the **end** of the list.                               |\n",
    "| `clear()`    | Removes **all** elements from the list.                                    |\n",
    "| `copy()`     | Returns a **shallow copy** of the list.                                   |\n",
    "| `count()`    | Returns the number of elements with the specified **value**.              |\n",
    "| `extend()`   | Adds the elements of an iterable (like another list) to the **end** of the current list. |\n",
    "| `index()`    | Returns the **index** of the first element with the specified value.      |\n",
    "| `insert()`   | Adds an element at the **specified position** in the list.                |\n",
    "| `pop()`      | Removes and returns the element at the specified position (default is the last element). |\n",
    "| `remove()`   | Removes the first item with the specified **value** from the list.       |\n",
    "| `reverse()`  | Reverses the order of elements in the list.                               |\n",
    "| `sort()`     | Sorts the elements of the list in **ascending order** (or by a specified key). |\n"
   ],
   "id": "3eac8fd17261f7fb"
  },
  {
   "metadata": {
    "ExecuteTime": {
     "end_time": "2024-12-14T14:44:44.853335Z",
     "start_time": "2024-12-14T14:44:44.848064Z"
    }
   },
   "cell_type": "code",
   "source": [
    "# append\n",
    "L = [1, 2, 3, 4]\n",
    "\n",
    "L.append(5)\n",
    "L.append(200)\n",
    "print(L)"
   ],
   "id": "634073b6b54875ac",
   "outputs": [
    {
     "name": "stdout",
     "output_type": "stream",
     "text": [
      "[1, 2, 3, 4, 5, 200]\n"
     ]
    }
   ],
   "execution_count": 27
  },
  {
   "metadata": {
    "ExecuteTime": {
     "end_time": "2024-12-14T14:47:00.787614Z",
     "start_time": "2024-12-14T14:47:00.782409Z"
    }
   },
   "cell_type": "code",
   "source": [
    "L = [1, 2, 3, 4]\n",
    "\n",
    "L.append([5, 6, 7])\n",
    "print(L)"
   ],
   "id": "b8b03f0b06da339e",
   "outputs": [
    {
     "name": "stdout",
     "output_type": "stream",
     "text": [
      "[1, 2, 3, 4, [5, 6, 7]]\n"
     ]
    }
   ],
   "execution_count": 28
  },
  {
   "metadata": {
    "ExecuteTime": {
     "end_time": "2024-12-14T14:49:30.272768Z",
     "start_time": "2024-12-14T14:49:30.265952Z"
    }
   },
   "cell_type": "code",
   "source": [
    "L.append(True)\n",
    "\n",
    "L"
   ],
   "id": "e67bd9dfe50d90d9",
   "outputs": [
    {
     "data": {
      "text/plain": [
       "[1, 2, 3, 4, [5, 6, 7], True]"
      ]
     },
     "execution_count": 29,
     "metadata": {},
     "output_type": "execute_result"
    }
   ],
   "execution_count": 29
  },
  {
   "metadata": {
    "ExecuteTime": {
     "end_time": "2024-12-14T14:41:05.178844Z",
     "start_time": "2024-12-14T14:41:05.172499Z"
    }
   },
   "cell_type": "code",
   "source": [
    "# Editing with Indexing\n",
    "L[0] = 100\n",
    "L[2] = \"hai\"\n",
    "\n",
    "print(L)"
   ],
   "id": "940569ab5fd67d7a",
   "outputs": [
    {
     "name": "stdout",
     "output_type": "stream",
     "text": [
      "[100, 2, 'hai', 4, 5]\n"
     ]
    }
   ],
   "execution_count": 25
  },
  {
   "metadata": {
    "ExecuteTime": {
     "end_time": "2024-12-14T14:43:22.068683Z",
     "start_time": "2024-12-14T14:43:22.063602Z"
    }
   },
   "cell_type": "code",
   "source": [
    "# Editing with Slicing\n",
    "L = [100, 2, 3, 4, 500]\n",
    "\n",
    "L[1:4] = [200, 300, 400]\n",
    "\n",
    "print(L)"
   ],
   "id": "9020ba80619c1d4c",
   "outputs": [
    {
     "name": "stdout",
     "output_type": "stream",
     "text": [
      "[100, 200, 300, 400, 500]\n"
     ]
    }
   ],
   "execution_count": 26
  },
  {
   "metadata": {
    "ExecuteTime": {
     "end_time": "2024-12-14T15:07:12.512235Z",
     "start_time": "2024-12-14T15:07:12.502353Z"
    }
   },
   "cell_type": "code",
   "source": [
    "# extend\n",
    "L1 = [1, 2, 3, 4]\n",
    "L2 = [10, 11, 12]\n",
    "\n",
    "L1.extend(L2)\n",
    "print(L1)"
   ],
   "id": "6bf2dbf3e2f76c58",
   "outputs": [
    {
     "name": "stdout",
     "output_type": "stream",
     "text": [
      "[1, 2, 3, 4, 10, 11, 12]\n"
     ]
    }
   ],
   "execution_count": 30
  },
  {
   "metadata": {
    "ExecuteTime": {
     "end_time": "2024-12-14T15:10:15.536866Z",
     "start_time": "2024-12-14T15:10:15.520757Z"
    }
   },
   "cell_type": "code",
   "source": [
    "L2.extend(\"Hello\")\n",
    "\n",
    "print(L2)"
   ],
   "id": "204eed487b03e220",
   "outputs": [
    {
     "name": "stdout",
     "output_type": "stream",
     "text": [
      "[10, 11, 12, 'H', 'e', 'l', 'l', 'o']\n"
     ]
    }
   ],
   "execution_count": 33
  },
  {
   "metadata": {
    "ExecuteTime": {
     "end_time": "2024-12-14T15:18:36.882165Z",
     "start_time": "2024-12-14T15:18:36.876828Z"
    }
   },
   "cell_type": "code",
   "source": [
    "# insert\n",
    "l = [1, 2, 3, 4]\n",
    "\n",
    "l.insert(1, 10)\n",
    "print(l)"
   ],
   "id": "712ecd0c6a8712f1",
   "outputs": [
    {
     "name": "stdout",
     "output_type": "stream",
     "text": [
      "[1, 10, 2, 3, 4]\n"
     ]
    }
   ],
   "execution_count": 56
  },
  {
   "metadata": {
    "ExecuteTime": {
     "end_time": "2024-12-14T15:19:05.260201Z",
     "start_time": "2024-12-14T15:19:05.252246Z"
    }
   },
   "cell_type": "code",
   "source": [
    "# Deleting items from a list\n",
    "l = [1, 2, 3, 4]\n",
    "\n",
    "del l[0]\n",
    "\n",
    "print(l)"
   ],
   "id": "2398dadaab80971a",
   "outputs": [
    {
     "name": "stdout",
     "output_type": "stream",
     "text": [
      "[2, 3, 4]\n"
     ]
    }
   ],
   "execution_count": 58
  },
  {
   "metadata": {
    "ExecuteTime": {
     "end_time": "2024-12-14T15:19:26.775731Z",
     "start_time": "2024-12-14T15:19:26.769457Z"
    }
   },
   "cell_type": "code",
   "source": [
    "l = [2, 3, 4, 5]\n",
    "\n",
    "del l[1:3]\n",
    "\n",
    "print(l)"
   ],
   "id": "dc60deac96ba30bf",
   "outputs": [
    {
     "name": "stdout",
     "output_type": "stream",
     "text": [
      "[2, 5]\n"
     ]
    }
   ],
   "execution_count": 60
  },
  {
   "metadata": {
    "ExecuteTime": {
     "end_time": "2024-12-14T15:22:38.493447Z",
     "start_time": "2024-12-14T15:22:38.480843Z"
    }
   },
   "cell_type": "code",
   "source": [
    "# remove\n",
    "L = [1, 2, 3, 4]\n",
    "\n",
    "L.remove(3)\n",
    "\n",
    "print(L)"
   ],
   "id": "58cb3827b692a0dd",
   "outputs": [
    {
     "name": "stdout",
     "output_type": "stream",
     "text": [
      "[1, 2, 4]\n"
     ]
    }
   ],
   "execution_count": 61
  },
  {
   "metadata": {
    "ExecuteTime": {
     "end_time": "2024-12-14T15:24:26.850093Z",
     "start_time": "2024-12-14T15:24:26.844975Z"
    }
   },
   "cell_type": "code",
   "source": [
    "# pop\n",
    "L = [1, 2, 3, 4, 5]\n",
    "\n",
    "L.pop()\n",
    "print(L)\n",
    "\n",
    "L.pop()\n",
    "print(L)"
   ],
   "id": "e8b68af8ce0d6cfd",
   "outputs": [
    {
     "name": "stdout",
     "output_type": "stream",
     "text": [
      "[1, 2, 3, 4]\n",
      "[1, 2, 3]\n"
     ]
    }
   ],
   "execution_count": 66
  },
  {
   "metadata": {
    "ExecuteTime": {
     "end_time": "2024-12-14T15:25:07.756045Z",
     "start_time": "2024-12-14T15:25:07.746119Z"
    }
   },
   "cell_type": "code",
   "source": [
    "# clear\n",
    "L = [1, 2, 3, 4, 5]\n",
    "\n",
    "L.clear()\n",
    "\n",
    "print(L)"
   ],
   "id": "e5d34657eb01fbcf",
   "outputs": [
    {
     "name": "stdout",
     "output_type": "stream",
     "text": [
      "[]\n"
     ]
    }
   ],
   "execution_count": 67
  },
  {
   "metadata": {},
   "cell_type": "markdown",
   "source": [
    "- len\n",
    "- min\n",
    "- max\n",
    "- sorted"
   ],
   "id": "8a59ae4915381116"
  },
  {
   "metadata": {
    "ExecuteTime": {
     "end_time": "2024-12-14T15:32:08.339562Z",
     "start_time": "2024-12-14T15:32:08.333050Z"
    }
   },
   "cell_type": "code",
   "source": [
    "L= [123, 42, 314, 2, 52, 4, 98]\n",
    "\n",
    "print(len(L))  # Finding the length in the list\n",
    "\n",
    "print(min(L))  # Finding the smallest element in the list\n",
    "\n",
    "print(max(L))  # Finding the largest element in the list\n",
    "\n",
    "print(sorted(L))  # Sorting the list (Default sorting is ascending order).\n",
    "print(sorted(L, reverse=True))  # Sorting in descending order"
   ],
   "id": "7c3e82a0061ff330",
   "outputs": [
    {
     "name": "stdout",
     "output_type": "stream",
     "text": [
      "7\n",
      "2\n",
      "314\n",
      "[2, 4, 42, 52, 98, 123, 314]\n",
      "[314, 123, 98, 52, 42, 4, 2]\n"
     ]
    }
   ],
   "execution_count": 72
  },
  {
   "metadata": {
    "ExecuteTime": {
     "end_time": "2024-12-14T15:34:15.559680Z",
     "start_time": "2024-12-14T15:34:15.553817Z"
    }
   },
   "cell_type": "code",
   "source": [
    "# count\n",
    "L = [1, 332, 434, 2, 87, 28, 82, 28, 2, 28, 9, 6]\n",
    "\n",
    "L.count(28)"
   ],
   "id": "7bf42445ac032d82",
   "outputs": [
    {
     "data": {
      "text/plain": [
       "3"
      ]
     },
     "execution_count": 74,
     "metadata": {},
     "output_type": "execute_result"
    }
   ],
   "execution_count": 74
  },
  {
   "metadata": {
    "ExecuteTime": {
     "end_time": "2024-12-14T15:40:43.210987Z",
     "start_time": "2024-12-14T15:40:43.204302Z"
    }
   },
   "cell_type": "code",
   "source": [
    "# index\n",
    "L = [23, 43, 78, 81, 62, 87, 12]\n",
    "\n",
    "L.index(81)"
   ],
   "id": "8be386bbedf812b5",
   "outputs": [
    {
     "data": {
      "text/plain": [
       "3"
      ]
     },
     "execution_count": 78,
     "metadata": {},
     "output_type": "execute_result"
    }
   ],
   "execution_count": 78
  },
  {
   "metadata": {
    "ExecuteTime": {
     "end_time": "2024-12-14T15:41:42.122248Z",
     "start_time": "2024-12-14T15:41:42.116969Z"
    }
   },
   "cell_type": "code",
   "source": [
    "# reverse\n",
    "L = [23, 43, 78, 81, 62, 87, 12]\n",
    "\n",
    "L.reverse()\n",
    "print(L)"
   ],
   "id": "933723b434c12fe9",
   "outputs": [
    {
     "name": "stdout",
     "output_type": "stream",
     "text": [
      "[12, 87, 62, 81, 78, 43, 23]\n"
     ]
    }
   ],
   "execution_count": 79
  },
  {
   "metadata": {
    "ExecuteTime": {
     "end_time": "2024-12-14T15:43:32.440931Z",
     "start_time": "2024-12-14T15:43:32.437103Z"
    }
   },
   "cell_type": "code",
   "source": [
    "# Sort\n",
    "L = [23, 43, 78, 81, 62, 87, 12]\n",
    "\n",
    "L.sort()\n",
    "print(L)"
   ],
   "id": "42bdd55b2a2d164c",
   "outputs": [
    {
     "name": "stdout",
     "output_type": "stream",
     "text": [
      "[12, 23, 43, 62, 78, 81, 87]\n"
     ]
    }
   ],
   "execution_count": 81
  },
  {
   "metadata": {
    "ExecuteTime": {
     "end_time": "2024-12-14T15:45:01.654061Z",
     "start_time": "2024-12-14T15:45:01.645975Z"
    }
   },
   "cell_type": "code",
   "source": [
    "# copy\n",
    "L = [23, 43, 78, 81, 62, 87, 12]\n",
    "\n",
    "L2 = L.copy()\n",
    "\n",
    "print(L2)"
   ],
   "id": "675647b28306e2ce",
   "outputs": [
    {
     "name": "stdout",
     "output_type": "stream",
     "text": [
      "[23, 43, 78, 81, 62, 87, 12]\n"
     ]
    }
   ],
   "execution_count": 85
  },
  {
   "metadata": {
    "ExecuteTime": {
     "end_time": "2024-12-14T15:45:02.692996Z",
     "start_time": "2024-12-14T15:45:02.688140Z"
    }
   },
   "cell_type": "code",
   "source": [
    "L.append(18)\n",
    "print(L)\n",
    "\n",
    "print(L2)"
   ],
   "id": "67483c197db16852",
   "outputs": [
    {
     "name": "stdout",
     "output_type": "stream",
     "text": [
      "[23, 43, 78, 81, 62, 87, 12, 18]\n",
      "[23, 43, 78, 81, 62, 87, 12]\n"
     ]
    }
   ],
   "execution_count": 86
  }
 ],
 "metadata": {
  "kernelspec": {
   "display_name": "Python 3",
   "language": "python",
   "name": "python3"
  },
  "language_info": {
   "codemirror_mode": {
    "name": "ipython",
    "version": 2
   },
   "file_extension": ".py",
   "mimetype": "text/x-python",
   "name": "python",
   "nbconvert_exporter": "python",
   "pygments_lexer": "ipython2",
   "version": "2.7.6"
  }
 },
 "nbformat": 4,
 "nbformat_minor": 5
}
