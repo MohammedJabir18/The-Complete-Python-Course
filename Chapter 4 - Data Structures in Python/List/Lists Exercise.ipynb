{
 "cells": [
  {
   "metadata": {},
   "cell_type": "markdown",
   "source": "#### 1. Update no of items available",
   "id": "2fd7d99510b4bf1a"
  },
  {
   "metadata": {
    "ExecuteTime": {
     "end_time": "2024-12-15T09:30:55.179797Z",
     "start_time": "2024-12-15T09:30:55.173312Z"
    }
   },
   "cell_type": "code",
   "source": [
    "cars_name = [\"Audi\", \"BMW\", \"TATA\", \"Volvo\"]\n",
    "no_of_cars = [10, 20, 30, 5]\n",
    "\n",
    "for car, num in zip(cars_name, no_of_cars):\n",
    "    print(f\"{car} = {num}\")"
   ],
   "id": "ed8c1ea25535ca55",
   "outputs": [
    {
     "name": "stdout",
     "output_type": "stream",
     "text": [
      "Audi = 10\n",
      "BMW = 20\n",
      "TATA = 30\n",
      "Volvo = 5\n"
     ]
    }
   ],
   "execution_count": 16
  },
  {
   "metadata": {
    "ExecuteTime": {
     "end_time": "2024-12-15T09:30:55.204156Z",
     "start_time": "2024-12-15T09:30:55.198616Z"
    }
   },
   "cell_type": "code",
   "source": [
    "LC = [f\"{i} = {j}\" for i, j in zip(cars_name, no_of_cars)]\n",
    "\n",
    "print(LC)"
   ],
   "id": "3492912475356e20",
   "outputs": [
    {
     "name": "stdout",
     "output_type": "stream",
     "text": [
      "['Audi = 10', 'BMW = 20', 'TATA = 30', 'Volvo = 5']\n"
     ]
    }
   ],
   "execution_count": 17
  },
  {
   "metadata": {},
   "cell_type": "markdown",
   "source": "#### 2. You are given a list of integers. You are asked to make a list by running through elements of the list by adding all elements greater and itself.",
   "id": "415b871be8ae4bad"
  },
  {
   "metadata": {
    "ExecuteTime": {
     "end_time": "2024-12-16T05:59:26.075966Z",
     "start_time": "2024-12-16T05:59:26.049072Z"
    }
   },
   "cell_type": "code",
   "source": [
    "num_list = [2, 4, 6, 10, 1]\n",
    "\n",
    "result = []\n",
    "\n",
    "for i in num_list:\n",
    "    sum_ = 0\n",
    "    for j in num_list:\n",
    "        if i <= j:\n",
    "            sum_ += j\n",
    "    result.append(sum_)\n",
    "    \n",
    "print(result)"
   ],
   "id": "666acc66cfad93e9",
   "outputs": [
    {
     "name": "stdout",
     "output_type": "stream",
     "text": [
      "[22, 20, 16, 10, 23]\n"
     ]
    }
   ],
   "execution_count": 2
  },
  {
   "metadata": {},
   "cell_type": "markdown",
   "source": "#### 3. Find list of common unique items from two list. and show in increasing order",
   "id": "50f9876c4ed4212e"
  },
  {
   "metadata": {
    "ExecuteTime": {
     "end_time": "2024-12-16T06:15:12.046916Z",
     "start_time": "2024-12-16T06:15:12.036586Z"
    }
   },
   "cell_type": "code",
   "source": [
    "num_list1 = [23, 45, 67, 78, 89, 34, 67]\n",
    "num_list2 = [34, 89, 55, 56, 39, 67, 67]\n",
    "\n",
    "common_list = []\n",
    "\n",
    "for i in num_list1:\n",
    "    if i in num_list2:\n",
    "        if i not in common_list:\n",
    "            common_list.append(i)\n",
    "            \n",
    "print(common_list)"
   ],
   "id": "d0b92417d0e550be",
   "outputs": [
    {
     "name": "stdout",
     "output_type": "stream",
     "text": [
      "[67, 89, 34]\n"
     ]
    }
   ],
   "execution_count": 12
  }
 ],
 "metadata": {
  "kernelspec": {
   "display_name": "Python 3",
   "language": "python",
   "name": "python3"
  },
  "language_info": {
   "codemirror_mode": {
    "name": "ipython",
    "version": 2
   },
   "file_extension": ".py",
   "mimetype": "text/x-python",
   "name": "python",
   "nbconvert_exporter": "python",
   "pygments_lexer": "ipython2",
   "version": "2.7.6"
  }
 },
 "nbformat": 4,
 "nbformat_minor": 5
}
