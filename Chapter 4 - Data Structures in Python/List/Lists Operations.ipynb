{
 "cells": [
  {
   "metadata": {},
   "cell_type": "markdown",
   "source": [
    "# Operations on Lists\n",
    "- Arithmetic Operation\n",
    "- Membership Operation\n",
    "- Loop"
   ],
   "id": "f0ba4ed4cf8526f7"
  },
  {
   "metadata": {},
   "cell_type": "markdown",
   "source": "#### Arithmetic Operations",
   "id": "d9dd47f7f2fe91b9"
  },
  {
   "metadata": {
    "ExecuteTime": {
     "end_time": "2024-12-15T06:34:10.070354Z",
     "start_time": "2024-12-15T06:34:10.065133Z"
    }
   },
   "cell_type": "code",
   "source": [
    "L1 = [1, 2, 3, 4, 5]\n",
    "L2 = [3, 7, 1, 4, 9]"
   ],
   "id": "f25ecd245f750892",
   "outputs": [],
   "execution_count": 16
  },
  {
   "metadata": {
    "ExecuteTime": {
     "end_time": "2024-12-15T06:34:10.288415Z",
     "start_time": "2024-12-15T06:34:10.280134Z"
    }
   },
   "cell_type": "code",
   "source": [
    "# '+' Operator\n",
    "L1 + L2  # Concatenation"
   ],
   "id": "12945715fcd308b3",
   "outputs": [
    {
     "data": {
      "text/plain": [
       "[1, 2, 3, 4, 5, 3, 7, 1, 4, 9]"
      ]
     },
     "execution_count": 17,
     "metadata": {},
     "output_type": "execute_result"
    }
   ],
   "execution_count": 17
  },
  {
   "metadata": {
    "ExecuteTime": {
     "end_time": "2024-12-15T06:34:10.496999Z",
     "start_time": "2024-12-15T06:34:10.486598Z"
    }
   },
   "cell_type": "code",
   "source": [
    "# '*' Operator\n",
    "L1 * 3  # Repetition"
   ],
   "id": "7789dca146d73c6f",
   "outputs": [
    {
     "data": {
      "text/plain": [
       "[1, 2, 3, 4, 5, 1, 2, 3, 4, 5, 1, 2, 3, 4, 5]"
      ]
     },
     "execution_count": 18,
     "metadata": {},
     "output_type": "execute_result"
    }
   ],
   "execution_count": 18
  },
  {
   "metadata": {
    "ExecuteTime": {
     "end_time": "2024-12-15T06:34:11.135708Z",
     "start_time": "2024-12-15T06:34:11.112216Z"
    }
   },
   "cell_type": "code",
   "source": "L1 * L2",
   "id": "2fca0ddd40cffeb3",
   "outputs": [
    {
     "ename": "TypeError",
     "evalue": "can't multiply sequence by non-int of type 'list'",
     "output_type": "error",
     "traceback": [
      "\u001B[1;31m---------------------------------------------------------------------------\u001B[0m",
      "\u001B[1;31mTypeError\u001B[0m                                 Traceback (most recent call last)",
      "Cell \u001B[1;32mIn[19], line 1\u001B[0m\n\u001B[1;32m----> 1\u001B[0m L1 \u001B[38;5;241m*\u001B[39m L2\n",
      "\u001B[1;31mTypeError\u001B[0m: can't multiply sequence by non-int of type 'list'"
     ]
    }
   ],
   "execution_count": 19
  },
  {
   "metadata": {},
   "cell_type": "markdown",
   "source": "#### Membership Operations",
   "id": "4e1cd944807efe97"
  },
  {
   "metadata": {
    "ExecuteTime": {
     "end_time": "2024-12-15T06:35:59.939585Z",
     "start_time": "2024-12-15T06:35:59.930887Z"
    }
   },
   "cell_type": "code",
   "source": [
    "L1 = [1, 2, 3, 4, 5]\n",
    "L2 = [5, 6, [7, 8, 9]]"
   ],
   "id": "4843ac23c6fdf2e",
   "outputs": [],
   "execution_count": 20
  },
  {
   "metadata": {
    "ExecuteTime": {
     "end_time": "2024-12-15T06:36:53.940655Z",
     "start_time": "2024-12-15T06:36:53.932802Z"
    }
   },
   "cell_type": "code",
   "source": [
    "print(5 in L1)\n",
    "\n",
    "print(8 in L2)"
   ],
   "id": "ac829a0cd7c1fdde",
   "outputs": [
    {
     "name": "stdout",
     "output_type": "stream",
     "text": [
      "True\n",
      "False\n"
     ]
    }
   ],
   "execution_count": 23
  },
  {
   "metadata": {
    "ExecuteTime": {
     "end_time": "2024-12-15T06:37:59.745094Z",
     "start_time": "2024-12-15T06:37:59.726102Z"
    }
   },
   "cell_type": "code",
   "source": [
    "print([7, 3, 1] not in L2)\n",
    "\n",
    "print([7, 8, 9] not in L2)"
   ],
   "id": "112472a73057b73f",
   "outputs": [
    {
     "name": "stdout",
     "output_type": "stream",
     "text": [
      "True\n",
      "False\n"
     ]
    }
   ],
   "execution_count": 24
  },
  {
   "metadata": {},
   "cell_type": "markdown",
   "source": "#### Loop",
   "id": "48cf756a0e17a69a"
  },
  {
   "metadata": {
    "ExecuteTime": {
     "end_time": "2024-12-15T06:39:36.966753Z",
     "start_time": "2024-12-15T06:39:36.959161Z"
    }
   },
   "cell_type": "code",
   "source": [
    "L1 = [1, 2, 4, 5, 6]\n",
    "\n",
    "for i in L1:\n",
    "    print(i)"
   ],
   "id": "9c192692ac8d0d5e",
   "outputs": [
    {
     "name": "stdout",
     "output_type": "stream",
     "text": [
      "1\n",
      "2\n",
      "4\n",
      "5\n",
      "6\n"
     ]
    }
   ],
   "execution_count": 25
  }
 ],
 "metadata": {
  "kernelspec": {
   "display_name": "Python 3",
   "language": "python",
   "name": "python3"
  },
  "language_info": {
   "codemirror_mode": {
    "name": "ipython",
    "version": 2
   },
   "file_extension": ".py",
   "mimetype": "text/x-python",
   "name": "python",
   "nbconvert_exporter": "python",
   "pygments_lexer": "ipython2",
   "version": "2.7.6"
  }
 },
 "nbformat": 4,
 "nbformat_minor": 5
}
