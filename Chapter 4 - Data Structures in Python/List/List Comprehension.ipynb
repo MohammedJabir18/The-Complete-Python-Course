{
 "cells": [
  {
   "metadata": {},
   "cell_type": "markdown",
   "source": [
    "# List Comprehension\n",
    "\n",
    "List Comprehension provides a concise way of creating lists.\n",
    "\n",
    "new_list = [expression for item in iterable if condition == True]\n",
    "\n",
    "Advantage of List Comprehension\n",
    "- More time-efficient and space-efficient than loops.\n",
    "- Require fewer lines of code.\n",
    "- Transforms an iterative statement into a formula."
   ],
   "id": "fef9215edbf70ac4"
  },
  {
   "metadata": {
    "ExecuteTime": {
     "end_time": "2024-12-15T06:50:12.871256Z",
     "start_time": "2024-12-15T06:50:12.864399Z"
    }
   },
   "cell_type": "code",
   "source": [
    "# Add 1 to 10 numbers to a list\n",
    "# Ordinary method\n",
    "num_list = []\n",
    "\n",
    "for i in range(1, 11):\n",
    "    num_list.append(i)\n",
    "    \n",
    "print(num_list)"
   ],
   "id": "5a14c09ca8b0db03",
   "outputs": [
    {
     "name": "stdout",
     "output_type": "stream",
     "text": [
      "[1, 2, 3, 4, 5, 6, 7, 8, 9, 10]\n"
     ]
    }
   ],
   "execution_count": 3
  },
  {
   "metadata": {
    "ExecuteTime": {
     "end_time": "2024-12-15T06:50:44.212120Z",
     "start_time": "2024-12-15T06:50:44.206372Z"
    }
   },
   "cell_type": "code",
   "source": [
    "# Using list comprehension\n",
    "num_list = [x for x in range(1, 11)]\n",
    "\n",
    "print(num_list)"
   ],
   "id": "f10d54f712869a37",
   "outputs": [
    {
     "name": "stdout",
     "output_type": "stream",
     "text": [
      "[1, 2, 3, 4, 5, 6, 7, 8, 9, 10]\n"
     ]
    }
   ],
   "execution_count": 4
  },
  {
   "metadata": {
    "ExecuteTime": {
     "end_time": "2024-12-15T06:59:29.215737Z",
     "start_time": "2024-12-15T06:59:29.207317Z"
    }
   },
   "cell_type": "code",
   "source": [
    "# Scalar multiplication on a vector\n",
    "# Ordinary method\n",
    "v = [2, 3, 4]\n",
    "s = -3\n",
    "\n",
    "L = []\n",
    "\n",
    "for i in v:\n",
    "    result = i * s\n",
    "    L.append(result)\n",
    "    \n",
    "print(L)"
   ],
   "id": "165aa806ac94d47b",
   "outputs": [
    {
     "name": "stdout",
     "output_type": "stream",
     "text": [
      "[-6, -9, -12]\n"
     ]
    }
   ],
   "execution_count": 12
  },
  {
   "metadata": {
    "ExecuteTime": {
     "end_time": "2024-12-15T07:04:33.556116Z",
     "start_time": "2024-12-15T07:04:33.541502Z"
    }
   },
   "cell_type": "code",
   "source": [
    "# Using list comprehension\n",
    "L = [i * s for i in v]\n",
    "\n",
    "print(L)"
   ],
   "id": "95a0ae4872c7758",
   "outputs": [
    {
     "name": "stdout",
     "output_type": "stream",
     "text": [
      "[-6, -9, -12]\n"
     ]
    }
   ],
   "execution_count": 16
  },
  {
   "metadata": {
    "ExecuteTime": {
     "end_time": "2024-12-15T07:10:25.178447Z",
     "start_time": "2024-12-15T07:10:25.172465Z"
    }
   },
   "cell_type": "code",
   "source": [
    "# Add squares\n",
    "L = [1, 2, 3, 4, 5]\n",
    "\n",
    "square_L = [i**2 for i in L]\n",
    "\n",
    "print(square_L)"
   ],
   "id": "2ae9605d6c1cf7ca",
   "outputs": [
    {
     "name": "stdout",
     "output_type": "stream",
     "text": [
      "[1, 4, 9, 16, 25]\n"
     ]
    }
   ],
   "execution_count": 23
  },
  {
   "metadata": {
    "ExecuteTime": {
     "end_time": "2024-12-15T07:19:27.524853Z",
     "start_time": "2024-12-15T07:19:27.515504Z"
    }
   },
   "cell_type": "code",
   "source": [
    "# Print all numbers divisible by 5 in the range of 1 to 50\n",
    "# Ordinary method \n",
    "new_list = []\n",
    "\n",
    "for i in range(1, 51):\n",
    "    if i % 5 == 0:\n",
    "        new_list.append(i)\n",
    "        \n",
    "print(new_list)"
   ],
   "id": "356c256252e8b30",
   "outputs": [
    {
     "name": "stdout",
     "output_type": "stream",
     "text": [
      "[5, 10, 15, 20, 25, 30, 35, 40, 45, 50]\n"
     ]
    }
   ],
   "execution_count": 28
  },
  {
   "metadata": {
    "ExecuteTime": {
     "end_time": "2024-12-15T07:19:40.126789Z",
     "start_time": "2024-12-15T07:19:40.120435Z"
    }
   },
   "cell_type": "code",
   "source": [
    "# Using list comprehension\n",
    "num_list = [x for x in range(1, 51) if x % 5 == 0]\n",
    "\n",
    "print(num_list)"
   ],
   "id": "bae227ab34d5ebdb",
   "outputs": [
    {
     "name": "stdout",
     "output_type": "stream",
     "text": [
      "[5, 10, 15, 20, 25, 30, 35, 40, 45, 50]\n"
     ]
    }
   ],
   "execution_count": 29
  },
  {
   "metadata": {
    "ExecuteTime": {
     "end_time": "2024-12-15T07:26:41.027775Z",
     "start_time": "2024-12-15T07:26:41.016737Z"
    }
   },
   "cell_type": "code",
   "source": [
    "# Find languages which start with letter p\n",
    "languages = ['java', 'python', 'php', 'c', 'javascript']\n",
    "\n",
    "L = [x for x in languages if x.startswith(\"p\")]\n",
    "\n",
    "print(L)"
   ],
   "id": "7179c87aeaeca26",
   "outputs": [
    {
     "name": "stdout",
     "output_type": "stream",
     "text": [
      "['python', 'php']\n"
     ]
    }
   ],
   "execution_count": 30
  }
 ],
 "metadata": {
  "kernelspec": {
   "display_name": "Python 3",
   "language": "python",
   "name": "python3"
  },
  "language_info": {
   "codemirror_mode": {
    "name": "ipython",
    "version": 2
   },
   "file_extension": ".py",
   "mimetype": "text/x-python",
   "name": "python",
   "nbconvert_exporter": "python",
   "pygments_lexer": "ipython2",
   "version": "2.7.6"
  }
 },
 "nbformat": 4,
 "nbformat_minor": 5
}
