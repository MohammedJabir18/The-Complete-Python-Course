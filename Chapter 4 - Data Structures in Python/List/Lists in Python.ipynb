{
 "cells": [
  {
   "metadata": {},
   "cell_type": "markdown",
   "source": [
    "# Lists\n",
    "\n",
    "- What are Lists?\n",
    "- Lists vs Arrays \n",
    "- Characteristics of a List\n",
    "- How to create a list\n",
    "- Access items from a list\n",
    "- Editing items in a list\n",
    "- Deleting items from a list\n",
    "- Operations on Lists\n",
    "- Functions on Lists\n",
    "- List comprehension"
   ],
   "id": "3ecbf7b0e7bae10e"
  },
  {
   "metadata": {},
   "cell_type": "markdown",
   "source": [
    "## Explanation of Lists as Ordered, Mutable Sequences\n",
    "Lists are versatile and widely used in Python for their dynamic nature. As ordered and mutable sequences, lists provide flexibility for storing and manipulating data."
   ],
   "id": "948df5007a89b51"
  },
  {
   "metadata": {},
   "cell_type": "markdown",
   "source": [
    "| Feature                     | List                                      | Array                                      |\n",
    "|-----------------------------|-------------------------------------------|--------------------------------------------|\n",
    "| **Type of Elements**        | Can contain elements of **multiple data types** (e.g., integers, strings). | Can only contain elements of the **same data type**. |\n",
    "| **Data Structure**          | Built-in data structure in Python.       | Requires importing from the `array` or `numpy` module. |\n",
    "| **Memory Usage**            | Generally consumes **more memory** due to flexibility. | More memory-efficient, as it stores elements contiguously. |\n",
    "| **Arithmetic Operations**   | Cannot perform direct arithmetic operations on elements. | Supports direct arithmetic operations, making it suitable for numerical computations. |\n",
    "| **Flexibility**             | Highly flexible; allows easy modification and resizing. | Less flexible; resizing requires creating a new array. |\n",
    "| **Accessing Elements**      | Can access elements without explicit loops. | Requires explicit loops to access elements. |\n",
    "| **Performance**             | Slower for numerical computations compared to arrays. | Optimized for performance in numerical tasks, generally faster than lists for such operations. |\n",
    "| **Use Cases**               | Ideal for general-purpose programming and when data types vary. | Best suited for numerical data and when performance is critical. |\n"
   ],
   "id": "35ad587fcd56fab"
  },
  {
   "metadata": {
    "ExecuteTime": {
     "end_time": "2024-12-14T13:29:15.401002Z",
     "start_time": "2024-12-14T13:29:15.394393Z"
    }
   },
   "cell_type": "code",
   "source": [
    "L = [1, 2, 3]\n",
    "\n",
    "# Id() function is used for showing the memory address of this particular list\n",
    "print(id(L))  \n",
    "print(id(L[0]))\n",
    "print(id(L[1]))\n",
    "print(id(L[2]))"
   ],
   "id": "4b6dbe110cdbb073",
   "outputs": [
    {
     "name": "stdout",
     "output_type": "stream",
     "text": [
      "2298248158784\n",
      "140736194659112\n",
      "140736194659144\n",
      "140736194659176\n"
     ]
    }
   ],
   "execution_count": 11
  },
  {
   "metadata": {
    "ExecuteTime": {
     "end_time": "2024-12-14T13:31:02.226230Z",
     "start_time": "2024-12-14T13:31:02.221657Z"
    }
   },
   "cell_type": "code",
   "source": [
    "print(id(1))\n",
    "print(id(2))\n",
    "print(id(3))"
   ],
   "id": "3bae9f2b8c4277c",
   "outputs": [
    {
     "name": "stdout",
     "output_type": "stream",
     "text": [
      "140736194659112\n",
      "140736194659144\n",
      "140736194659176\n"
     ]
    }
   ],
   "execution_count": 12
  },
  {
   "metadata": {},
   "cell_type": "markdown",
   "source": [
    "## Characteristics of a Python List\n",
    "Python lists are versatile data structures that come with several important characteristics:\n",
    "- Ordered: Lists maintain the order of elements as they are inserted. This means that the first element added will be at index 0, the second at index 1, and so on12.\n",
    "- Mutable: Lists are mutable, allowing for modification of their elements after creation. You can change, add, or remove items from a list14.\n",
    "- Heterogeneous: Lists can store elements of various data types within the same list. For example, a list can contain integers, strings, and even other lists34.\n",
    "- Dynamic: Lists can dynamically expand or shrink in size to accommodate the number of items they hold. This flexibility is one of their key advantages over static arrays12.\n",
    "- Duplicate Elements: Lists allow for duplicate values, meaning you can have multiple occurrences of the same element within a single list"
   ],
   "id": "f5fa760f48cae9ae"
  },
  {
   "metadata": {
    "ExecuteTime": {
     "end_time": "2024-12-14T13:42:31.314634Z",
     "start_time": "2024-12-14T13:42:31.304977Z"
    }
   },
   "cell_type": "code",
   "source": [
    "L1 = [1, 2, 3]\n",
    "L2 = [2, 3, 1]\n",
    "\n",
    "L1 == L2  # It's False. Because It's an incorrect order"
   ],
   "id": "8cadb393637bdec3",
   "outputs": [
    {
     "data": {
      "text/plain": [
       "False"
      ]
     },
     "execution_count": 13,
     "metadata": {},
     "output_type": "execute_result"
    }
   ],
   "execution_count": 13
  },
  {
   "metadata": {
    "ExecuteTime": {
     "end_time": "2024-12-14T13:45:18.011431Z",
     "start_time": "2024-12-14T13:45:18.005263Z"
    }
   },
   "cell_type": "code",
   "source": "L1[-1]  # Last character print ",
   "id": "5433ecd76bed31b4",
   "outputs": [
    {
     "data": {
      "text/plain": [
       "3"
      ]
     },
     "execution_count": 15,
     "metadata": {},
     "output_type": "execute_result"
    }
   ],
   "execution_count": 15
  },
  {
   "metadata": {},
   "cell_type": "markdown",
   "source": "## Creating a List",
   "id": "cf03ed8ffdf56749"
  },
  {
   "metadata": {
    "ExecuteTime": {
     "end_time": "2024-12-14T13:54:58.797262Z",
     "start_time": "2024-12-14T13:54:58.774427Z"
    }
   },
   "cell_type": "code",
   "source": [
    "# Empty\n",
    "print([])\n",
    "\n",
    "print(type([]))"
   ],
   "id": "49446d2b074388f4",
   "outputs": [
    {
     "name": "stdout",
     "output_type": "stream",
     "text": [
      "[]\n",
      "<class 'list'>\n"
     ]
    }
   ],
   "execution_count": 24
  },
  {
   "metadata": {
    "ExecuteTime": {
     "end_time": "2024-12-14T13:47:16.894979Z",
     "start_time": "2024-12-14T13:47:16.889556Z"
    }
   },
   "cell_type": "code",
   "source": [
    "# 1D\n",
    "print([1, 2, 3, 4, 5, 6])"
   ],
   "id": "ba88f7c716295cd0",
   "outputs": [
    {
     "name": "stdout",
     "output_type": "stream",
     "text": [
      "[1, 2, 3, 4, 5, 6]\n"
     ]
    }
   ],
   "execution_count": 17
  },
  {
   "metadata": {
    "ExecuteTime": {
     "end_time": "2024-12-14T13:48:50.864935Z",
     "start_time": "2024-12-14T13:48:50.857976Z"
    }
   },
   "cell_type": "code",
   "source": [
    "# 2D\n",
    "print([\n",
    "    [1, 2, 3,],\n",
    "    [4, 5, 6]\n",
    "])"
   ],
   "id": "c629c681e331337a",
   "outputs": [
    {
     "name": "stdout",
     "output_type": "stream",
     "text": [
      "[[1, 2, 3], [4, 5, 6]]\n"
     ]
    }
   ],
   "execution_count": 19
  },
  {
   "metadata": {
    "ExecuteTime": {
     "end_time": "2024-12-14T13:51:44.679194Z",
     "start_time": "2024-12-14T13:51:44.672921Z"
    }
   },
   "cell_type": "code",
   "source": [
    "# 3D\n",
    "print([\n",
    "    [\n",
    "        [1, 2, 3],\n",
    "        [4, 5, 6],\n",
    "        [7, 8, 9]\n",
    "    ],\n",
    "    [\n",
    "        [10, 20, 30],\n",
    "        [40, 50, 60],\n",
    "        [70, 80, 90]\n",
    "    ]\n",
    "])"
   ],
   "id": "8906fc809eb32b4d",
   "outputs": [
    {
     "name": "stdout",
     "output_type": "stream",
     "text": [
      "[[[1, 2, 3], [4, 5, 6], [7, 8, 9]], [[10, 20, 30], [40, 50, 60], [70, 80, 90]]]\n"
     ]
    }
   ],
   "execution_count": 20
  },
  {
   "metadata": {
    "ExecuteTime": {
     "end_time": "2024-12-14T13:53:08.703469Z",
     "start_time": "2024-12-14T13:53:08.698378Z"
    }
   },
   "cell_type": "code",
   "source": [
    "# Heterogeneous\n",
    "print([1, True, 5.18, \"Python\"])"
   ],
   "id": "6931dcc0e0a4b363",
   "outputs": [
    {
     "name": "stdout",
     "output_type": "stream",
     "text": [
      "[1, True, 5.18, 'Python']\n"
     ]
    }
   ],
   "execution_count": 21
  },
  {
   "metadata": {
    "ExecuteTime": {
     "end_time": "2024-12-14T13:54:07.613494Z",
     "start_time": "2024-12-14T13:54:07.606940Z"
    }
   },
   "cell_type": "code",
   "source": [
    "# Using Type conversion\n",
    "print(list(\"Hello\"))"
   ],
   "id": "64ace4d824bb5292",
   "outputs": [
    {
     "name": "stdout",
     "output_type": "stream",
     "text": [
      "['H', 'e', 'l', 'l', 'o']\n"
     ]
    }
   ],
   "execution_count": 23
  },
  {
   "metadata": {},
   "cell_type": "markdown",
   "source": "## Accessing Items from a list",
   "id": "1c7389a5dcdb7cf5"
  },
  {
   "metadata": {
    "ExecuteTime": {
     "end_time": "2024-12-14T13:59:26.313213Z",
     "start_time": "2024-12-14T13:59:26.307224Z"
    }
   },
   "cell_type": "code",
   "source": [
    "# Access 1D list\n",
    "l = [1, 2, 3, 4, 5, 6]\n",
    "print(l)\n",
    "\n",
    "print(l[0:2])\n",
    "print(l[::-1])"
   ],
   "id": "bc090780518646f6",
   "outputs": [
    {
     "name": "stdout",
     "output_type": "stream",
     "text": [
      "[1, 2, 3, 4, 5, 6]\n",
      "[1, 2]\n",
      "[6, 5, 4, 3, 2, 1]\n"
     ]
    }
   ],
   "execution_count": 26
  },
  {
   "metadata": {
    "ExecuteTime": {
     "end_time": "2024-12-14T14:13:28.464187Z",
     "start_time": "2024-12-14T14:13:28.454644Z"
    }
   },
   "cell_type": "code",
   "source": [
    "# Access 2D list\n",
    "l = [\n",
    "    [1, 2, 3],\n",
    "    [4, 5, 6]\n",
    "]\n",
    "print(l)\n",
    "\n",
    "print(l[1][1:3])"
   ],
   "id": "a0edf85170f03291",
   "outputs": [
    {
     "name": "stdout",
     "output_type": "stream",
     "text": [
      "[[1, 2, 3], [4, 5, 6]]\n",
      "[5, 6]\n"
     ]
    }
   ],
   "execution_count": 71
  },
  {
   "metadata": {
    "ExecuteTime": {
     "end_time": "2024-12-14T14:17:11.146929Z",
     "start_time": "2024-12-14T14:17:11.140679Z"
    }
   },
   "cell_type": "code",
   "source": [
    "# Access 3D list\n",
    "l = [\n",
    "    [\n",
    "        [1, 2, 3],\n",
    "        [4, 5, 6],\n",
    "        [7, 8, 9]\n",
    "    ],\n",
    "    [\n",
    "        [10, 20, 30],\n",
    "        [40, 50, 60],\n",
    "        [70, 80, 90]\n",
    "    ]\n",
    "]\n",
    "\n",
    "print(l[1][1][1])  # If I want to print only 50\n",
    "print(l[0][1:][1])"
   ],
   "id": "d43747cb9e9c2c33",
   "outputs": [
    {
     "name": "stdout",
     "output_type": "stream",
     "text": [
      "50\n",
      "[7, 8, 9]\n"
     ]
    }
   ],
   "execution_count": 78
  }
 ],
 "metadata": {
  "kernelspec": {
   "display_name": "Python 3",
   "language": "python",
   "name": "python3"
  },
  "language_info": {
   "codemirror_mode": {
    "name": "ipython",
    "version": 2
   },
   "file_extension": ".py",
   "mimetype": "text/x-python",
   "name": "python",
   "nbconvert_exporter": "python",
   "pygments_lexer": "ipython2",
   "version": "2.7.6"
  }
 },
 "nbformat": 4,
 "nbformat_minor": 5
}
