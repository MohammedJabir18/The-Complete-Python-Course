{
 "cells": [
  {
   "metadata": {},
   "cell_type": "markdown",
   "source": [
    "# Zip\n",
    "The zip() function in Python is a built-in utility that allows you to combine multiple iterables (such as lists, tuples, or strings) into a single iterator of tuples. Each tuple contains elements from the input iterables at the same index. Here’s a detailed overview of how it works, its syntax, and practical examples.\n",
    "\n",
    "## Overview of zip()\n",
    "- Purpose: The primary purpose of zip() is to aggregate elements from multiple iterables into tuples, creating pairs (or larger groups) based on their positions.\n",
    "- Return Type: It returns an iterator of tuples. If no arguments are provided, it returns an empty iterator. If a single iterable is passed, it returns an iterator of 1-tuples. If multiple iterables are provided, the resulting tuples will contain elements from each iterable until the shortest one is exhausted."
   ],
   "id": "d86eecd80eb7fa08"
  },
  {
   "metadata": {
    "ExecuteTime": {
     "end_time": "2024-12-15T08:32:51.567562Z",
     "start_time": "2024-12-15T08:32:51.558734Z"
    }
   },
   "cell_type": "code",
   "source": [
    "languages = [\"Java\", \"Python\", \"JavaScript\", \"C++\"]\n",
    "versions = [14, 3, 6, 23]\n",
    "\n",
    "result = zip(languages, versions)\n",
    "print(list(result))"
   ],
   "id": "2065d23c826ea66f",
   "outputs": [
    {
     "name": "stdout",
     "output_type": "stream",
     "text": [
      "[('Java', 14), ('Python', 3), ('JavaScript', 6), ('C++', 23)]\n"
     ]
    }
   ],
   "execution_count": 4
  },
  {
   "metadata": {
    "ExecuteTime": {
     "end_time": "2024-12-15T08:40:57.150679Z",
     "start_time": "2024-12-15T08:40:57.133706Z"
    }
   },
   "cell_type": "code",
   "source": [
    "student_name = [\"Jabir\", \"Alex\", \"Harish\", \"Kumar\", \"Hijas\"]\n",
    "roll_no = [1, 2, 3, 4, 5]\n",
    "\n",
    "print(list(zip(roll_no, student_name)))"
   ],
   "id": "566379619a93db73",
   "outputs": [
    {
     "name": "stdout",
     "output_type": "stream",
     "text": [
      "[(1, 'Jabir'), (2, 'Alex'), (3, 'Harish'), (4, 'Kumar'), (5, 'Hijas')]\n"
     ]
    }
   ],
   "execution_count": 9
  },
  {
   "metadata": {
    "ExecuteTime": {
     "end_time": "2024-12-15T08:40:57.681101Z",
     "start_time": "2024-12-15T08:40:57.664901Z"
    }
   },
   "cell_type": "code",
   "source": [
    "# Adding to lists\n",
    "L1 = [1, 2, 3, 4]\n",
    "L2 = [5, 6, 7 ,8]\n",
    "\n",
    "_sum = [i+j for i, j in zip(L1, L2)]\n",
    "\n",
    "print(_sum)"
   ],
   "id": "71967a47dea27546",
   "outputs": [
    {
     "name": "stdout",
     "output_type": "stream",
     "text": [
      "[6, 8, 10, 12]\n"
     ]
    }
   ],
   "execution_count": 10
  },
  {
   "metadata": {
    "ExecuteTime": {
     "end_time": "2024-12-15T08:43:51.797847Z",
     "start_time": "2024-12-15T08:43:51.778430Z"
    }
   },
   "cell_type": "code",
   "source": [
    "L1 = [1, 2, 3, 4]\n",
    "L2 = [5, 6, 7 ,8]\n",
    "L3 = [9, 10]\n",
    "\n",
    "print(list(zip(L1, L2, L3)))"
   ],
   "id": "56d7f2987500452b",
   "outputs": [
    {
     "name": "stdout",
     "output_type": "stream",
     "text": [
      "[(1, 5, 9), (2, 6, 10)]\n"
     ]
    }
   ],
   "execution_count": 15
  },
  {
   "metadata": {
    "ExecuteTime": {
     "end_time": "2024-12-15T08:46:29.193858Z",
     "start_time": "2024-12-15T08:46:29.188257Z"
    }
   },
   "cell_type": "code",
   "source": [
    "languages = [\"Java\", \"Python\", \"JavaScript\", \"C++\"]\n",
    "versions = [14, 3, 6, 23]\n",
    "\n",
    "for language, version in zip(languages, versions):\n",
    "    print(f\"{language}: {version}\")"
   ],
   "id": "772a36772513f429",
   "outputs": [
    {
     "name": "stdout",
     "output_type": "stream",
     "text": [
      "Java: 14\n",
      "Python: 3\n",
      "JavaScript: 6\n",
      "C++: 23\n"
     ]
    }
   ],
   "execution_count": 19
  }
 ],
 "metadata": {
  "kernelspec": {
   "display_name": "Python 3",
   "language": "python",
   "name": "python3"
  },
  "language_info": {
   "codemirror_mode": {
    "name": "ipython",
    "version": 2
   },
   "file_extension": ".py",
   "mimetype": "text/x-python",
   "name": "python",
   "nbconvert_exporter": "python",
   "pygments_lexer": "ipython2",
   "version": "2.7.6"
  }
 },
 "nbformat": 4,
 "nbformat_minor": 5
}
