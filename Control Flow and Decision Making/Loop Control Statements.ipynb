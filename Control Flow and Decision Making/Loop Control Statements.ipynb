{
 "cells": [
  {
   "metadata": {},
   "cell_type": "markdown",
   "source": [
    "# Loop Control Statements\n",
    "In the world of programming, loops play a pivotal role in executing a set of instructions repeatedly. However, there are instances where you may need to exert finer control over the flow of the loop. Python provides two essential loop control statements,  <b>break</b>,  <b>continue</b> , and <b>pass</b> each serving a distinct purpose."
   ],
   "id": "36c4efab068ac842"
  },
  {
   "metadata": {},
   "cell_type": "markdown",
   "source": [
    "## Using break  to Exit a Loop Prematurely\n",
    "The  <b>break</b>  statement is a powerful tool that allows you to exit a loop prematurely based on a certain condition. This can be particularly useful when you want to terminate a loop before it reaches its natural conclusion. Let's delve into an illustrative example to understand its practical application."
   ],
   "id": "107dfce0d2066a9c"
  },
  {
   "metadata": {
    "ExecuteTime": {
     "end_time": "2024-12-07T13:42:37.957260Z",
     "start_time": "2024-12-07T13:42:37.945605Z"
    }
   },
   "cell_type": "code",
   "source": [
    "# Using break to exit a loop when a specific condition is met\n",
    "for i in range(1, 11):\n",
    "    if i == 5:\n",
    "        print(\"Condition met. Exiting loop.\")\n",
    "        break\n",
    "    print(\"Current number:\", i)"
   ],
   "id": "e10d1dd35122cefc",
   "outputs": [
    {
     "name": "stdout",
     "output_type": "stream",
     "text": [
      "Current number: 1\n",
      "Current number: 2\n",
      "Current number: 3\n",
      "Current number: 4\n",
      "Condition met. Exiting loop.\n"
     ]
    }
   ],
   "execution_count": 1
  },
  {
   "metadata": {},
   "cell_type": "markdown",
   "source": "In this example, the loop iterates through numbers from 0 to 9. However, when it encounters the number 5, the  <b>break</b>  statement is triggered, causing an early exit from the loop. The result is a printout up to the number 4.",
   "id": "d392a93206f0d7cb"
  },
  {
   "metadata": {
    "ExecuteTime": {
     "end_time": "2024-12-07T14:02:42.294835Z",
     "start_time": "2024-12-07T14:02:42.288555Z"
    }
   },
   "cell_type": "code",
   "source": [
    "# Find prime numbers in a range\n",
    "lower = 10\n",
    "upper = 100\n",
    "\n",
    "for i in range(lower, upper+1):\n",
    "    for j in range(2, i//2):\n",
    "        if i % j == 0:\n",
    "            break\n",
    "    else:\n",
    "        print(i)\n",
    "        "
   ],
   "id": "ad86b9fe927789cd",
   "outputs": [
    {
     "name": "stdout",
     "output_type": "stream",
     "text": [
      "11\n",
      "13\n",
      "17\n",
      "19\n",
      "23\n",
      "29\n",
      "31\n",
      "37\n",
      "41\n",
      "43\n",
      "47\n",
      "53\n",
      "59\n",
      "61\n",
      "67\n",
      "71\n",
      "73\n",
      "79\n",
      "83\n",
      "89\n",
      "97\n"
     ]
    }
   ],
   "execution_count": 6
  },
  {
   "metadata": {},
   "cell_type": "markdown",
   "source": [
    "## Using continue  to Skip the Rest of the Loop and Move to the Next Iteration\n",
    "While  <b>break</b>  allows you to exit a loop, the  <b>continue</b>  statement provides a means to skip the rest of the code within the loop for the current iteration and move on to the next one. This can be particularly handy when certain conditions should lead to the skipping of specific iterations."
   ],
   "id": "451b11e22703ae96"
  },
  {
   "metadata": {
    "ExecuteTime": {
     "end_time": "2024-12-07T14:08:54.563964Z",
     "start_time": "2024-12-07T14:08:54.558126Z"
    }
   },
   "cell_type": "code",
   "source": [
    "# Using continue to skip a specific number\n",
    "for i in range(1, 11):\n",
    "    if i == 5:\n",
    "        continue\n",
    "    print(i)"
   ],
   "id": "9f2a4b7d41e42476",
   "outputs": [
    {
     "name": "stdout",
     "output_type": "stream",
     "text": [
      "1\n",
      "2\n",
      "3\n",
      "4\n",
      "6\n",
      "7\n",
      "8\n",
      "9\n",
      "10\n"
     ]
    }
   ],
   "execution_count": 7
  },
  {
   "metadata": {
    "ExecuteTime": {
     "end_time": "2024-12-07T13:48:15.667594Z",
     "start_time": "2024-12-07T13:48:15.662425Z"
    }
   },
   "cell_type": "code",
   "source": [
    "# Using continue to skip the rest of the loop for even numbers\n",
    "for i in range(1, 11):\n",
    "    if i % 2 == 0:\n",
    "        continue\n",
    "    print(i)"
   ],
   "id": "6984faa7b98e1c3",
   "outputs": [
    {
     "name": "stdout",
     "output_type": "stream",
     "text": [
      "1\n",
      "3\n",
      "5\n",
      "7\n",
      "9\n"
     ]
    }
   ],
   "execution_count": 2
  },
  {
   "metadata": {},
   "cell_type": "markdown",
   "source": [
    "## Pass\n",
    "The <b>pass</b> keyword in Python is a null statement or placeholder that does nothing when executed. It is used when a statement is syntactically required but you don't want to execute any code at that point"
   ],
   "id": "e4dffeb8a375a3d2"
  },
  {
   "metadata": {
    "ExecuteTime": {
     "end_time": "2024-12-07T14:27:24.591591Z",
     "start_time": "2024-12-07T14:27:24.563981Z"
    }
   },
   "cell_type": "code",
   "source": [
    "for i in range(10):\n",
    "    "
   ],
   "id": "9d9550edb5244b3b",
   "outputs": [
    {
     "ename": "SyntaxError",
     "evalue": "incomplete input (2651680332.py, line 2)",
     "output_type": "error",
     "traceback": [
      "\u001B[1;36m  Cell \u001B[1;32mIn[9], line 2\u001B[1;36m\u001B[0m\n\u001B[1;33m    \u001B[0m\n\u001B[1;37m    ^\u001B[0m\n\u001B[1;31mSyntaxError\u001B[0m\u001B[1;31m:\u001B[0m incomplete input\n"
     ]
    }
   ],
   "execution_count": 9
  },
  {
   "metadata": {
    "ExecuteTime": {
     "end_time": "2024-12-07T14:28:15.134899Z",
     "start_time": "2024-12-07T14:28:15.128860Z"
    }
   },
   "cell_type": "code",
   "source": [
    "for i in range(10):\n",
    "    pass"
   ],
   "id": "4a4c7b82cea44e99",
   "outputs": [],
   "execution_count": 13
  }
 ],
 "metadata": {
  "kernelspec": {
   "display_name": "Python 3",
   "language": "python",
   "name": "python3"
  },
  "language_info": {
   "codemirror_mode": {
    "name": "ipython",
    "version": 2
   },
   "file_extension": ".py",
   "mimetype": "text/x-python",
   "name": "python",
   "nbconvert_exporter": "python",
   "pygments_lexer": "ipython2",
   "version": "2.7.6"
  }
 },
 "nbformat": 4,
 "nbformat_minor": 5
}
