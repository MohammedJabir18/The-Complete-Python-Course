{
 "cells": [
  {
   "metadata": {},
   "cell_type": "markdown",
   "source": [
    "# The while  Loop and Conditional Looping\n",
    "While the for  loop is ideal for iterating over known sequences, the while loop is employed when the number of iterations is unknown, and the loop continues as long as a certain condition is true."
   ],
   "id": "d7cac7576aecc623"
  },
  {
   "metadata": {
    "ExecuteTime": {
     "end_time": "2024-12-06T15:06:29.251536Z",
     "start_time": "2024-12-06T15:06:29.246170Z"
    }
   },
   "cell_type": "code",
   "source": [
    "# Example: Using a while loop to print numbers from 1 to 5\n",
    "counter = 1\n",
    "while counter <= 5:\n",
    "    print(counter)\n",
    "    counter += 1"
   ],
   "id": "e736d9b015028e8d",
   "outputs": [
    {
     "name": "stdout",
     "output_type": "stream",
     "text": [
      "1\n",
      "2\n",
      "3\n",
      "4\n",
      "5\n"
     ]
    }
   ],
   "execution_count": 2
  },
  {
   "metadata": {},
   "cell_type": "markdown",
   "source": "In this example, the  while  loop prints numbers from 1 to 5. The loop continues iterating as long as the  counter  variable is less than or equal to 5.",
   "id": "5e65c3244656e827"
  },
  {
   "metadata": {},
   "cell_type": "markdown",
   "source": [
    "### Case Study: Analyzing User Input\n",
    "Let's apply our knowledge of loops to a practical scenario. Consider a program that repeatedly prompts the user for a number until valid input is received. We'll use a  while  loop for this interactive input validation:"
   ],
   "id": "873fa47c1ec80169"
  },
  {
   "metadata": {
    "ExecuteTime": {
     "end_time": "2024-12-06T15:14:32.688420Z",
     "start_time": "2024-12-06T15:14:18.502681Z"
    }
   },
   "cell_type": "code",
   "source": [
    "# Example: Input validation using a while loop\n",
    "while True:\n",
    "    user_input= input(\"Enter a number: \")\n",
    "    if user_input.isdigit():\n",
    "        break\n",
    "    else:\n",
    "        print(\"Invalid input. Please enter a valid number: \")"
   ],
   "id": "21c3055e4b206f52",
   "outputs": [
    {
     "name": "stdout",
     "output_type": "stream",
     "text": [
      "Invalid input. Please enter a valid number: \n",
      "Invalid input. Please enter a valid number: \n",
      "Invalid input. Please enter a valid number: \n"
     ]
    }
   ],
   "execution_count": 5
  },
  {
   "metadata": {},
   "cell_type": "markdown",
   "source": "In this case study, the  while  loop continues until the user provides a valid numerical input. The  isdigit()  method checks if the input consists of digits only, allowing the program to break out of the loop when valid input is detected.",
   "id": "5c4ef2bbdfd68907"
  },
  {
   "metadata": {},
   "cell_type": "markdown",
   "source": "##### While Loop with else",
   "id": "fd1d3c5860571763"
  },
  {
   "metadata": {
    "ExecuteTime": {
     "end_time": "2024-12-06T15:40:41.662769Z",
     "start_time": "2024-12-06T15:40:41.657771Z"
    }
   },
   "cell_type": "code",
   "source": [
    "i = 1\n",
    "while i <= 10:\n",
    "    print(i)\n",
    "    i += 1\n",
    "    # if i == 8:\n",
    "    #   break   # If break statement did it the else won't be work\n",
    "else:\n",
    "    print(\"Code fully executed\")\n"
   ],
   "id": "cd5cfa7cda0b861",
   "outputs": [
    {
     "name": "stdout",
     "output_type": "stream",
     "text": [
      "1\n",
      "2\n",
      "3\n",
      "4\n",
      "5\n",
      "6\n",
      "7\n",
      "8\n",
      "9\n",
      "10\n",
      "Code fully executed\n"
     ]
    }
   ],
   "execution_count": 7
  }
 ],
 "metadata": {
  "kernelspec": {
   "display_name": "Python 3",
   "language": "python",
   "name": "python3"
  },
  "language_info": {
   "codemirror_mode": {
    "name": "ipython",
    "version": 2
   },
   "file_extension": ".py",
   "mimetype": "text/x-python",
   "name": "python",
   "nbconvert_exporter": "python",
   "pygments_lexer": "ipython2",
   "version": "2.7.6"
  }
 },
 "nbformat": 4,
 "nbformat_minor": 5
}
