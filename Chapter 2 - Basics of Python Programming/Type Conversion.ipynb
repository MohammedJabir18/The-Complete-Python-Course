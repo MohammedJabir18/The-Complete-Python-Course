{
 "cells": [
  {
   "metadata": {},
   "cell_type": "markdown",
   "source": [
    "#### Implicit Type Conversion - Internally by Python\n",
    "#### Explicit Type Conversion - By the Programmers"
   ],
   "id": "b15690c0573e2cf7"
  },
  {
   "metadata": {
    "ExecuteTime": {
     "end_time": "2024-12-03T16:02:52.067349Z",
     "start_time": "2024-12-03T16:02:52.056220Z"
    }
   },
   "cell_type": "code",
   "source": [
    "# Implicit Type Conversion\n",
    "\n",
    "print(5 + 5.5)"
   ],
   "id": "c837970bbf43d9b0",
   "outputs": [
    {
     "name": "stdout",
     "output_type": "stream",
     "text": [
      "10.5\n"
     ]
    }
   ],
   "execution_count": 1
  },
  {
   "metadata": {
    "ExecuteTime": {
     "end_time": "2024-12-03T16:02:57.509376Z",
     "start_time": "2024-12-03T16:02:57.497832Z"
    }
   },
   "cell_type": "code",
   "source": "type(5)",
   "id": "e5bc564dd3f3358e",
   "outputs": [
    {
     "data": {
      "text/plain": [
       "int"
      ]
     },
     "execution_count": 2,
     "metadata": {},
     "output_type": "execute_result"
    }
   ],
   "execution_count": 2
  },
  {
   "metadata": {
    "ExecuteTime": {
     "end_time": "2024-12-03T16:03:06.822503Z",
     "start_time": "2024-12-03T16:03:06.808282Z"
    }
   },
   "cell_type": "code",
   "source": "type(5.5)",
   "id": "190837bb4599c29c",
   "outputs": [
    {
     "data": {
      "text/plain": [
       "float"
      ]
     },
     "execution_count": 3,
     "metadata": {},
     "output_type": "execute_result"
    }
   ],
   "execution_count": 3
  },
  {
   "metadata": {
    "ExecuteTime": {
     "end_time": "2024-12-03T16:11:30.460219Z",
     "start_time": "2024-12-03T16:11:30.436795Z"
    }
   },
   "cell_type": "code",
   "source": [
    "# Explicit Type Conversion\n",
    "\n",
    "print(4 + \"4\")"
   ],
   "id": "38dc1612af421e12",
   "outputs": [
    {
     "ename": "TypeError",
     "evalue": "unsupported operand type(s) for +: 'int' and 'str'",
     "output_type": "error",
     "traceback": [
      "\u001B[1;31m---------------------------------------------------------------------------\u001B[0m",
      "\u001B[1;31mTypeError\u001B[0m                                 Traceback (most recent call last)",
      "Cell \u001B[1;32mIn[9], line 3\u001B[0m\n\u001B[0;32m      1\u001B[0m \u001B[38;5;66;03m# Explicit Type Conversion\u001B[39;00m\n\u001B[1;32m----> 3\u001B[0m \u001B[38;5;28mprint\u001B[39m(\u001B[38;5;241m4\u001B[39m \u001B[38;5;241m+\u001B[39m \u001B[38;5;124m\"\u001B[39m\u001B[38;5;124m4\u001B[39m\u001B[38;5;124m\"\u001B[39m)\n",
      "\u001B[1;31mTypeError\u001B[0m: unsupported operand type(s) for +: 'int' and 'str'"
     ]
    }
   ],
   "execution_count": 9
  },
  {
   "metadata": {
    "ExecuteTime": {
     "end_time": "2024-12-03T16:12:19.972355Z",
     "start_time": "2024-12-03T16:12:19.966618Z"
    }
   },
   "cell_type": "code",
   "source": "print(4.5 + int(\"4\"))",
   "id": "1d30015b04693ab0",
   "outputs": [
    {
     "name": "stdout",
     "output_type": "stream",
     "text": [
      "8.5\n"
     ]
    }
   ],
   "execution_count": 12
  },
  {
   "metadata": {
    "ExecuteTime": {
     "end_time": "2024-12-03T16:13:22.259030Z",
     "start_time": "2024-12-03T16:13:22.254640Z"
    }
   },
   "cell_type": "code",
   "source": [
    "num = \"34\"\n",
    "num = float(num)\n",
    "\n",
    "type(num)"
   ],
   "id": "e779b5c814ecf535",
   "outputs": [
    {
     "data": {
      "text/plain": [
       "float"
      ]
     },
     "execution_count": 16,
     "metadata": {},
     "output_type": "execute_result"
    }
   ],
   "execution_count": 16
  },
  {
   "metadata": {
    "ExecuteTime": {
     "end_time": "2024-12-03T16:13:33.987273Z",
     "start_time": "2024-12-03T16:13:33.975546Z"
    }
   },
   "cell_type": "code",
   "source": "num",
   "id": "1acf6508507fc5ef",
   "outputs": [
    {
     "data": {
      "text/plain": [
       "34.0"
      ]
     },
     "execution_count": 17,
     "metadata": {},
     "output_type": "execute_result"
    }
   ],
   "execution_count": 17
  },
  {
   "metadata": {
    "ExecuteTime": {
     "end_time": "2024-12-03T16:14:26.468418Z",
     "start_time": "2024-12-03T16:14:26.463025Z"
    }
   },
   "cell_type": "code",
   "source": [
    "num = int(num)\n",
    "\n",
    "type(num)"
   ],
   "id": "ce0d6ccc51d52fd4",
   "outputs": [
    {
     "data": {
      "text/plain": [
       "int"
      ]
     },
     "execution_count": 18,
     "metadata": {},
     "output_type": "execute_result"
    }
   ],
   "execution_count": 18
  },
  {
   "metadata": {
    "ExecuteTime": {
     "end_time": "2024-12-03T16:14:31.147146Z",
     "start_time": "2024-12-03T16:14:31.141523Z"
    }
   },
   "cell_type": "code",
   "source": "num",
   "id": "9baf1f1c27dc69f",
   "outputs": [
    {
     "data": {
      "text/plain": [
       "34"
      ]
     },
     "execution_count": 19,
     "metadata": {},
     "output_type": "execute_result"
    }
   ],
   "execution_count": 19
  },
  {
   "metadata": {
    "ExecuteTime": {
     "end_time": "2024-12-03T16:23:20.150761Z",
     "start_time": "2024-12-03T16:23:20.143228Z"
    }
   },
   "cell_type": "code",
   "source": [
    "num = 5+3j\n",
    "\n",
    "type(num)"
   ],
   "id": "fafaaf4be1e857bb",
   "outputs": [
    {
     "data": {
      "text/plain": [
       "complex"
      ]
     },
     "execution_count": 32,
     "metadata": {},
     "output_type": "execute_result"
    }
   ],
   "execution_count": 32
  },
  {
   "metadata": {
    "ExecuteTime": {
     "end_time": "2024-12-03T16:23:28.980965Z",
     "start_time": "2024-12-03T16:23:28.977099Z"
    }
   },
   "cell_type": "code",
   "source": "print(num)",
   "id": "80d216cf497456bb",
   "outputs": [
    {
     "name": "stdout",
     "output_type": "stream",
     "text": [
      "(5+3j)\n"
     ]
    }
   ],
   "execution_count": 33
  },
  {
   "metadata": {
    "ExecuteTime": {
     "end_time": "2024-12-03T16:21:48.733653Z",
     "start_time": "2024-12-03T16:21:48.698307Z"
    }
   },
   "cell_type": "code",
   "source": "int(num)",
   "id": "e54ab1ec1215236",
   "outputs": [
    {
     "ename": "TypeError",
     "evalue": "int() argument must be a string, a bytes-like object or a real number, not 'complex'",
     "output_type": "error",
     "traceback": [
      "\u001B[1;31m---------------------------------------------------------------------------\u001B[0m",
      "\u001B[1;31mTypeError\u001B[0m                                 Traceback (most recent call last)",
      "Cell \u001B[1;32mIn[26], line 1\u001B[0m\n\u001B[1;32m----> 1\u001B[0m \u001B[38;5;28mint\u001B[39m(num)\n",
      "\u001B[1;31mTypeError\u001B[0m: int() argument must be a string, a bytes-like object or a real number, not 'complex'"
     ]
    }
   ],
   "execution_count": 26
  },
  {
   "metadata": {
    "ExecuteTime": {
     "end_time": "2024-12-03T16:22:51.348087Z",
     "start_time": "2024-12-03T16:22:51.342917Z"
    }
   },
   "cell_type": "code",
   "source": [
    "num = str(num)\n",
    "\n",
    "type(num)"
   ],
   "id": "974b4ffc69503176",
   "outputs": [
    {
     "data": {
      "text/plain": [
       "str"
      ]
     },
     "execution_count": 30,
     "metadata": {},
     "output_type": "execute_result"
    }
   ],
   "execution_count": 30
  },
  {
   "metadata": {
    "ExecuteTime": {
     "end_time": "2024-12-03T16:22:52.243721Z",
     "start_time": "2024-12-03T16:22:52.238441Z"
    }
   },
   "cell_type": "code",
   "source": "print(num)",
   "id": "f202639c2cedc6dd",
   "outputs": [
    {
     "name": "stdout",
     "output_type": "stream",
     "text": [
      "(5+3j)\n"
     ]
    }
   ],
   "execution_count": 31
  }
 ],
 "metadata": {
  "kernelspec": {
   "display_name": "Python 3",
   "language": "python",
   "name": "python3"
  },
  "language_info": {
   "codemirror_mode": {
    "name": "ipython",
    "version": 2
   },
   "file_extension": ".py",
   "mimetype": "text/x-python",
   "name": "python",
   "nbconvert_exporter": "python",
   "pygments_lexer": "ipython2",
   "version": "2.7.6"
  }
 },
 "nbformat": 4,
 "nbformat_minor": 5
}
