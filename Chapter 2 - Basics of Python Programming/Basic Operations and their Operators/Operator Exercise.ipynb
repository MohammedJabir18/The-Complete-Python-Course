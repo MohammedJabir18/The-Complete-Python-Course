{
 "cells": [
  {
   "metadata": {},
   "cell_type": "markdown",
   "source": "## Exercises:",
   "id": "972a82bedcb3eb44"
  },
  {
   "metadata": {},
   "cell_type": "markdown",
   "source": "1. Find the sum of a 3 digit number entered by the user.",
   "id": "778907badb90e0fd"
  },
  {
   "metadata": {
    "ExecuteTime": {
     "end_time": "2024-12-04T12:37:29.145443Z",
     "start_time": "2024-12-04T12:37:25.776896Z"
    }
   },
   "cell_type": "code",
   "source": [
    "num = int(input(\"Enter 3 numbers to perform sum: \"))\n",
    "\n",
    "a = num % 10  # eg: 345 % 10 = 5\n",
    "num = num // 10  # 345 // 10 = 34\n",
    "\n",
    "b = num % 10  # 34 % 10 = 4\n",
    "c = num // 10  # 34 // 10 = 3\n",
    "\n",
    "result = a + b + c\n",
    "print(a, b, c, sep=\" + \", end=\"\")\n",
    "print(\" =\", result)"
   ],
   "id": "bfb0c6ad1a02d465",
   "outputs": [
    {
     "name": "stdout",
     "output_type": "stream",
     "text": [
      "5 + 4 + 3 = 12\n"
     ]
    }
   ],
   "execution_count": 27
  },
  {
   "metadata": {},
   "cell_type": "markdown",
   "source": "2. Find the subtraction of a 3 digit number entered by the user.",
   "id": "127f0816a8c41013"
  },
  {
   "metadata": {
    "ExecuteTime": {
     "end_time": "2024-12-04T12:49:45.505522Z",
     "start_time": "2024-12-04T12:49:42.018083Z"
    }
   },
   "cell_type": "code",
   "source": [
    "num = int(input(\"Enter 3 digit number to perform difference: \"))\n",
    "\n",
    "a = num % 10\n",
    "num = num // 10\n",
    "\n",
    "b = num % 10\n",
    "c = num // 10\n",
    "\n",
    "print(a, b, c, sep=\" - \", end=\" \")\n",
    "print(\"=\", a-b-c)"
   ],
   "id": "914afdc02f9b614c",
   "outputs": [
    {
     "name": "stdout",
     "output_type": "stream",
     "text": [
      "8 - 7 - 6 = -5\n"
     ]
    }
   ],
   "execution_count": 28
  }
 ],
 "metadata": {
  "kernelspec": {
   "display_name": "Python 3",
   "language": "python",
   "name": "python3"
  },
  "language_info": {
   "codemirror_mode": {
    "name": "ipython",
    "version": 2
   },
   "file_extension": ".py",
   "mimetype": "text/x-python",
   "name": "python",
   "nbconvert_exporter": "python",
   "pygments_lexer": "ipython2",
   "version": "2.7.6"
  }
 },
 "nbformat": 4,
 "nbformat_minor": 5
}
