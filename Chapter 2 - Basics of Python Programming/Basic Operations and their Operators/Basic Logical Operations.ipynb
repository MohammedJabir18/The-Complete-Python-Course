{
 "cells": [
  {
   "metadata": {},
   "cell_type": "markdown",
   "source": [
    "# Overview of Logical Operators:\n",
    "Logical operators in Python are used to combine multiple conditions or expressions and returning a boolean result."
   ],
   "id": "e2329a8714502e03"
  },
  {
   "metadata": {},
   "cell_type": "markdown",
   "source": [
    "##### 1. `and` :\n",
    "Returns `True` if both conditions are True. "
   ],
   "id": "93261f4b2def54d3"
  },
  {
   "metadata": {
    "ExecuteTime": {
     "end_time": "2024-12-04T09:02:05.326635Z",
     "start_time": "2024-12-04T09:02:05.320860Z"
    }
   },
   "cell_type": "code",
   "source": [
    "print(1 and 0)\n",
    "\n",
    "print(True and True)\n",
    "\n",
    "print(True and False)\n",
    "\n",
    "print(5 < 9 and 7 >= 2)"
   ],
   "id": "e90a369c48105c2b",
   "outputs": [
    {
     "name": "stdout",
     "output_type": "stream",
     "text": [
      "0\n",
      "True\n",
      "False\n",
      "True\n"
     ]
    }
   ],
   "execution_count": 6
  },
  {
   "metadata": {},
   "cell_type": "markdown",
   "source": [
    "##### 2. `or` :\n",
    "Returns `True` if at least one condition is True."
   ],
   "id": "7e12b222fbb923ca"
  },
  {
   "metadata": {
    "ExecuteTime": {
     "end_time": "2024-12-04T09:02:29.212964Z",
     "start_time": "2024-12-04T09:02:29.204368Z"
    }
   },
   "cell_type": "code",
   "source": [
    "print(1 or 0)\n",
    "\n",
    "print(True or False)\n",
    "\n",
    "print(False or False)\n",
    "\n",
    "print(5 < 3 or 7 > 6)"
   ],
   "id": "bd8a664e705fd866",
   "outputs": [
    {
     "name": "stdout",
     "output_type": "stream",
     "text": [
      "1\n",
      "True\n",
      "False\n",
      "True\n"
     ]
    }
   ],
   "execution_count": 8
  },
  {
   "metadata": {},
   "cell_type": "markdown",
   "source": [
    "##### 3. `not` :\n",
    "Returns the opposite boolean value. "
   ],
   "id": "18ef04ac97589eaf"
  },
  {
   "metadata": {
    "ExecuteTime": {
     "end_time": "2024-12-04T09:03:12.176046Z",
     "start_time": "2024-12-04T09:03:12.171810Z"
    }
   },
   "cell_type": "code",
   "source": [
    "print(not 1)\n",
    "\n",
    "print(not(5 > 7))  # 5 > 7 is False. So opposite is True.\n",
    "\n",
    "print(not True)\n",
    "\n",
    "print(not(7 != 7))"
   ],
   "id": "6a78685578061f58",
   "outputs": [
    {
     "name": "stdout",
     "output_type": "stream",
     "text": [
      "False\n",
      "True\n",
      "False\n",
      "True\n"
     ]
    }
   ],
   "execution_count": 9
  }
 ],
 "metadata": {
  "kernelspec": {
   "display_name": "Python 3",
   "language": "python",
   "name": "python3"
  },
  "language_info": {
   "codemirror_mode": {
    "name": "ipython",
    "version": 2
   },
   "file_extension": ".py",
   "mimetype": "text/x-python",
   "name": "python",
   "nbconvert_exporter": "python",
   "pygments_lexer": "ipython2",
   "version": "2.7.6"
  }
 },
 "nbformat": 4,
 "nbformat_minor": 5
}
