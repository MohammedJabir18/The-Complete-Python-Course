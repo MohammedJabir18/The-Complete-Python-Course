{
 "cells": [
  {
   "metadata": {},
   "cell_type": "markdown",
   "source": [
    "# Using F-strings for Formatted Output\n",
    "F-strings, introduced in Python 3.6, provide a concise and readable way to format strings. They allow you to embed expressions inside string literals."
   ],
   "id": "c56a6f1bbbd0073b"
  },
  {
   "cell_type": "code",
   "id": "initial_id",
   "metadata": {
    "collapsed": true,
    "ExecuteTime": {
     "end_time": "2024-12-06T10:00:15.594592Z",
     "start_time": "2024-12-06T10:00:15.584712Z"
    }
   },
   "source": [
    "name = \"Mohammed jabir\"\n",
    "age = 20\n",
    "\n",
    "print(f\"I am {name}. I am {age} years old\")"
   ],
   "outputs": [
    {
     "name": "stdout",
     "output_type": "stream",
     "text": [
      "I am Mohammed jabir. I am 20 years old\n"
     ]
    }
   ],
   "execution_count": 3
  }
 ],
 "metadata": {
  "kernelspec": {
   "display_name": "Python 3",
   "language": "python",
   "name": "python3"
  },
  "language_info": {
   "codemirror_mode": {
    "name": "ipython",
    "version": 2
   },
   "file_extension": ".py",
   "mimetype": "text/x-python",
   "name": "python",
   "nbconvert_exporter": "python",
   "pygments_lexer": "ipython2",
   "version": "2.7.6"
  }
 },
 "nbformat": 4,
 "nbformat_minor": 5
}
