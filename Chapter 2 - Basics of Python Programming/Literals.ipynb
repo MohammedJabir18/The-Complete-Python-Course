{
 "cells": [
  {
   "metadata": {},
   "cell_type": "markdown",
   "source": [
    "# Literals in Python\n",
    "Literals are fixed values assigned to variables or used directly in code. They represent constant values that don’t change during the program's execution."
   ],
   "id": "6e16b96a9a171cdc"
  },
  {
   "metadata": {
    "ExecuteTime": {
     "end_time": "2024-12-04T05:50:50.342832Z",
     "start_time": "2024-12-04T05:50:50.330948Z"
    }
   },
   "cell_type": "code",
   "source": [
    "a = 3\n",
    "\n",
    "a"
   ],
   "id": "fea9f994788b6adc",
   "outputs": [
    {
     "data": {
      "text/plain": [
       "3"
      ]
     },
     "execution_count": 4,
     "metadata": {},
     "output_type": "execute_result"
    }
   ],
   "execution_count": 4
  },
  {
   "metadata": {
    "ExecuteTime": {
     "end_time": "2024-12-04T06:00:12.322449Z",
     "start_time": "2024-12-04T06:00:12.309464Z"
    }
   },
   "cell_type": "code",
   "source": [
    "a = 0b1010  # Binary Literals\n",
    "b = 100  # Decimal Literals\n",
    "c = 0o310  # Octal Literals\n",
    "d = 0x12c  # Hexadecimal Literals\n",
    "\n",
    "print(a)\n",
    "print(b)\n",
    "print(c)\n",
    "print(d)"
   ],
   "id": "87913b17a6b3b148",
   "outputs": [
    {
     "name": "stdout",
     "output_type": "stream",
     "text": [
      "10\n",
      "100\n",
      "200\n",
      "300\n"
     ]
    }
   ],
   "execution_count": 31
  },
  {
   "metadata": {
    "ExecuteTime": {
     "end_time": "2024-12-04T06:07:03.950155Z",
     "start_time": "2024-12-04T06:07:03.943647Z"
    }
   },
   "cell_type": "code",
   "source": [
    "# Float Literals \n",
    "float_1 = 10.5\n",
    "float_2 = 10.20e4  # It means 10 * 10^4\n",
    "float_3 = 1.5e-3  # 1.5 * 10^-3 \n",
    "\n",
    "print(float_1)\n",
    "print(float_2)\n",
    "print(float_3)"
   ],
   "id": "d0ae567787a77855",
   "outputs": [
    {
     "name": "stdout",
     "output_type": "stream",
     "text": [
      "10.5\n",
      "102000.0\n",
      "0.0015\n"
     ]
    }
   ],
   "execution_count": 38
  },
  {
   "metadata": {
    "ExecuteTime": {
     "end_time": "2024-12-04T06:07:48.897994Z",
     "start_time": "2024-12-04T06:07:48.882806Z"
    }
   },
   "cell_type": "code",
   "source": [
    "# Complex Literals\n",
    "x = 3+5j\n",
    "\n",
    "x"
   ],
   "id": "cfec348a30d6bbce",
   "outputs": [
    {
     "data": {
      "text/plain": [
       "(3+5j)"
      ]
     },
     "execution_count": 40,
     "metadata": {},
     "output_type": "execute_result"
    }
   ],
   "execution_count": 40
  },
  {
   "metadata": {
    "ExecuteTime": {
     "end_time": "2024-12-04T06:09:06.930940Z",
     "start_time": "2024-12-04T06:09:06.922220Z"
    }
   },
   "cell_type": "code",
   "source": "type(x)",
   "id": "1ab96867503c4541",
   "outputs": [
    {
     "data": {
      "text/plain": [
       "complex"
      ]
     },
     "execution_count": 47,
     "metadata": {},
     "output_type": "execute_result"
    }
   ],
   "execution_count": 47
  },
  {
   "metadata": {
    "ExecuteTime": {
     "end_time": "2024-12-04T06:09:00.304517Z",
     "start_time": "2024-12-04T06:09:00.293825Z"
    }
   },
   "cell_type": "code",
   "source": "print(x.real)",
   "id": "7533c169019285eb",
   "outputs": [
    {
     "name": "stdout",
     "output_type": "stream",
     "text": [
      "3.0\n"
     ]
    }
   ],
   "execution_count": 46
  },
  {
   "metadata": {
    "ExecuteTime": {
     "end_time": "2024-12-04T06:10:54.270540Z",
     "start_time": "2024-12-04T06:10:54.262011Z"
    }
   },
   "cell_type": "code",
   "source": "type(x.real)",
   "id": "9bc1cc5431114b01",
   "outputs": [
    {
     "data": {
      "text/plain": [
       "float"
      ]
     },
     "execution_count": 54,
     "metadata": {},
     "output_type": "execute_result"
    }
   ],
   "execution_count": 54
  },
  {
   "metadata": {
    "ExecuteTime": {
     "end_time": "2024-12-04T06:11:49.300261Z",
     "start_time": "2024-12-04T06:11:49.291936Z"
    }
   },
   "cell_type": "code",
   "source": "print(x.imag)",
   "id": "aee033f429665c81",
   "outputs": [
    {
     "name": "stdout",
     "output_type": "stream",
     "text": [
      "5.0\n"
     ]
    }
   ],
   "execution_count": 55
  },
  {
   "metadata": {
    "ExecuteTime": {
     "end_time": "2024-12-04T06:34:57.690018Z",
     "start_time": "2024-12-04T06:34:57.682712Z"
    }
   },
   "cell_type": "code",
   "source": [
    "# String Literals\n",
    "str_single_quote = 'hello, python'\n",
    "str_double_quote = \"Hello, Python\"\n",
    "char = \"J\"\n",
    "str_paragraph = \"\"\"\n",
    "    I Am Indian\n",
    "    I Love India\n",
    "\"\"\"\n",
    "unicode = u\"\\U0001F600\\U0001F607\\U0001F929\"  # Here I give emoji's unicode\n",
    "raw_str = r\"raw \\n String\""
   ],
   "id": "2c5ab7176aacb8c0",
   "outputs": [],
   "execution_count": 84
  },
  {
   "metadata": {
    "ExecuteTime": {
     "end_time": "2024-12-04T06:32:40.909790Z",
     "start_time": "2024-12-04T06:32:40.905402Z"
    }
   },
   "cell_type": "code",
   "source": [
    "print(str_single_quote)\n",
    "print(str_double_quote)"
   ],
   "id": "4d60a7daa678e124",
   "outputs": [
    {
     "name": "stdout",
     "output_type": "stream",
     "text": [
      "hello, python\n",
      "Hello, Python\n"
     ]
    }
   ],
   "execution_count": 80
  },
  {
   "metadata": {
    "ExecuteTime": {
     "end_time": "2024-12-04T06:33:19.430674Z",
     "start_time": "2024-12-04T06:33:19.423722Z"
    }
   },
   "cell_type": "code",
   "source": [
    "print(char)\n",
    "print(str_paragraph)"
   ],
   "id": "3860977d404ff523",
   "outputs": [
    {
     "name": "stdout",
     "output_type": "stream",
     "text": [
      "J\n",
      "\n",
      "    I Am Indian\n",
      "    I Love India\n",
      "\n"
     ]
    }
   ],
   "execution_count": 81
  },
  {
   "metadata": {
    "ExecuteTime": {
     "end_time": "2024-12-04T06:36:09.318802Z",
     "start_time": "2024-12-04T06:36:09.308227Z"
    }
   },
   "cell_type": "code",
   "source": [
    "print(unicode)\n",
    "print(raw_str)"
   ],
   "id": "1e9e6efa1d94c184",
   "outputs": [
    {
     "name": "stdout",
     "output_type": "stream",
     "text": [
      "😀😇🤩\n",
      "raw \\n String\n"
     ]
    }
   ],
   "execution_count": 86
  },
  {
   "metadata": {
    "ExecuteTime": {
     "end_time": "2024-12-04T06:41:21.547316Z",
     "start_time": "2024-12-04T06:41:21.536571Z"
    }
   },
   "cell_type": "code",
   "source": [
    "# Boolean Literals\n",
    "\"\"\"\n",
    "True = 1\n",
    "False = 0\n",
    "\"\"\"\n",
    "a = True + 4\n",
    "b = False + 10\n",
    "\n",
    "print(\"a:\", a)\n",
    "print(\"b:\", b)"
   ],
   "id": "efa8a93f4caf5479",
   "outputs": [
    {
     "name": "stdout",
     "output_type": "stream",
     "text": [
      "a: 5\n",
      "b: 10\n"
     ]
    }
   ],
   "execution_count": 90
  },
  {
   "metadata": {
    "ExecuteTime": {
     "end_time": "2024-12-04T06:41:52.673651Z",
     "start_time": "2024-12-04T06:41:52.665048Z"
    }
   },
   "cell_type": "code",
   "source": [
    "# None Literal\n",
    "a = None\n",
    "\n",
    "print(a)"
   ],
   "id": "6e85efa264a51b5b",
   "outputs": [
    {
     "name": "stdout",
     "output_type": "stream",
     "text": [
      "None\n"
     ]
    }
   ],
   "execution_count": 96
  },
  {
   "metadata": {
    "ExecuteTime": {
     "end_time": "2024-12-04T06:44:32.117394Z",
     "start_time": "2024-12-04T06:44:32.110644Z"
    }
   },
   "cell_type": "code",
   "source": [
    "# In python program we can't do declaration. So we can set a variable with None\n",
    "k = None \n",
    "l = 10\n",
    "m = 20\n",
    "\n",
    "print(k, l, m)"
   ],
   "id": "e7fc2009e27507e7",
   "outputs": [
    {
     "name": "stdout",
     "output_type": "stream",
     "text": [
      "None 10 20\n"
     ]
    }
   ],
   "execution_count": 101
  }
 ],
 "metadata": {
  "kernelspec": {
   "display_name": "Python 3",
   "language": "python",
   "name": "python3"
  },
  "language_info": {
   "codemirror_mode": {
    "name": "ipython",
    "version": 2
   },
   "file_extension": ".py",
   "mimetype": "text/x-python",
   "name": "python",
   "nbconvert_exporter": "python",
   "pygments_lexer": "ipython2",
   "version": "2.7.6"
  }
 },
 "nbformat": 4,
 "nbformat_minor": 5
}
