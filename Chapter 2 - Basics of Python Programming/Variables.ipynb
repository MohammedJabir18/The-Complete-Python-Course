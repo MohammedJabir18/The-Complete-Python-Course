{
 "cells": [
  {
   "metadata": {},
   "cell_type": "markdown",
   "source": [
    "## 1.Introduction to Variables and Their Role in Programming\n",
    "In the realm of programming, variables are like containers that store information. They allow us to label and reference data, making our programs dynamic and adaptable. Unlike many other programming languages, Python is dynamically typed, meaning you don't need to explicitly declare the data type of a variable; Python infers it for you."
   ],
   "id": "e97c752838cad33a"
  },
  {
   "metadata": {
    "ExecuteTime": {
     "end_time": "2024-12-03T13:26:38.619693Z",
     "start_time": "2024-12-03T13:26:38.613139Z"
    }
   },
   "cell_type": "code",
   "source": [
    "num1 = 35\n",
    "num2 = 5\n",
    "\n",
    "total = num1 + num2\n",
    "total"
   ],
   "id": "ec3bc3379c02d8c4",
   "outputs": [
    {
     "data": {
      "text/plain": [
       "40"
      ]
     },
     "execution_count": 2,
     "metadata": {},
     "output_type": "execute_result"
    }
   ],
   "execution_count": 2
  },
  {
   "metadata": {},
   "cell_type": "markdown",
   "source": [
    "## 2. Naming Conventions and Best Practices for Variable Names\n",
    "Clear and descriptive variable names are essential for writing maintainable code. Follow the PEP 8 style guide, which suggests using lowercase letters with underscores for variable names. Choose names that reflect the purpose of the variable, enhancing the readability of your code."
   ],
   "id": "5bee517c1758af1c"
  },
  {
   "metadata": {
    "ExecuteTime": {
     "end_time": "2024-12-03T13:45:02.096920Z",
     "start_time": "2024-12-03T13:45:02.088143Z"
    }
   },
   "cell_type": "code",
   "source": [
    "# Dynamic Type\n",
    "name = \"Python\"  # Here we don't mention the datatype before the variable initialization.\n",
    "print(name)\n",
    "\n",
    "# Dynamic Binding\n",
    "name = 5  # Here once a variable initialize with a datatype we can change the same variable with another datatype.\n",
    "print(name)"
   ],
   "id": "befd999c905d181a",
   "outputs": [
    {
     "name": "stdout",
     "output_type": "stream",
     "text": [
      "Python\n",
      "5\n"
     ]
    }
   ],
   "execution_count": 5
  },
  {
   "metadata": {
    "ExecuteTime": {
     "end_time": "2024-12-03T13:47:38.345645Z",
     "start_time": "2024-12-03T13:47:38.341073Z"
    }
   },
   "cell_type": "code",
   "source": [
    "a = 1\n",
    "b = 2\n",
    "c = 3\n",
    "print(a, b, c)\n",
    "\n",
    "a, b, c = 10, 20, 30\n",
    "print(a, b, c)"
   ],
   "id": "1cc90e51fc60e72c",
   "outputs": [
    {
     "name": "stdout",
     "output_type": "stream",
     "text": [
      "1 2 3\n",
      "10 20 30\n"
     ]
    }
   ],
   "execution_count": 9
  },
  {
   "metadata": {
    "ExecuteTime": {
     "end_time": "2024-12-03T13:49:15.495456Z",
     "start_time": "2024-12-03T13:49:15.490065Z"
    }
   },
   "cell_type": "code",
   "source": [
    "a = 5\n",
    "b = 5\n",
    "c = 5\n",
    "print(a, b, c)\n",
    "\n",
    "a=b=c = 10\n",
    "print(a, b, c)"
   ],
   "id": "6b83c78c1ce79930",
   "outputs": [
    {
     "name": "stdout",
     "output_type": "stream",
     "text": [
      "5 5 5\n",
      "10 10 10\n"
     ]
    }
   ],
   "execution_count": 13
  },
  {
   "metadata": {},
   "cell_type": "markdown",
   "source": [
    "##### Keywords\n",
    "Keywords are reserved words in Python that have a predefined meaning and purpose. They are used to define the syntax and structure of the Python language. You cannot use keywords as variable names, function names, or any other identifiers.\n",
    "Here's the list converted to a Markdown table format suitable for Jupyter Notebook:\n",
    "\n",
    "| Column 1 | Column 2 | Column 3 | Column 4 | Column 5 |\n",
    "|----------|----------|----------|----------|----------|\n",
    "| False | None | True | and | as |\n",
    "| assert | async | await | break | class |\n",
    "| continue | def | del | elif | else |\n",
    "| except | finally | for | from | global |\n",
    "| if | import | in | is | lambda |\n",
    "| nonlocal | not | or | pass | raise |\n",
    "| return | try | while | with | yield |\n",
    "\n",
    "Total: 35 keywords in Python\n"
   ],
   "id": "9377312f96b0a3d0"
  },
  {
   "metadata": {},
   "cell_type": "markdown",
   "source": [
    "##### Identifiers\n",
    "Identifiers are the names used to identify variables, functions, classes, modules, and other objects. They are user-defined names that must follow certain rules:\n",
    "\n",
    "Rules for Naming Identifiers:\n",
    "1. Must begin with a letter (A-Z or a-z) or an underscore (_).\n",
    "2. Cannot begin with a digit (0-9).\n",
    "3. Can contain letters, digits, and underscores.\n",
    "4. Cannot be a keyword.\n",
    "5. Case-sensitive: `myVar` and `myvar` are different.\n",
    "6. Should be descriptive for better readability."
   ],
   "id": "801d6356a26b471a"
  },
  {
   "metadata": {},
   "cell_type": "code",
   "outputs": [],
   "execution_count": null,
   "source": [
    "# Valid identifiers\n",
    "name = \"Jabir\"\n",
    "_age = 20\n",
    "total_amount = 100.5\n",
    "\n",
    "# Invalid identifiers\n",
    "2name = \"Jabir\"\n",
    "my-age = 20\n",
    "class = 10"
   ],
   "id": "157cfdfe07659255"
  }
 ],
 "metadata": {
  "kernelspec": {
   "display_name": "Python 3",
   "language": "python",
   "name": "python3"
  },
  "language_info": {
   "codemirror_mode": {
    "name": "ipython",
    "version": 2
   },
   "file_extension": ".py",
   "mimetype": "text/x-python",
   "name": "python",
   "nbconvert_exporter": "python",
   "pygments_lexer": "ipython2",
   "version": "2.7.6"
  }
 },
 "nbformat": 4,
 "nbformat_minor": 5
}
