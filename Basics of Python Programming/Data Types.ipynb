{
 "cells": [
  {
   "metadata": {},
   "cell_type": "markdown",
   "source": [
    "## Data Types\n",
    "Welcome to the fundamental building blocks of Python programming! In this section, we'll delve into the essence of programming—variables and data types. Understanding these concepts is crucial as they form the backbone of any Python program. Let's embark on this journey of discovery.\n",
    "\n",
    "1. Integer\n",
    "2. Float\n",
    "3. String\n",
    "4. Boolean\n",
    "5. Complex\n",
    "6. List\n",
    "7. Tuple\n",
    "8. Set\n",
    "9. Dictionary"
   ],
   "id": "6523359a78ed076a"
  },
  {
   "metadata": {},
   "cell_type": "markdown",
   "source": [
    "##### Integers\n",
    "Integers represent whole numbers without any decimal point. In Python, you can perform various arithmetic operations with integers."
   ],
   "id": "1d006cfb038100bc"
  },
  {
   "metadata": {
    "ExecuteTime": {
     "end_time": "2024-12-03T10:31:00.881764Z",
     "start_time": "2024-12-03T10:31:00.873424Z"
    }
   },
   "cell_type": "code",
   "source": [
    "age = 25\n",
    "print(age + 5)"
   ],
   "id": "be0c7fb4ea852d1",
   "outputs": [
    {
     "name": "stdout",
     "output_type": "stream",
     "text": [
      "30\n"
     ]
    }
   ],
   "execution_count": 15
  },
  {
   "metadata": {},
   "cell_type": "markdown",
   "source": [
    "##### Floats\n",
    "Floats, or floating-point numbers, include decimal points and allow for more precision in numerical operations."
   ],
   "id": "37efd0d365cd0632"
  },
  {
   "metadata": {
    "ExecuteTime": {
     "end_time": "2024-12-03T11:05:20.751824Z",
     "start_time": "2024-12-03T11:05:20.739087Z"
    }
   },
   "cell_type": "code",
   "source": [
    "price = 19.99\n",
    "discount = 0.15\n",
    "\n",
    "total = price-(price * discount)\n",
    "print(total)\n",
    "\n",
    "type(total)  # To checking the data type."
   ],
   "id": "e6514b5c976a3639",
   "outputs": [
    {
     "name": "stdout",
     "output_type": "stream",
     "text": [
      "16.9915\n"
     ]
    },
    {
     "data": {
      "text/plain": [
       "float"
      ]
     },
     "execution_count": 51,
     "metadata": {},
     "output_type": "execute_result"
    }
   ],
   "execution_count": 51
  },
  {
   "metadata": {},
   "cell_type": "markdown",
   "source": [
    "##### Strings\n",
    "Strings represent sequences of characters. They are versatile and used for representing text in Python."
   ],
   "id": "29d0ff21403c256"
  },
  {
   "metadata": {
    "ExecuteTime": {
     "end_time": "2024-12-03T11:04:44.846072Z",
     "start_time": "2024-12-03T11:04:44.839358Z"
    }
   },
   "cell_type": "code",
   "source": [
    "greeting = \"Hello, Python!\"\n",
    "name = \"Jabir\"\n",
    "\n",
    "full_message = greeting + \" My name is \" + name\n",
    "print(full_message)\n",
    "\n",
    "type(full_message)  "
   ],
   "id": "a49ab8ac4e47873d",
   "outputs": [
    {
     "name": "stdout",
     "output_type": "stream",
     "text": [
      "Hello, Python! My name is Jabir\n"
     ]
    },
    {
     "data": {
      "text/plain": [
       "str"
      ]
     },
     "execution_count": 50,
     "metadata": {},
     "output_type": "execute_result"
    }
   ],
   "execution_count": 50
  },
  {
   "metadata": {},
   "cell_type": "markdown",
   "source": [
    "##### Booleans\n",
    "Booleans represent truth values, either  True  or False . They are fundamental for decision-making in programming.\n",
    "Python is case-sensitive language."
   ],
   "id": "657d324afd1afc66"
  },
  {
   "metadata": {
    "ExecuteTime": {
     "end_time": "2024-12-03T10:51:01.241981Z",
     "start_time": "2024-12-03T10:51:01.237351Z"
    }
   },
   "cell_type": "code",
   "source": [
    "Major = True\n",
    "Minor = False\n",
    "\n",
    "print(Major)\n",
    "print(Minor)"
   ],
   "id": "6ac6055de51e506",
   "outputs": [
    {
     "name": "stdout",
     "output_type": "stream",
     "text": [
      "True\n",
      "False\n"
     ]
    }
   ],
   "execution_count": 42
  },
  {
   "metadata": {},
   "cell_type": "markdown",
   "source": [
    "##### Complex\n",
    "complex data type is used to represent complex numbers, which consist of a real part and an imaginary part, expressed as a + bj, where a is the real part and b is the imaginary part."
   ],
   "id": "1fb21d0e6e9988ec"
  },
  {
   "metadata": {
    "ExecuteTime": {
     "end_time": "2024-12-03T11:05:31.310654Z",
     "start_time": "2024-12-03T11:05:31.304276Z"
    }
   },
   "cell_type": "code",
   "source": [
    "complex_1 = 3+5j\n",
    "complex_2 = -1+3j\n",
    "\n",
    "result = complex_1 + complex_2\n",
    "print(result)\n",
    "\n",
    "type(result)"
   ],
   "id": "8cc3ce91cff3d760",
   "outputs": [
    {
     "name": "stdout",
     "output_type": "stream",
     "text": [
      "(2+8j)\n"
     ]
    },
    {
     "data": {
      "text/plain": [
       "complex"
      ]
     },
     "execution_count": 52,
     "metadata": {},
     "output_type": "execute_result"
    }
   ],
   "execution_count": 52
  },
  {
   "metadata": {},
   "cell_type": "markdown",
   "source": [
    "##### List: \n",
    "Ordered, mutable collection of items, supports indexing and can contain mixed types."
   ],
   "id": "f1cad0aa3bd6359b"
  },
  {
   "metadata": {
    "ExecuteTime": {
     "end_time": "2024-12-03T11:42:45.298253Z",
     "start_time": "2024-12-03T11:42:45.291221Z"
    }
   },
   "cell_type": "code",
   "source": [
    "my_list = [56, \"Hello\", 74.3]\n",
    "\n",
    "print(my_list)\n",
    "type(my_list)"
   ],
   "id": "1f53aa115486f42d",
   "outputs": [
    {
     "name": "stdout",
     "output_type": "stream",
     "text": [
      "[56, 'Hello', 74.3]\n"
     ]
    },
    {
     "data": {
      "text/plain": [
       "list"
      ]
     },
     "execution_count": 54,
     "metadata": {},
     "output_type": "execute_result"
    }
   ],
   "execution_count": 54
  },
  {
   "metadata": {},
   "cell_type": "markdown",
   "source": [
    "##### Tuple:\n",
    " Ordered, immutable collection of items, typically used for fixed collections."
   ],
   "id": "fbf5d769014d7809"
  },
  {
   "metadata": {
    "ExecuteTime": {
     "end_time": "2024-12-03T11:44:38.241422Z",
     "start_time": "2024-12-03T11:44:38.232160Z"
    }
   },
   "cell_type": "code",
   "source": [
    "my_tuple = (87, \"Python\", 36.2, True)\n",
    "\n",
    "print(my_tuple)\n",
    "type(my_tuple)"
   ],
   "id": "9520ca051ada3ede",
   "outputs": [
    {
     "name": "stdout",
     "output_type": "stream",
     "text": [
      "(87, 'Python', 36.2, True)\n"
     ]
    },
    {
     "data": {
      "text/plain": [
       "tuple"
      ]
     },
     "execution_count": 56,
     "metadata": {},
     "output_type": "execute_result"
    }
   ],
   "execution_count": 56
  },
  {
   "metadata": {},
   "cell_type": "markdown",
   "source": [
    "##### Set:\n",
    " Unordered collection of unique elements, supports mathematical set operations."
   ],
   "id": "944a8c6c636a561c"
  },
  {
   "metadata": {
    "ExecuteTime": {
     "end_time": "2024-12-03T11:46:06.832129Z",
     "start_time": "2024-12-03T11:46:06.822123Z"
    }
   },
   "cell_type": "code",
   "source": [
    "my_set = {32, 78, 15, 89}\n",
    "\n",
    "print(my_set)\n",
    "type(my_set)"
   ],
   "id": "221cd9a4b6a37bb0",
   "outputs": [
    {
     "name": "stdout",
     "output_type": "stream",
     "text": [
      "{32, 89, 78, 15}\n"
     ]
    },
    {
     "data": {
      "text/plain": [
       "set"
      ]
     },
     "execution_count": 58,
     "metadata": {},
     "output_type": "execute_result"
    }
   ],
   "execution_count": 58
  },
  {
   "metadata": {},
   "cell_type": "markdown",
   "source": [
    "##### Dictionary:\n",
    " Key-value paired collection, allows fast lookup of values by their keys."
   ],
   "id": "e28da7b7d016b308"
  },
  {
   "metadata": {
    "ExecuteTime": {
     "end_time": "2024-12-03T11:51:21.614993Z",
     "start_time": "2024-12-03T11:51:21.606332Z"
    }
   },
   "cell_type": "code",
   "source": [
    "my_dict = {\"Name\": \"Jabir\", \"Age\": 20, \"Mark\": 89.7, \"Passed\": True}\n",
    "\n",
    "print(my_dict)\n",
    "type(my_dict)"
   ],
   "id": "9be6fec5c259480",
   "outputs": [
    {
     "name": "stdout",
     "output_type": "stream",
     "text": [
      "{'Name': 'Jabir', 'Age': 20, 'Mark': 89.7, 'Passed': True}\n"
     ]
    },
    {
     "data": {
      "text/plain": [
       "dict"
      ]
     },
     "execution_count": 59,
     "metadata": {},
     "output_type": "execute_result"
    }
   ],
   "execution_count": 59
  }
 ],
 "metadata": {
  "kernelspec": {
   "display_name": "Python 3",
   "language": "python",
   "name": "python3"
  },
  "language_info": {
   "codemirror_mode": {
    "name": "ipython",
    "version": 2
   },
   "file_extension": ".py",
   "mimetype": "text/x-python",
   "name": "python",
   "nbconvert_exporter": "python",
   "pygments_lexer": "ipython2",
   "version": "2.7.6"
  }
 },
 "nbformat": 4,
 "nbformat_minor": 5
}
