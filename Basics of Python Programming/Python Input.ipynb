{
 "cells": [
  {
   "metadata": {},
   "cell_type": "markdown",
   "source": [
    "## input() in Python\n",
    "\n",
    "The input() function is used to take user input from the console. It reads a line of text entered by the user, returning it as a string. You can use input() in interactive programs where user input is required."
   ],
   "id": "667325d58c3fafbc"
  },
  {
   "metadata": {
    "ExecuteTime": {
     "end_time": "2024-12-03T14:35:33.016401Z",
     "start_time": "2024-12-03T14:35:33.001418Z"
    }
   },
   "cell_type": "code",
   "source": "print(\"Hai, Python!\")",
   "id": "9102d8eadcab5f6f",
   "outputs": [
    {
     "name": "stdout",
     "output_type": "stream",
     "text": [
      "Hai, Python!\n"
     ]
    }
   ],
   "execution_count": 1
  },
  {
   "metadata": {},
   "cell_type": "markdown",
   "source": [
    "##### Static Application (User can't give inputs or store datas) - Calendar, Clock, Some Portfolio Websites\n",
    "##### Dynamic Application (User can give the inputs and store the details) - Facebook, Youtube. "
   ],
   "id": "bb7597240579f6fc"
  },
  {
   "metadata": {
    "ExecuteTime": {
     "end_time": "2024-12-03T14:42:32.618287Z",
     "start_time": "2024-12-03T14:42:13.410894Z"
    }
   },
   "cell_type": "code",
   "source": "input(\"Enter your Name\")",
   "id": "b63ce5ea962d2e39",
   "outputs": [
    {
     "data": {
      "text/plain": [
       "'Mohammed Jabir'"
      ]
     },
     "execution_count": 4,
     "metadata": {},
     "output_type": "execute_result"
    }
   ],
   "execution_count": 4
  },
  {
   "metadata": {
    "ExecuteTime": {
     "end_time": "2024-12-03T14:48:52.930350Z",
     "start_time": "2024-12-03T14:48:50.767052Z"
    }
   },
   "cell_type": "code",
   "source": [
    "age = input(\"Enter your Age\")\n",
    "\n",
    "print(age)\n",
    "type(age)"
   ],
   "id": "1f9034fdafbff91d",
   "outputs": [
    {
     "name": "stdout",
     "output_type": "stream",
     "text": [
      "20\n"
     ]
    },
    {
     "data": {
      "text/plain": [
       "str"
      ]
     },
     "execution_count": 9,
     "metadata": {},
     "output_type": "execute_result"
    }
   ],
   "execution_count": 9
  },
  {
   "metadata": {
    "ExecuteTime": {
     "end_time": "2024-12-03T15:01:58.462668Z",
     "start_time": "2024-12-03T15:01:58.436440Z"
    }
   },
   "cell_type": "code",
   "source": [
    "age = int(age)  # Here I do the type conversion. String to Integer.\n",
    "\n",
    "print(age)\n",
    "type(age)"
   ],
   "id": "8516684ffae8a922",
   "outputs": [
    {
     "name": "stdout",
     "output_type": "stream",
     "text": [
      "20\n"
     ]
    },
    {
     "data": {
      "text/plain": [
       "int"
      ]
     },
     "execution_count": 11,
     "metadata": {},
     "output_type": "execute_result"
    }
   ],
   "execution_count": 11
  }
 ],
 "metadata": {
  "kernelspec": {
   "display_name": "Python 3",
   "language": "python",
   "name": "python3"
  },
  "language_info": {
   "codemirror_mode": {
    "name": "ipython",
    "version": 2
   },
   "file_extension": ".py",
   "mimetype": "text/x-python",
   "name": "python",
   "nbconvert_exporter": "python",
   "pygments_lexer": "ipython2",
   "version": "2.7.6"
  }
 },
 "nbformat": 4,
 "nbformat_minor": 5
}
