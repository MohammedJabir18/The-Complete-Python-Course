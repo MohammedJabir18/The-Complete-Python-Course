{
 "cells": [
  {
   "metadata": {},
   "cell_type": "markdown",
   "source": [
    "# Conditional Statements\n",
    "Conditional statements are a fundamental aspect of programming, allowing us to make decisions and control the flow of our code based on certain conditions. In Python, this is achieved through the use of  if ,  elif  (else if), and  else  statements. Let's delve into the intricacies of conditional statements and explore best practices for writing clear and readable code.\n",
    "\n",
    "##### Introduction to Conditional Statements: \n",
    "Conditional statements are used when different actions need to be taken based on whether a specified condition evaluates to  True  or False . The basic structure involves an  if statement followed by an indented block of code."
   ],
   "id": "aa01e7bf6ef23123"
  },
  {
   "metadata": {
    "ExecuteTime": {
     "end_time": "2024-12-06T06:14:27.374391Z",
     "start_time": "2024-12-06T06:14:27.366220Z"
    }
   },
   "cell_type": "code",
   "source": [
    "# Example 1: Basic if statement\n",
    "x = 10\n",
    "if x > 5:\n",
    "    print(x, \"is greater than 5\")"
   ],
   "id": "3e5e37258856aff",
   "outputs": [
    {
     "name": "stdout",
     "output_type": "stream",
     "text": [
      "10 is greater than 5\n"
     ]
    }
   ],
   "execution_count": 3
  },
  {
   "metadata": {},
   "cell_type": "markdown",
   "source": [
    "##### Controlling Program Flow: \n",
    "Conditional statements enable us to control the program's execution flow. When a condition is met, the corresponding block of code is executed. If the condition is not met, the program proceeds to the next block or exits the conditional structure."
   ],
   "id": "7cf73d4f373475cf"
  },
  {
   "metadata": {
    "ExecuteTime": {
     "end_time": "2024-12-06T06:18:16.405953Z",
     "start_time": "2024-12-06T06:18:16.394618Z"
    }
   },
   "cell_type": "code",
   "source": [
    "# Example 2: if-else statement\n",
    "x = 10\n",
    "if x > 15:\n",
    "    print(x, \"is greater than 15\")\n",
    "else:\n",
    "    print(x, \"is less than 15\")"
   ],
   "id": "9d0634bd6aa7d179",
   "outputs": [
    {
     "name": "stdout",
     "output_type": "stream",
     "text": [
      "10 is less than 15\n"
     ]
    }
   ],
   "execution_count": 6
  },
  {
   "metadata": {
    "ExecuteTime": {
     "end_time": "2024-12-06T06:20:38.273335Z",
     "start_time": "2024-12-06T06:20:38.267593Z"
    }
   },
   "cell_type": "code",
   "source": [
    "# Example 3: odd or even checking\n",
    "y = 3\n",
    "if y % 2 != 0:\n",
    "    print(y, \"is odd number\")\n",
    "else:\n",
    "    print(y, \"is even number\")"
   ],
   "id": "e61324270671d674",
   "outputs": [
    {
     "name": "stdout",
     "output_type": "stream",
     "text": [
      "3 is odd number\n"
     ]
    }
   ],
   "execution_count": 9
  },
  {
   "metadata": {},
   "cell_type": "markdown",
   "source": [
    "##### Nested if Statements: \n",
    "Nested  if  statements allow us to check multiple conditions within the same block. This is particularly useful for handling complex scenarios where different outcomes depend on various conditions."
   ],
   "id": "52dd07bde5a7ebf9"
  },
  {
   "metadata": {
    "ExecuteTime": {
     "end_time": "2024-12-06T06:35:18.407536Z",
     "start_time": "2024-12-06T06:35:18.400824Z"
    }
   },
   "cell_type": "code",
   "source": [
    "# Example 4: Nested if statement\n",
    "grade = 82\n",
    "if grade >= 90:\n",
    "    print(\"A Grade\")\n",
    "elif grade >= 80:\n",
    "    print(\"B Grade\")\n",
    "elif grade >= 70:\n",
    "    print(\"C Grade\")\n",
    "else:\n",
    "    print(\"D Grade\")"
   ],
   "id": "62c14505515547f5",
   "outputs": [
    {
     "name": "stdout",
     "output_type": "stream",
     "text": [
      "B Grade\n"
     ]
    }
   ],
   "execution_count": 13
  },
  {
   "metadata": {
    "ExecuteTime": {
     "end_time": "2024-12-06T06:48:17.618764Z",
     "start_time": "2024-12-06T06:48:17.611360Z"
    }
   },
   "cell_type": "code",
   "source": [
    "# Example 5: Nested if statement \n",
    "age = 31\n",
    "has_driving_license = False\n",
    "\n",
    "if age >= 18:\n",
    "    if has_driving_license:\n",
    "        print(\"You can drive\")\n",
    "    else:\n",
    "        print(\"You need to license to drive\")\n",
    "else:\n",
    "    print(\"You are not old enough to drive\")\n",
    "    "
   ],
   "id": "91c6c7140da524f0",
   "outputs": [
    {
     "name": "stdout",
     "output_type": "stream",
     "text": [
      "You need to license to drive\n"
     ]
    }
   ],
   "execution_count": 16
  },
  {
   "metadata": {},
   "cell_type": "markdown",
   "source": [
    "##### Best Practices for Readable Conditional Code: \n",
    "Writing clear and readable conditional code is crucial for maintaining and understanding your programs. Here are some best practices:\n",
    "1. Indentation: Use consistent and clear indentation to visually represent the code blocks within conditional statements.\n",
    "2. Parentheses: While not required, using parentheses around conditions enhances readability, especially in complex expressions.\n",
    "python code\n",
    "3. Logical Operators: Use appropriate logical operators ( and ,  or ,  not ) to combine or negate conditions logically.\n",
    "python code\n",
    "4. Avoiding Redundancy: Ensure that conditions are not redundant or contradictory, making the code more concise and less error-prone.\n",
    "python code"
   ],
   "id": "c722c8a2dbde925b"
  }
 ],
 "metadata": {
  "kernelspec": {
   "display_name": "Python 3",
   "language": "python",
   "name": "python3"
  },
  "language_info": {
   "codemirror_mode": {
    "name": "ipython",
    "version": 2
   },
   "file_extension": ".py",
   "mimetype": "text/x-python",
   "name": "python",
   "nbconvert_exporter": "python",
   "pygments_lexer": "ipython2",
   "version": "2.7.6"
  }
 },
 "nbformat": 4,
 "nbformat_minor": 5
}
