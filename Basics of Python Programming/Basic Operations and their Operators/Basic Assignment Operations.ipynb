{
 "cells": [
  {
   "metadata": {},
   "cell_type": "markdown",
   "source": [
    "# Overview of Assignment Operators:\n",
    "Assignment operators in Python are used to assign values to variables. These operators can also perform a specific operation and update the variable in a single step."
   ],
   "id": "e7cd1f5c2af8b110"
  },
  {
   "metadata": {
    "ExecuteTime": {
     "end_time": "2024-12-04T10:57:09.679434Z",
     "start_time": "2024-12-04T10:57:09.674764Z"
    }
   },
   "cell_type": "code",
   "source": [
    "# `=` (Assign a value to a variable)\n",
    "x = 58\n",
    "\n",
    "x"
   ],
   "id": "bbabb8bb2501acb6",
   "outputs": [
    {
     "data": {
      "text/plain": [
       "58"
      ]
     },
     "execution_count": 62,
     "metadata": {},
     "output_type": "execute_result"
    }
   ],
   "execution_count": 62
  },
  {
   "metadata": {
    "ExecuteTime": {
     "end_time": "2024-12-04T10:57:09.727181Z",
     "start_time": "2024-12-04T10:57:09.721441Z"
    }
   },
   "cell_type": "code",
   "source": [
    "# `+=` (Adds and assign)\n",
    "x += 5  # It's equal to x = x + 5\n",
    "\n",
    "x"
   ],
   "id": "beaca9d73aeeeb61",
   "outputs": [
    {
     "data": {
      "text/plain": [
       "63"
      ]
     },
     "execution_count": 63,
     "metadata": {},
     "output_type": "execute_result"
    }
   ],
   "execution_count": 63
  },
  {
   "metadata": {
    "ExecuteTime": {
     "end_time": "2024-12-04T10:57:09.740040Z",
     "start_time": "2024-12-04T10:57:09.733191Z"
    }
   },
   "cell_type": "code",
   "source": [
    "# `-=` (Subtracts and assign)\n",
    "x -= 2\n",
    "\n",
    "x"
   ],
   "id": "3679d0cd1d077203",
   "outputs": [
    {
     "data": {
      "text/plain": [
       "61"
      ]
     },
     "execution_count": 64,
     "metadata": {},
     "output_type": "execute_result"
    }
   ],
   "execution_count": 64
  },
  {
   "metadata": {
    "ExecuteTime": {
     "end_time": "2024-12-04T10:57:09.753120Z",
     "start_time": "2024-12-04T10:57:09.746047Z"
    }
   },
   "cell_type": "code",
   "source": [
    "# `*=` (Multiplies and assign)\n",
    "x *= 3\n",
    "\n",
    "x"
   ],
   "id": "e485899b47f1e5ad",
   "outputs": [
    {
     "data": {
      "text/plain": [
       "183"
      ]
     },
     "execution_count": 65,
     "metadata": {},
     "output_type": "execute_result"
    }
   ],
   "execution_count": 65
  },
  {
   "metadata": {
    "ExecuteTime": {
     "end_time": "2024-12-04T10:57:09.762110Z",
     "start_time": "2024-12-04T10:57:09.755128Z"
    }
   },
   "cell_type": "code",
   "source": [
    "# `/=` (Divides and assign)\n",
    "x /= 2\n",
    "\n",
    "x"
   ],
   "id": "6b076787b0713fdc",
   "outputs": [
    {
     "data": {
      "text/plain": [
       "91.5"
      ]
     },
     "execution_count": 66,
     "metadata": {},
     "output_type": "execute_result"
    }
   ],
   "execution_count": 66
  },
  {
   "metadata": {
    "ExecuteTime": {
     "end_time": "2024-12-04T10:57:09.769467Z",
     "start_time": "2024-12-04T10:57:09.763117Z"
    }
   },
   "cell_type": "code",
   "source": [
    "# `%=` (Modulus and assign)\n",
    "x %= 2\n",
    "\n",
    "x"
   ],
   "id": "9d5330bff47e57d9",
   "outputs": [
    {
     "data": {
      "text/plain": [
       "1.5"
      ]
     },
     "execution_count": 67,
     "metadata": {},
     "output_type": "execute_result"
    }
   ],
   "execution_count": 67
  },
  {
   "metadata": {
    "ExecuteTime": {
     "end_time": "2024-12-04T10:59:23.340501Z",
     "start_time": "2024-12-04T10:59:23.333348Z"
    }
   },
   "cell_type": "code",
   "source": [
    "# `//=` (Floor division and assign)\n",
    "x = 5\n",
    "\n",
    "x //= 2\n",
    "\n",
    "x"
   ],
   "id": "440b299f970c2c53",
   "outputs": [
    {
     "data": {
      "text/plain": [
       "2"
      ]
     },
     "execution_count": 74,
     "metadata": {},
     "output_type": "execute_result"
    }
   ],
   "execution_count": 74
  },
  {
   "metadata": {
    "ExecuteTime": {
     "end_time": "2024-12-04T10:59:24.791636Z",
     "start_time": "2024-12-04T10:59:24.784585Z"
    }
   },
   "cell_type": "code",
   "source": [
    "# `**=` (Exponentiation and assign)\n",
    "x **= 3\n",
    "\n",
    "x"
   ],
   "id": "6e0790f70ed2c5c6",
   "outputs": [
    {
     "data": {
      "text/plain": [
       "8"
      ]
     },
     "execution_count": 75,
     "metadata": {},
     "output_type": "execute_result"
    }
   ],
   "execution_count": 75
  }
 ],
 "metadata": {
  "kernelspec": {
   "display_name": "Python 3",
   "language": "python",
   "name": "python3"
  },
  "language_info": {
   "codemirror_mode": {
    "name": "ipython",
    "version": 2
   },
   "file_extension": ".py",
   "mimetype": "text/x-python",
   "name": "python",
   "nbconvert_exporter": "python",
   "pygments_lexer": "ipython2",
   "version": "2.7.6"
  }
 },
 "nbformat": 4,
 "nbformat_minor": 5
}
