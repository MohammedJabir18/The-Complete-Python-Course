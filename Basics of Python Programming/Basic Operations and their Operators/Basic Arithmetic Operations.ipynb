{
 "cells": [
  {
   "metadata": {},
   "cell_type": "markdown",
   "source": [
    "# Overview of Basic Arithmetic Operations:\n",
    "Python, being a versatile programming language, supports a variety of basic arithmetic operations. These operations form the fundamental building blocks for mathematical computations in Python programs."
   ],
   "id": "6c04efe11630bc99"
  },
  {
   "metadata": {},
   "cell_type": "markdown",
   "source": "### Addition Operation",
   "id": "ee4d743fc4290b23"
  },
  {
   "metadata": {
    "ExecuteTime": {
     "end_time": "2024-12-03T15:15:52.898539Z",
     "start_time": "2024-12-03T15:15:52.887390Z"
    }
   },
   "cell_type": "code",
   "source": [
    "num1 = 5\n",
    "num2 = 28\n",
    "\n",
    "result = num1 + num2\n",
    "print(\"The Addition Result =\", result)"
   ],
   "id": "4646b6f7c0a9618e",
   "outputs": [
    {
     "name": "stdout",
     "output_type": "stream",
     "text": [
      "The Addition Result = 33\n"
     ]
    }
   ],
   "execution_count": 1
  },
  {
   "metadata": {},
   "cell_type": "markdown",
   "source": "### Subtraction Operation",
   "id": "8edc913f2fb4d78"
  },
  {
   "metadata": {
    "ExecuteTime": {
     "end_time": "2024-12-03T15:20:13.324361Z",
     "start_time": "2024-12-03T15:20:13.319907Z"
    }
   },
   "cell_type": "code",
   "source": [
    "num1 = 63\n",
    "num2 = 32\n",
    "\n",
    "result = num1 - num2\n",
    "print(\"The Subtraction Result =\",result)"
   ],
   "id": "7bd8f141d5b4d837",
   "outputs": [
    {
     "name": "stdout",
     "output_type": "stream",
     "text": [
      "The Subtraction Result = 31\n"
     ]
    }
   ],
   "execution_count": 9
  },
  {
   "metadata": {},
   "cell_type": "markdown",
   "source": "### Multiplication Operation",
   "id": "be02d233bc26dc34"
  },
  {
   "metadata": {
    "ExecuteTime": {
     "end_time": "2024-12-03T15:20:33.832747Z",
     "start_time": "2024-12-03T15:20:33.828362Z"
    }
   },
   "cell_type": "code",
   "source": [
    "num1 = 12\n",
    "num2 = 13\n",
    "\n",
    "result = num1 * num2\n",
    "print(\"The Multiplication Result =\", result)"
   ],
   "id": "17fb9f81b847aa3d",
   "outputs": [
    {
     "name": "stdout",
     "output_type": "stream",
     "text": [
      "The Multiplication Result = 156\n"
     ]
    }
   ],
   "execution_count": 10
  },
  {
   "metadata": {},
   "cell_type": "markdown",
   "source": "### Division Operation",
   "id": "7db424aa806ef066"
  },
  {
   "metadata": {
    "ExecuteTime": {
     "end_time": "2024-12-04T08:19:56.352975Z",
     "start_time": "2024-12-04T08:19:56.338962Z"
    }
   },
   "cell_type": "code",
   "source": [
    "num1 = 183\n",
    "num2 = 6\n",
    "\n",
    "result = num1 / num2\n",
    "print(\"The Division Result =\", result)\n",
    "type(result)"
   ],
   "id": "d96a9904543cf823",
   "outputs": [
    {
     "name": "stdout",
     "output_type": "stream",
     "text": [
      "The Division Result = 30.5\n"
     ]
    },
    {
     "data": {
      "text/plain": [
       "float"
      ]
     },
     "execution_count": 5,
     "metadata": {},
     "output_type": "execute_result"
    }
   ],
   "execution_count": 5
  },
  {
   "metadata": {
    "ExecuteTime": {
     "end_time": "2024-12-04T08:20:03.988603Z",
     "start_time": "2024-12-04T08:20:03.982837Z"
    }
   },
   "cell_type": "code",
   "source": [
    "result = num1 // num2\n",
    "print(\"The Division Result =\", result)\n",
    "type(result)"
   ],
   "id": "6d4c51f781dd8428",
   "outputs": [
    {
     "name": "stdout",
     "output_type": "stream",
     "text": [
      "The Division Result = 30\n"
     ]
    },
    {
     "data": {
      "text/plain": [
       "int"
      ]
     },
     "execution_count": 6,
     "metadata": {},
     "output_type": "execute_result"
    }
   ],
   "execution_count": 6
  },
  {
   "metadata": {},
   "cell_type": "markdown",
   "source": [
    "### Exponentiation\n",
    "Exponentiation is a powerful operation that involves raising a number to a certain power."
   ],
   "id": "bf57a65f56988fa6"
  },
  {
   "metadata": {
    "ExecuteTime": {
     "end_time": "2024-12-03T15:28:17.281728Z",
     "start_time": "2024-12-03T15:28:17.276739Z"
    }
   },
   "cell_type": "code",
   "source": [
    "num1 = 3\n",
    "num2 = 5\n",
    "\n",
    "result = num1 ** num2\n",
    "print(\"The Exponentiation %d^%d = %d\" % (num1, num2, result))"
   ],
   "id": "217e34d9f6c503c3",
   "outputs": [
    {
     "name": "stdout",
     "output_type": "stream",
     "text": [
      "The Exponentiation 3^5 = 243\n"
     ]
    }
   ],
   "execution_count": 17
  },
  {
   "metadata": {},
   "cell_type": "markdown",
   "source": [
    "### Modulo Operation\n",
    "The modulo operation returns the remainder when one number is divided by another."
   ],
   "id": "f176ecb464037155"
  },
  {
   "metadata": {
    "ExecuteTime": {
     "end_time": "2024-12-03T15:31:06.599499Z",
     "start_time": "2024-12-03T15:31:06.594670Z"
    }
   },
   "cell_type": "code",
   "source": [
    "num1 = 15\n",
    "num2 = 7\n",
    "\n",
    "reminder = num1 % num2\n",
    "print(\"The Reminder of %d divided by %d = %d\" % (num1, num2, reminder))"
   ],
   "id": "7b470fbbac2fa682",
   "outputs": [
    {
     "name": "stdout",
     "output_type": "stream",
     "text": [
      "The Reminder of 15 divided by 7 = 1\n"
     ]
    }
   ],
   "execution_count": 22
  },
  {
   "metadata": {},
   "cell_type": "markdown",
   "source": [
    "## Order of Operations and Parentheses\n",
    "The order of operations determines the sequence in which operations are performed. Parentheses can be used to override the default order"
   ],
   "id": "946b28d827628542"
  },
  {
   "metadata": {
    "ExecuteTime": {
     "end_time": "2024-12-03T15:32:42.003028Z",
     "start_time": "2024-12-03T15:32:41.996227Z"
    }
   },
   "cell_type": "code",
   "source": [
    "result = (4*3) - 2\n",
    "\n",
    "print(result)"
   ],
   "id": "5f0f92a23bc892bc",
   "outputs": [
    {
     "name": "stdout",
     "output_type": "stream",
     "text": [
      "10\n"
     ]
    }
   ],
   "execution_count": 23
  }
 ],
 "metadata": {
  "kernelspec": {
   "display_name": "Python 3",
   "language": "python",
   "name": "python3"
  },
  "language_info": {
   "codemirror_mode": {
    "name": "ipython",
    "version": 2
   },
   "file_extension": ".py",
   "mimetype": "text/x-python",
   "name": "python",
   "nbconvert_exporter": "python",
   "pygments_lexer": "ipython2",
   "version": "2.7.6"
  }
 },
 "nbformat": 4,
 "nbformat_minor": 5
}
