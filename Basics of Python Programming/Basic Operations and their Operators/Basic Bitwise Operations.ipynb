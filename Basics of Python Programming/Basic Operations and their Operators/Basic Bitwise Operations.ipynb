{
 "cells": [
  {
   "metadata": {},
   "cell_type": "markdown",
   "source": [
    "# Overview of Bitwise Operators:\n",
    "\n",
    "Bitwise operators in Python perform operations on the binary representations of integers. They operate at the bit level, meaning they work with individual bits of data."
   ],
   "id": "644b518f9a61e088"
  },
  {
   "metadata": {},
   "cell_type": "markdown",
   "source": [
    "##### 1. & (Bitwise AND):\n",
    "Sets each bit to 1 if both corresponding bits are 1.\n"
   ],
   "id": "56b5677d41815a3e"
  },
  {
   "metadata": {
    "ExecuteTime": {
     "end_time": "2024-12-04T09:14:15.535242Z",
     "start_time": "2024-12-04T09:14:15.529548Z"
    }
   },
   "cell_type": "code",
   "source": "print(5 & 3)  # (Binary: 0101 & 0011 = 0001)",
   "id": "70bddccc1c149d7d",
   "outputs": [
    {
     "name": "stdout",
     "output_type": "stream",
     "text": [
      "1\n"
     ]
    }
   ],
   "execution_count": 10
  },
  {
   "metadata": {},
   "cell_type": "markdown",
   "source": [
    "##### 2. | (Bitwise OR):\n",
    "Sets each bit to 1 if at least one corresponding bit is 1."
   ],
   "id": "e875e6b7dc157a78"
  },
  {
   "metadata": {
    "ExecuteTime": {
     "end_time": "2024-12-04T09:18:50.022156Z",
     "start_time": "2024-12-04T09:18:50.016844Z"
    }
   },
   "cell_type": "code",
   "source": "print(5 | 3)  # (Binary: 0101 | 0011 = 0111)",
   "id": "2ebe7d52564bcfb",
   "outputs": [
    {
     "name": "stdout",
     "output_type": "stream",
     "text": [
      "7\n"
     ]
    }
   ],
   "execution_count": 11
  },
  {
   "metadata": {},
   "cell_type": "markdown",
   "source": [
    "##### 3. ^ (Bitwise XOR):\n",
    "Sets each bit to 1 if only one of the corresponding bits is 1."
   ],
   "id": "cbbbd95841c19377"
  },
  {
   "metadata": {
    "ExecuteTime": {
     "end_time": "2024-12-04T09:39:19.842096Z",
     "start_time": "2024-12-04T09:39:19.837643Z"
    }
   },
   "cell_type": "code",
   "source": "print(5 ^ 3)  # (Binary: 0101 ^ 0011 = 0110)",
   "id": "f06760e118d1ab92",
   "outputs": [
    {
     "name": "stdout",
     "output_type": "stream",
     "text": [
      "6\n"
     ]
    }
   ],
   "execution_count": 14
  },
  {
   "metadata": {},
   "cell_type": "markdown",
   "source": [
    "##### 4. ~ (Bitwise NOT):\n",
    "Inverts all bits (one's complement)."
   ],
   "id": "1dd942d961566766"
  },
  {
   "metadata": {
    "ExecuteTime": {
     "end_time": "2024-12-04T09:41:45.590607Z",
     "start_time": "2024-12-04T09:41:45.586869Z"
    }
   },
   "cell_type": "code",
   "source": "print(~5)  # (Binary: ~0101 = 1010, which is -6 in two's complement)",
   "id": "c50013c070852484",
   "outputs": [
    {
     "name": "stdout",
     "output_type": "stream",
     "text": [
      "-6\n"
     ]
    }
   ],
   "execution_count": 16
  },
  {
   "metadata": {},
   "cell_type": "markdown",
   "source": [
    "##### 5. << (Left Shift):\n",
    "Shifts bits to the left by a specified number of positions, filling with 0s from the right."
   ],
   "id": "31ed3d3cd09a4253"
  },
  {
   "metadata": {
    "ExecuteTime": {
     "end_time": "2024-12-04T09:43:13.068985Z",
     "start_time": "2024-12-04T09:43:13.064148Z"
    }
   },
   "cell_type": "code",
   "source": "print(5 << 1)  # (binary: 0101 << 1 = 1010)",
   "id": "ed4f9b560b031443",
   "outputs": [
    {
     "name": "stdout",
     "output_type": "stream",
     "text": [
      "10\n"
     ]
    }
   ],
   "execution_count": 17
  },
  {
   "metadata": {},
   "cell_type": "markdown",
   "source": [
    "##### 6. >> (Right Shift):\n",
    "Shifts bits to the right by a specified number of positions, filling with the sign bit (for signed integers)."
   ],
   "id": "36a7cef6c17ec1e7"
  },
  {
   "metadata": {
    "ExecuteTime": {
     "end_time": "2024-12-04T09:44:54.522714Z",
     "start_time": "2024-12-04T09:44:54.518853Z"
    }
   },
   "cell_type": "code",
   "source": "print(5 >> 1)  # (binary: 0101 >> 1 = 0010) ",
   "id": "a777d078eec913da",
   "outputs": [
    {
     "name": "stdout",
     "output_type": "stream",
     "text": [
      "2\n"
     ]
    }
   ],
   "execution_count": 18
  }
 ],
 "metadata": {
  "kernelspec": {
   "display_name": "Python 3",
   "language": "python",
   "name": "python3"
  },
  "language_info": {
   "codemirror_mode": {
    "name": "ipython",
    "version": 2
   },
   "file_extension": ".py",
   "mimetype": "text/x-python",
   "name": "python",
   "nbconvert_exporter": "python",
   "pygments_lexer": "ipython2",
   "version": "2.7.6"
  }
 },
 "nbformat": 4,
 "nbformat_minor": 5
}
