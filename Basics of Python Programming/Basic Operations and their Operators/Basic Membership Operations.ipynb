{
 "cells": [
  {
   "metadata": {},
   "cell_type": "markdown",
   "source": [
    "# Overview of Membership Operators:\n",
    "Membership operators in Python are used to test whether a specific value or element is present in a sequence, such as a string, list, tuple, set, or dictionary. There are two membership operators:\n",
    "\n",
    "### Use Cases:\n",
    "* Checking if an element exists in a collection.\n",
    "* Filtering data based on membership.\n",
    "* Improving code readability by avoiding complex loops."
   ],
   "id": "ceea57432388017e"
  },
  {
   "metadata": {},
   "cell_type": "markdown",
   "source": [
    "### 1. `in` Operator\n",
    "Returns True if the specified value is found in the sequence."
   ],
   "id": "b1fa70bc9a7cfc41"
  },
  {
   "metadata": {
    "ExecuteTime": {
     "end_time": "2024-12-04T11:24:20.203187Z",
     "start_time": "2024-12-04T11:24:20.199696Z"
    }
   },
   "cell_type": "code",
   "source": [
    "fruits = [\"Apple\", \"Orange\", \"Kiwi\", \"Grape\"]\n",
    "\n",
    "print('Apple' in fruits)\n",
    "\n",
    "print(\"Banana\" in fruits)"
   ],
   "id": "64ac1374fe1ba903",
   "outputs": [
    {
     "name": "stdout",
     "output_type": "stream",
     "text": [
      "True\n",
      "False\n"
     ]
    }
   ],
   "execution_count": 11
  },
  {
   "metadata": {
    "ExecuteTime": {
     "end_time": "2024-12-04T11:24:20.216950Z",
     "start_time": "2024-12-04T11:24:20.211715Z"
    }
   },
   "cell_type": "code",
   "source": [
    "print(\"i\" in \"Jabir\")\n",
    "\n",
    "print(\"z\" in \"Jabir\")"
   ],
   "id": "e4a0f71e4d84e47d",
   "outputs": [
    {
     "name": "stdout",
     "output_type": "stream",
     "text": [
      "True\n",
      "False\n"
     ]
    }
   ],
   "execution_count": 12
  },
  {
   "metadata": {},
   "cell_type": "markdown",
   "source": [
    "### 2. `not in` Operator\n",
    "Returns True if the specified value is not found in the sequence."
   ],
   "id": "82bd682acd841f90"
  },
  {
   "metadata": {
    "ExecuteTime": {
     "end_time": "2024-12-04T11:24:20.232757Z",
     "start_time": "2024-12-04T11:24:20.219958Z"
    }
   },
   "cell_type": "code",
   "source": [
    "print(\"Apple\" not in fruits)\n",
    "\n",
    "print(\"Banana\" not in fruits)"
   ],
   "id": "f386f6eebb84da34",
   "outputs": [
    {
     "name": "stdout",
     "output_type": "stream",
     "text": [
      "False\n",
      "True\n"
     ]
    }
   ],
   "execution_count": 13
  },
  {
   "metadata": {
    "ExecuteTime": {
     "end_time": "2024-12-04T11:24:20.249098Z",
     "start_time": "2024-12-04T11:24:20.234765Z"
    }
   },
   "cell_type": "code",
   "source": [
    "data = {\"name\": \"Jabir\", \"role\": \"Data Scientist\"}\n",
    "\n",
    "print(\"Jabir\" not in data)\n",
    "\n",
    "print(\"name\" not in data)"
   ],
   "id": "1faff70f87fd5f12",
   "outputs": [
    {
     "name": "stdout",
     "output_type": "stream",
     "text": [
      "True\n",
      "False\n"
     ]
    }
   ],
   "execution_count": 14
  }
 ],
 "metadata": {
  "kernelspec": {
   "display_name": "Python 3",
   "language": "python",
   "name": "python3"
  },
  "language_info": {
   "codemirror_mode": {
    "name": "ipython",
    "version": 2
   },
   "file_extension": ".py",
   "mimetype": "text/x-python",
   "name": "python",
   "nbconvert_exporter": "python",
   "pygments_lexer": "ipython2",
   "version": "2.7.6"
  }
 },
 "nbformat": 4,
 "nbformat_minor": 5
}
