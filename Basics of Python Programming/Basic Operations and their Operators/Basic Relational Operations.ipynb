{
 "cells": [
  {
   "metadata": {},
   "cell_type": "markdown",
   "source": [
    "# Overview of Relational Operators:\n",
    "Relational operators in Python, also known as comparison operators, comparison operators allow us to compare values and expressions, returning a Boolean result. The primary comparison operators are:\n",
    "* `==`  (equal to)\n",
    "* `!=`  (not equal to)\n",
    "* `<`  (less than)\n",
    "* `>`  (greater than)\n",
    "* `<=`  (less than or equal to)\n",
    "* `>=`  (greater than or equal to)\n",
    "\n",
    "These operators are the building blocks for creating conditions and making decisions within a program."
   ],
   "id": "578a8cc3c6d205d5"
  },
  {
   "metadata": {},
   "cell_type": "markdown",
   "source": [
    "##### `==` (Equal to): \n",
    "Checks if two values are same "
   ],
   "id": "1fc4f4b1fe23b9f9"
  },
  {
   "metadata": {
    "ExecuteTime": {
     "end_time": "2024-12-04T07:56:17.649012Z",
     "start_time": "2024-12-04T07:56:17.637609Z"
    }
   },
   "cell_type": "code",
   "source": [
    "a = (5 == 5)\n",
    "b = (5 == -5)\n",
    "\n",
    "print(a)\n",
    "print(b)"
   ],
   "id": "41e7f4f8828c97af",
   "outputs": [
    {
     "name": "stdout",
     "output_type": "stream",
     "text": [
      "True\n",
      "False\n"
     ]
    }
   ],
   "execution_count": 1
  },
  {
   "metadata": {},
   "cell_type": "markdown",
   "source": [
    "##### `!=` (Not equal to):\n",
    "Checks if two values are not equal "
   ],
   "id": "aeeeac0a665d456b"
  },
  {
   "metadata": {
    "ExecuteTime": {
     "end_time": "2024-12-04T07:58:26.640860Z",
     "start_time": "2024-12-04T07:58:26.634772Z"
    }
   },
   "cell_type": "code",
   "source": [
    "a = (7 != 8)\n",
    "b = (8 != 8)\n",
    "\n",
    "print(a)\n",
    "print(b)"
   ],
   "id": "710f3bbdb596491a",
   "outputs": [
    {
     "name": "stdout",
     "output_type": "stream",
     "text": [
      "True\n",
      "False\n"
     ]
    }
   ],
   "execution_count": 2
  },
  {
   "metadata": {},
   "cell_type": "markdown",
   "source": [
    "##### `>` (Greater than):\n",
    "Checks if the left value is greater than the right"
   ],
   "id": "6bfebb8738cbb589"
  },
  {
   "metadata": {
    "ExecuteTime": {
     "end_time": "2024-12-04T08:01:43.895868Z",
     "start_time": "2024-12-04T08:01:43.890199Z"
    }
   },
   "cell_type": "code",
   "source": [
    "a = (5 > 3)\n",
    "b = (5 > 5)\n",
    "\n",
    "print(a)\n",
    "print(b)"
   ],
   "id": "ee063f2234530d10",
   "outputs": [
    {
     "name": "stdout",
     "output_type": "stream",
     "text": [
      "True\n",
      "False\n"
     ]
    }
   ],
   "execution_count": 4
  },
  {
   "metadata": {},
   "cell_type": "markdown",
   "source": [
    "##### `<` (Less than)\n",
    "Checks if the left value is less than the right"
   ],
   "id": "4533f506d12e6c24"
  },
  {
   "metadata": {
    "ExecuteTime": {
     "end_time": "2024-12-04T08:04:32.833090Z",
     "start_time": "2024-12-04T08:04:32.828113Z"
    }
   },
   "cell_type": "code",
   "source": [
    "a = (5 < 9)\n",
    "b = (8 < 6)\n",
    "\n",
    "print(a)\n",
    "print(b)"
   ],
   "id": "312801f60cf7282d",
   "outputs": [
    {
     "name": "stdout",
     "output_type": "stream",
     "text": [
      "True\n",
      "False\n"
     ]
    }
   ],
   "execution_count": 6
  },
  {
   "metadata": {},
   "cell_type": "markdown",
   "source": [
    "##### `>=` (Greater than or Equal to):\n",
    "Checks if the left value is greater than or equal to the right"
   ],
   "id": "8aa56f9ede256a50"
  },
  {
   "metadata": {
    "ExecuteTime": {
     "end_time": "2024-12-04T08:07:18.246433Z",
     "start_time": "2024-12-04T08:07:18.241994Z"
    }
   },
   "cell_type": "code",
   "source": [
    "a = (5 >= 5)\n",
    "b = (4 >= 5)\n",
    "\n",
    "print(a)\n",
    "print(b)"
   ],
   "id": "767417964fa699e7",
   "outputs": [
    {
     "name": "stdout",
     "output_type": "stream",
     "text": [
      "True\n",
      "False\n"
     ]
    }
   ],
   "execution_count": 8
  },
  {
   "metadata": {},
   "cell_type": "markdown",
   "source": [
    "##### `<=` (Less than or Equal to):\n",
    "Checks if the left value is less than or equal to the right "
   ],
   "id": "a84fd720ad43284f"
  },
  {
   "metadata": {
    "ExecuteTime": {
     "end_time": "2024-12-04T08:13:26.403889Z",
     "start_time": "2024-12-04T08:13:26.399345Z"
    }
   },
   "cell_type": "code",
   "source": [
    "a = (5 <= 5)\n",
    "b = (5 <= 3)\n",
    "\n",
    "print(a)\n",
    "print(b)"
   ],
   "id": "7e8cb148d5b88764",
   "outputs": [
    {
     "name": "stdout",
     "output_type": "stream",
     "text": [
      "True\n",
      "False\n"
     ]
    }
   ],
   "execution_count": 9
  }
 ],
 "metadata": {
  "kernelspec": {
   "display_name": "Python 3",
   "language": "python",
   "name": "python3"
  },
  "language_info": {
   "codemirror_mode": {
    "name": "ipython",
    "version": 2
   },
   "file_extension": ".py",
   "mimetype": "text/x-python",
   "name": "python",
   "nbconvert_exporter": "python",
   "pygments_lexer": "ipython2",
   "version": "2.7.6"
  }
 },
 "nbformat": 4,
 "nbformat_minor": 5
}
