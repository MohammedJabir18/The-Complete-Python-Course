{
 "cells": [
  {
   "metadata": {},
   "cell_type": "markdown",
   "source": [
    "## Understanding Functions in Python\n",
    "Functions in Python are essential building blocks that allow programmers to create reusable code. They help organize code into manageable sections, making it easier to read, maintain, and debug.\n",
    "\n",
    "## Defining a Function\n",
    "To define a function in Python, you use the def keyword followed by the function name and parentheses that may include parameters."
   ],
   "id": "d22db7856d42d722"
  },
  {
   "metadata": {},
   "cell_type": "markdown",
   "source": "### Creating function",
   "id": "90349d4ec0da05a6"
  },
  {
   "metadata": {
    "ExecuteTime": {
     "end_time": "2024-12-19T04:58:51.120052Z",
     "start_time": "2024-12-19T04:58:51.107231Z"
    }
   },
   "cell_type": "code",
   "source": "print(\"Hello Jabir, Welcome to Python\")",
   "id": "6f66cfb43d402e0a",
   "outputs": [
    {
     "name": "stdout",
     "output_type": "stream",
     "text": [
      "Hello Jabir, Welcome to Python\n"
     ]
    }
   ],
   "execution_count": 1
  },
  {
   "metadata": {
    "ExecuteTime": {
     "end_time": "2024-12-19T04:58:59.620043Z",
     "start_time": "2024-12-19T04:58:59.613835Z"
    }
   },
   "cell_type": "code",
   "source": "print(\"Hello Alex, Welcome to Python\")",
   "id": "8a98b755c29bfa55",
   "outputs": [
    {
     "name": "stdout",
     "output_type": "stream",
     "text": [
      "Hello Alex, Welcome to Python\n"
     ]
    }
   ],
   "execution_count": 2
  },
  {
   "metadata": {
    "ExecuteTime": {
     "end_time": "2024-12-19T05:00:01.950636Z",
     "start_time": "2024-12-19T05:00:01.944386Z"
    }
   },
   "cell_type": "code",
   "source": "print(\"Hello Manu, Welcome to Python\")",
   "id": "3ff3755d072a93c4",
   "outputs": [
    {
     "name": "stdout",
     "output_type": "stream",
     "text": [
      "Hello Manu, Welcome to Python\n"
     ]
    }
   ],
   "execution_count": 3
  },
  {
   "metadata": {
    "ExecuteTime": {
     "end_time": "2024-12-19T05:01:55.779359Z",
     "start_time": "2024-12-19T05:01:55.773231Z"
    }
   },
   "cell_type": "code",
   "source": [
    "# Function with argument with return value\n",
    "def greet(name):\n",
    "    output = f\"Hello {name}, Welcome to Python\"\n",
    "    return output"
   ],
   "id": "f646a01e8e994dca",
   "outputs": [],
   "execution_count": 5
  },
  {
   "metadata": {
    "ExecuteTime": {
     "end_time": "2024-12-19T05:02:09.647596Z",
     "start_time": "2024-12-19T05:02:09.636334Z"
    }
   },
   "cell_type": "code",
   "source": "greet(\"Jabir\")",
   "id": "3e31898253af295c",
   "outputs": [
    {
     "data": {
      "text/plain": [
       "'Hello Jabir, Welcome to Python'"
      ]
     },
     "execution_count": 6,
     "metadata": {},
     "output_type": "execute_result"
    }
   ],
   "execution_count": 6
  },
  {
   "metadata": {
    "ExecuteTime": {
     "end_time": "2024-12-19T05:02:19.556306Z",
     "start_time": "2024-12-19T05:02:19.543730Z"
    }
   },
   "cell_type": "code",
   "source": "greet(\"Alex\")",
   "id": "3e9d87a3524f16c8",
   "outputs": [
    {
     "data": {
      "text/plain": [
       "'Hello Alex, Welcome to Python'"
      ]
     },
     "execution_count": 7,
     "metadata": {},
     "output_type": "execute_result"
    }
   ],
   "execution_count": 7
  },
  {
   "metadata": {
    "ExecuteTime": {
     "end_time": "2024-12-19T05:03:32.253627Z",
     "start_time": "2024-12-19T05:03:32.239688Z"
    }
   },
   "cell_type": "code",
   "source": [
    "result = greet(\"Manu\")\n",
    "\n",
    "print(result)"
   ],
   "id": "ab4f3776558ae09b",
   "outputs": [
    {
     "name": "stdout",
     "output_type": "stream",
     "text": [
      "Hello Manu, Welcome to Python\n"
     ]
    }
   ],
   "execution_count": 8
  },
  {
   "metadata": {
    "ExecuteTime": {
     "end_time": "2024-12-19T05:06:26.918667Z",
     "start_time": "2024-12-19T05:06:26.910131Z"
    }
   },
   "cell_type": "code",
   "source": [
    "# Function without argument with return value\n",
    "def greet():\n",
    "    output = f\"Hello Hijas, Welcome to Python\"\n",
    "    return output"
   ],
   "id": "890b7905f39ec3eb",
   "outputs": [],
   "execution_count": 9
  },
  {
   "metadata": {
    "ExecuteTime": {
     "end_time": "2024-12-19T05:06:53.036834Z",
     "start_time": "2024-12-19T05:06:53.032408Z"
    }
   },
   "cell_type": "code",
   "source": [
    "res = greet()\n",
    "\n",
    "print(res)"
   ],
   "id": "9f901769c63f57ff",
   "outputs": [
    {
     "name": "stdout",
     "output_type": "stream",
     "text": [
      "Hello Hijas, Welcome to Python\n"
     ]
    }
   ],
   "execution_count": 11
  },
  {
   "metadata": {
    "ExecuteTime": {
     "end_time": "2024-12-19T05:09:33.560578Z",
     "start_time": "2024-12-19T05:09:33.554698Z"
    }
   },
   "cell_type": "code",
   "source": [
    "# Function with argument without return value\n",
    "def greet(name):\n",
    "    print(f\"Hello {name}, Welcome to python\")"
   ],
   "id": "c40cc6fddd10e048",
   "outputs": [],
   "execution_count": 12
  },
  {
   "metadata": {
    "ExecuteTime": {
     "end_time": "2024-12-19T05:10:04.066088Z",
     "start_time": "2024-12-19T05:10:04.050271Z"
    }
   },
   "cell_type": "code",
   "source": "greet(\"Shibu\")",
   "id": "fd1cfef52fd9e60f",
   "outputs": [
    {
     "name": "stdout",
     "output_type": "stream",
     "text": [
      "Hello Shibu, Welcome to python\n"
     ]
    }
   ],
   "execution_count": 13
  },
  {
   "metadata": {
    "ExecuteTime": {
     "end_time": "2024-12-19T05:12:36.663419Z",
     "start_time": "2024-12-19T05:12:36.659418Z"
    }
   },
   "cell_type": "code",
   "source": [
    "# Function without argument without return value\n",
    "def greet():\n",
    "    print(\"Hello Vijay, Welcome to Python\")"
   ],
   "id": "6c40a84229398d09",
   "outputs": [],
   "execution_count": 16
  },
  {
   "metadata": {
    "ExecuteTime": {
     "end_time": "2024-12-19T05:12:37.492929Z",
     "start_time": "2024-12-19T05:12:37.488754Z"
    }
   },
   "cell_type": "code",
   "source": "greet()",
   "id": "963b03d693bf6a3b",
   "outputs": [
    {
     "name": "stdout",
     "output_type": "stream",
     "text": [
      "Hello Vijay, Welcome to Python\n"
     ]
    }
   ],
   "execution_count": 17
  },
  {
   "metadata": {
    "ExecuteTime": {
     "end_time": "2024-12-19T05:15:37.950935Z",
     "start_time": "2024-12-19T05:15:37.945551Z"
    }
   },
   "cell_type": "code",
   "source": [
    "def greeting(name):\n",
    "    return f\"Hello {name}, Welcome to Python\""
   ],
   "id": "da1ce4a54c20e1b5",
   "outputs": [],
   "execution_count": 18
  },
  {
   "metadata": {
    "ExecuteTime": {
     "end_time": "2024-12-19T05:16:55.324812Z",
     "start_time": "2024-12-19T05:16:55.317420Z"
    }
   },
   "cell_type": "code",
   "source": [
    "names = [\"Jabir\", \"Alex\", \"Hijas\", \"Shibu\"]\n",
    "\n",
    "for i in names:\n",
    "    print(greeting(i))"
   ],
   "id": "286b4d5981b88781",
   "outputs": [
    {
     "name": "stdout",
     "output_type": "stream",
     "text": [
      "Hello Jabir, Welcome to Python\n",
      "Hello Alex, Welcome to Python\n",
      "Hello Hijas, Welcome to Python\n",
      "Hello Shibu, Welcome to Python\n"
     ]
    }
   ],
   "execution_count": 19
  },
  {
   "metadata": {},
   "cell_type": "markdown",
   "source": "#### Check odd or even using function",
   "id": "15d87ae357ba2545"
  },
  {
   "metadata": {
    "ExecuteTime": {
     "end_time": "2024-12-19T05:27:54.171183Z",
     "start_time": "2024-12-19T05:27:54.166793Z"
    }
   },
   "cell_type": "code",
   "source": [
    "def odd(num):\n",
    "    odd_or_even = True if num % 2 != 0 else False\n",
    "    return odd_or_even"
   ],
   "id": "5c9b9c73c2c809ea",
   "outputs": [],
   "execution_count": 23
  },
  {
   "metadata": {
    "ExecuteTime": {
     "end_time": "2024-12-19T05:27:59.286187Z",
     "start_time": "2024-12-19T05:27:54.819023Z"
    }
   },
   "cell_type": "code",
   "source": [
    "num = int(input(\"Enter a number: \"))\n",
    "\n",
    "if odd(num):\n",
    "    print(f\"{num} is odd number\")\n",
    "else:\n",
    "    print(f\"{num} is even number\")"
   ],
   "id": "86ee55d906747bab",
   "outputs": [
    {
     "name": "stdout",
     "output_type": "stream",
     "text": [
      "9 is odd number\n"
     ]
    }
   ],
   "execution_count": 24
  }
 ],
 "metadata": {
  "kernelspec": {
   "display_name": "Python 3",
   "language": "python",
   "name": "python3"
  },
  "language_info": {
   "codemirror_mode": {
    "name": "ipython",
    "version": 2
   },
   "file_extension": ".py",
   "mimetype": "text/x-python",
   "name": "python",
   "nbconvert_exporter": "python",
   "pygments_lexer": "ipython2",
   "version": "2.7.6"
  }
 },
 "nbformat": 4,
 "nbformat_minor": 5
}
