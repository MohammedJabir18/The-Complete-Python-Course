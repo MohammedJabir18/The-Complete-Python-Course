{
 "cells": [
  {
   "metadata": {},
   "cell_type": "markdown",
   "source": [
    "# Higher Order Functions\n",
    "In Python, higher-order functions are functions that can take other functions as arguments or return them as results. This concept is fundamental to functional programming, which emphasizes the use of pure functions and immutability. \n",
    "\n",
    "- map\n",
    "- filter\n",
    "- reduce"
   ],
   "id": "d9cb052d22e5774c"
  },
  {
   "metadata": {},
   "cell_type": "markdown",
   "source": [
    "#### Map Function\n",
    "The `map()` function applies a specified function to each item in an iterable (like a list) and returns an iterator of the results. This function is particularly useful for transforming data in a concise manner."
   ],
   "id": "dd70d61de85b8885"
  },
  {
   "metadata": {
    "ExecuteTime": {
     "end_time": "2024-12-20T09:14:17.960915Z",
     "start_time": "2024-12-20T09:14:17.952899Z"
    }
   },
   "cell_type": "code",
   "source": [
    "# square the items of a list\n",
    "num_list = [1, 2, 3, 4, 5]\n",
    "a = lambda x: x**2\n",
    "\n",
    "square = map(a, num_list)\n",
    "\n",
    "list(square)"
   ],
   "id": "cf591d2a068ae36d",
   "outputs": [
    {
     "data": {
      "text/plain": [
       "[1, 4, 9, 16, 25]"
      ]
     },
     "execution_count": 2,
     "metadata": {},
     "output_type": "execute_result"
    }
   ],
   "execution_count": 2
  },
  {
   "metadata": {
    "ExecuteTime": {
     "end_time": "2024-12-20T09:21:45.962956Z",
     "start_time": "2024-12-20T09:21:45.951517Z"
    }
   },
   "cell_type": "code",
   "source": [
    "# odd/even labeling of list items\n",
    "list(map(lambda x: f\"{x} is even\" if x % 2 == 0 else f\"{x} is odd\", [i for i in range(1, 11)]))"
   ],
   "id": "3d6c60137a6595cb",
   "outputs": [
    {
     "data": {
      "text/plain": [
       "['1 is odd',\n",
       " '2 is even',\n",
       " '3 is odd',\n",
       " '4 is even',\n",
       " '5 is odd',\n",
       " '6 is even',\n",
       " '7 is odd',\n",
       " '8 is even',\n",
       " '9 is odd',\n",
       " '10 is even']"
      ]
     },
     "execution_count": 8,
     "metadata": {},
     "output_type": "execute_result"
    }
   ],
   "execution_count": 8
  },
  {
   "metadata": {
    "ExecuteTime": {
     "end_time": "2024-12-20T09:27:50.385885Z",
     "start_time": "2024-12-20T09:27:50.377808Z"
    }
   },
   "cell_type": "code",
   "source": [
    "# Fetch names from a list of dict\n",
    "users = [\n",
    "    {\n",
    "        \"Name\": \"Alex\",\n",
    "        \"Age\": 25,\n",
    "        \"Gender\": \"Male\"\n",
    "    },\n",
    "    {\n",
    "        \"Name\": \"Jabir\",\n",
    "        \"Age\": 20,\n",
    "        \"Gender\": \"Male\"\n",
    "    },\n",
    "    {\n",
    "        \"Name\": \"Geetha\",\n",
    "        \"Age\": 19,\n",
    "        \"Gender\": \"Female\"\n",
    "    },\n",
    "    {\n",
    "        \"Name\": \"Maya\",\n",
    "        \"Age\": 32,\n",
    "        \"Gender\": \"Female\"\n",
    "    }\n",
    "]"
   ],
   "id": "b589dd7a75c0a263",
   "outputs": [],
   "execution_count": 9
  },
  {
   "metadata": {
    "ExecuteTime": {
     "end_time": "2024-12-20T09:44:29.975920Z",
     "start_time": "2024-12-20T09:44:29.966656Z"
    }
   },
   "cell_type": "code",
   "source": "list(map(lambda x: x[\"Name\"], users))",
   "id": "a3bc3921476cd043",
   "outputs": [
    {
     "data": {
      "text/plain": [
       "['Alex', 'Jabir', 'Geetha', 'Maya']"
      ]
     },
     "execution_count": 44,
     "metadata": {},
     "output_type": "execute_result"
    }
   ],
   "execution_count": 44
  },
  {
   "metadata": {},
   "cell_type": "markdown",
   "source": [
    "#### Filter Function\n",
    "The `filter()` function creates a new iterable by removing items from an iterable based on a specified condition. It is useful for data cleansing and extracting relevant data."
   ],
   "id": "3578fd218bd35770"
  },
  {
   "metadata": {
    "ExecuteTime": {
     "end_time": "2024-12-20T09:45:04.796726Z",
     "start_time": "2024-12-20T09:45:04.790421Z"
    }
   },
   "cell_type": "code",
   "source": [
    "# Number greater than 5\n",
    "list(filter(lambda x: x > 25, [32, 15, 24, 29, 812, 21, 71]))"
   ],
   "id": "63bd9c3a165f5919",
   "outputs": [
    {
     "data": {
      "text/plain": [
       "[32, 29, 812, 71]"
      ]
     },
     "execution_count": 46,
     "metadata": {},
     "output_type": "execute_result"
    }
   ],
   "execution_count": 46
  },
  {
   "metadata": {
    "ExecuteTime": {
     "end_time": "2024-12-20T09:48:27.553546Z",
     "start_time": "2024-12-20T09:48:27.545462Z"
    }
   },
   "cell_type": "code",
   "source": [
    "# Fetch Fruits starting with 'a'\n",
    "fruits = ['apple', 'guava', 'cherry', 'avocado', 'mango']\n",
    "\n",
    "list(filter(lambda x: x.startswith('a'), fruits))"
   ],
   "id": "8164af502e3a5e46",
   "outputs": [
    {
     "data": {
      "text/plain": [
       "['apple', 'avocado']"
      ]
     },
     "execution_count": 47,
     "metadata": {},
     "output_type": "execute_result"
    }
   ],
   "execution_count": 47
  },
  {
   "metadata": {},
   "cell_type": "markdown",
   "source": [
    "#### Reduce Function\n",
    "The `reduce()` function, which must be imported from the functools module, condenses an iterable into a single value by applying a specified function cumulatively. This function is particularly useful for aggregating data."
   ],
   "id": "4d613d8588316b62"
  },
  {
   "metadata": {
    "ExecuteTime": {
     "end_time": "2024-12-20T09:56:20.952354Z",
     "start_time": "2024-12-20T09:56:20.946603Z"
    }
   },
   "cell_type": "code",
   "source": [
    "# Sum of all items\n",
    "from functools import reduce\n",
    "\n",
    "reduce(lambda x,y: x+y, [i for i in range(1, 11)])"
   ],
   "id": "16851092644fd9d7",
   "outputs": [
    {
     "data": {
      "text/plain": [
       "55"
      ]
     },
     "execution_count": 49,
     "metadata": {},
     "output_type": "execute_result"
    }
   ],
   "execution_count": 49
  },
  {
   "metadata": {
    "ExecuteTime": {
     "end_time": "2024-12-20T10:01:36.168199Z",
     "start_time": "2024-12-20T10:01:36.161379Z"
    }
   },
   "cell_type": "code",
   "source": [
    "# Find minimum number from the list\n",
    "reduce(lambda x,y: x if x < y else y, [23, 11, 45, 1, 10])"
   ],
   "id": "3ca418adf2dedf00",
   "outputs": [
    {
     "data": {
      "text/plain": [
       "1"
      ]
     },
     "execution_count": 51,
     "metadata": {},
     "output_type": "execute_result"
    }
   ],
   "execution_count": 51
  }
 ],
 "metadata": {
  "kernelspec": {
   "display_name": "Python 3",
   "language": "python",
   "name": "python3"
  },
  "language_info": {
   "codemirror_mode": {
    "name": "ipython",
    "version": 2
   },
   "file_extension": ".py",
   "mimetype": "text/x-python",
   "name": "python",
   "nbconvert_exporter": "python",
   "pygments_lexer": "ipython2",
   "version": "2.7.6"
  }
 },
 "nbformat": 4,
 "nbformat_minor": 5
}
