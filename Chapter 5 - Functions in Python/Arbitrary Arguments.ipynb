{
 "cells": [
  {
   "metadata": {},
   "cell_type": "markdown",
   "source": [
    "# Arbitrary Arguments\n",
    "Arbitrary arguments allow you to pass a variable number of arguments to a function. This is done using `*args` for non-keyword arguments and `**kwargs` for keyword arguments."
   ],
   "id": "ff50c2e7cd8ba647"
  },
  {
   "metadata": {
    "ExecuteTime": {
     "end_time": "2024-12-19T08:37:45.269076Z",
     "start_time": "2024-12-19T08:37:45.263065Z"
    }
   },
   "cell_type": "code",
   "source": [
    "def multiply(a, b, c, d):\n",
    "    return a * b * c * d"
   ],
   "id": "602ae525a2f5c03f",
   "outputs": [],
   "execution_count": 6
  },
  {
   "metadata": {
    "ExecuteTime": {
     "end_time": "2024-12-19T08:37:45.557023Z",
     "start_time": "2024-12-19T08:37:45.545727Z"
    }
   },
   "cell_type": "code",
   "source": "multiply(2, 3, 4, 5)",
   "id": "8fb61f4c62126cee",
   "outputs": [
    {
     "data": {
      "text/plain": [
       "120"
      ]
     },
     "execution_count": 7,
     "metadata": {},
     "output_type": "execute_result"
    }
   ],
   "execution_count": 7
  },
  {
   "metadata": {},
   "cell_type": "markdown",
   "source": "##### Arbitrary Positional Arguments (*args): Collects additional positional arguments as a tuple.",
   "id": "66628f7a34cacfee"
  },
  {
   "metadata": {
    "ExecuteTime": {
     "end_time": "2024-12-19T08:45:28.710416Z",
     "start_time": "2024-12-19T08:45:28.704465Z"
    }
   },
   "cell_type": "code",
   "source": [
    "def multiply(*a):\n",
    "    print(a)\n",
    "    product = 1\n",
    "    for i in a:\n",
    "        product *= i\n",
    "        \n",
    "    return product"
   ],
   "id": "f1b131ecd38cf08f",
   "outputs": [],
   "execution_count": 20
  },
  {
   "metadata": {
    "ExecuteTime": {
     "end_time": "2024-12-19T08:45:30.639731Z",
     "start_time": "2024-12-19T08:45:30.633287Z"
    }
   },
   "cell_type": "code",
   "source": "multiply(2, 3, 4, 5, 6)",
   "id": "ea1ae0e79d14d180",
   "outputs": [
    {
     "name": "stdout",
     "output_type": "stream",
     "text": [
      "(2, 3, 4, 5, 6)\n"
     ]
    },
    {
     "data": {
      "text/plain": [
       "720"
      ]
     },
     "execution_count": 21,
     "metadata": {},
     "output_type": "execute_result"
    }
   ],
   "execution_count": 21
  },
  {
   "metadata": {},
   "cell_type": "markdown",
   "source": "##### Arbitrary Keyword Arguments (**kwargs): Collects additional keyword arguments as a dictionary.",
   "id": "2bcf5ed785d9d342"
  },
  {
   "metadata": {
    "ExecuteTime": {
     "end_time": "2024-12-19T08:50:10.247220Z",
     "start_time": "2024-12-19T08:50:10.242194Z"
    }
   },
   "cell_type": "code",
   "source": [
    "def display(**kwargs):\n",
    "    print(kwargs)"
   ],
   "id": "42c778cde3d72d0c",
   "outputs": [],
   "execution_count": 22
  },
  {
   "metadata": {
    "ExecuteTime": {
     "end_time": "2024-12-19T08:51:20.041641Z",
     "start_time": "2024-12-19T08:51:20.035593Z"
    }
   },
   "cell_type": "code",
   "source": "display(name=\"Jabir\", age=20, gender=\"Male\")",
   "id": "b658796db608ceac",
   "outputs": [
    {
     "name": "stdout",
     "output_type": "stream",
     "text": [
      "{'name': 'Jabir', 'age': 20, 'gender': 'Male'}\n"
     ]
    }
   ],
   "execution_count": 23
  },
  {
   "metadata": {
    "ExecuteTime": {
     "end_time": "2024-12-19T08:57:00.676690Z",
     "start_time": "2024-12-19T08:57:00.667346Z"
    }
   },
   "cell_type": "code",
   "source": [
    "def display(**details):\n",
    "    for (key, value) in details.items():\n",
    "        print(f\"{key}: {value}\")"
   ],
   "id": "702b7cd79f06ba11",
   "outputs": [],
   "execution_count": 34
  },
  {
   "metadata": {
    "ExecuteTime": {
     "end_time": "2024-12-19T08:57:01.475607Z",
     "start_time": "2024-12-19T08:57:01.470351Z"
    }
   },
   "cell_type": "code",
   "source": "display(name=\"Alex\", age=22, gender=\"Male\")",
   "id": "6a3599d564e4a252",
   "outputs": [
    {
     "name": "stdout",
     "output_type": "stream",
     "text": [
      "name: Alex\n",
      "age: 22\n",
      "gender: Male\n"
     ]
    }
   ],
   "execution_count": 35
  }
 ],
 "metadata": {
  "kernelspec": {
   "display_name": "Python 3",
   "language": "python",
   "name": "python3"
  },
  "language_info": {
   "codemirror_mode": {
    "name": "ipython",
    "version": 2
   },
   "file_extension": ".py",
   "mimetype": "text/x-python",
   "name": "python",
   "nbconvert_exporter": "python",
   "pygments_lexer": "ipython2",
   "version": "2.7.6"
  }
 },
 "nbformat": 4,
 "nbformat_minor": 5
}
