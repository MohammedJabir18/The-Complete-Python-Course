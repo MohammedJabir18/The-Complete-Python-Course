{
 "cells": [
  {
   "metadata": {},
   "cell_type": "markdown",
   "source": [
    "# Docstring in Functions\n",
    "Docstrings in Python are string literals that provide documentation for functions, classes, methods, or modules. They are placed immediately after the definition of the object and serve to explain what the object does, its parameters, return values, and any exceptions that may be raised."
   ],
   "id": "7a19886aa87a3e76"
  },
  {
   "metadata": {
    "ExecuteTime": {
     "end_time": "2024-12-19T07:23:01.736962Z",
     "start_time": "2024-12-19T07:23:01.731250Z"
    }
   },
   "cell_type": "code",
   "source": [
    "def add(num1, num2):\n",
    "    \"\"\"\n",
    "    This function calculates a sum of two numbers\n",
    "    :param num1: \n",
    "    :param num2: \n",
    "    :return sum result:\n",
    "    created Date: 19-14-2024 \n",
    "    \"\"\"\n",
    "    sum_ = f\"Sum = {num1+num2}\"\n",
    "    return sum_"
   ],
   "id": "5de55e21dc7b6d50",
   "outputs": [],
   "execution_count": 15
  },
  {
   "metadata": {
    "ExecuteTime": {
     "end_time": "2024-12-19T07:23:02.080516Z",
     "start_time": "2024-12-19T07:23:02.076477Z"
    }
   },
   "cell_type": "code",
   "source": [
    "res = add(2, 13)\n",
    "\n",
    "print(res)"
   ],
   "id": "b3983970145e4500",
   "outputs": [
    {
     "name": "stdout",
     "output_type": "stream",
     "text": [
      "Sum = 15\n"
     ]
    }
   ],
   "execution_count": 16
  },
  {
   "metadata": {
    "ExecuteTime": {
     "end_time": "2024-12-19T07:23:05.288780Z",
     "start_time": "2024-12-19T07:23:05.282635Z"
    }
   },
   "cell_type": "code",
   "source": "print(add.__doc__)",
   "id": "24254a7a8605772b",
   "outputs": [
    {
     "name": "stdout",
     "output_type": "stream",
     "text": [
      "\n",
      "    This function calculates a sum of two numbers\n",
      "    :param num1: \n",
      "    :param num2: \n",
      "    :return sum result:\n",
      "    created Date: 19-14-2024 \n",
      "    \n"
     ]
    }
   ],
   "execution_count": 18
  },
  {
   "metadata": {
    "ExecuteTime": {
     "end_time": "2024-12-19T07:23:30.804169Z",
     "start_time": "2024-12-19T07:23:30.797013Z"
    }
   },
   "cell_type": "code",
   "source": "print(max.__doc__)",
   "id": "4be9b94f3146df9",
   "outputs": [
    {
     "name": "stdout",
     "output_type": "stream",
     "text": [
      "max(iterable, *[, default=obj, key=func]) -> value\n",
      "max(arg1, arg2, *args, *[, key=func]) -> value\n",
      "\n",
      "With a single iterable argument, return its biggest item. The\n",
      "default keyword-only argument specifies an object to return if\n",
      "the provided iterable is empty.\n",
      "With two or more arguments, return the largest argument.\n"
     ]
    }
   ],
   "execution_count": 19
  }
 ],
 "metadata": {
  "kernelspec": {
   "display_name": "Python 3",
   "language": "python",
   "name": "python3"
  },
  "language_info": {
   "codemirror_mode": {
    "name": "ipython",
    "version": 2
   },
   "file_extension": ".py",
   "mimetype": "text/x-python",
   "name": "python",
   "nbconvert_exporter": "python",
   "pygments_lexer": "ipython2",
   "version": "2.7.6"
  }
 },
 "nbformat": 4,
 "nbformat_minor": 5
}
