{
 "cells": [
  {
   "metadata": {},
   "cell_type": "markdown",
   "source": [
    "# Parameters Vs Arguments\n",
    "Functions can take parameters, which are variables listed inside the parentheses in the function definition. When you call the function, you provide arguments that replace these parameters."
   ],
   "id": "f63f6cc2c368af53"
  },
  {
   "metadata": {
    "ExecuteTime": {
     "end_time": "2024-12-19T07:32:07.956409Z",
     "start_time": "2024-12-19T07:32:07.947402Z"
    }
   },
   "cell_type": "code",
   "source": [
    "def add(num1, num2):  # Parameters\n",
    "    sum_ = f\"Sum = {num1+num2}\"\n",
    "    return sum_"
   ],
   "id": "bd07f503473ebd4a",
   "outputs": [],
   "execution_count": 1
  },
  {
   "metadata": {
    "ExecuteTime": {
     "end_time": "2024-12-19T07:32:43.042251Z",
     "start_time": "2024-12-19T07:32:43.038390Z"
    }
   },
   "cell_type": "code",
   "source": "result = add(5, 9)  # Arguments",
   "id": "fc5d47ad7c005030",
   "outputs": [],
   "execution_count": 2
  },
  {
   "metadata": {
    "ExecuteTime": {
     "end_time": "2024-12-19T07:32:56.822745Z",
     "start_time": "2024-12-19T07:32:56.813961Z"
    }
   },
   "cell_type": "code",
   "source": "result",
   "id": "ff249b7a214bca1b",
   "outputs": [
    {
     "data": {
      "text/plain": [
       "'Sum = 14'"
      ]
     },
     "execution_count": 3,
     "metadata": {},
     "output_type": "execute_result"
    }
   ],
   "execution_count": 3
  },
  {
   "metadata": {},
   "cell_type": "markdown",
   "source": [
    "## Type of Arguments\n",
    "- Default Arguments\n",
    "- Positional Arguments\n",
    "- Keyword Arguments"
   ],
   "id": "fd2b4c24a00ef77f"
  },
  {
   "metadata": {},
   "cell_type": "markdown",
   "source": [
    "#### Default Argument\n",
    "Default arguments are parameters that assume a default value if no value is provided during the function call. This allows for more flexible function calls"
   ],
   "id": "27558ec1986007e3"
  },
  {
   "metadata": {
    "ExecuteTime": {
     "end_time": "2024-12-19T07:35:56.645395Z",
     "start_time": "2024-12-19T07:35:56.637900Z"
    }
   },
   "cell_type": "code",
   "source": [
    "def power(a, b):\n",
    "    return a**b "
   ],
   "id": "b1c467007e7e3373",
   "outputs": [],
   "execution_count": 4
  },
  {
   "metadata": {
    "ExecuteTime": {
     "end_time": "2024-12-19T07:36:14.267965Z",
     "start_time": "2024-12-19T07:36:13.645304Z"
    }
   },
   "cell_type": "code",
   "source": "print(power(3))",
   "id": "156de64056aa896c",
   "outputs": [
    {
     "ename": "TypeError",
     "evalue": "power() missing 1 required positional argument: 'b'",
     "output_type": "error",
     "traceback": [
      "\u001B[1;31m---------------------------------------------------------------------------\u001B[0m",
      "\u001B[1;31mTypeError\u001B[0m                                 Traceback (most recent call last)",
      "Cell \u001B[1;32mIn[5], line 1\u001B[0m\n\u001B[1;32m----> 1\u001B[0m \u001B[38;5;28mprint\u001B[39m(power(\u001B[38;5;241m3\u001B[39m))\n",
      "\u001B[1;31mTypeError\u001B[0m: power() missing 1 required positional argument: 'b'"
     ]
    }
   ],
   "execution_count": 5
  },
  {
   "metadata": {
    "ExecuteTime": {
     "end_time": "2024-12-19T07:37:03.912428Z",
     "start_time": "2024-12-19T07:37:03.900108Z"
    }
   },
   "cell_type": "code",
   "source": [
    "def power(a=2, b=3):\n",
    "    return a**b"
   ],
   "id": "50e5ff57def6b43e",
   "outputs": [],
   "execution_count": 7
  },
  {
   "metadata": {
    "ExecuteTime": {
     "end_time": "2024-12-19T07:37:20.268635Z",
     "start_time": "2024-12-19T07:37:20.255584Z"
    }
   },
   "cell_type": "code",
   "source": "print(power(4))",
   "id": "4417dd520dbd99dd",
   "outputs": [
    {
     "name": "stdout",
     "output_type": "stream",
     "text": [
      "64\n"
     ]
    }
   ],
   "execution_count": 8
  },
  {
   "metadata": {},
   "cell_type": "markdown",
   "source": [
    "#### Positional Argument\n",
    "Positional arguments are the most common type. They are assigned to parameters based on their position in the function call. The first argument corresponds to the first parameter, the second to the second parameter, and so on."
   ],
   "id": "9e0fc09e0a6f33e8"
  },
  {
   "metadata": {
    "ExecuteTime": {
     "end_time": "2024-12-19T07:41:53.808960Z",
     "start_time": "2024-12-19T07:41:53.804602Z"
    }
   },
   "cell_type": "code",
   "source": [
    "def division(a=2, b=3):\n",
    "    return a/b"
   ],
   "id": "b71b17e6ab4aad41",
   "outputs": [],
   "execution_count": 21
  },
  {
   "metadata": {
    "ExecuteTime": {
     "end_time": "2024-12-19T07:41:54.159753Z",
     "start_time": "2024-12-19T07:41:54.154182Z"
    }
   },
   "cell_type": "code",
   "source": "division(5, 2)",
   "id": "8311b4f918e39a17",
   "outputs": [
    {
     "data": {
      "text/plain": [
       "2.5"
      ]
     },
     "execution_count": 22,
     "metadata": {},
     "output_type": "execute_result"
    }
   ],
   "execution_count": 22
  },
  {
   "metadata": {},
   "cell_type": "markdown",
   "source": [
    "#### Keyword Argument\n",
    "Keyword arguments allow you to specify the parameter name when calling a function, which can make the code more readable and eliminate confusion over argument order."
   ],
   "id": "8134522e334c6354"
  },
  {
   "metadata": {
    "ExecuteTime": {
     "end_time": "2024-12-19T07:43:21.777835Z",
     "start_time": "2024-12-19T07:43:21.772176Z"
    }
   },
   "cell_type": "code",
   "source": "division(b=2, a=5)",
   "id": "959742072197fac6",
   "outputs": [
    {
     "data": {
      "text/plain": [
       "2.5"
      ]
     },
     "execution_count": 25,
     "metadata": {},
     "output_type": "execute_result"
    }
   ],
   "execution_count": 25
  }
 ],
 "metadata": {
  "kernelspec": {
   "display_name": "Python 3",
   "language": "python",
   "name": "python3"
  },
  "language_info": {
   "codemirror_mode": {
    "name": "ipython",
    "version": 2
   },
   "file_extension": ".py",
   "mimetype": "text/x-python",
   "name": "python",
   "nbconvert_exporter": "python",
   "pygments_lexer": "ipython2",
   "version": "2.7.6"
  }
 },
 "nbformat": 4,
 "nbformat_minor": 5
}
