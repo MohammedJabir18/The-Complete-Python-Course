{
 "cells": [
  {
   "metadata": {},
   "cell_type": "markdown",
   "source": [
    "##### 1. Write a Python function that takes a list and returns a new list with unique elements of the first list.\n",
    "**Example:**\n",
    "\n",
    "input: \n",
    "\n",
    "<span style=\"color: red\">[1, 2, 3, 3, 3, 3, 4, 5]</span>\n",
    "\n",
    "Output: \n",
    "\n",
    "<span style=\"color: green\">[1, 2, 3, 4, 5]</span>"
   ],
   "id": "b5f80354ab3e5448"
  },
  {
   "metadata": {
    "ExecuteTime": {
     "end_time": "2024-12-20T12:27:42.820320Z",
     "start_time": "2024-12-20T12:27:42.805210Z"
    }
   },
   "cell_type": "code",
   "source": [
    "def unique(num_list: list):\n",
    "    result = []\n",
    "    for i in num_list:\n",
    "        if i not in result:\n",
    "            result.append(i)\n",
    "    \n",
    "    return result\n",
    "            \n",
    "input_list = [1, 2, 3, 3, 2, 4, 3, 1, 5]\n",
    "print(unique(input_list))"
   ],
   "id": "6f45ab39ac52cdaa",
   "outputs": [
    {
     "name": "stdout",
     "output_type": "stream",
     "text": [
      "[1, 2, 3, 4, 5]\n"
     ]
    }
   ],
   "execution_count": 2
  },
  {
   "metadata": {},
   "cell_type": "markdown",
   "source": [
    "##### 2. Write a Python function that accepts a hyphen-separated sequence of words as parameter and returns the words in a hyphen-separated sequence after sorting them alphabetically.\n",
    "\n",
    "**Example**\n",
    "\n",
    "Input:\n",
    "\n",
    "<span style=\"color: red\">green-red-yellow-black-white</span>\n",
    "\n",
    "Output:\n",
    "\n",
    "<span style=\"color: green\">black-green-red-white-yellow</span>"
   ],
   "id": "aa4e6005ec4859"
  },
  {
   "metadata": {
    "ExecuteTime": {
     "end_time": "2024-12-20T12:46:11.832923Z",
     "start_time": "2024-12-20T12:46:11.827337Z"
    }
   },
   "cell_type": "code",
   "source": [
    "def sort_sequence(string):\n",
    "    return \"-\".join(sorted(string.split(\"-\")))\n",
    "    \n",
    "print(sort_sequence(\"green-red-yellow-black-white\"))"
   ],
   "id": "34544f924c0c2153",
   "outputs": [
    {
     "name": "stdout",
     "output_type": "stream",
     "text": [
      "black-green-red-white-yellow\n"
     ]
    }
   ],
   "execution_count": 10
  },
  {
   "metadata": {},
   "cell_type": "markdown",
   "source": [
    "##### 3. A dictionary contains following information about 5 employees:\n",
    "- First name\n",
    "- Last name\n",
    "- Age \n",
    "- Grade (Skilled, Highly skilled)\n",
    "\n",
    "Write a program using map/filter/reduce to a list of employees (first name + last name) who are highly skilled"
   ],
   "id": "c46c7d70625af4c6"
  },
  {
   "metadata": {
    "ExecuteTime": {
     "end_time": "2024-12-20T14:40:20.087704Z",
     "start_time": "2024-12-20T14:40:20.077408Z"
    }
   },
   "cell_type": "code",
   "source": [
    "employees = [\n",
    "    {\n",
    "        \"fname\": \"Mohammed\",\n",
    "        \"lname\": \"Jabir\",\n",
    "        \"age\": 20,\n",
    "        \"grade\": \"Skilled\"\n",
    "    },\n",
    "    {\n",
    "        \"fname\": \"Elon\",\n",
    "        \"lname\": \"Musk\",\n",
    "        \"age\": 49,\n",
    "        \"grade\": \"Highly skilled\"\n",
    "    },\n",
    "    {\n",
    "        \"fname\": \"Hijas\",\n",
    "        \"lname\": \"Ahmed\",\n",
    "        \"age\": 25,\n",
    "        \"grade\": \"Semi skilled\"\n",
    "    },\n",
    "    {\n",
    "        \"fname\": \"Nabeel\",\n",
    "        \"lname\": \"KK\",\n",
    "        \"age\": 29,\n",
    "        \"grade\": \"Skilled\"\n",
    "    },\n",
    "    {\n",
    "        \"fname\": \"Arjun\",\n",
    "        \"lname\": \"Reddy\",\n",
    "        \"age\": 37,\n",
    "        \"grade\": \"Highly skilled\"\n",
    "    },\n",
    "]"
   ],
   "id": "5eb90fe516ec2ed2",
   "outputs": [],
   "execution_count": 25
  },
  {
   "metadata": {
    "ExecuteTime": {
     "end_time": "2024-12-20T14:42:27.517593Z",
     "start_time": "2024-12-20T14:42:27.508786Z"
    }
   },
   "cell_type": "code",
   "source": [
    "filtered = list(filter(lambda x: x[\"grade\"] == \"Highly skilled\", employees))\n",
    "\n",
    "filtered"
   ],
   "id": "ab63870b9ca6b0",
   "outputs": [
    {
     "data": {
      "text/plain": [
       "[{'fname': 'Elon', 'lname': 'Musk', 'age': 49, 'grade': 'Highly skilled'},\n",
       " {'fname': 'Arjun', 'lname': 'Reddy', 'age': 37, 'grade': 'Highly skilled'}]"
      ]
     },
     "execution_count": 28,
     "metadata": {},
     "output_type": "execute_result"
    }
   ],
   "execution_count": 28
  },
  {
   "metadata": {
    "ExecuteTime": {
     "end_time": "2024-12-20T14:42:29.435810Z",
     "start_time": "2024-12-20T14:42:29.427255Z"
    }
   },
   "cell_type": "code",
   "source": "list(map(lambda x: f\"{x['fname']} {x['lname']}\", filtered))",
   "id": "63adf214bfc2c05a",
   "outputs": [
    {
     "data": {
      "text/plain": [
       "['Elon Musk', 'Arjun Reddy']"
      ]
     },
     "execution_count": 29,
     "metadata": {},
     "output_type": "execute_result"
    }
   ],
   "execution_count": 29
  },
  {
   "metadata": {
    "ExecuteTime": {
     "end_time": "2024-12-20T14:43:36.070516Z",
     "start_time": "2024-12-20T14:43:36.064274Z"
    }
   },
   "cell_type": "code",
   "source": "list(map(lambda x: f\"{x['fname']} {x['lname']}\", list(filter(lambda x: x[\"grade\"] == \"Highly skilled\", employees))))",
   "id": "76ad20bcfa51a9ec",
   "outputs": [
    {
     "data": {
      "text/plain": [
       "['Elon Musk', 'Arjun Reddy']"
      ]
     },
     "execution_count": 30,
     "metadata": {},
     "output_type": "execute_result"
    }
   ],
   "execution_count": 30
  }
 ],
 "metadata": {
  "kernelspec": {
   "display_name": "Python 3",
   "language": "python",
   "name": "python3"
  },
  "language_info": {
   "codemirror_mode": {
    "name": "ipython",
    "version": 2
   },
   "file_extension": ".py",
   "mimetype": "text/x-python",
   "name": "python",
   "nbconvert_exporter": "python",
   "pygments_lexer": "ipython2",
   "version": "2.7.6"
  }
 },
 "nbformat": 4,
 "nbformat_minor": 5
}
