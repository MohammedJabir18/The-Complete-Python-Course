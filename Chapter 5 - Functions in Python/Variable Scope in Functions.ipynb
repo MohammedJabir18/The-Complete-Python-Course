{
 "cells": [
  {
   "metadata": {},
   "cell_type": "markdown",
   "source": [
    "# Variable Scope in Functions\n",
    "\n",
    "- Global Variables\n",
    "- Local Variables"
   ],
   "id": "e7942badaa47fb3c"
  },
  {
   "metadata": {
    "ExecuteTime": {
     "end_time": "2024-12-19T09:42:03.152150Z",
     "start_time": "2024-12-19T09:42:03.143972Z"
    }
   },
   "cell_type": "code",
   "source": [
    "def display_1(y):\n",
    "    print(x)\n",
    "    print(x+1)\n",
    "    \n",
    "x = 5\n",
    "display_1(x)\n",
    "print(x)"
   ],
   "id": "6cef7e359706cbe8",
   "outputs": [
    {
     "name": "stdout",
     "output_type": "stream",
     "text": [
      "5\n",
      "6\n",
      "5\n"
     ]
    }
   ],
   "execution_count": 8
  },
  {
   "metadata": {
    "ExecuteTime": {
     "end_time": "2024-12-19T09:42:36.874936Z",
     "start_time": "2024-12-19T09:42:36.869534Z"
    }
   },
   "cell_type": "code",
   "source": [
    "def display_2(y):\n",
    "    x = 1\n",
    "    x += 1\n",
    "    print(x)\n",
    "    \n",
    "x = 5\n",
    "display_2(x)\n",
    "print(x)"
   ],
   "id": "58ee3b9d1762f7ba",
   "outputs": [
    {
     "name": "stdout",
     "output_type": "stream",
     "text": [
      "2\n",
      "5\n"
     ]
    }
   ],
   "execution_count": 9
  },
  {
   "metadata": {
    "ExecuteTime": {
     "end_time": "2024-12-19T09:46:55.307984Z",
     "start_time": "2024-12-19T09:46:55.303002Z"
    }
   },
   "cell_type": "code",
   "source": [
    "def display_3(y):\n",
    "    global x\n",
    "    x += 1\n",
    "    print(x)\n",
    "    \n",
    "x = 5\n",
    "display_3(x)\n",
    "print(x)"
   ],
   "id": "651b83aa48597c4a",
   "outputs": [
    {
     "name": "stdout",
     "output_type": "stream",
     "text": [
      "6\n",
      "6\n"
     ]
    }
   ],
   "execution_count": 12
  }
 ],
 "metadata": {
  "kernelspec": {
   "display_name": "Python 3",
   "language": "python",
   "name": "python3"
  },
  "language_info": {
   "codemirror_mode": {
    "name": "ipython",
    "version": 2
   },
   "file_extension": ".py",
   "mimetype": "text/x-python",
   "name": "python",
   "nbconvert_exporter": "python",
   "pygments_lexer": "ipython2",
   "version": "2.7.6"
  }
 },
 "nbformat": 4,
 "nbformat_minor": 5
}
