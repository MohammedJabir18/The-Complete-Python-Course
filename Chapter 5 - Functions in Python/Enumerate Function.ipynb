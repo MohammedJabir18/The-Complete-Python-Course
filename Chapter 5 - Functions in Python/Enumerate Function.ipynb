{
 "cells": [
  {
   "metadata": {},
   "cell_type": "markdown",
   "source": "# Enumerate Function",
   "id": "a6c78f1b01532f1e"
  },
  {
   "metadata": {
    "ExecuteTime": {
     "end_time": "2024-12-20T10:10:53.431126Z",
     "start_time": "2024-12-20T10:10:53.422665Z"
    }
   },
   "cell_type": "code",
   "source": [
    "name_list = [\"Alex\", \"Jabir\", \"Hijas\", \"Shibu\", \"Nabeel\"]\n",
    "\n",
    "count = 0\n",
    "for name in name_list:\n",
    "    count += 1\n",
    "    print(f\"{count}. {name}\")"
   ],
   "id": "6e19c4473f07acea",
   "outputs": [
    {
     "name": "stdout",
     "output_type": "stream",
     "text": [
      "1. Alex\n",
      "2. Jabir\n",
      "3. Hijas\n",
      "4. Shibu\n",
      "5. Nabeel\n"
     ]
    }
   ],
   "execution_count": 6
  },
  {
   "metadata": {
    "ExecuteTime": {
     "end_time": "2024-12-20T10:11:32.609568Z",
     "start_time": "2024-12-20T10:11:32.602798Z"
    }
   },
   "cell_type": "code",
   "source": [
    "for index, name in enumerate(name_list, start=1):\n",
    "    print(f\"{index}. {name}\")"
   ],
   "id": "91c20edb5af59134",
   "outputs": [
    {
     "name": "stdout",
     "output_type": "stream",
     "text": [
      "1. Alex\n",
      "2. Jabir\n",
      "3. Hijas\n",
      "4. Shibu\n",
      "5. Nabeel\n"
     ]
    }
   ],
   "execution_count": 7
  },
  {
   "metadata": {
    "ExecuteTime": {
     "end_time": "2024-12-20T10:14:05.317763Z",
     "start_time": "2024-12-20T10:14:05.313005Z"
    }
   },
   "cell_type": "code",
   "source": [
    "for index, name in enumerate(name_list):\n",
    "    if index == 3:\n",
    "        print(name)"
   ],
   "id": "addd2a03b3d5852d",
   "outputs": [
    {
     "name": "stdout",
     "output_type": "stream",
     "text": [
      "Shibu\n"
     ]
    }
   ],
   "execution_count": 8
  }
 ],
 "metadata": {
  "kernelspec": {
   "display_name": "Python 3",
   "language": "python",
   "name": "python3"
  },
  "language_info": {
   "codemirror_mode": {
    "name": "ipython",
    "version": 2
   },
   "file_extension": ".py",
   "mimetype": "text/x-python",
   "name": "python",
   "nbconvert_exporter": "python",
   "pygments_lexer": "ipython2",
   "version": "2.7.6"
  }
 },
 "nbformat": 4,
 "nbformat_minor": 5
}
