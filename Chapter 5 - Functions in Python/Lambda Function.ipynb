{
 "cells": [
  {
   "metadata": {},
   "cell_type": "markdown",
   "source": [
    "# Lambda Function\n",
    "A lambda function is defined using the `lambda` keyword followed by a list of parameters, a colon, and an expression. Unlike regular functions, lambda functions do not require a name (hence \"anonymous\") and can only contain a single expression.\n",
    "\n",
    "![lambda function](lambda_func.jpg)"
   ],
   "id": "728a33a493921a4b"
  },
  {
   "metadata": {
    "ExecuteTime": {
     "end_time": "2024-12-19T12:06:04.450966Z",
     "start_time": "2024-12-19T12:06:04.444251Z"
    }
   },
   "cell_type": "code",
   "source": [
    "a = lambda x: x**2\n",
    "\n",
    "print(a(4))"
   ],
   "id": "db1d660f78fcf9c",
   "outputs": [
    {
     "name": "stdout",
     "output_type": "stream",
     "text": [
      "16\n"
     ]
    }
   ],
   "execution_count": 2
  },
  {
   "metadata": {
    "ExecuteTime": {
     "end_time": "2024-12-19T12:08:00.997276Z",
     "start_time": "2024-12-19T12:08:00.991129Z"
    }
   },
   "cell_type": "code",
   "source": [
    "b = lambda x,y=2: x+y\n",
    "\n",
    "print(b(7,7))"
   ],
   "id": "2c859f19a0a80c6f",
   "outputs": [
    {
     "name": "stdout",
     "output_type": "stream",
     "text": [
      "14\n"
     ]
    }
   ],
   "execution_count": 5
  },
  {
   "metadata": {},
   "cell_type": "markdown",
   "source": [
    "## Difference between Lambda function and Regular function\n",
    "##### 1. Definition and Syntax\n",
    "- Regular Functions: Defined using the def keyword, allowing for multiple statements and a full function body.\n",
    "\n",
    "##### 2. Return Behavior\n",
    "- Regular Functions: Use an explicit return statement to return values. They can return multiple values as tuples.\n",
    "- Lambda Functions: Implicitly return the result of the single expression they contain. There is no need for a return statement. \n",
    "\n",
    "##### 3. Scope and Usage\n",
    "- Regular Functions: Suitable for defining reusable functions that may be complex and require multiple lines of code. They can include documentation strings (docstrings) for clarity.\n",
    "- Lambda Functions: Ideal for short, throwaway functions that are used temporarily, often as arguments to higher-order functions like map(), filter(), or sorted(). They are commonly used in situations where defining a full function would be excessive.\n",
    "\n",
    "##### 4. Limitations\n",
    "- Regular Functions: Can contain multiple expressions and statements, including conditionals and loops.\n",
    "- Lambda Functions: Limited to a single expression; cannot contain statements or complex logic. This restriction makes them less versatile than regular functions.\n",
    "\n",
    "##### 5. Readability and Clarity\n",
    "- Regular Functions: Generally more readable when dealing with complex logic due to their structure and ability to include comments and docstrings.\n",
    "- Lambda Functions: Can lead to less readable code if overused or used in complex scenarios, as they lack descriptive names and structure.\n",
    "\n",
    "##### 6. Performance\n",
    "While there is no significant performance advantage between the two in most cases, lambda functions can be slightly faster for small operations due to their concise nature. However, this difference is often negligible.\n",
    "\n",
    "##### 7. Use Cases\n",
    "- Regular Functions: Best for defining functions that will be reused throughout your code or that require detailed documentation.\n",
    "- Lambda Functions: Best for simple operations that are only needed once or twice, such as sorting or filtering lists."
   ],
   "id": "471427d86f99e678"
  },
  {
   "metadata": {
    "ExecuteTime": {
     "end_time": "2024-12-19T13:18:42.800644Z",
     "start_time": "2024-12-19T13:18:42.793898Z"
    }
   },
   "cell_type": "code",
   "source": [
    "# Check if a string has 'a'\n",
    "a = lambda s: 'a' in s\n",
    "\n",
    "a(\"Python\")"
   ],
   "id": "4c3f8313a3d6f9be",
   "outputs": [
    {
     "data": {
      "text/plain": [
       "False"
      ]
     },
     "execution_count": 10,
     "metadata": {},
     "output_type": "execute_result"
    }
   ],
   "execution_count": 10
  },
  {
   "metadata": {
    "ExecuteTime": {
     "end_time": "2024-12-19T13:22:13.405317Z",
     "start_time": "2024-12-19T13:22:13.400980Z"
    }
   },
   "cell_type": "code",
   "source": [
    "# Odd or even\n",
    "a = lambda x: \"It's even number\" if x % 2 == 0 else \"It's odd number\"\n",
    "\n",
    "print(a(67))"
   ],
   "id": "aadbf3c53ca8bad9",
   "outputs": [
    {
     "name": "stdout",
     "output_type": "stream",
     "text": [
      "It's odd number\n"
     ]
    }
   ],
   "execution_count": 13
  },
  {
   "metadata": {},
   "cell_type": "markdown",
   "source": "### Higher Order Function",
   "id": "e800736cbb027db1"
  },
  {
   "metadata": {
    "ExecuteTime": {
     "end_time": "2024-12-19T13:38:53.016616Z",
     "start_time": "2024-12-19T13:38:53.008936Z"
    }
   },
   "cell_type": "code",
   "source": [
    "L = [1, 2, 3, 4, 5]\n",
    "\n",
    "def square(num):\n",
    "    return num**2\n",
    "\n",
    "def transform(func, num_list):\n",
    "    output = []\n",
    "    for i in num_list:\n",
    "        output.append(func(i))\n",
    "        \n",
    "    return output"
   ],
   "id": "4d567224a6269009",
   "outputs": [
    {
     "data": {
      "text/plain": [
       "[1, 4, 9, 16, 25]"
      ]
     },
     "execution_count": 19,
     "metadata": {},
     "output_type": "execute_result"
    }
   ],
   "execution_count": 19
  },
  {
   "metadata": {
    "ExecuteTime": {
     "end_time": "2024-12-19T13:39:18.598263Z",
     "start_time": "2024-12-19T13:39:18.589791Z"
    }
   },
   "cell_type": "code",
   "source": "transform(square, L)",
   "id": "656d8a420f1321dd",
   "outputs": [
    {
     "data": {
      "text/plain": [
       "[1, 4, 9, 16, 25]"
      ]
     },
     "execution_count": 21,
     "metadata": {},
     "output_type": "execute_result"
    }
   ],
   "execution_count": 21
  },
  {
   "metadata": {
    "ExecuteTime": {
     "end_time": "2024-12-19T13:41:31.503420Z",
     "start_time": "2024-12-19T13:41:31.498268Z"
    }
   },
   "cell_type": "code",
   "source": "transform(lambda x: x**3, L)",
   "id": "eb8147635813646a",
   "outputs": [
    {
     "data": {
      "text/plain": [
       "[1, 8, 27, 64, 125]"
      ]
     },
     "execution_count": 22,
     "metadata": {},
     "output_type": "execute_result"
    }
   ],
   "execution_count": 22
  }
 ],
 "metadata": {
  "kernelspec": {
   "display_name": "Python 3",
   "language": "python",
   "name": "python3"
  },
  "language_info": {
   "codemirror_mode": {
    "name": "ipython",
    "version": 2
   },
   "file_extension": ".py",
   "mimetype": "text/x-python",
   "name": "python",
   "nbconvert_exporter": "python",
   "pygments_lexer": "ipython2",
   "version": "2.7.6"
  }
 },
 "nbformat": 4,
 "nbformat_minor": 5
}
