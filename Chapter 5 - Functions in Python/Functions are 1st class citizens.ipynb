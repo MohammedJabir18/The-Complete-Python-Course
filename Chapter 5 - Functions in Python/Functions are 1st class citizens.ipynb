{
 "cells": [
  {
   "metadata": {},
   "cell_type": "markdown",
   "source": [
    "# Functions are 1st class citizens\n",
    "It acts like data types\n",
    "\n",
    "https://en.wikipedia.org/wiki/First-class_citizen"
   ],
   "id": "29bdc2ecb813bff4"
  },
  {
   "metadata": {
    "ExecuteTime": {
     "end_time": "2024-12-19T11:07:50.257535Z",
     "start_time": "2024-12-19T11:07:50.248010Z"
    }
   },
   "cell_type": "code",
   "source": [
    "# Type and id\n",
    "a = 2\n",
    "\n",
    "print(type(a))\n",
    "print(id(a))"
   ],
   "id": "ff88bd6366e8ef61",
   "outputs": [
    {
     "name": "stdout",
     "output_type": "stream",
     "text": [
      "<class 'int'>\n",
      "140736957432648\n"
     ]
    }
   ],
   "execution_count": 1
  },
  {
   "metadata": {
    "ExecuteTime": {
     "end_time": "2024-12-19T11:09:56.219744Z",
     "start_time": "2024-12-19T11:09:56.212457Z"
    }
   },
   "cell_type": "code",
   "source": [
    "def square(num):\n",
    "    return num**2\n",
    "\n",
    "print(type(square))\n",
    "print(id(square))"
   ],
   "id": "d1ddd5fda9c9a465",
   "outputs": [
    {
     "name": "stdout",
     "output_type": "stream",
     "text": [
      "<class 'function'>\n",
      "2517545104416\n"
     ]
    }
   ],
   "execution_count": 5
  },
  {
   "metadata": {
    "ExecuteTime": {
     "end_time": "2024-12-19T11:10:48.247549Z",
     "start_time": "2024-12-19T11:10:48.242601Z"
    }
   },
   "cell_type": "code",
   "source": [
    "# Reassign\n",
    "a = 5\n",
    "b = a\n",
    "\n",
    "print(b)"
   ],
   "id": "7b2f883407aa42a5",
   "outputs": [
    {
     "name": "stdout",
     "output_type": "stream",
     "text": [
      "5\n"
     ]
    }
   ],
   "execution_count": 6
  },
  {
   "metadata": {
    "ExecuteTime": {
     "end_time": "2024-12-19T11:13:42.480219Z",
     "start_time": "2024-12-19T11:13:42.474871Z"
    }
   },
   "cell_type": "code",
   "source": [
    "x = square\n",
    "\n",
    "print(x(5))\n",
    "print(id(x))\n",
    "print(x is square)"
   ],
   "id": "8c376fa7adf11b18",
   "outputs": [
    {
     "name": "stdout",
     "output_type": "stream",
     "text": [
      "25\n",
      "2517545104416\n",
      "True\n"
     ]
    }
   ],
   "execution_count": 11
  },
  {
   "metadata": {
    "ExecuteTime": {
     "end_time": "2024-12-19T11:14:39.858438Z",
     "start_time": "2024-12-19T11:14:39.092044Z"
    }
   },
   "cell_type": "code",
   "source": [
    "# Deleting a function\n",
    "del square\n",
    "\n",
    "print(square)"
   ],
   "id": "38132ff37b1a2c59",
   "outputs": [
    {
     "ename": "NameError",
     "evalue": "name 'square' is not defined",
     "output_type": "error",
     "traceback": [
      "\u001B[1;31m---------------------------------------------------------------------------\u001B[0m",
      "\u001B[1;31mNameError\u001B[0m                                 Traceback (most recent call last)",
      "Cell \u001B[1;32mIn[12], line 4\u001B[0m\n\u001B[0;32m      1\u001B[0m \u001B[38;5;66;03m# Deleting a function\u001B[39;00m\n\u001B[0;32m      2\u001B[0m \u001B[38;5;28;01mdel\u001B[39;00m square\n\u001B[1;32m----> 4\u001B[0m \u001B[38;5;28mprint\u001B[39m(square)\n",
      "\u001B[1;31mNameError\u001B[0m: name 'square' is not defined"
     ]
    }
   ],
   "execution_count": 12
  },
  {
   "metadata": {
    "ExecuteTime": {
     "end_time": "2024-12-19T11:17:41.156447Z",
     "start_time": "2024-12-19T11:17:41.152796Z"
    }
   },
   "cell_type": "code",
   "source": [
    "# Storing\n",
    "L = [1, 2, 3, 4, x]\n",
    "\n",
    "print(L)"
   ],
   "id": "116e26e3031ae989",
   "outputs": [
    {
     "name": "stdout",
     "output_type": "stream",
     "text": [
      "[1, 2, 3, 4, <function square at 0x0000024A2961B420>]\n"
     ]
    }
   ],
   "execution_count": 14
  },
  {
   "metadata": {
    "ExecuteTime": {
     "end_time": "2024-12-19T11:17:42.336034Z",
     "start_time": "2024-12-19T11:17:42.331909Z"
    }
   },
   "cell_type": "code",
   "source": "print(L[-1])",
   "id": "9715d11e22a9065f",
   "outputs": [
    {
     "name": "stdout",
     "output_type": "stream",
     "text": [
      "<function square at 0x0000024A2961B420>\n"
     ]
    }
   ],
   "execution_count": 15
  },
  {
   "metadata": {
    "ExecuteTime": {
     "end_time": "2024-12-19T11:18:20.384381Z",
     "start_time": "2024-12-19T11:18:20.379366Z"
    }
   },
   "cell_type": "code",
   "source": "print(L[-1](4))",
   "id": "88acf0281314a75f",
   "outputs": [
    {
     "name": "stdout",
     "output_type": "stream",
     "text": [
      "16\n"
     ]
    }
   ],
   "execution_count": 17
  },
  {
   "metadata": {
    "ExecuteTime": {
     "end_time": "2024-12-19T11:20:14.225203Z",
     "start_time": "2024-12-19T11:20:14.221752Z"
    }
   },
   "cell_type": "code",
   "source": [
    "s = {x}  # Function is immutable data type\n",
    "\n",
    "print(s)"
   ],
   "id": "b5ce7a8b135ff3bd",
   "outputs": [
    {
     "name": "stdout",
     "output_type": "stream",
     "text": [
      "{<function square at 0x0000024A2961B420>}\n"
     ]
    }
   ],
   "execution_count": 18
  },
  {
   "metadata": {
    "ExecuteTime": {
     "end_time": "2024-12-19T11:26:35.100062Z",
     "start_time": "2024-12-19T11:26:35.081128Z"
    }
   },
   "cell_type": "code",
   "source": [
    "# returning a function\n",
    "def outer():\n",
    "    def inner(a, b):\n",
    "        return a+b\n",
    "    return inner\n",
    "\n",
    "val = outer()\n",
    "print(val(2, 3))"
   ],
   "id": "54f9ce0eff46ab55",
   "outputs": [
    {
     "name": "stdout",
     "output_type": "stream",
     "text": [
      "5\n"
     ]
    }
   ],
   "execution_count": 22
  },
  {
   "metadata": {
    "ExecuteTime": {
     "end_time": "2024-12-19T11:26:59.975584Z",
     "start_time": "2024-12-19T11:26:59.970506Z"
    }
   },
   "cell_type": "code",
   "source": "print(outer()(4, 6))",
   "id": "76506592b4117f23",
   "outputs": [
    {
     "name": "stdout",
     "output_type": "stream",
     "text": [
      "10\n"
     ]
    }
   ],
   "execution_count": 23
  },
  {
   "metadata": {
    "ExecuteTime": {
     "end_time": "2024-12-19T11:38:41.546325Z",
     "start_time": "2024-12-19T11:38:41.541514Z"
    }
   },
   "cell_type": "code",
   "source": [
    "# Function as argument\n",
    "def func_a():\n",
    "    return \"Inside Function a\"\n",
    "    \n",
    "def func_b(z):\n",
    "    print(\"Inside Function b\")\n",
    "    return z()\n",
    "\n",
    "print(func_b(func_a))"
   ],
   "id": "3c05fe3510313fd9",
   "outputs": [
    {
     "name": "stdout",
     "output_type": "stream",
     "text": [
      "Inside Function b\n",
      "Inside Function a\n"
     ]
    }
   ],
   "execution_count": 27
  }
 ],
 "metadata": {
  "kernelspec": {
   "display_name": "Python 3",
   "language": "python",
   "name": "python3"
  },
  "language_info": {
   "codemirror_mode": {
    "name": "ipython",
    "version": 2
   },
   "file_extension": ".py",
   "mimetype": "text/x-python",
   "name": "python",
   "nbconvert_exporter": "python",
   "pygments_lexer": "ipython2",
   "version": "2.7.6"
  }
 },
 "nbformat": 4,
 "nbformat_minor": 5
}
