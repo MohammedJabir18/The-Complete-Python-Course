{
 "cells": [
  {
   "cell_type": "markdown",
   "id": "b02cac809abd99b8",
   "metadata": {},
   "source": [
    "# File Handling in Python\n",
    "File handling in Python is a fundamental aspect of programming that allows you to create, read, write, and manipulate files. \n",
    "\n",
    "## Types of Data Used for I/O\n",
    "### 1. Input Data Types\n",
    "- Text Input: This includes data entered via keyboards, touchscreens, or voice recognition systems. Examples include strings of characters or sentences.\n",
    "- Numeric Input: Data such as integers and floating-point numbers input through keyboards or other devices.\n",
    "- Binary Data: Raw binary data that can be read from files or devices, often used in low-level programming and hardware interactions.\n",
    "- Sensor Data: Information collected from sensors (like temperature, humidity, etc.) that is sent to the system for processing.\n",
    "- File Input: Data read from files on disk, which can include text files, CSVs, JSON, XML, etc.\n",
    "\n",
    "### 2. Output Data Types\n",
    "- Text Output: Strings displayed to users via monitors or printed on paper.\n",
    "- Graphical Output: Images and graphics rendered on screens or printed.\n",
    "- Audio Output: Sound data sent to speakers or headphones.\n",
    "- Video Output: Video streams sent to displays or projectors.\n",
    "- File Output: Data written to files on disk in various formats (text files, images, etc.).\n",
    "\n",
    "## Key Functions\n",
    "- open(): Opens a file and returns a file object.\n",
    "- read(): Reads the entire content of a file.\n",
    "- readline(): Reads a single line from the file.\n",
    "- readlines(): Reads all lines in a file and returns them as a list.\n",
    "- write(): Writes a string to the file.\n",
    "- writelines(): Writes a list of strings to the file.\n",
    "- close(): Closes the file.\n",
    "\n",
    "| Mode | Description |\n",
    "|------|-------------|\n",
    "| **`r`** | **Read mode (default)**: Opens a file for reading. If the file does not exist, a `FileNotFoundError` is raised. |\n",
    "| **`w`** | **Write mode**: Opens a file for writing. If the file already exists, its contents are overwritten. If it does not exist, a new file is created. |\n",
    "| **`a`** | **Append mode**: Opens a file for appending data at the end without truncating it. If the file does not exist, it will be created. |\n",
    "| **`x`** | **Exclusive creation mode**: Creates a new file but fails with a `FileExistsError` if the file already exists. |\n",
    "| **`t`** | **Text mode (default)**: Used for reading and writing strings. This is the default mode when opening files. |\n",
    "| **`b`** | **Binary mode**: Used for reading and writing bytes, suitable for non-text files like images or audio files. |\n",
    "| **`+`** | **Update mode**: Allows both reading and writing to the same file. This can be combined with other modes (e.g., `r+`, `w+`). |\n"
   ]
  },
  {
   "cell_type": "markdown",
   "id": "a8a72abd",
   "metadata": {},
   "source": [
    "#### Writing to a file"
   ]
  },
  {
   "cell_type": "code",
   "execution_count": 30,
   "id": "a2787a92e7897727",
   "metadata": {
    "jupyter": {
     "is_executing": true
    }
   },
   "outputs": [],
   "source": [
    "# If the file is not present\n",
    "f = open(\"Files/sample.txt\", \"w\")\n",
    "f.write(\"This is a sample text file created using the open() function\")\n",
    "f.close()\n",
    "\n",
    "# f.write(\"Hello\")"
   ]
  },
  {
   "cell_type": "code",
   "execution_count": 31,
   "id": "09725dfd",
   "metadata": {},
   "outputs": [],
   "source": [
    "# Write multiline strings\n",
    "f = open(\"Files/sample1.txt\", \"w\")\n",
    "f.write(\"Hello World\")\n",
    "f.write(\"\\nHow are you?\")\n",
    "f.close()"
   ]
  },
  {
   "cell_type": "code",
   "execution_count": 32,
   "id": "cfd49f0a",
   "metadata": {},
   "outputs": [],
   "source": [
    "# case 2 - if the file is already present\n",
    "f = open(\"Files/sample.txt\", \"w\")\n",
    "f.write(\"Hi, My name is Jabir.\")\n",
    "f.close()"
   ]
  },
  {
   "cell_type": "code",
   "execution_count": 33,
   "id": "1f15d9c9",
   "metadata": {},
   "outputs": [],
   "source": [
    "# Introducing append mode\n",
    "f = open(\"Files/sample.txt\", \"a\")\n",
    "f.write(\"\\nI am from Kerala.\")\n",
    "f.close()"
   ]
  },
  {
   "cell_type": "code",
   "execution_count": 34,
   "id": "23e0fb75",
   "metadata": {},
   "outputs": [],
   "source": [
    "# Write lines\n",
    "string_list = [\"\\nHello\\n\", \"How are you\\n\", \"I am fine\\n\", \"Thanks\\n\"]\n",
    "\n",
    "f = open(\"Files/sample.txt\", \"a\")\n",
    "f.writelines(string_list)\n",
    "f.close()"
   ]
  },
  {
   "cell_type": "markdown",
   "id": "76ea7f2f",
   "metadata": {},
   "source": [
    "#### Reading from a files"
   ]
  },
  {
   "cell_type": "code",
   "execution_count": 35,
   "id": "fa667efe",
   "metadata": {},
   "outputs": [
    {
     "name": "stdout",
     "output_type": "stream",
     "text": [
      "Hi, My name is Jabir.\n",
      "I am from Kerala.\n",
      "Hello\n",
      "How are you\n",
      "I am fine\n",
      "Thanks\n",
      "\n"
     ]
    }
   ],
   "source": [
    "f = open(\"Files/sample.txt\", \"r\")\n",
    "read = f.read()\n",
    "\n",
    "print(read)\n",
    "f.close()"
   ]
  },
  {
   "cell_type": "code",
   "execution_count": 36,
   "id": "b23d3f1a",
   "metadata": {},
   "outputs": [
    {
     "name": "stdout",
     "output_type": "stream",
     "text": [
      "Hi, My name is Jabir\n"
     ]
    }
   ],
   "source": [
    "# Read upto n characters\n",
    "f = open(\"Files/sample.txt\", \"r\")\n",
    "r = f.read(20)\n",
    "\n",
    "print(r)\n",
    "f.close()"
   ]
  },
  {
   "cell_type": "code",
   "execution_count": 37,
   "id": "9f8508e9",
   "metadata": {},
   "outputs": [
    {
     "name": "stdout",
     "output_type": "stream",
     "text": [
      "Jabir\n"
     ]
    }
   ],
   "source": [
    "# Slicing and indexing\n",
    "f = open(\"Files/sample.txt\", \"r\")\n",
    "r = f.read()\n",
    "\n",
    "print(r[15:20])\n",
    "f.close()"
   ]
  },
  {
   "cell_type": "code",
   "execution_count": 38,
   "id": "af98d7fc",
   "metadata": {},
   "outputs": [
    {
     "name": "stdout",
     "output_type": "stream",
     "text": [
      "Hi, My name is Jabir.\n",
      "I am from Kerala.\n"
     ]
    }
   ],
   "source": [
    "# readline() -> to read line by line\n",
    "f = open(\"Files/sample.txt\", \"r\")\n",
    "print(f.readline(), end=\"\")\n",
    "print(f.readline(), end=\"\")\n",
    "f.close()"
   ]
  },
  {
   "cell_type": "code",
   "execution_count": 39,
   "id": "0387dca2",
   "metadata": {},
   "outputs": [
    {
     "name": "stdout",
     "output_type": "stream",
     "text": [
      "Hi, My name is Jabir.\n",
      "I am from Kerala.\n",
      "Hello\n",
      "How are you\n",
      "I am fine\n",
      "Thanks\n"
     ]
    }
   ],
   "source": [
    "# Reading entire using readline\n",
    "f = open(\"Files/sample.txt\", \"r\")\n",
    "\n",
    "while True:\n",
    "    data = f.readline()\n",
    "    if data == \"\":\n",
    "        break\n",
    "    else:\n",
    "        print(data, end=\"\")\n",
    "\n",
    "f.close()"
   ]
  }
 ],
 "metadata": {
  "kernelspec": {
   "display_name": "Python 3",
   "language": "python",
   "name": "python3"
  },
  "language_info": {
   "codemirror_mode": {
    "name": "ipython",
    "version": 3
   },
   "file_extension": ".py",
   "mimetype": "text/x-python",
   "name": "python",
   "nbconvert_exporter": "python",
   "pygments_lexer": "ipython3",
   "version": "3.13.1"
  }
 },
 "nbformat": 4,
 "nbformat_minor": 5
}
