{
 "cells": [
  {
   "cell_type": "markdown",
   "metadata": {
    "vscode": {
     "languageId": "plaintext"
    }
   },
   "source": [
    "# Serialization and Deserialization\n",
    "Serialization and deserialization in Python are essential processes for converting complex data structures into a format that can be easily stored or transmitted, and then reconstructing them back into their original form. \n",
    "\n",
    "- **Serialization**: the process of converting a Python object into a format that can be easily saved or transmitted. This could involve converting an object to a byte stream or a string format like JSON.\n",
    "\n",
    "- **Deserialization**: the reverse process of serialization. It involves converting the serialized data back into its original Python object form.\n",
    "\n",
    "### What is JSON?\n",
    "JSON, which stands for JavaScript Object Notation, is a lightweight, text-based data interchange format that is easy for humans to read and write, and for machines to parse and generate. It is primarily used for transmitting data between a server and web applications, making it a crucial component in web development and APIs.\n",
    "\n",
    "<img src=\"JSONSample.jpg\" alt=\"JSON Sample\" style=\"height: 300px; width: 400px;\">"
   ]
  },
  {
   "cell_type": "markdown",
   "metadata": {},
   "source": [
    "#### Serialization using JSON Module"
   ]
  },
  {
   "cell_type": "code",
   "execution_count": 1,
   "metadata": {},
   "outputs": [],
   "source": [
    "# List\n",
    "import json\n",
    "\n",
    "num_list = [21, 24, 28, 78, 51]\n",
    "\n",
    "with open(\"Files/text.json\", \"w\") as f:\n",
    "    json.dump(num_list, f)"
   ]
  },
  {
   "cell_type": "code",
   "execution_count": 6,
   "metadata": {},
   "outputs": [],
   "source": [
    "# Dictionary\n",
    "import json\n",
    "\n",
    "details = {\n",
    "    \"Name\": \"Jabir\",\n",
    "    \"Age\": 20,\n",
    "    \"Gender\": \"Male\"\n",
    "}\n",
    "\n",
    "with open(\"Files/text.json\", \"w\") as f:\n",
    "    json.dump(details, f, indent=4)"
   ]
  },
  {
   "cell_type": "markdown",
   "metadata": {},
   "source": [
    "#### Deserialization using JSON Module"
   ]
  },
  {
   "cell_type": "code",
   "execution_count": 10,
   "metadata": {},
   "outputs": [
    {
     "name": "stdout",
     "output_type": "stream",
     "text": [
      "{'Name': 'Jabir', 'Age': 20, 'Gender': 'Male'}\n",
      "<class 'dict'>\n"
     ]
    }
   ],
   "source": [
    "import json\n",
    "\n",
    "with open(\"Files/text.json\", \"r\") as file:\n",
    "    data = json.load(file)\n",
    "    print(data)\n",
    "    print(type(data))"
   ]
  }
 ],
 "metadata": {
  "kernelspec": {
   "display_name": "Python 3",
   "language": "python",
   "name": "python3"
  },
  "language_info": {
   "codemirror_mode": {
    "name": "ipython",
    "version": 3
   },
   "file_extension": ".py",
   "mimetype": "text/x-python",
   "name": "python",
   "nbconvert_exporter": "python",
   "pygments_lexer": "ipython3",
   "version": "3.13.1"
  }
 },
 "nbformat": 4,
 "nbformat_minor": 2
}
