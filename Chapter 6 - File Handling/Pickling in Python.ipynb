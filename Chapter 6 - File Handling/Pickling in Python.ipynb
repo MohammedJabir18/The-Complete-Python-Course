{
 "cells": [
  {
   "cell_type": "markdown",
   "metadata": {},
   "source": [
    "# Pickling in Python\n",
    "Pickling in Python refers to the process of serializing a Python object into a byte stream, which can then be stored in a file or transmitted over a network. This process is essential for saving the state of complex data structures, such as lists, dictionaries, or even custom objects, so they can be easily retrieved later."
   ]
  },
  {
   "cell_type": "code",
   "execution_count": 1,
   "metadata": {},
   "outputs": [],
   "source": [
    "def display():\n",
    "    return \"Hi my name is Jabir. I am a Data Scientist\""
   ]
  },
  {
   "cell_type": "code",
   "execution_count": 2,
   "metadata": {},
   "outputs": [],
   "source": [
    "func = display()"
   ]
  },
  {
   "cell_type": "code",
   "execution_count": 3,
   "metadata": {},
   "outputs": [],
   "source": [
    "# pickle dump\n",
    "import pickle\n",
    "\n",
    "with open(\"Files/function.pkl\", \"wb\") as f:\n",
    "    pickle.dump(func, f)"
   ]
  },
  {
   "cell_type": "code",
   "execution_count": 6,
   "metadata": {},
   "outputs": [
    {
     "name": "stdout",
     "output_type": "stream",
     "text": [
      "Hi my name is Jabir. I am a Data Scientist\n"
     ]
    }
   ],
   "source": [
    "# pickle load\n",
    "import pickle \n",
    "\n",
    "with open(\"Files/function.pkl\", \"rb\") as f:\n",
    "    data = pickle.load(f)\n",
    "    print(data)"
   ]
  }
 ],
 "metadata": {
  "kernelspec": {
   "display_name": "Python 3",
   "language": "python",
   "name": "python3"
  },
  "language_info": {
   "codemirror_mode": {
    "name": "ipython",
    "version": 3
   },
   "file_extension": ".py",
   "mimetype": "text/x-python",
   "name": "python",
   "nbconvert_exporter": "python",
   "pygments_lexer": "ipython3",
   "version": "3.13.1"
  }
 },
 "nbformat": 4,
 "nbformat_minor": 2
}
