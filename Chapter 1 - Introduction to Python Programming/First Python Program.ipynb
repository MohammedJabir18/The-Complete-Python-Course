{
 "cells": [
  {
   "metadata": {},
   "cell_type": "markdown",
   "source": [
    "# Writing and Running Your First Python Program\n",
    "Welcome to the exciting world of Python programming! In this section, we'll dive into the essential aspects of writing and running your very first Python program. By the end of this section, you'll not only understand the basic structure of a Python script but also be able to run it from the command line or an Integrated Development Environment (IDE). Here we will use GOOGLE COLAB. Go to https://colab.research.google.com/"
   ],
   "id": "27a442200f6364ab"
  },
  {
   "metadata": {
    "ExecuteTime": {
     "end_time": "2024-12-03T10:24:20.136564Z",
     "start_time": "2024-12-03T10:24:20.132252Z"
    }
   },
   "cell_type": "code",
   "source": [
    "\"\"\"\n",
    "This is a multiline comment.\n",
    "Denoting to Triple Quotes (\\\"\"\") or (''') \n",
    "\"\"\"\n",
    "print(\"Hello, Python!\")  # This is single line comment. Here Printing the String. \n"
   ],
   "id": "e52ddb86c21c6367",
   "outputs": [
    {
     "name": "stdout",
     "output_type": "stream",
     "text": [
      "Hello, Python!\n"
     ]
    }
   ],
   "execution_count": 9
  },
  {
   "metadata": {},
   "cell_type": "markdown",
   "source": [
    "* Print Statement: \n",
    "The  `print()`  function is fundamental in Python. It outputs text or variables to the console. In this case, it prints the phrase \"Hello, Python!\"\n",
    "* Comments: Lines beginning with a  #  symbol are comments. They are ignored by the Python interpreter and are meant for human-readable explanations"
   ],
   "id": "14a5e813265d9ed"
  },
  {
   "metadata": {
    "ExecuteTime": {
     "end_time": "2024-12-03T10:11:50.499185Z",
     "start_time": "2024-12-03T10:11:50.488436Z"
    }
   },
   "cell_type": "code",
   "source": "print(58)  # Printing the Integer.",
   "id": "fc597d354ed1333",
   "outputs": [
    {
     "name": "stdout",
     "output_type": "stream",
     "text": [
      "58\n"
     ]
    }
   ],
   "execution_count": 2
  },
  {
   "metadata": {
    "ExecuteTime": {
     "end_time": "2024-12-03T10:11:50.512414Z",
     "start_time": "2024-12-03T10:11:50.501194Z"
    }
   },
   "cell_type": "code",
   "source": "print(True)  # Printing the Boolean Value.",
   "id": "8659d3fcbb6f692e",
   "outputs": [
    {
     "name": "stdout",
     "output_type": "stream",
     "text": [
      "True\n"
     ]
    }
   ],
   "execution_count": 3
  },
  {
   "metadata": {
    "ExecuteTime": {
     "end_time": "2024-12-03T10:11:50.521944Z",
     "start_time": "2024-12-03T10:11:50.513422Z"
    }
   },
   "cell_type": "code",
   "source": "print(\"Hello World\", 98, 87.98, True, \"Python\")  # Printing multiple datatypes in a function.",
   "id": "a96b1086422e56a8",
   "outputs": [
    {
     "name": "stdout",
     "output_type": "stream",
     "text": [
      "Hello World 98 87.98 True Python\n"
     ]
    }
   ],
   "execution_count": 4
  },
  {
   "metadata": {
    "ExecuteTime": {
     "end_time": "2024-12-03T10:11:50.534044Z",
     "start_time": "2024-12-03T10:11:50.525954Z"
    }
   },
   "cell_type": "code",
   "source": "print(\"Hello, Python\", 98, 37.78, True, sep=\", \")  # Separating the values using comma. ",
   "id": "7674ec7612ce89a3",
   "outputs": [
    {
     "name": "stdout",
     "output_type": "stream",
     "text": [
      "Hello, Python, 98, 37.78, True\n"
     ]
    }
   ],
   "execution_count": 5
  },
  {
   "metadata": {
    "ExecuteTime": {
     "end_time": "2024-12-03T10:11:50.544346Z",
     "start_time": "2024-12-03T10:11:50.535052Z"
    }
   },
   "cell_type": "code",
   "source": [
    "print(\"Mohammed\")\n",
    "print(\"Jabir\")\n",
    "print(\"M\")"
   ],
   "id": "ca1da58d3be350b5",
   "outputs": [
    {
     "name": "stdout",
     "output_type": "stream",
     "text": [
      "Mohammed\n",
      "Jabir\n",
      "M\n"
     ]
    }
   ],
   "execution_count": 6
  },
  {
   "metadata": {
    "ExecuteTime": {
     "end_time": "2024-12-03T10:11:50.556910Z",
     "start_time": "2024-12-03T10:11:50.546355Z"
    }
   },
   "cell_type": "code",
   "source": [
    "print(\"Mohammed\", end=\" \")  # end parameter default value is newline. \n",
    "print(\"Jabir\", end=\" \")  # Here replace with space. So printing these lines in one line.\n",
    "print(\"M\")"
   ],
   "id": "6240937348c48975",
   "outputs": [
    {
     "name": "stdout",
     "output_type": "stream",
     "text": [
      "Mohammed Jabir M\n"
     ]
    }
   ],
   "execution_count": 7
  }
 ],
 "metadata": {
  "kernelspec": {
   "display_name": "Python 3",
   "language": "python",
   "name": "python3"
  },
  "language_info": {
   "codemirror_mode": {
    "name": "ipython",
    "version": 2
   },
   "file_extension": ".py",
   "mimetype": "text/x-python",
   "name": "python",
   "nbconvert_exporter": "python",
   "pygments_lexer": "ipython2",
   "version": "2.7.6"
  }
 },
 "nbformat": 4,
 "nbformat_minor": 5
}
