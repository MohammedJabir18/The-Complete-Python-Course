{
 "cells": [
  {
   "metadata": {},
   "cell_type": "markdown",
   "source": [
    "# Installing Python and Setting up the Development Environment\n",
    "In this section, we will delve into the crucial steps of installing Python, setting up a development environment, and configuring tools that form the backbone of your Python coding journey."
   ],
   "id": "bca97c4d00d59bb8"
  },
  {
   "metadata": {},
   "cell_type": "markdown",
   "source": [
    "## 1. Installing Python on Different Operating Systems\n",
    "#### Windows:\n",
    "##### 1. Downloading Python Installer:\n",
    "* Visit the official Python website https://www.python.org/.\n",
    "* Navigate to the Downloads section.\n",
    "* Choose the latest version for Windows and download the executable installer.\n",
    "\n",
    "##### 2. Running the Installer:\n",
    "* Double-click on the installer.\n",
    "* Check the box that says \"Add Python to PATH\" during installation.\n",
    "* Click \"Install Now\" to start the installation process.\n",
    "\n",
    "##### 3. Verification:\n",
    "* Open a command prompt and type  `python --version`  to ensure Python is installed.\n",
    "\n",
    "#### macOS\n",
    "##### 1. Using Homebrew:\n",
    "* Install Homebrew if not already installed.\n",
    "* Run  `brew install python`  in the terminal.\n",
    "\n",
    "##### 2. Using the Python Installer:\n",
    "* Download the macOS installer from the Python website.\n",
    "* Run the installer and follow the on-screen instructions.\n",
    "\n",
    "##### 3. Verification:\n",
    "*  Open the terminal and type  `python3 --version`  to confirm the installation.\n",
    "\n",
    "#### Linux:\n",
    "##### 1. Using Package Manager:\n",
    "* Run  `sudo apt-get update`  to update package lists.\n",
    "*  Install Python with  `sudo apt-get install python3` .\n",
    "\n",
    "##### 2. Building from Source:\n",
    "* Download the source code from the Python website.\n",
    "* Extract the files and follow the instructions in the README file.\n",
    "\n",
    "##### 3. Verification:\n",
    "* Open a terminal and type  `python3 --version`  to check the installation."
   ],
   "id": "d327ba3c03ef7770"
  },
  {
   "metadata": {},
   "cell_type": "markdown",
   "source": [
    "## 2. Introduction to Package Managers like pip\n",
    "##### Installing pip:\n",
    "* On most systems, pip comes pre-installed with Python.\n",
    "* To upgrade pip, run  `python -m pip install --upgrade pip`  in the terminal or command prompt.\n",
    "\n",
    "##### Using pip:\n",
    "* Install packages with  `pip install package_name` .\n",
    "* Manage package versions using  `pip install package_name==version` .\n",
    "* Create a requirements file with installed packages:  `pip freeze > requirements.txt` .\n",
    "* Install from requirements file:  `pip install -r requirements.txt` ."
   ],
   "id": "92c5d3322421c52c"
  },
  {
   "metadata": {},
   "cell_type": "markdown",
   "source": [
    "## 3. Setting Up a Virtual Environment\n",
    "##### Creating a Virtual Environment:\n",
    "* Run  `python -m venv venv_name`  to create a virtual environment.\n",
    "* Activate the virtual environment:\n",
    "* On Windows:  `venv_name\\Scripts\\activate`\n",
    "* On macOS/Linux:  `source venv_name/bin/activate`\n",
    "\n",
    "##### Deactivating the Virtual Environment:\n",
    "*Simply run  `deactivate`  in the terminal."
   ],
   "id": "eb7cca54c57bee51"
  },
  {
   "metadata": {},
   "cell_type": "markdown",
   "source": [
    "## 4. Configuring an Integrated Development Environment (IDE) or Using a Text Editor\n",
    "#### IDE (PyCharm Example):\n",
    "##### 1. Downloading and Installing PyCharm:\n",
    "* Visit the JetBrains website and download PyCharm.\n",
    "* Run the installer and follow the installation instructions.\n",
    "\n",
    "##### 2. Configuring the Python Interpreter:\n",
    "* Open PyCharm and navigate to File -> Settings.\n",
    "*  In the Project Interpreter section, select the Python interpreter from the virtual environment.\n",
    "\n",
    "#### Text Editor (Visual Studio Code Example):\n",
    "##### 1. Installing Visual Studio Code:\n",
    "* Download and install Visual Studio Code from the official website.\n",
    "\n",
    "##### 2. Configuring Python Extension:\n",
    "* Install the \"Python\" extension.\n",
    "* Select the Python interpreter from the virtual environment."
   ],
   "id": "255bc67ac1464aac"
  }
 ],
 "metadata": {
  "kernelspec": {
   "display_name": "Python 3",
   "language": "python",
   "name": "python3"
  },
  "language_info": {
   "codemirror_mode": {
    "name": "ipython",
    "version": 2
   },
   "file_extension": ".py",
   "mimetype": "text/x-python",
   "name": "python",
   "nbconvert_exporter": "python",
   "pygments_lexer": "ipython2",
   "version": "2.7.6"
  }
 },
 "nbformat": 4,
 "nbformat_minor": 5
}
