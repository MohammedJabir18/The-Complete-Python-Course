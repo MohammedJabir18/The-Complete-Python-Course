{
 "cells": [
  {
   "cell_type": "markdown",
   "metadata": {},
   "source": [
    "### Finally Block\n",
    "The finally block is executed regardless of whether an exception was raised or not. This is useful for cleanup actions, such as closing files or releasing resources."
   ]
  },
  {
   "cell_type": "code",
   "execution_count": 5,
   "metadata": {},
   "outputs": [
    {
     "name": "stdout",
     "output_type": "stream",
     "text": [
      "Hello, Python\n",
      "This is very important code\n"
     ]
    }
   ],
   "source": [
    "try:\n",
    "    f = open(\"Files/sample.txt\", \"r\")\n",
    "\n",
    "except FileNotFoundError:\n",
    "    print(\"File is not found\")\n",
    "\n",
    "else:\n",
    "    print(f.read())\n",
    "\n",
    "finally:\n",
    "    print(\"This is very important code\")\n",
    "    f.close()"
   ]
  },
  {
   "cell_type": "code",
   "execution_count": 6,
   "metadata": {},
   "outputs": [
    {
     "name": "stdout",
     "output_type": "stream",
     "text": [
      "File is not found\n",
      "This is very important code\n"
     ]
    }
   ],
   "source": [
    "try:\n",
    "    f = open(\"Files/sample18.txt\", \"r\")\n",
    "\n",
    "except FileNotFoundError:\n",
    "    print(\"File is not found\")\n",
    "\n",
    "else:\n",
    "    print(f.read())\n",
    "\n",
    "finally:\n",
    "    print(\"This is very important code\")\n",
    "    f.close()"
   ]
  }
 ],
 "metadata": {
  "kernelspec": {
   "display_name": "Python 3",
   "language": "python",
   "name": "python3"
  },
  "language_info": {
   "codemirror_mode": {
    "name": "ipython",
    "version": 3
   },
   "file_extension": ".py",
   "mimetype": "text/x-python",
   "name": "python",
   "nbconvert_exporter": "python",
   "pygments_lexer": "ipython3",
   "version": "3.13.1"
  }
 },
 "nbformat": 4,
 "nbformat_minor": 2
}
