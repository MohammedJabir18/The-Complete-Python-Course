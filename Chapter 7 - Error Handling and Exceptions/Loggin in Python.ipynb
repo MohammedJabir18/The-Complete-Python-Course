{
 "cells": [
  {
   "cell_type": "markdown",
   "metadata": {},
   "source": [
    "# Logging in Python\n",
    "\n",
    "#### Logging Module\n",
    "The `logging` module provides a flexible framework for emitting log messages from Python programs. It allows developers to track events that happen during execution, which is crucial for debugging and monitoring applications.\n",
    "\n",
    "#### OS Module\n",
    "The `os` module provides a way of using operating system-dependent functionality like reading or writing to the file system, handling environment variables, and managing processes."
   ]
  },
  {
   "cell_type": "code",
   "execution_count": 1,
   "metadata": {},
   "outputs": [],
   "source": [
    "import logging\n",
    "import os"
   ]
  },
  {
   "cell_type": "code",
   "execution_count": 2,
   "metadata": {},
   "outputs": [],
   "source": [
    "LOG_DIR = \"Logs\"\n",
    "LOG_FILE_NAME = \"Application.log\"\n",
    "\n",
    "os.makedirs(LOG_DIR, exist_ok=True)  # It will automatically create a specific folder\n",
    "\n",
    "log_path = os.path.join(LOG_DIR,LOG_FILE_NAME)\n",
    "\n",
    "logging.basicConfig(\n",
    "    filename=log_path,\n",
    "    format=\"[ %(asctime)s ] %(name)s - %(levelname)s - %(message)s\",\n",
    "    level=logging.INFO,\n",
    "    datefmt=\"%D-%M-%Y %I:%M:%S %p\"\n",
    ")\n"
   ]
  },
  {
   "cell_type": "code",
   "execution_count": 3,
   "metadata": {},
   "outputs": [],
   "source": [
    "logging.info(\"Hello, My name is Jabir\")"
   ]
  },
  {
   "cell_type": "code",
   "execution_count": 4,
   "metadata": {},
   "outputs": [],
   "source": [
    "logging.info(\"There are some issues with application\")"
   ]
  },
  {
   "cell_type": "code",
   "execution_count": 5,
   "metadata": {},
   "outputs": [],
   "source": [
    "try:\n",
    "    with open(\"Files/sample10.txt\", \"r\") as f:\n",
    "        print(f.read())\n",
    "\n",
    "except Exception as e:\n",
    "    logging.info(e)"
   ]
  }
 ],
 "metadata": {
  "kernelspec": {
   "display_name": "Python 3",
   "language": "python",
   "name": "python3"
  },
  "language_info": {
   "codemirror_mode": {
    "name": "ipython",
    "version": 3
   },
   "file_extension": ".py",
   "mimetype": "text/x-python",
   "name": "python",
   "nbconvert_exporter": "python",
   "pygments_lexer": "ipython3",
   "version": "3.13.1"
  }
 },
 "nbformat": 4,
 "nbformat_minor": 2
}
