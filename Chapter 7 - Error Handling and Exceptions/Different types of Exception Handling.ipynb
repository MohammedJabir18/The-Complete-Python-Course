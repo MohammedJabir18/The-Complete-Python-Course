{
 "cells": [
  {
   "cell_type": "markdown",
   "metadata": {},
   "source": [
    "# Different types of Exception Handling"
   ]
  },
  {
   "cell_type": "code",
   "execution_count": 20,
   "metadata": {},
   "outputs": [
    {
     "name": "stdout",
     "output_type": "stream",
     "text": [
      "Hello, Python\n",
      "8\n",
      "Index not found\n"
     ]
    }
   ],
   "source": [
    "# Let's read a file\n",
    "try:\n",
    "    with open(\"Files/sample.txt\", \"r\") as f:\n",
    "        print(f.read())\n",
    "\n",
    "        a = 4\n",
    "        b = 4\n",
    "        print(a + b)\n",
    "\n",
    "        L = [1, 2, 3, 4, 5, 6]\n",
    "        L[100]\n",
    "\n",
    "except FileNotFoundError:\n",
    "    print(\"File not found.\")\n",
    "\n",
    "except NameError:\n",
    "    print(\"Variable not defined\")\n",
    "\n",
    "except IndexError:\n",
    "    print(\"Index not found\")\n",
    "\n",
    "except Exception as e:\n",
    "    print(e)"
   ]
  },
  {
   "cell_type": "code",
   "execution_count": 29,
   "metadata": {},
   "outputs": [
    {
     "name": "stdout",
     "output_type": "stream",
     "text": [
      "Hello, Python\n",
      "name 'j' is not defined\n"
     ]
    }
   ],
   "source": [
    "try: \n",
    "    with open(\"Files/sample.txt\", \"r\") as f:\n",
    "        print(f.read())\n",
    "\n",
    "        if 2 == j:\n",
    "            print(\"Hello\")\n",
    "\n",
    "        0 / \"k\"\n",
    "\n",
    "except Exception as e:\n",
    "    print(e)\n"
   ]
  },
  {
   "cell_type": "code",
   "execution_count": 30,
   "metadata": {},
   "outputs": [
    {
     "name": "stdout",
     "output_type": "stream",
     "text": [
      "Hello, Python\n",
      "<built-in method with_traceback of NameError object at 0x0000019E3730D180>\n"
     ]
    }
   ],
   "source": [
    "try: \n",
    "    with open(\"Files/sample.txt\", \"r\") as f:\n",
    "        print(f.read())\n",
    "\n",
    "        if 2 == j:\n",
    "            print(\"Hello\")\n",
    "\n",
    "        0 / \"k\"\n",
    "\n",
    "except Exception as e:\n",
    "    print(e.with_traceback)  # To show which type of error"
   ]
  }
 ],
 "metadata": {
  "kernelspec": {
   "display_name": "Python 3",
   "language": "python",
   "name": "python3"
  },
  "language_info": {
   "codemirror_mode": {
    "name": "ipython",
    "version": 3
   },
   "file_extension": ".py",
   "mimetype": "text/x-python",
   "name": "python",
   "nbconvert_exporter": "python",
   "pygments_lexer": "ipython3",
   "version": "3.13.1"
  }
 },
 "nbformat": 4,
 "nbformat_minor": 2
}
