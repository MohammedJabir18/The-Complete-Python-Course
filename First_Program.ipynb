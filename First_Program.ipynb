{
 "cells": [
  {
   "cell_type": "code",
   "id": "initial_id",
   "metadata": {
    "collapsed": true,
    "ExecuteTime": {
     "end_time": "2024-12-03T06:32:32.975024Z",
     "start_time": "2024-12-03T06:32:32.949478Z"
    }
   },
   "source": "print(\"Hello World\")",
   "outputs": [
    {
     "name": "stdout",
     "output_type": "stream",
     "text": [
      "Hello World\n"
     ]
    }
   ],
   "execution_count": 1
  },
  {
   "metadata": {
    "ExecuteTime": {
     "end_time": "2024-12-03T06:32:57.219164Z",
     "start_time": "2024-12-03T06:32:57.212180Z"
    }
   },
   "cell_type": "code",
   "source": "print(\"98\")",
   "id": "4c0a403cc2ecf9bc",
   "outputs": [
    {
     "name": "stdout",
     "output_type": "stream",
     "text": [
      "98\n"
     ]
    }
   ],
   "execution_count": 2
  },
  {
   "metadata": {
    "ExecuteTime": {
     "end_time": "2024-12-03T06:33:04.869689Z",
     "start_time": "2024-12-03T06:33:04.862822Z"
    }
   },
   "cell_type": "code",
   "source": "print(True)",
   "id": "b340bf44f1696beb",
   "outputs": [
    {
     "name": "stdout",
     "output_type": "stream",
     "text": [
      "True\n"
     ]
    }
   ],
   "execution_count": 3
  },
  {
   "metadata": {
    "ExecuteTime": {
     "end_time": "2024-12-03T06:37:53.815801Z",
     "start_time": "2024-12-03T06:37:53.809942Z"
    }
   },
   "cell_type": "code",
   "source": "print(\"Hello world\", 98, 87.98, True, \"Jabir\")",
   "id": "e511390588167d19",
   "outputs": [
    {
     "name": "stdout",
     "output_type": "stream",
     "text": [
      "Hello world 98 87.98 True Jabir\n"
     ]
    }
   ],
   "execution_count": 5
  },
  {
   "metadata": {
    "ExecuteTime": {
     "end_time": "2024-12-03T06:38:37.314301Z",
     "start_time": "2024-12-03T06:38:37.309448Z"
    }
   },
   "cell_type": "code",
   "source": "print(\"Hello world\", 98, 78.87, True, \"Jabir\", sep=\", \")",
   "id": "ce72af4b1bb2b93f",
   "outputs": [
    {
     "name": "stdout",
     "output_type": "stream",
     "text": [
      "Hello world, 98, 78.87, True, Jabir\n"
     ]
    }
   ],
   "execution_count": 6
  },
  {
   "metadata": {
    "ExecuteTime": {
     "end_time": "2024-12-03T06:39:26.044594Z",
     "start_time": "2024-12-03T06:39:26.040369Z"
    }
   },
   "cell_type": "code",
   "source": [
    "print(\"Mohammed\")\n",
    "print(\"Jabir\")\n",
    "print(\"M\")"
   ],
   "id": "6d20dcd535a59d74",
   "outputs": [
    {
     "name": "stdout",
     "output_type": "stream",
     "text": [
      "Mohammed\n",
      "Jabir\n",
      "M\n"
     ]
    }
   ],
   "execution_count": 7
  },
  {
   "metadata": {
    "ExecuteTime": {
     "end_time": "2024-12-03T06:40:52.459453Z",
     "start_time": "2024-12-03T06:40:52.455097Z"
    }
   },
   "cell_type": "code",
   "source": [
    "print(\"Mohammed\", end=\" \")\n",
    "print(\"Jabir\", end=\" \")\n",
    "print(\"M\")"
   ],
   "id": "a44aef71d663da29",
   "outputs": [
    {
     "name": "stdout",
     "output_type": "stream",
     "text": [
      "Mohammed Jabir M\n"
     ]
    }
   ],
   "execution_count": 11
  }
 ],
 "metadata": {
  "kernelspec": {
   "display_name": "Python 3",
   "language": "python",
   "name": "python3"
  },
  "language_info": {
   "codemirror_mode": {
    "name": "ipython",
    "version": 2
   },
   "file_extension": ".py",
   "mimetype": "text/x-python",
   "name": "python",
   "nbconvert_exporter": "python",
   "pygments_lexer": "ipython2",
   "version": "2.7.6"
  }
 },
 "nbformat": 4,
 "nbformat_minor": 5
}
