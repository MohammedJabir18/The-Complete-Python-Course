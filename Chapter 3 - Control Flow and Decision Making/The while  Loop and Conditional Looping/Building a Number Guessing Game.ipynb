{
 "cells": [
  {
   "metadata": {},
   "cell_type": "markdown",
   "source": [
    "# Case Study: Building a Number Guessing Game\n",
    "In this hands-on case study, we'll apply the control flow concepts we've learned to create a simple yet engaging Python game – a Number Guessing Game. This project will not only reinforce your understanding of conditional statements and loops but also introduce you to the interactive side of Python programming.\n",
    "\n",
    "### 1. Overview of the Game\n",
    "Let's begin with a brief overview of our game. The Number Guessing Game is a classic where the computer generates a random number, and the player has to guess it within a certain range. The game will provide feedback after each guess, guiding the player to the correct answer.\n",
    "### 2. Setting Up the Game Logic\n",
    "We'll start by initializing the game, generating a random number, and defining the range within which the player should make guesses. This involves using Python's  random  module for generating random numbers.\n",
    "\n",
    "### 3. Implementing the Core Gameplay\n",
    "Next, we'll implement the core gameplay loop where the player makes guesses, and the game responds with feedback. We'll use a  while  loop to allow repeated attempts until the player guesses the correct number.\n",
    "\n",
    "### 4. Adding User Input and Feedback\n",
    "To make the game more interactive, we'll enhance it by incorporating user input and providing feedback on the quality of their guesses. Additionally, we'll handle scenarios where the player enters invalid input.\n",
    "\n",
    "### 5. Conclusion and Next Steps\n",
    "In this case study, we've successfully applied control flow concepts to create a functioning Number Guessing Game. The project covered the initiation of the game, implementation of the core gameplay loop, and the addition of user input and feedback."
   ],
   "id": "652cd20bd3acf079"
  },
  {
   "metadata": {
    "ExecuteTime": {
     "end_time": "2024-12-06T16:53:10.495381Z",
     "start_time": "2024-12-06T16:52:39.005314Z"
    }
   },
   "cell_type": "code",
   "source": [
    "import random\n",
    "\n",
    "# set limit\n",
    "lower_limit = 1\n",
    "upper_limit = 100\n",
    "\n",
    "rand_num = random.randint(lower_limit, upper_limit)\n",
    "\n",
    "print(\"Welcome to the Number Guessing Game!\")\n",
    "\n",
    "attempts = 0\n",
    "while True:\n",
    "    guess_num = int(input(\"Enter your guess: \"))\n",
    "    attempts += 1\n",
    "    if lower_limit <= guess_num <= upper_limit:\n",
    "        if guess_num == rand_num:\n",
    "            print(f\"Congratulations! You guessed the number in {attempts} attempts\")\n",
    "            break\n",
    "        elif guess_num < rand_num:\n",
    "            print(\"Too low! Try again.\")\n",
    "        else:\n",
    "            print(\"Too high! Try again.\")\n",
    "    else:\n",
    "        print(f\"Please enter number between {lower_limit} and {upper_limit}.\")\n"
   ],
   "id": "d56dbf16dd5aa6a",
   "outputs": [
    {
     "name": "stdout",
     "output_type": "stream",
     "text": [
      "Welcome to the Number Guessing Game!\n",
      "Too low! Try again.\n",
      "Too low! Try again.\n",
      "Too low! Try again.\n",
      "Too low! Try again.\n",
      "Too high! Try again.\n",
      "Too high! Try again.\n",
      "Too high! Try again.\n",
      "Congratulations! You guessed the number in 8 attempts\n"
     ]
    }
   ],
   "execution_count": 8
  }
 ],
 "metadata": {
  "kernelspec": {
   "display_name": "Python 3",
   "language": "python",
   "name": "python3"
  },
  "language_info": {
   "codemirror_mode": {
    "name": "ipython",
    "version": 2
   },
   "file_extension": ".py",
   "mimetype": "text/x-python",
   "name": "python",
   "nbconvert_exporter": "python",
   "pygments_lexer": "ipython2",
   "version": "2.7.6"
  }
 },
 "nbformat": 4,
 "nbformat_minor": 5
}
