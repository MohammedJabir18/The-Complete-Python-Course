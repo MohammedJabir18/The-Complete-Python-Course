{
 "cells": [
  {
   "metadata": {},
   "cell_type": "markdown",
   "source": [
    "# The for  Loop and Iterating Over Sequences\n",
    "The  for  loop in Python is particularly useful when you want to iterate over a sequence of elements. This sequence can be a list, tuple, string, or any other iterable object."
   ],
   "id": "89144e58d867ce7c"
  },
  {
   "metadata": {
    "ExecuteTime": {
     "end_time": "2024-12-07T09:23:33.048682Z",
     "start_time": "2024-12-07T09:23:33.043897Z"
    }
   },
   "cell_type": "code",
   "source": [
    "# Example 1: Iterating over a range of numbers\n",
    "for i in range(1, 11):\n",
    "    print(i)"
   ],
   "id": "5bca56de11b43c95",
   "outputs": [
    {
     "name": "stdout",
     "output_type": "stream",
     "text": [
      "1\n",
      "2\n",
      "3\n",
      "4\n",
      "5\n",
      "6\n",
      "7\n",
      "8\n",
      "9\n",
      "10\n"
     ]
    }
   ],
   "execution_count": 6
  },
  {
   "metadata": {
    "ExecuteTime": {
     "end_time": "2024-12-07T09:25:01.678422Z",
     "start_time": "2024-12-07T09:25:01.673060Z"
    }
   },
   "cell_type": "code",
   "source": [
    "# Example 2: Iterating over a string\n",
    "for i in \"Python\":\n",
    "    print(i)"
   ],
   "id": "9432081fc6485bb",
   "outputs": [
    {
     "name": "stdout",
     "output_type": "stream",
     "text": [
      "P\n",
      "y\n",
      "t\n",
      "h\n",
      "o\n",
      "n\n"
     ]
    }
   ],
   "execution_count": 7
  },
  {
   "metadata": {
    "ExecuteTime": {
     "end_time": "2024-12-07T09:29:08.661564Z",
     "start_time": "2024-12-07T09:29:08.655965Z"
    }
   },
   "cell_type": "code",
   "source": [
    "# Example 3: Iterating over a list\n",
    "fruits = [\"Apple\", \"Orange\", \"Grape\", \"Watermelon\", \"Mango\"]\n",
    " \n",
    "for i in fruits:\n",
    "    print(i)"
   ],
   "id": "49c3ef4b5fa22bdd",
   "outputs": [
    {
     "name": "stdout",
     "output_type": "stream",
     "text": [
      "Apple\n",
      "Orange\n",
      "Grape\n",
      "Watermelon\n",
      "Mango\n"
     ]
    }
   ],
   "execution_count": 9
  },
  {
   "metadata": {
    "ExecuteTime": {
     "end_time": "2024-12-07T09:32:48.586422Z",
     "start_time": "2024-12-07T09:32:48.580980Z"
    }
   },
   "cell_type": "code",
   "source": [
    "# Example 4: Iterating over a tuple\n",
    "for i in (1, 2, 3, 4):\n",
    "    print(i)"
   ],
   "id": "52733f9fc5fd0271",
   "outputs": [
    {
     "name": "stdout",
     "output_type": "stream",
     "text": [
      "1\n",
      "2\n",
      "3\n",
      "4\n"
     ]
    }
   ],
   "execution_count": 11
  },
  {
   "metadata": {
    "ExecuteTime": {
     "end_time": "2024-12-07T09:30:27.888780Z",
     "start_time": "2024-12-07T09:30:27.884480Z"
    }
   },
   "cell_type": "code",
   "source": [
    "# Example 5: Iterating odd numbers using step value\n",
    "for i in range(1, 20, 2):\n",
    "    print(i)"
   ],
   "id": "d4b26443a824a703",
   "outputs": [
    {
     "name": "stdout",
     "output_type": "stream",
     "text": [
      "1\n",
      "3\n",
      "5\n",
      "7\n",
      "9\n",
      "11\n",
      "13\n",
      "15\n",
      "17\n",
      "19\n"
     ]
    }
   ],
   "execution_count": 10
  }
 ],
 "metadata": {
  "kernelspec": {
   "display_name": "Python 3",
   "language": "python",
   "name": "python3"
  },
  "language_info": {
   "codemirror_mode": {
    "name": "ipython",
    "version": 2
   },
   "file_extension": ".py",
   "mimetype": "text/x-python",
   "name": "python",
   "nbconvert_exporter": "python",
   "pygments_lexer": "ipython2",
   "version": "2.7.6"
  }
 },
 "nbformat": 4,
 "nbformat_minor": 5
}
