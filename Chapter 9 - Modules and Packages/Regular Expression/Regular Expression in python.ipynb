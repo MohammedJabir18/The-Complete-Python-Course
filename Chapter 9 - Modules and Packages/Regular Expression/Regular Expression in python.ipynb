{
 "cells": [
  {
   "cell_type": "markdown",
   "metadata": {},
   "source": [
    "# Regular expressions (RegEx) in Python\n",
    "Regular expressions (RegEx) in Python are powerful tools for searching, matching, and manipulating text based on specific patterns. The re module in Python provides various functions to work with regular expressions effectively.\n",
    "A regular expression is a sequence of characters that defines a search pattern. It can be used to find specific strings, validate input, or perform substitutions in text.\n",
    "\n",
    "https://www.w3schools.com/python/python_regex.asp"
   ]
  },
  {
   "cell_type": "code",
   "execution_count": 13,
   "metadata": {},
   "outputs": [],
   "source": [
    "text = \"\"\"A cyclone is a powerful atmospheric system characterized by a rotating mass of air around a low-pressure center, \n",
    "typically resulting in severe weather conditions. \n",
    "These storms can develop over tropical or subtropical oceans, drawing energy from warm waters, \n",
    "and are marked by violent winds, heavy rainfall, and often destructive storm surges. \n",
    "Cyclones are classified into different types based on their location and characteristics; for instance, \n",
    "they are referred to as hurricanes in the Atlantic and typhoons in the Western Pacific. \n",
    "The formation of a dyclone involves a complex interplay of atmospheric conditions,\n",
    "including warm sea surface temperatures, moisture in the air, and wind patterns. In the Northern Hemisphere, \n",
    "cyclones rotate counterclockwise, while in the Southern Hemisphere, they rotate clockwise. \n",
    "These systems can lead to significant impacts on coastal communities, including flooding and damage to infrastructure, \n",
    "making understanding and monitoring pyclones crucial for disaster preparedness and response efforts.\n",
    "\"\"\""
   ]
  },
  {
   "cell_type": "code",
   "execution_count": 14,
   "metadata": {},
   "outputs": [],
   "source": [
    "pattern = r\"[a-z]+yclone\""
   ]
  },
  {
   "cell_type": "code",
   "execution_count": 15,
   "metadata": {},
   "outputs": [
    {
     "name": "stdout",
     "output_type": "stream",
     "text": [
      "<re.Match object; span=(2, 9), match='cyclone'>\n"
     ]
    }
   ],
   "source": [
    "import re\n",
    "\n",
    "match = re.search(pattern, text)\n",
    "\n",
    "print(match)"
   ]
  },
  {
   "cell_type": "code",
   "execution_count": 16,
   "metadata": {},
   "outputs": [
    {
     "data": {
      "text/plain": [
       "'cyclone'"
      ]
     },
     "execution_count": 16,
     "metadata": {},
     "output_type": "execute_result"
    }
   ],
   "source": [
    "text[2:9]"
   ]
  },
  {
   "cell_type": "code",
   "execution_count": 19,
   "metadata": {},
   "outputs": [
    {
     "name": "stdout",
     "output_type": "stream",
     "text": [
      "(2, 9)\n",
      "(560, 567)\n",
      "(734, 741)\n",
      "(982, 989)\n"
     ]
    }
   ],
   "source": [
    "match_item = re.finditer(pattern, text)\n",
    "\n",
    "for match in match_item:\n",
    "    print(match.span())"
   ]
  },
  {
   "cell_type": "code",
   "execution_count": 22,
   "metadata": {},
   "outputs": [
    {
     "name": "stdout",
     "output_type": "stream",
     "text": [
      "cyclone\n",
      "dyclone\n",
      "cyclone\n",
      "pyclone\n"
     ]
    }
   ],
   "source": [
    "match_item = re.finditer(pattern, text)\n",
    "\n",
    "for match in match_item:\n",
    "    index = match.span()\n",
    "    print(text[index[0]:index[1]])"
   ]
  }
 ],
 "metadata": {
  "kernelspec": {
   "display_name": "Python 3",
   "language": "python",
   "name": "python3"
  },
  "language_info": {
   "codemirror_mode": {
    "name": "ipython",
    "version": 3
   },
   "file_extension": ".py",
   "mimetype": "text/x-python",
   "name": "python",
   "nbconvert_exporter": "python",
   "pygments_lexer": "ipython3",
   "version": "3.13.1"
  }
 },
 "nbformat": 4,
 "nbformat_minor": 2
}
