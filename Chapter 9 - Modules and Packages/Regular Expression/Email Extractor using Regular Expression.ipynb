{
 "cells": [
  {
   "cell_type": "markdown",
   "metadata": {},
   "source": [
    "# Email Extractor using Regular Expression"
   ]
  },
  {
   "cell_type": "code",
   "execution_count": 1,
   "metadata": {},
   "outputs": [],
   "source": [
    "# Sample text\n",
    "text = \"\"\"A cyclone is a powerful atmospheric system characterized by a rotating mass of air around a low-pressure center, \n",
    "typically contact77@gmail.com resulting in severe weather conditions. jabirahmedz111@gmail.com These storms can develop over tropical\n",
    "or abc.xyz@gmail.co.uk subtropical oceans, drawing energy from warm waters, and are marked by violent winds, heavy rainfall,\n",
    "and often destructive storm surges.\"\"\""
   ]
  },
  {
   "cell_type": "code",
   "execution_count": 22,
   "metadata": {},
   "outputs": [
    {
     "name": "stdout",
     "output_type": "stream",
     "text": [
      "contact77@gmail.com\n",
      "jabirahmedz111@gmail.com\n",
      "abc.xyz@gmail.co.uk\n"
     ]
    }
   ],
   "source": [
    "import re\n",
    "\n",
    "# Regular expression pattern for email addresses\n",
    "pattern = r\"[a-zA-Z0-9_.%+-]+@[a-zA-Z0-9.-]+\\.[a-zA-Z]{2,}\"\n",
    "\n",
    "# Find all matches\n",
    "emails = re.findall(pattern, text)\n",
    "\n",
    "# Print the result\n",
    "for email in emails:\n",
    "    print(email)"
   ]
  }
 ],
 "metadata": {
  "kernelspec": {
   "display_name": "Python 3",
   "language": "python",
   "name": "python3"
  },
  "language_info": {
   "codemirror_mode": {
    "name": "ipython",
    "version": 3
   },
   "file_extension": ".py",
   "mimetype": "text/x-python",
   "name": "python",
   "nbconvert_exporter": "python",
   "pygments_lexer": "ipython3",
   "version": "3.13.1"
  }
 },
 "nbformat": 4,
 "nbformat_minor": 2
}
