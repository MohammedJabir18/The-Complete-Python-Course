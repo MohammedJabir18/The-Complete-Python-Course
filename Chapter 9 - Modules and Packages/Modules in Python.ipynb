{
 "cells": [
  {
   "metadata": {},
   "cell_type": "markdown",
   "source": [
    "# Definition of Modules\n",
    "Modules in Python serve as containers for organizing code. A module is essentially a file containing Python definitions and statements. These files can define functions, classes, and variables, offering a way to structure code logically."
   ],
   "id": "af348c7f51dd9656"
  },
  {
   "metadata": {},
   "cell_type": "markdown",
   "source": [
    "## 1. Builtins Module / Package\n",
    "## 2. External Module / Package"
   ],
   "id": "c7b6035b49def6eb"
  },
  {
   "metadata": {},
   "cell_type": "markdown",
   "source": [
    "### 1. Builtins Module / Package\n",
    "(https://docs.python.org/3/py-modindex.html)\n",
    "\n",
    "* math\n",
    "* keywords\n",
    "* random\n",
    "* datetime"
   ],
   "id": "4dea8beb47951f53"
  },
  {
   "metadata": {
    "ExecuteTime": {
     "end_time": "2024-12-24T09:21:13.174558Z",
     "start_time": "2024-12-24T09:21:13.145011Z"
    }
   },
   "cell_type": "code",
   "source": [
    "import math\n",
    "\n",
    "x = 196\n",
    "print(f\"Square root of {x} = {math.sqrt(x)}\")"
   ],
   "id": "eba83336b9c3653b",
   "outputs": [
    {
     "name": "stdout",
     "output_type": "stream",
     "text": [
      "Square root of 196 = 14.0\n"
     ]
    }
   ],
   "execution_count": 20
  },
  {
   "metadata": {
    "ExecuteTime": {
     "end_time": "2024-12-06T11:40:06.607696Z",
     "start_time": "2024-12-06T11:40:06.600642Z"
    }
   },
   "cell_type": "code",
   "source": [
    "x = 5\n",
    "print(f\"Factorial of {x} = {math.factorial(x)}\")"
   ],
   "id": "3c01ce52182cf450",
   "outputs": [
    {
     "name": "stdout",
     "output_type": "stream",
     "text": [
      "Factorial of 5 = 120\n"
     ]
    }
   ],
   "execution_count": 5
  },
  {
   "metadata": {
    "ExecuteTime": {
     "end_time": "2024-12-24T08:34:36.669984Z",
     "start_time": "2024-12-24T08:34:36.646977Z"
    }
   },
   "cell_type": "code",
   "source": [
    "import keyword\n",
    "\n",
    "keyword.iskeyword(\"nonlocal\")"
   ],
   "id": "a37f9e02fd404b42",
   "outputs": [
    {
     "data": {
      "text/plain": [
       "True"
      ]
     },
     "execution_count": 3,
     "metadata": {},
     "output_type": "execute_result"
    }
   ],
   "execution_count": 3
  },
  {
   "metadata": {
    "ExecuteTime": {
     "end_time": "2024-12-24T08:34:38.895040Z",
     "start_time": "2024-12-24T08:34:38.887043Z"
    }
   },
   "cell_type": "code",
   "source": [
    "keywords = keyword.kwlist\n",
    "\n",
    "print(keywords)"
   ],
   "id": "9818e9683ded1792",
   "outputs": [
    {
     "name": "stdout",
     "output_type": "stream",
     "text": [
      "['False', 'None', 'True', 'and', 'as', 'assert', 'async', 'await', 'break', 'class', 'continue', 'def', 'del', 'elif', 'else', 'except', 'finally', 'for', 'from', 'global', 'if', 'import', 'in', 'is', 'lambda', 'nonlocal', 'not', 'or', 'pass', 'raise', 'return', 'try', 'while', 'with', 'yield']\n"
     ]
    }
   ],
   "execution_count": 4
  },
  {
   "metadata": {
    "ExecuteTime": {
     "end_time": "2024-12-24T08:41:25.180661Z",
     "start_time": "2024-12-24T08:41:25.159652Z"
    }
   },
   "cell_type": "code",
   "source": [
    "import random\n",
    "\n",
    "random.randint(1, 100)"
   ],
   "id": "5d05de2b88deb809",
   "outputs": [
    {
     "data": {
      "text/plain": [
       "32"
      ]
     },
     "execution_count": 10,
     "metadata": {},
     "output_type": "execute_result"
    }
   ],
   "execution_count": 10
  },
  {
   "metadata": {
    "ExecuteTime": {
     "end_time": "2024-12-24T08:50:38.340128Z",
     "start_time": "2024-12-24T08:50:38.324128Z"
    }
   },
   "cell_type": "code",
   "source": "random.choice([\"Orange\", \"Apple\", \"Lemon\", \"Grape\", \"Kiwi\"])",
   "id": "ec1c062101ad184e",
   "outputs": [
    {
     "data": {
      "text/plain": [
       "'Orange'"
      ]
     },
     "execution_count": 19,
     "metadata": {},
     "output_type": "execute_result"
    }
   ],
   "execution_count": 19
  },
  {
   "metadata": {
    "ExecuteTime": {
     "end_time": "2024-12-24T08:44:09.518716Z",
     "start_time": "2024-12-24T08:44:09.507717Z"
    }
   },
   "cell_type": "code",
   "source": [
    "import datetime\n",
    "\n",
    "print(datetime.datetime.now())"
   ],
   "id": "b1fbb5798e0195f6",
   "outputs": [
    {
     "name": "stdout",
     "output_type": "stream",
     "text": [
      "2024-12-24 14:14:09.510719\n"
     ]
    }
   ],
   "execution_count": 17
  },
  {
   "metadata": {
    "ExecuteTime": {
     "end_time": "2024-12-24T08:44:06.001477Z",
     "start_time": "2024-12-24T08:44:05.982958Z"
    }
   },
   "cell_type": "code",
   "source": "print(datetime.date(2000, 8, 18).ctime())",
   "id": "f1193f3df631770b",
   "outputs": [
    {
     "name": "stdout",
     "output_type": "stream",
     "text": [
      "Fri Aug 18 00:00:00 2000\n"
     ]
    }
   ],
   "execution_count": 16
  },
  {
   "metadata": {
    "ExecuteTime": {
     "end_time": "2024-12-24T08:39:18.698893Z",
     "start_time": "2024-12-24T08:39:07.118049Z"
    }
   },
   "cell_type": "code",
   "source": "help(\"modules\")",
   "id": "e23ac82ebf37102f",
   "outputs": [
    {
     "name": "stdout",
     "output_type": "stream",
     "text": [
      "\n",
      "Please wait a moment while I gather a list of all available modules...\n",
      "\n"
     ]
    },
    {
     "name": "stderr",
     "output_type": "stream",
     "text": [
      "C:\\Users\\jabir\\anaconda3\\envs\\project1\\lib\\pkgutil.py:92: UserWarning: The numpy.array_api submodule is still experimental. See NEP 47.\n",
      "  __import__(info.name)\n",
      "C:\\Users\\jabir\\anaconda3\\envs\\project1\\lib\\site-packages\\_distutils_hack\\__init__.py:31: UserWarning: Setuptools is replacing distutils. Support for replacing an already imported distutils is deprecated. In the future, this condition will fail. Register concerns at https://github.com/pypa/setuptools/issues/new?template=distutils-deprecation.yml\n",
      "  warnings.warn(\n"
     ]
    },
    {
     "name": "stdout",
     "output_type": "stream",
     "text": [
      "IPython             cachetools          mistune             stack_data\n",
      "PIL                 calendar            mmap                stat\n",
      "PyQt5               certifi             mmapfile            statistics\n",
      "__future__          cffi                mmsystem            streamlit\n",
      "_abc                cgi                 modulefinder        string\n",
      "_argon2_cffi_bindings cgitb               more_itertools      stringprep\n",
      "_ast                charset_normalizer  msilib              struct\n",
      "_asyncio            chunk               msvcrt              subprocess\n",
      "_bisect             click               multiprocessing     sunau\n",
      "_blake2             cmath               narwhals            symbol\n",
      "_bootlocale         cmd                 nbclient            symtable\n",
      "_brotli             code                nbconvert           sys\n",
      "_bz2                codecs              nbformat            sysconfig\n",
      "_cffi_backend       codeop              nest_asyncio        tabnanny\n",
      "_codecs             collections         netbios             tarfile\n",
      "_codecs_cn          colorama            netrc               telnetlib\n",
      "_codecs_hk          colorsys            nntplib             tempfile\n",
      "_codecs_iso2022     comm                notebook            tenacity\n",
      "_codecs_jp          commctrl            notebook_shim       terminado\n",
      "_codecs_kr          compileall          nt                  test\n",
      "_codecs_tw          concurrent          ntpath              textwrap\n",
      "_collections        configparser        ntsecuritycon       this\n",
      "_collections_abc    contextlib          nturl2path          threading\n",
      "_compat_pickle      contextvars         numbers             threadpoolctl\n",
      "_compression        copy                numpy               time\n",
      "_contextvars        copyreg             odbc                timeit\n",
      "_csv                crypt               opcode              timer\n",
      "_ctypes             csv                 operator            tinycss2\n",
      "_ctypes_test        ctypes              optparse            tkinter\n",
      "_datetime           curses              os                  token\n",
      "_decimal            dataclasses         overrides           tokenize\n",
      "_distutils_hack     datetime            packaging           toml\n",
      "_dummy_thread       dateutil            pandas              tomli\n",
      "_elementtree        dbi                 pandocfilters       tornado\n",
      "_functools          dbm                 parser              trace\n",
      "_hashlib            dde                 parso               traceback\n",
      "_heapq              debugpy             pathlib             tracemalloc\n",
      "_imp                decimal             pdb                 traitlets\n",
      "_io                 decorator           perfmon             tty\n",
      "_json               defusedxml          pickle              turtle\n",
      "_locale             difflib             pickleshare         turtledemo\n",
      "_lsprof             dis                 pickletools         typeguard\n",
      "_lzma               distutils           pip                 types\n",
      "_markupbase         doctest             pipes               typing\n",
      "_md5                dummy_threading     pkg_resources       typing_extensions\n",
      "_msi                email               pkgutil             unicodedata\n",
      "_multibytecodec     encodings           pkgutil_resolve_name unittest\n",
      "_multiprocessing    ensurepip           platform            urllib\n",
      "_opcode             enum                platformdirs        urllib3\n",
      "_operator           errno               plistlib            uu\n",
      "_osx_support        exceptiongroup      ply                 uuid\n",
      "_overlapped         executing           poplib              venv\n",
      "_pickle             fastjsonschema      posixpath           warnings\n",
      "_py_abc             faulthandler        pprint              watchdog\n",
      "_pydecimal          filecmp             profile             wave\n",
      "_pyio               fileinput           prometheus_client   wcwidth\n",
      "_queue              fnmatch             prompt_toolkit      weakref\n",
      "_random             formatter           pstats              webbrowser\n",
      "_sha1               fractions           psutil              webencodings\n",
      "_sha256             ftplib              pty                 websocket\n",
      "_sha3               functools           pure_eval           wheel\n",
      "_sha512             gc                  py_compile          widgetsnbextension\n",
      "_signal             genericpath         pyarrow             win2kras\n",
      "_sitebuiltins       getopt              pyclbr              win32api\n",
      "_socket             getpass             pycparser           win32clipboard\n",
      "_sqlite3            gettext             pydeck              win32com\n",
      "_sre                git                 pydoc               win32con\n",
      "_ssl                gitdb               pydoc_data          win32console\n",
      "_stat               glob                pyexpat             win32cred\n",
      "_statistics         gzip                pygments            win32crypt\n",
      "_string             h11                 pythoncom           win32cryptcon\n",
      "_strptime           hashlib             pythonjsonlogger    win32event\n",
      "_struct             heapq               pytz                win32evtlog\n",
      "_symtable           hmac                pywin               win32evtlogutil\n",
      "_testbuffer         html                pywin32_bootstrap   win32file\n",
      "_testcapi           http                pywin32_testutil    win32gui\n",
      "_testconsole        httpcore            pywintypes          win32gui_struct\n",
      "_testimportmultiple httpx               qtconsole           win32help\n",
      "_testinternalcapi   idlelib             qtpy                win32inet\n",
      "_testmultiphase     idna                queue               win32inetcon\n",
      "_thread             imaplib             quopri              win32job\n",
      "_threading_local    imghdr              random              win32lz\n",
      "_tkinter            imp                 rasutil             win32net\n",
      "_tracemalloc        importlib           re                  win32netcon\n",
      "_warnings           importlib_metadata  referencing         win32pdh\n",
      "_weakref            importlib_resources regcheck            win32pdhquery\n",
      "_weakrefset         inflect             regutil             win32pdhutil\n",
      "_win32sysloader     inspect             reprlib             win32pipe\n",
      "_winapi             io                  requests            win32print\n",
      "_winxptheme         ipaddress           requirements_txt    win32process\n",
      "_xxsubinterpreters  ipykernel           rfc3339_validator   win32profile\n",
      "_yaml               ipykernel_launcher  rfc3986_validator   win32ras\n",
      "abc                 ipywidgets          rich                win32rcparser\n",
      "adodbapi            isapi               rlcompleter         win32security\n",
      "afxres              itertools           rpds                win32service\n",
      "aifc                jedi                runpy               win32serviceutil\n",
      "altair              jinja2              sched               win32timezone\n",
      "antigravity         joblib              scipy               win32trace\n",
      "anyio               json                secrets             win32traceutil\n",
      "argon2              json5               select              win32transaction\n",
      "argparse            jsonschema          selectors           win32ts\n",
      "array               jsonschema_specifications send2trash          win32ui\n",
      "ast                 jupyter             servicemanager      win32uiole\n",
      "asttokens           jupyter_client      setuptools          win32verstamp\n",
      "async_lru           jupyter_console     shelve              win32wnet\n",
      "asynchat            jupyter_core        shlex               win_inet_pton\n",
      "asyncio             jupyter_events      shutil              winerror\n",
      "asyncore            jupyter_lsp         signal              winioctlcon\n",
      "atexit              jupyter_server      sipbuild            winnt\n",
      "attr                jupyter_server_terminals site                winperf\n",
      "attrs               jupyterlab          six                 winpty\n",
      "audioop             jupyterlab_pygments sklearn             winreg\n",
      "autocommand         jupyterlab_server   smmap               winsound\n",
      "babel               jupyterlab_widgets  smtpd               winxpgui\n",
      "backcall            keyword             smtplib             winxptheme\n",
      "backports           lib2to3             sndhdr              wsgiref\n",
      "base64              linecache           sniffio             xdrlib\n",
      "bdb                 locale              socket              xml\n",
      "benchmarks          logging             socketserver        xmlrpc\n",
      "binascii            lzma                socks               xxlimited\n",
      "binhex              mailbox             sockshandler        xxsubtype\n",
      "bisect              mailcap             soupsieve           yaml\n",
      "bleach              markdown_it         sqlite3             zipapp\n",
      "blinker             markupsafe          sre_compile         zipfile\n",
      "brotli              marshal             sre_constants       zipimport\n",
      "bs4                 math                sre_parse           zipp\n",
      "builtins            matplotlib_inline   ssl                 zlib\n",
      "bz2                 mdurl               sspi                zmq\n",
      "cProfile            mimetypes           sspicon             \n",
      "\n",
      "Enter any module name to get more help.  Or, type \"modules spam\" to search\n",
      "for modules whose name or summary contain the string \"spam\".\n",
      "\n"
     ]
    }
   ],
   "execution_count": 1
  }
 ],
 "metadata": {
  "kernelspec": {
   "display_name": "Python 3",
   "language": "python",
   "name": "python3"
  },
  "language_info": {
   "codemirror_mode": {
    "name": "ipython",
    "version": 2
   },
   "file_extension": ".py",
   "mimetype": "text/x-python",
   "name": "python",
   "nbconvert_exporter": "python",
   "pygments_lexer": "ipython2",
   "version": "2.7.6"
  }
 },
 "nbformat": 4,
 "nbformat_minor": 5
}
