{
 "cells": [
  {
   "metadata": {},
   "cell_type": "markdown",
   "source": "# Virtual Environment in Python",
   "id": "32468cb07fd46932"
  },
  {
   "metadata": {},
   "cell_type": "markdown",
   "source": [
    "##### Create a virtual environment\n",
    "`conda create -n project1 python=3.8`"
   ],
   "id": "1587a25205561662"
  },
  {
   "metadata": {},
   "cell_type": "markdown",
   "source": [
    "##### To activate the virtual environment\n",
    "`conda activate project1`"
   ],
   "id": "8afee92f4cbef6b1"
  },
  {
   "metadata": {},
   "cell_type": "markdown",
   "source": [
    "##### display the active environment\n",
    "`conda info --envs`\n",
    "##### This will list all your environments, with an asterisk (*) next to the currently active one."
   ],
   "id": "c06cff77b2b6c283"
  },
  {
   "metadata": {
    "ExecuteTime": {
     "end_time": "2024-12-22T07:23:15.839904Z",
     "start_time": "2024-12-22T07:23:15.789437Z"
    }
   },
   "cell_type": "code",
   "source": [
    "import pandas as pd\n",
    "\n",
    "data = [\n",
    "    {\n",
    "        \"Name\": \"Jabir\",\n",
    "        \"Age\": 20,\n",
    "        \"Gender\": \"Male\"    \n",
    "    },\n",
    "    {\n",
    "        \"Name\": \"Alex\",\n",
    "        \"Age\": 25,\n",
    "        \"Gender\": \"Male\"    \n",
    "    },\n",
    "    {\n",
    "        \"Name\": \"Geetha\",\n",
    "        \"Age\": 19,\n",
    "        \"Gender\": \"Female\"    \n",
    "    },\n",
    "]\n",
    "\n",
    "df = pd.DataFrame(data)\n",
    "\n",
    "df"
   ],
   "id": "b27aa8ee61eab46b",
   "outputs": [
    {
     "data": {
      "text/plain": [
       "     Name  Age  Gender\n",
       "0   Jabir   20    Male\n",
       "1    Alex   25    Male\n",
       "2  Geetha   19  Female"
      ],
      "text/html": [
       "<div>\n",
       "<style scoped>\n",
       "    .dataframe tbody tr th:only-of-type {\n",
       "        vertical-align: middle;\n",
       "    }\n",
       "\n",
       "    .dataframe tbody tr th {\n",
       "        vertical-align: top;\n",
       "    }\n",
       "\n",
       "    .dataframe thead th {\n",
       "        text-align: right;\n",
       "    }\n",
       "</style>\n",
       "<table border=\"1\" class=\"dataframe\">\n",
       "  <thead>\n",
       "    <tr style=\"text-align: right;\">\n",
       "      <th></th>\n",
       "      <th>Name</th>\n",
       "      <th>Age</th>\n",
       "      <th>Gender</th>\n",
       "    </tr>\n",
       "  </thead>\n",
       "  <tbody>\n",
       "    <tr>\n",
       "      <th>0</th>\n",
       "      <td>Jabir</td>\n",
       "      <td>20</td>\n",
       "      <td>Male</td>\n",
       "    </tr>\n",
       "    <tr>\n",
       "      <th>1</th>\n",
       "      <td>Alex</td>\n",
       "      <td>25</td>\n",
       "      <td>Male</td>\n",
       "    </tr>\n",
       "    <tr>\n",
       "      <th>2</th>\n",
       "      <td>Geetha</td>\n",
       "      <td>19</td>\n",
       "      <td>Female</td>\n",
       "    </tr>\n",
       "  </tbody>\n",
       "</table>\n",
       "</div>"
      ]
     },
     "execution_count": 9,
     "metadata": {},
     "output_type": "execute_result"
    }
   ],
   "execution_count": 9
  }
 ],
 "metadata": {
  "kernelspec": {
   "display_name": "Python 3",
   "language": "python",
   "name": "python3"
  },
  "language_info": {
   "codemirror_mode": {
    "name": "ipython",
    "version": 2
   },
   "file_extension": ".py",
   "mimetype": "text/x-python",
   "name": "python",
   "nbconvert_exporter": "python",
   "pygments_lexer": "ipython2",
   "version": "2.7.6"
  }
 },
 "nbformat": 4,
 "nbformat_minor": 5
}
