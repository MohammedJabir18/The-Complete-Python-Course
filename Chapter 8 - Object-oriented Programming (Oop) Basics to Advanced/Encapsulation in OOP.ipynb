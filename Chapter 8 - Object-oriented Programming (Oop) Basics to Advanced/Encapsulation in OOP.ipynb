{
 "cells": [
  {
   "cell_type": "markdown",
   "metadata": {},
   "source": [
    "# Encapsulation in Python\n",
    "Encapsulation is a fundamental concept in object-oriented programming (OOP) that involves bundling data (attributes) and methods (functions) that operate on that data into a single unit, typically a class. This approach enhances data security and integrity by restricting direct access to some of an object's components, thereby requiring all interactions to occur through the object's methods.\n",
    "\n",
    "### Key Aspects of Encapsulation in Python\n",
    "1. Data Hiding:\n",
    "- Encapsulation allows for the hiding of an object's internal state. Attributes can be made private or protected, meaning they are not accessible directly from outside the class. Instead, access is controlled through methods, often referred to as getters and setters. This prevents accidental modification of data and promotes better control over how data is accessed and modified 12.\n",
    "2. Access Modifiers:\n",
    "- Python supports different levels of access for class members:\n",
    "    - Public Members: These are accessible from anywhere in the program. By default, all members in Python are public.\n",
    "    - Protected Members: Indicated by a single underscore prefix (e.g., _variable), these members should be treated as non-public and are intended for internal use within the class and its subclasses.\n",
    "    - Private Members: Indicated by a double underscore prefix (e.g., __variable), these members are not accessible from outside the class, helping to further encapsulate the data 34.\n",
    "3. Control and Security:\n",
    "- By encapsulating variables and exposing only necessary methods, classes can enforce rules on how their internal state is accessed or modified. This adds a layer of security, ensuring that only valid operations can be performed on an object's data 125."
   ]
  },
  {
   "cell_type": "code",
   "execution_count": 20,
   "metadata": {},
   "outputs": [],
   "source": [
    "class AtmMachine:\n",
    "    # Constructor (special function)\n",
    "    def __init__(self):\n",
    "        self.pin = \"7856\"  # This is default pin\n",
    "        self.__balance = 0   # Private variable\n",
    "\n",
    "    def __menu(self):\n",
    "        while True:\n",
    "            user_input = input(\n",
    "                \"\"\"\n",
    "                Hi how can i help you?\n",
    "\n",
    "                1. Press 1 to change pin\n",
    "                2. Press 2 to Deposit\n",
    "                3. press 3 to check balance\n",
    "                4. press 4 to withdrew\n",
    "                5. Anything to exit\n",
    "    \"\"\"\n",
    "            )\n",
    "    \n",
    "            if user_input == \"1\":\n",
    "                # Create a new pin\n",
    "                self.change_pin()\n",
    "\n",
    "            elif user_input == \"2\":\n",
    "                # Depositing the amount\n",
    "                self.deposit()\n",
    "\n",
    "            elif user_input == \"3\":\n",
    "                # Checking the balance\n",
    "                self.check_balance()\n",
    "\n",
    "            elif user_input == \"4\":\n",
    "                # Withdrawing the amount\n",
    "                self.withdraw()\n",
    "\n",
    "            else:\n",
    "                print(\"Thank you for using ATM.\")\n",
    "                break\n",
    "\n",
    "    def change_pin(self):\n",
    "        old_pin = input(\"Enter your old pin: \")\n",
    "        if old_pin == self.pin:\n",
    "            new_pin = input(\"Enter a new pin: \")\n",
    "            self.pin = new_pin\n",
    "            print(\"New pin created successfully.\")\n",
    "        else:\n",
    "            print(\"Invalid Pin!\")\n",
    "\n",
    "\n",
    "    def deposit(self):\n",
    "        entered_pin = input(\"Enter the pin: \")\n",
    "        if entered_pin == self.pin:\n",
    "            self.amount = input(\"Which amount you want to deposit: \")\n",
    "            self.__balance += eval(self.amount)\n",
    "            print(f\"{self.amount} Rs is successfully deposited.\")\n",
    "        else:\n",
    "            print(\"You are entered Invalid pin.\")\n",
    "\n",
    "    def check_balance(self):\n",
    "        entered_pin = input(\"Enter the pin: \")\n",
    "        if entered_pin == self.pin:\n",
    "            print(f\"Balance : {self.__balance:,} Rs\")\n",
    "        else:\n",
    "            print(\"You are entered Invalid pin.\")\n",
    "\n",
    "    def withdraw(self):\n",
    "        entered_pin = input(\"Enter the pin: \")\n",
    "        if entered_pin == self.pin:\n",
    "            self.amount = input(\"Which amount you want to withdraw: \")\n",
    "            if eval(self.amount) <= self.__balance:\n",
    "                self.__balance -= eval(self.amount)\n",
    "                print(f\"{self.amount} Rs is successfully withdrew\")\n",
    "            else:\n",
    "                print(\"Sorry! Insufficient balance.\")\n",
    "        else:\n",
    "            print(\"You are entered Invalid pin.\")\n"
   ]
  },
  {
   "cell_type": "code",
   "execution_count": 21,
   "metadata": {},
   "outputs": [],
   "source": [
    "obj = AtmMachine()"
   ]
  },
  {
   "cell_type": "code",
   "execution_count": 22,
   "metadata": {},
   "outputs": [
    {
     "name": "stdout",
     "output_type": "stream",
     "text": [
      "New pin created successfully.\n"
     ]
    }
   ],
   "source": [
    "obj.change_pin()"
   ]
  },
  {
   "cell_type": "code",
   "execution_count": 37,
   "metadata": {},
   "outputs": [],
   "source": [
    "obj.__balance = 100"
   ]
  },
  {
   "cell_type": "code",
   "execution_count": 38,
   "metadata": {},
   "outputs": [],
   "source": [
    "obj._AtmMachine__balance = 50000"
   ]
  },
  {
   "cell_type": "code",
   "execution_count": 40,
   "metadata": {},
   "outputs": [
    {
     "name": "stdout",
     "output_type": "stream",
     "text": [
      "Balance : 50,000 Rs\n"
     ]
    }
   ],
   "source": [
    "obj.check_balance()"
   ]
  },
  {
   "cell_type": "code",
   "execution_count": 41,
   "metadata": {},
   "outputs": [
    {
     "data": {
      "text/plain": [
       "100"
      ]
     },
     "execution_count": 41,
     "metadata": {},
     "output_type": "execute_result"
    }
   ],
   "source": [
    "obj.__balance"
   ]
  },
  {
   "cell_type": "markdown",
   "metadata": {},
   "source": [
    "##### In Python nothing is too private \n",
    "##### It is made for adults"
   ]
  }
 ],
 "metadata": {
  "kernelspec": {
   "display_name": "Python 3",
   "language": "python",
   "name": "python3"
  },
  "language_info": {
   "codemirror_mode": {
    "name": "ipython",
    "version": 3
   },
   "file_extension": ".py",
   "mimetype": "text/x-python",
   "name": "python",
   "nbconvert_exporter": "python",
   "pygments_lexer": "ipython3",
   "version": "3.13.1"
  }
 },
 "nbformat": 4,
 "nbformat_minor": 2
}
