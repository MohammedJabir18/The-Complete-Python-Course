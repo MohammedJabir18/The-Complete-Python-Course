{
 "cells": [
  {
   "cell_type": "markdown",
   "metadata": {},
   "source": [
    "# Static Variable & Methods in OOP"
   ]
  },
  {
   "cell_type": "code",
   "execution_count": 98,
   "metadata": {},
   "outputs": [],
   "source": [
    "class AtmMachine:\n",
    "    # Static variables\n",
    "    __customer_id = 0\n",
    "\n",
    "    # Constructor (special function)\n",
    "    def __init__(self):\n",
    "        self.pin = \"7856\"  # This is default pin\n",
    "        self.__balance = 0   # Private variable\n",
    "        AtmMachine.__customer_id += 1\n",
    "\n",
    "    @staticmethod\n",
    "    def get_customer_id():\n",
    "        return AtmMachine.__customer_id\n",
    "    \n",
    "    @staticmethod\n",
    "    def set_customer_id(new_id):\n",
    "        AtmMachine.__customer_id = new_id\n",
    "\n",
    "\n",
    "    def __menu(self):\n",
    "        while True:\n",
    "            user_input = input(\n",
    "                \"\"\"\n",
    "                Hi how can i help you?\n",
    "\n",
    "                1. Press 1 to change pin\n",
    "                2. Press 2 to Deposit\n",
    "                3. press 3 to check balance\n",
    "                4. press 4 to withdrew\n",
    "                5. Anything to exit\n",
    "    \"\"\"\n",
    "            )\n",
    "    \n",
    "            if user_input == \"1\":\n",
    "                # Create a new pin\n",
    "                self.change_pin()\n",
    "\n",
    "            elif user_input == \"2\":\n",
    "                # Depositing the amount\n",
    "                self.deposit()\n",
    "\n",
    "            elif user_input == \"3\":\n",
    "                # Checking the balance\n",
    "                self.check_balance()\n",
    "\n",
    "            elif user_input == \"4\":\n",
    "                # Withdrawing the amount\n",
    "                self.withdraw()\n",
    "\n",
    "            else:\n",
    "                print(\"Thank you for using ATM.\")\n",
    "                break\n",
    "\n",
    "    def change_pin(self):\n",
    "        old_pin = input(\"Enter your old pin: \")\n",
    "        if old_pin == self.pin:\n",
    "            new_pin = input(\"Enter a new pin: \")\n",
    "            self.pin = new_pin\n",
    "            print(\"New pin created successfully.\")\n",
    "        else:\n",
    "            print(\"Invalid Pin!\")\n",
    "\n",
    "\n",
    "    def deposit(self):\n",
    "        entered_pin = input(\"Enter the pin: \")\n",
    "        if entered_pin == self.pin:\n",
    "            self.amount = input(\"Which amount you want to deposit: \")\n",
    "            self.__balance += eval(self.amount)\n",
    "            print(f\"{self.amount} Rs is successfully deposited.\")\n",
    "        else:\n",
    "            print(\"You are entered Invalid pin.\")\n",
    "\n",
    "    def check_balance(self):\n",
    "        entered_pin = input(\"Enter the pin: \")\n",
    "        if entered_pin == self.pin:\n",
    "            print(f\"Balance : {self.__balance:,} Rs\")\n",
    "        else:\n",
    "            print(\"You are entered Invalid pin.\")\n",
    "\n",
    "    def withdraw(self):\n",
    "        entered_pin = input(\"Enter the pin: \")\n",
    "        if entered_pin == self.pin:\n",
    "            self.amount = input(\"Which amount you want to withdraw: \")\n",
    "            if eval(self.amount) <= self.__balance:\n",
    "                self.__balance -= eval(self.amount)\n",
    "                print(f\"{self.amount} Rs is successfully withdrew\")\n",
    "            else:\n",
    "                print(\"Sorry! Insufficient balance.\")\n",
    "        else:\n",
    "            print(\"You are entered Invalid pin.\")\n"
   ]
  },
  {
   "cell_type": "code",
   "execution_count": 99,
   "metadata": {},
   "outputs": [],
   "source": [
    "c1 = AtmMachine()"
   ]
  },
  {
   "cell_type": "code",
   "execution_count": 100,
   "metadata": {},
   "outputs": [
    {
     "data": {
      "text/plain": [
       "1"
      ]
     },
     "execution_count": 100,
     "metadata": {},
     "output_type": "execute_result"
    }
   ],
   "source": [
    "AtmMachine.get_customer_id()"
   ]
  },
  {
   "cell_type": "code",
   "execution_count": 101,
   "metadata": {},
   "outputs": [],
   "source": [
    "c2 = AtmMachine()"
   ]
  },
  {
   "cell_type": "code",
   "execution_count": 102,
   "metadata": {},
   "outputs": [
    {
     "data": {
      "text/plain": [
       "2"
      ]
     },
     "execution_count": 102,
     "metadata": {},
     "output_type": "execute_result"
    }
   ],
   "source": [
    "AtmMachine.get_customer_id()"
   ]
  },
  {
   "cell_type": "code",
   "execution_count": 103,
   "metadata": {},
   "outputs": [],
   "source": [
    "c3 = AtmMachine()"
   ]
  },
  {
   "cell_type": "code",
   "execution_count": 104,
   "metadata": {},
   "outputs": [
    {
     "data": {
      "text/plain": [
       "3"
      ]
     },
     "execution_count": 104,
     "metadata": {},
     "output_type": "execute_result"
    }
   ],
   "source": [
    "AtmMachine.get_customer_id()"
   ]
  },
  {
   "cell_type": "code",
   "execution_count": 105,
   "metadata": {},
   "outputs": [],
   "source": [
    "c55 = AtmMachine()"
   ]
  },
  {
   "cell_type": "code",
   "execution_count": 106,
   "metadata": {},
   "outputs": [],
   "source": [
    "c55.set_customer_id(55)"
   ]
  },
  {
   "cell_type": "code",
   "execution_count": 107,
   "metadata": {},
   "outputs": [
    {
     "data": {
      "text/plain": [
       "55"
      ]
     },
     "execution_count": 107,
     "metadata": {},
     "output_type": "execute_result"
    }
   ],
   "source": [
    "c55.get_customer_id()"
   ]
  }
 ],
 "metadata": {
  "kernelspec": {
   "display_name": "Python 3",
   "language": "python",
   "name": "python3"
  },
  "language_info": {
   "codemirror_mode": {
    "name": "ipython",
    "version": 3
   },
   "file_extension": ".py",
   "mimetype": "text/x-python",
   "name": "python",
   "nbconvert_exporter": "python",
   "pygments_lexer": "ipython3",
   "version": "3.13.1"
  }
 },
 "nbformat": 4,
 "nbformat_minor": 2
}
