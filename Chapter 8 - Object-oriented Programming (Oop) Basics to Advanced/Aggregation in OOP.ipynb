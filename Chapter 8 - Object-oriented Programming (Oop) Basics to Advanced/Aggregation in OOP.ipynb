{
 "cells": [
  {
   "cell_type": "markdown",
   "metadata": {},
   "source": [
    "# Aggregation (Has a relationship)\n",
    "\n",
    "##### one class owns other class"
   ]
  },
  {
   "cell_type": "code",
   "execution_count": 13,
   "metadata": {},
   "outputs": [],
   "source": [
    "class Customer:\n",
    "    def __init__(self, name, gender, address):\n",
    "        self.name = name\n",
    "        self.gender = gender\n",
    "        self.address = address\n",
    "\n",
    "    def display(self):\n",
    "        print(f\"\"\"\n",
    "        Name : {self.name}\n",
    "        Gender : {self.gender}\n",
    "        Address : {self.address.city}, {self.address.pin}, {self.address.state}\"\"\")\n",
    "\n",
    "class Address:\n",
    "    def __init__(self, city, pin, state):\n",
    "        self.city = city\n",
    "        self.pin = pin \n",
    "        self.state = state"
   ]
  },
  {
   "cell_type": "code",
   "execution_count": 14,
   "metadata": {},
   "outputs": [],
   "source": [
    "adds = Address(\"Ponnani\", 679584, \"Kerala\")\n",
    "cus = Customer(\"Mohammed Jabir\", \"Male\", adds)"
   ]
  },
  {
   "cell_type": "code",
   "execution_count": 15,
   "metadata": {},
   "outputs": [
    {
     "name": "stdout",
     "output_type": "stream",
     "text": [
      "\n",
      "        Name : Mohammed Jabir\n",
      "        Gender : Male\n",
      "        Address : Ponnani, 679584, Kerala\n"
     ]
    }
   ],
   "source": [
    "cus.display()"
   ]
  },
  {
   "cell_type": "code",
   "execution_count": 21,
   "metadata": {},
   "outputs": [],
   "source": [
    "class Customer:\n",
    "    def __init__(self, name, gender, address):\n",
    "        self.name = name\n",
    "        self.gender = gender\n",
    "        self.address = address\n",
    "\n",
    "    def display(self):\n",
    "        print(f\"\"\"\n",
    "        Name : {self.name}\n",
    "        Gender : {self.gender}\n",
    "        Address : {self.address.get_city()}, {self.address.pin}, {self.address.state}\"\"\")\n",
    "\n",
    "\n",
    "class Address:\n",
    "    def __init__(self, city, pin, state):\n",
    "        self.__city = city\n",
    "        self.pin = pin \n",
    "        self.state = state\n",
    "\n",
    "    def get_city(self):\n",
    "        return self.__city"
   ]
  },
  {
   "cell_type": "code",
   "execution_count": 22,
   "metadata": {},
   "outputs": [
    {
     "name": "stdout",
     "output_type": "stream",
     "text": [
      "\n",
      "        Name : Mohammed Jabir\n",
      "        Gender : Male\n",
      "        Address : Ponnani, 679584, Kerala\n"
     ]
    }
   ],
   "source": [
    "adds = Address(\"Ponnani\", 679584, \"Kerala\")\n",
    "cus = Customer(\"Mohammed Jabir\", \"Male\", adds)\n",
    "\n",
    "cus.display()"
   ]
  }
 ],
 "metadata": {
  "kernelspec": {
   "display_name": "Python 3",
   "language": "python",
   "name": "python3"
  },
  "language_info": {
   "codemirror_mode": {
    "name": "ipython",
    "version": 3
   },
   "file_extension": ".py",
   "mimetype": "text/x-python",
   "name": "python",
   "nbconvert_exporter": "python",
   "pygments_lexer": "ipython3",
   "version": "3.13.1"
  }
 },
 "nbformat": 4,
 "nbformat_minor": 2
}
