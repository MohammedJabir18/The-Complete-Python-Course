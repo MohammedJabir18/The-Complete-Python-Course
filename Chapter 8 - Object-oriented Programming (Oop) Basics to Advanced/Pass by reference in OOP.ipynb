{
 "cells": [
  {
   "cell_type": "markdown",
   "metadata": {},
   "source": [
    "# Pass by reference in OOP"
   ]
  },
  {
   "cell_type": "code",
   "execution_count": 46,
   "metadata": {},
   "outputs": [],
   "source": [
    "class Person:\n",
    "    def __init__(self, name, age):\n",
    "        self.name = name\n",
    "        self.age = age\n",
    "\n",
    "\n",
    "# Outside of class\n",
    "def greeting(Person):\n",
    "    print(f\"Hi my name is {Person.name} and I'm {Person.age} years old.\")\n",
    "\n",
    "# Function that modifies the Person object's attributes\n",
    "def updated_person(Person):\n",
    "    Person.name = \"Alex\"\n",
    "    Person.age = 25"
   ]
  },
  {
   "cell_type": "code",
   "execution_count": 47,
   "metadata": {},
   "outputs": [],
   "source": [
    "# Create a Person object\n",
    "p = Person(\"Mohammed Jabir\", 20)"
   ]
  },
  {
   "cell_type": "code",
   "execution_count": 50,
   "metadata": {},
   "outputs": [
    {
     "name": "stdout",
     "output_type": "stream",
     "text": [
      "Hi my name is Mohammed Jabir and I'm 20 years old.\n"
     ]
    }
   ],
   "source": [
    "# Greet before updating\n",
    "greeting(p)"
   ]
  },
  {
   "cell_type": "code",
   "execution_count": 53,
   "metadata": {},
   "outputs": [],
   "source": [
    "# Update the Person object's attributes\n",
    "updated_person(p)"
   ]
  },
  {
   "cell_type": "code",
   "execution_count": 55,
   "metadata": {},
   "outputs": [
    {
     "name": "stdout",
     "output_type": "stream",
     "text": [
      "Hi my name is Alex and I'm 25 years old.\n"
     ]
    }
   ],
   "source": [
    "# Greet after updating\n",
    "greeting(p)"
   ]
  }
 ],
 "metadata": {
  "kernelspec": {
   "display_name": "Python 3",
   "language": "python",
   "name": "python3"
  },
  "language_info": {
   "codemirror_mode": {
    "name": "ipython",
    "version": 3
   },
   "file_extension": ".py",
   "mimetype": "text/x-python",
   "name": "python",
   "nbconvert_exporter": "python",
   "pygments_lexer": "ipython3",
   "version": "3.13.1"
  }
 },
 "nbformat": 4,
 "nbformat_minor": 2
}
