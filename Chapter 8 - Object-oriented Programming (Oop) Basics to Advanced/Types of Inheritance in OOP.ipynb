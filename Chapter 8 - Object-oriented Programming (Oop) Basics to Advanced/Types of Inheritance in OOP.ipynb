{
 "cells": [
  {
   "cell_type": "markdown",
   "metadata": {
    "vscode": {
     "languageId": "plaintext"
    }
   },
   "source": [
    "# Types of Inheritance in Python\n",
    "1. Single Inheritance – A child class inherits from one parent class.\n",
    "2. Multiple Inheritance – A child class inherits from multiple parent classes.\n",
    "3. Multilevel Inheritance – A child class inherits from a parent class, which itself inherits from another class.\n",
    "4. Hierarchical Inheritance – Multiple child classes inherit from a single parent class.\n",
    "5. Hybrid Inheritance – A combination of two or more types of inheritance."
   ]
  },
  {
   "cell_type": "code",
   "execution_count": 2,
   "metadata": {},
   "outputs": [
    {
     "name": "stdout",
     "output_type": "stream",
     "text": [
      "Inside Phone constructor\n",
      "Product customer review\n",
      "Buying a phone\n"
     ]
    }
   ],
   "source": [
    "# Multilevel Inheritance\n",
    "\n",
    "# Grandfather\n",
    "class Product:\n",
    "    def review(self):\n",
    "        print(\"Product customer review\")\n",
    "\n",
    "# Father \n",
    "class Phone(Product):\n",
    "    def __init__(self, price, brand, camera):\n",
    "        print(\"Inside Phone constructor\")\n",
    "        self.__price = price\n",
    "        self.brand = brand\n",
    "        self.camera = camera\n",
    "\n",
    "    def buy(self):\n",
    "        print(\"Buying a phone\")\n",
    "\n",
    "# Child\n",
    "class SmartPhone(Phone):\n",
    "    pass\n",
    "\n",
    "s = SmartPhone(price=20000, brand=\"Vivo\", camera=\"200mp\")\n",
    "s.review()\n",
    "s.buy()"
   ]
  },
  {
   "cell_type": "code",
   "execution_count": 4,
   "metadata": {},
   "outputs": [
    {
     "name": "stdout",
     "output_type": "stream",
     "text": [
      "Inside Phone constructor\n",
      "Buying a phone\n"
     ]
    }
   ],
   "source": [
    "# Hierarchical \n",
    "\n",
    "# Parent\n",
    "class Phone:\n",
    "    def __init__(self, price, brand, camera):\n",
    "        print(\"Inside Phone constructor\")\n",
    "        self.__price = price\n",
    "        self.brand = brand\n",
    "        self.camera = camera\n",
    "\n",
    "    def buy(self):\n",
    "        print(\"Buying a phone\")\n",
    "\n",
    "# Child\n",
    "class SmartPhone(Phone):\n",
    "    pass\n",
    "\n",
    "# Child\n",
    "class FeaturesPhone(Phone):\n",
    "    pass\n",
    "\n",
    "s = SmartPhone(35000, \"Redmi\", \"38mp\")\n",
    "\n",
    "s.buy()"
   ]
  },
  {
   "cell_type": "code",
   "execution_count": 5,
   "metadata": {},
   "outputs": [
    {
     "name": "stdout",
     "output_type": "stream",
     "text": [
      "Inside Phone constructor\n",
      "Buying a phone\n"
     ]
    }
   ],
   "source": [
    "\n",
    "f = FeaturesPhone(59000, \"IQoo\", \"59mp\")\n",
    "f.buy()"
   ]
  },
  {
   "cell_type": "code",
   "execution_count": 10,
   "metadata": {},
   "outputs": [
    {
     "name": "stdout",
     "output_type": "stream",
     "text": [
      "Inside Phone constructor\n",
      "Product customer review\n",
      "Phone is Bought\n"
     ]
    }
   ],
   "source": [
    "# Multiple\n",
    "\n",
    "# Parent\n",
    "class Phone:\n",
    "    def __init__(self, price, brand, camera):\n",
    "        print(\"Inside Phone constructor\")\n",
    "        self.price = price\n",
    "        self.brand = brand\n",
    "        self.camera = camera\n",
    "\n",
    "    def buy(self):\n",
    "        print(\"Phone is Bought\")\n",
    "\n",
    "# Parent\n",
    "class Product:\n",
    "    def __init__(self):\n",
    "        pass\n",
    "\n",
    "    def review(self):\n",
    "        print(\"Product customer review\")\n",
    "\n",
    "    def buy(self):\n",
    "        print(\"Product is bought\")\n",
    "\n",
    "# Child\n",
    "class SmartPhone(Phone, Product):\n",
    "    pass\n",
    "\n",
    "S = SmartPhone(48000, \"Apple\", '110mp')\n",
    "S.review()\n",
    "S.buy()"
   ]
  },
  {
   "cell_type": "code",
   "execution_count": null,
   "metadata": {},
   "outputs": [],
   "source": []
  }
 ],
 "metadata": {
  "kernelspec": {
   "display_name": "Python 3",
   "language": "python",
   "name": "python3"
  },
  "language_info": {
   "codemirror_mode": {
    "name": "ipython",
    "version": 3
   },
   "file_extension": ".py",
   "mimetype": "text/x-python",
   "name": "python",
   "nbconvert_exporter": "python",
   "pygments_lexer": "ipython3",
   "version": "3.13.1"
  }
 },
 "nbformat": 4,
 "nbformat_minor": 2
}
