{
 "cells": [
  {
   "cell_type": "markdown",
   "metadata": {},
   "source": [
    "# Super Keyword in OOP"
   ]
  },
  {
   "cell_type": "code",
   "execution_count": 4,
   "metadata": {},
   "outputs": [
    {
     "name": "stdout",
     "output_type": "stream",
     "text": [
      "Inside Phone constructor\n",
      "Buying a Phone in SmartPhone class\n",
      "Buying a Phone in Phone class\n"
     ]
    }
   ],
   "source": [
    "class Phone:\n",
    "    def __init__(self, price, brand, camera):\n",
    "        self.__price = price \n",
    "        self.brand = brand\n",
    "        self.camera = camera\n",
    "        print(\"Inside Phone constructor\")\n",
    "\n",
    "    def buy(self):\n",
    "        print(\"Buying a Phone in Phone class\")\n",
    "\n",
    "    def get_price(self):\n",
    "        return self.__price\n",
    "    \n",
    "class SmartPhone(Phone):\n",
    "    def buy(self):\n",
    "        print(\"Buying a Phone in SmartPhone class\")\n",
    "\n",
    "        super().buy()\n",
    "\n",
    "\n",
    "s = SmartPhone(200000, \"Apple\", 3)\n",
    "s.buy()"
   ]
  },
  {
   "cell_type": "code",
   "execution_count": 7,
   "metadata": {},
   "outputs": [
    {
     "name": "stdout",
     "output_type": "stream",
     "text": [
      "Inside Smartphone constructor\n",
      "Inside Phone constructor\n",
      "Apple\n",
      "200000\n",
      "12.1.1.2\n",
      "Android\n"
     ]
    }
   ],
   "source": [
    "class Phone:\n",
    "    def __init__(self, price, brand, camera):\n",
    "        self.price = price \n",
    "        self.brand = brand\n",
    "        self.camera = camera\n",
    "        print(\"Inside Phone constructor\")\n",
    "\n",
    "    \n",
    "class SmartPhone(Phone):\n",
    "    def __init__(self, price, brand, camera, os, ram):\n",
    "        print(\"Inside Smartphone constructor\")\n",
    "        super().__init__(price, brand, camera)\n",
    "        self.os = os\n",
    "        self.ram = ram\n",
    "\n",
    "\n",
    "s = SmartPhone(200000, \"Apple\", 3, \"Android\", \"12.1.1.2\")\n",
    "print(s.brand)\n",
    "print(s.price)\n",
    "print(s.ram)\n",
    "print(s.os)"
   ]
  }
 ],
 "metadata": {
  "kernelspec": {
   "display_name": "Python 3",
   "language": "python",
   "name": "python3"
  },
  "language_info": {
   "codemirror_mode": {
    "name": "ipython",
    "version": 3
   },
   "file_extension": ".py",
   "mimetype": "text/x-python",
   "name": "python",
   "nbconvert_exporter": "python",
   "pygments_lexer": "ipython3",
   "version": "3.13.1"
  }
 },
 "nbformat": 4,
 "nbformat_minor": 2
}
