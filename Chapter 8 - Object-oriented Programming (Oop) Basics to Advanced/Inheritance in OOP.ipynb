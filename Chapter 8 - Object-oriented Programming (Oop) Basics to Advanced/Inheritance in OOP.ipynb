{
 "cells": [
  {
   "cell_type": "markdown",
   "metadata": {},
   "source": [
    "# Inheritance in OOP \n",
    "Inheritance in Python is a fundamental concept of object-oriented programming (OOP) that allows a class (called the child or subclass) to inherit attributes and methods from another class (called the parent or superclass). This promotes code reuse and hierarchy structuring.\n",
    "\n",
    "* Non private attribute\n",
    "* Non private methods"
   ]
  },
  {
   "cell_type": "code",
   "execution_count": 25,
   "metadata": {},
   "outputs": [],
   "source": [
    "class User:  # Parent class\n",
    "    def __init__(self):\n",
    "        self.name = \"Mohammed Jabir\"\n",
    "        self.gender = \"Male\"\n",
    "\n",
    "    def login(self):\n",
    "        print(\"Login Done!\")\n",
    "\n",
    "    def register(self):\n",
    "        print(\"Register Done!\")\n",
    "\n",
    "class Student(User):  # Child class\n",
    "    def __init__(self):\n",
    "        self.rollNo = 12\n",
    "\n",
    "    def enroll(self):\n",
    "        print(\"Enrolled the course!\")\n",
    "\n",
    "class Instructor(User):  # Child class\n",
    "    # def __init__(self):\n",
    "    #     self.idNo = 120\n",
    "\n",
    "    def create(self, course):\n",
    "        self.course = course\n",
    "        print(f\"{self.course} course created!\")"
   ]
  },
  {
   "cell_type": "code",
   "execution_count": 10,
   "metadata": {},
   "outputs": [],
   "source": [
    "student = Student()"
   ]
  },
  {
   "cell_type": "code",
   "execution_count": 11,
   "metadata": {},
   "outputs": [
    {
     "name": "stdout",
     "output_type": "stream",
     "text": [
      "Register Done!\n"
     ]
    }
   ],
   "source": [
    "student.register()"
   ]
  },
  {
   "cell_type": "code",
   "execution_count": 12,
   "metadata": {},
   "outputs": [
    {
     "name": "stdout",
     "output_type": "stream",
     "text": [
      "Login Done!\n"
     ]
    }
   ],
   "source": [
    "student.login()"
   ]
  },
  {
   "cell_type": "code",
   "execution_count": 26,
   "metadata": {},
   "outputs": [],
   "source": [
    "instructor = Instructor()"
   ]
  },
  {
   "cell_type": "code",
   "execution_count": 16,
   "metadata": {},
   "outputs": [
    {
     "name": "stdout",
     "output_type": "stream",
     "text": [
      "Python for Beginners to Advanced course created!\n"
     ]
    }
   ],
   "source": [
    "instructor.create(\"Python for Beginners to Advanced\")"
   ]
  },
  {
   "cell_type": "code",
   "execution_count": 22,
   "metadata": {},
   "outputs": [
    {
     "name": "stdout",
     "output_type": "stream",
     "text": [
      "Login Done!\n"
     ]
    }
   ],
   "source": [
    "instructor.login()"
   ]
  },
  {
   "cell_type": "code",
   "execution_count": 28,
   "metadata": {},
   "outputs": [
    {
     "data": {
      "text/plain": [
       "'Mohammed Jabir'"
      ]
     },
     "execution_count": 28,
     "metadata": {},
     "output_type": "execute_result"
    }
   ],
   "source": [
    "instructor.name"
   ]
  },
  {
   "cell_type": "code",
   "execution_count": 29,
   "metadata": {},
   "outputs": [
    {
     "ename": "AttributeError",
     "evalue": "'Student' object has no attribute 'name'",
     "output_type": "error",
     "traceback": [
      "\u001b[1;31m---------------------------------------------------------------------------\u001b[0m",
      "\u001b[1;31mAttributeError\u001b[0m                            Traceback (most recent call last)",
      "Cell \u001b[1;32mIn[29], line 1\u001b[0m\n\u001b[1;32m----> 1\u001b[0m \u001b[43mstudent\u001b[49m\u001b[38;5;241;43m.\u001b[39;49m\u001b[43mname\u001b[49m\n",
      "\u001b[1;31mAttributeError\u001b[0m: 'Student' object has no attribute 'name'"
     ]
    }
   ],
   "source": [
    "student.name"
   ]
  }
 ],
 "metadata": {
  "kernelspec": {
   "display_name": "Python 3",
   "language": "python",
   "name": "python3"
  },
  "language_info": {
   "codemirror_mode": {
    "name": "ipython",
    "version": 3
   },
   "file_extension": ".py",
   "mimetype": "text/x-python",
   "name": "python",
   "nbconvert_exporter": "python",
   "pygments_lexer": "ipython3",
   "version": "3.13.1"
  }
 },
 "nbformat": 4,
 "nbformat_minor": 2
}
