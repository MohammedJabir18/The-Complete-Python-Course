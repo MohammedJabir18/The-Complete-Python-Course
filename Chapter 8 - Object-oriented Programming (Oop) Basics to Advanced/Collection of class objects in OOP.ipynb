{
 "cells": [
  {
   "cell_type": "markdown",
   "metadata": {},
   "source": [
    "# Collection of class objects in OOP"
   ]
  },
  {
   "cell_type": "code",
   "execution_count": 1,
   "metadata": {},
   "outputs": [],
   "source": [
    "class Person:\n",
    "    def __init__(self, name, country):\n",
    "        self.name = name\n",
    "        self.country = country"
   ]
  },
  {
   "cell_type": "code",
   "execution_count": 2,
   "metadata": {},
   "outputs": [],
   "source": [
    "p1 = Person(\"Mohammed Jabir\", \"India\")\n",
    "p2 = Person(\"Alex\", \"France\")\n",
    "p3 = Person(\"Shibu\", \"Somalia\")"
   ]
  },
  {
   "cell_type": "code",
   "execution_count": 6,
   "metadata": {},
   "outputs": [
    {
     "name": "stdout",
     "output_type": "stream",
     "text": [
      "[<__main__.Person object at 0x000002461FB6C6E0>, <__main__.Person object at 0x000002461F97AD50>, <__main__.Person object at 0x000002461F97BD90>]\n"
     ]
    }
   ],
   "source": [
    "L = [p1, p2, p3]\n",
    "\n",
    "print(L)"
   ]
  },
  {
   "cell_type": "code",
   "execution_count": 8,
   "metadata": {},
   "outputs": [
    {
     "name": "stdout",
     "output_type": "stream",
     "text": [
      "Mohammed Jabir India\n",
      "Alex France\n",
      "Shibu Somalia\n"
     ]
    }
   ],
   "source": [
    "for i in L:\n",
    "    print(i.name, i.country)"
   ]
  }
 ],
 "metadata": {
  "kernelspec": {
   "display_name": "Python 3",
   "language": "python",
   "name": "python3"
  },
  "language_info": {
   "codemirror_mode": {
    "name": "ipython",
    "version": 3
   },
   "file_extension": ".py",
   "mimetype": "text/x-python",
   "name": "python",
   "nbconvert_exporter": "python",
   "pygments_lexer": "ipython3",
   "version": "3.13.1"
  }
 },
 "nbformat": 4,
 "nbformat_minor": 2
}
