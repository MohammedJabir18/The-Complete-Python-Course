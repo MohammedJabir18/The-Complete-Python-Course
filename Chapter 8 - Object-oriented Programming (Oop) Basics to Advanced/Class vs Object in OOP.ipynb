{
 "cells": [
  {
   "cell_type": "markdown",
   "metadata": {},
   "source": [
    "# Class vs Object in OOP\n",
    "\n",
    "### What is a Class?\n",
    "A class is a blueprint or template that defines the structure and behavior of objects. It encapsulates data members (attributes) and methods (functions) that operate on the data. Classes are user-defined data types that allow programmers to create complex data structures.\n",
    "- Definition: A class is defined using the class keyword followed by the class name.\n",
    "- Memory Allocation: No memory is allocated when a class is defined; memory is only allocated when an object is instantiated from the class.\n",
    "- Example: If we define a class Car, it can include attributes like color and model, and methods like drive() or stop().\n",
    "\n",
    "### What is an Object?\n",
    "An object is an instance of a class. It represents a specific entity created based on the class blueprint, with its own unique values for the attributes defined in the class.\n",
    "- Definition: An object is created using the class constructor, which initializes the object's attributes.\n",
    "- Memory Allocation: Memory is allocated for an object when it is created, allowing it to hold its specific data.\n",
    "- Example: If Car is a class, then my_car = Car() creates an object of that class. Here, my_car can have specific values like color = \"red\" and model = \"Toyota\".\n",
    "\n",
    "\n",
    "\n",
    "| Feature                       | Class                                   | Object                                  |\n",
    "|-------------------------------|-----------------------------------------|-----------------------------------------|\n",
    "| Definition                    | Blueprint for creating objects          | Instance of a class                     |\n",
    "| Memory Allocation              | No memory allocated                     | Memory allocated upon creation           |\n",
    "| Nature                        | Logical entity                          | Physical entity                         |\n",
    "| Declaration                   | Declared once                           | Can be created multiple times           |\n",
    "| Example                       | Defined using `class Car:`             | Created using `my_car = Car()`         |\n"
   ]
  },
  {
   "cell_type": "code",
   "execution_count": 5,
   "metadata": {},
   "outputs": [
    {
     "ename": "AttributeError",
     "evalue": "'list' object has no attribute 'upper'",
     "output_type": "error",
     "traceback": [
      "\u001b[1;31m---------------------------------------------------------------------------\u001b[0m",
      "\u001b[1;31mAttributeError\u001b[0m                            Traceback (most recent call last)",
      "Cell \u001b[1;32mIn[5], line 3\u001b[0m\n\u001b[0;32m      1\u001b[0m L \u001b[38;5;241m=\u001b[39m [\u001b[38;5;241m1\u001b[39m, \u001b[38;5;241m2\u001b[39m, \u001b[38;5;241m3\u001b[39m, \u001b[38;5;241m4\u001b[39m, \u001b[38;5;241m5\u001b[39m]\n\u001b[1;32m----> 3\u001b[0m \u001b[43mL\u001b[49m\u001b[38;5;241;43m.\u001b[39;49m\u001b[43mupper\u001b[49m()\n",
      "\u001b[1;31mAttributeError\u001b[0m: 'list' object has no attribute 'upper'"
     ]
    }
   ],
   "source": [
    "L = [1, 2, 3, 4, 5]\n",
    "\n",
    "L.upper()"
   ]
  },
  {
   "cell_type": "code",
   "execution_count": 6,
   "metadata": {},
   "outputs": [
    {
     "ename": "AttributeError",
     "evalue": "'str' object has no attribute 'append'",
     "output_type": "error",
     "traceback": [
      "\u001b[1;31m---------------------------------------------------------------------------\u001b[0m",
      "\u001b[1;31mAttributeError\u001b[0m                            Traceback (most recent call last)",
      "Cell \u001b[1;32mIn[6], line 3\u001b[0m\n\u001b[0;32m      1\u001b[0m S \u001b[38;5;241m=\u001b[39m \u001b[38;5;124m\"\u001b[39m\u001b[38;5;124mJabir\u001b[39m\u001b[38;5;124m\"\u001b[39m\n\u001b[1;32m----> 3\u001b[0m \u001b[43mS\u001b[49m\u001b[38;5;241;43m.\u001b[39;49m\u001b[43mappend\u001b[49m(\u001b[38;5;124m\"\u001b[39m\u001b[38;5;124mm\u001b[39m\u001b[38;5;124m\"\u001b[39m)\n",
      "\u001b[1;31mAttributeError\u001b[0m: 'str' object has no attribute 'append'"
     ]
    }
   ],
   "source": [
    "S = \"Jabir\"\n",
    "\n",
    "S.append(\"m\")"
   ]
  },
  {
   "cell_type": "code",
   "execution_count": 7,
   "metadata": {},
   "outputs": [
    {
     "name": "stdout",
     "output_type": "stream",
     "text": [
      "<class 'str'>\n"
     ]
    }
   ],
   "source": [
    "S = \"Jabir\"\n",
    "\n",
    "print(type(S))"
   ]
  },
  {
   "cell_type": "code",
   "execution_count": 8,
   "metadata": {},
   "outputs": [
    {
     "name": "stdout",
     "output_type": "stream",
     "text": [
      "<class 'list'>\n"
     ]
    }
   ],
   "source": [
    "L = [1, 2, 3, 4, 5]\n",
    "\n",
    "print(type(L))"
   ]
  },
  {
   "cell_type": "code",
   "execution_count": 9,
   "metadata": {},
   "outputs": [
    {
     "name": "stdout",
     "output_type": "stream",
     "text": [
      "<class 'int'>\n"
     ]
    }
   ],
   "source": [
    "a = 66\n",
    "\n",
    "print(type(a))"
   ]
  },
  {
   "cell_type": "code",
   "execution_count": 10,
   "metadata": {},
   "outputs": [],
   "source": [
    "L = list()\n",
    "S = str()"
   ]
  },
  {
   "cell_type": "code",
   "execution_count": 11,
   "metadata": {},
   "outputs": [],
   "source": [
    "# object_name = class_name()\n",
    "\n",
    "# samsung = mobile()\n",
    "# iphone = mobile()\n",
    "\n",
    "# tata = car()\n",
    "# bmw = car()"
   ]
  }
 ],
 "metadata": {
  "kernelspec": {
   "display_name": "Python 3",
   "language": "python",
   "name": "python3"
  },
  "language_info": {
   "codemirror_mode": {
    "name": "ipython",
    "version": 3
   },
   "file_extension": ".py",
   "mimetype": "text/x-python",
   "name": "python",
   "nbconvert_exporter": "python",
   "pygments_lexer": "ipython3",
   "version": "3.13.1"
  }
 },
 "nbformat": 4,
 "nbformat_minor": 2
}
