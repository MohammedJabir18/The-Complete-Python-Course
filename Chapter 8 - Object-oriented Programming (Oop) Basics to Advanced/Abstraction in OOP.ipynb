{
 "cells": [
  {
   "cell_type": "markdown",
   "metadata": {},
   "source": [
    "# Abstraction in OOP\n",
    "Abstraction is a fundamental concept in object-oriented programming (OOP) that focuses on hiding the complex implementation details of a system while exposing only the necessary parts to the user. In Python, abstraction can be achieved primarily through abstract classes and interfaces, which simplify code management and enhance readability.\n",
    "\n",
    "### Key Concepts of Abstraction\n",
    "1. Data Abstraction: This involves hiding the internal data representation and exposing only the relevant attributes and methods. It allows programmers to work with complex systems without needing to understand all underlying details. For instance, when using a smartphone, users interact with its interface (like apps) without knowing how these apps function internally23.\n",
    "2. Process Abstraction: This refers to hiding the implementation details of processes, allowing users to focus on the functionality rather than the complexity behind it4.\n",
    "\n",
    "### Implementing Abstraction in Python\n",
    "In Python, abstraction is typically implemented using abstract classes provided by the abc module (Abstract Base Classes). An abstract class can contain one or more abstract methods that must be implemented by any subclass. The abstract methods do not have an implementation in the abstract class itself."
   ]
  },
  {
   "cell_type": "code",
   "execution_count": 22,
   "metadata": {},
   "outputs": [],
   "source": [
    "# Abstract Base Class (ABC)\n",
    "from abc import ABC, abstractmethod\n",
    "\n",
    "# Senior\n",
    "class BankServer(ABC):\n",
    "    def database(self):\n",
    "        print(\"Connected to database\")\n",
    "\n",
    "    @abstractmethod\n",
    "    def security(self):\n",
    "        print(\"Security passed\")\n",
    "\n",
    "    @abstractmethod\n",
    "    def display(self):\n",
    "        print(\"Displaying data\")\n",
    "\n",
    "# Junior\n",
    "class MobileApp(BankServer):\n",
    "    def mobile_login(self):\n",
    "        print(\"Mobile app login successfully\")\n",
    "\n",
    "    def security(self):\n",
    "        super().security()\n",
    "        print(\"This is Mobile app security\")\n",
    "\n",
    "    def display(self):\n",
    "        super().display()"
   ]
  },
  {
   "cell_type": "code",
   "execution_count": 23,
   "metadata": {},
   "outputs": [
    {
     "name": "stdout",
     "output_type": "stream",
     "text": [
      "Connected to database\n"
     ]
    }
   ],
   "source": [
    "mob = MobileApp()\n",
    "mob.database()"
   ]
  },
  {
   "cell_type": "code",
   "execution_count": 18,
   "metadata": {},
   "outputs": [
    {
     "name": "stdout",
     "output_type": "stream",
     "text": [
      "Security passed\n",
      "This is Mobile app security\n"
     ]
    }
   ],
   "source": [
    "mob.security()"
   ]
  },
  {
   "cell_type": "code",
   "execution_count": 19,
   "metadata": {},
   "outputs": [
    {
     "name": "stdout",
     "output_type": "stream",
     "text": [
      "Displaying data\n"
     ]
    }
   ],
   "source": [
    "mob.display()"
   ]
  }
 ],
 "metadata": {
  "kernelspec": {
   "display_name": "Python 3",
   "language": "python",
   "name": "python3"
  },
  "language_info": {
   "codemirror_mode": {
    "name": "ipython",
    "version": 3
   },
   "file_extension": ".py",
   "mimetype": "text/x-python",
   "name": "python",
   "nbconvert_exporter": "python",
   "pygments_lexer": "ipython3",
   "version": "3.13.1"
  }
 },
 "nbformat": 4,
 "nbformat_minor": 2
}
