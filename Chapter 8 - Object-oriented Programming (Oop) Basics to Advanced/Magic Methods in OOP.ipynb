{
 "cells": [
  {
   "cell_type": "markdown",
   "metadata": {},
   "source": [
    "# Magic Methods / Dunder Methods in OOP\n",
    "Magic methods in Python, also known as \"dunder\" methods (short for \"double underscore\"), are special methods that allow you to define how your objects behave with built-in functions and operators. These methods have double underscores before and after their names, such as `__init__`, `__str__`, and `__add__`. They enable operator overloading and can significantly enhance the functionality of your classes."
   ]
  },
  {
   "cell_type": "code",
   "execution_count": 1,
   "metadata": {},
   "outputs": [],
   "source": [
    "class Temp:\n",
    "    def __init__(self):\n",
    "        print(\"Hello World\")\n",
    "        print(id(self))"
   ]
  },
  {
   "cell_type": "code",
   "execution_count": 2,
   "metadata": {},
   "outputs": [
    {
     "name": "stdout",
     "output_type": "stream",
     "text": [
      "Hello World\n",
      "1837761428992\n"
     ]
    }
   ],
   "source": [
    "obj = Temp()"
   ]
  },
  {
   "cell_type": "code",
   "execution_count": 3,
   "metadata": {},
   "outputs": [
    {
     "name": "stdout",
     "output_type": "stream",
     "text": [
      "1837761428992\n"
     ]
    }
   ],
   "source": [
    "print(id(obj))"
   ]
  }
 ],
 "metadata": {
  "kernelspec": {
   "display_name": "Python 3",
   "language": "python",
   "name": "python3"
  },
  "language_info": {
   "codemirror_mode": {
    "name": "ipython",
    "version": 3
   },
   "file_extension": ".py",
   "mimetype": "text/x-python",
   "name": "python",
   "nbconvert_exporter": "python",
   "pygments_lexer": "ipython3",
   "version": "3.13.1"
  }
 },
 "nbformat": 4,
 "nbformat_minor": 2
}
